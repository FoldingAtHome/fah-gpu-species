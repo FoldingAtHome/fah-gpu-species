{
 "cells": [
  {
   "cell_type": "markdown",
   "id": "4be08f62-b52a-461f-9754-6539e1dec3c3",
   "metadata": {},
   "source": [
    "# Core 22 8.0.0 2023 benchmarking"
   ]
  },
  {
   "cell_type": "code",
   "execution_count": null,
   "id": "bd3ca2c5-9fc7-4429-af32-b653e47baeee",
   "metadata": {},
   "outputs": [],
   "source": []
  }
 ],
 "metadata": {
  "kernelspec": {
   "display_name": "Python 3 (ipykernel)",
   "language": "python",
   "name": "python3"
  },
  "language_info": {
   "codemirror_mode": {
    "name": "ipython",
    "version": 3
   },
   "file_extension": ".py",
   "mimetype": "text/x-python",
   "name": "python",
   "nbconvert_exporter": "python",
   "pygments_lexer": "ipython3",
   "version": "3.9.16"
  }
 },
 "nbformat": 4,
 "nbformat_minor": 5
}
