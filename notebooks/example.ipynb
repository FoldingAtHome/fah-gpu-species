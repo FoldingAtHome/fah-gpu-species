{
 "cells": [
  {
   "cell_type": "markdown",
   "metadata": {},
   "source": [
    "# FAH GPU performance analysis example\n",
    "\n",
    "**DISCLAIMER: the GPU benchmark data in this repo is experimental and not final. For now, the code and data presented here is intended as an example of parsing performance data from fah-core logs, and of the types of analysis that might be useful to automate intelligent assignment of work units to specific devices.**\n",
    "\n",
    "Here we analyze performance data (`ns_per_day`) parsed from log files created by `fah-core` for the project `PROJ17101`. This project is intended to be a benchmark suite and contains 15 runs representative of the range of workloads run on FAH today."
   ]
  },
  {
   "cell_type": "code",
   "execution_count": 1,
   "metadata": {},
   "outputs": [],
   "source": [
    "import glob\n",
    "import os\n",
    "import altair as alt\n",
    "import numpy as np\n",
    "import pandas as pd\n",
    "import seaborn as sns\n",
    "from fah_log_parser import ParseError, parse, science_log\n",
    "from fah_log_parser.util.pandas import parse_logs_to_df"
   ]
  },
  {
   "cell_type": "markdown",
   "metadata": {},
   "source": [
    "## Parsing a single `science.log` file"
   ]
  },
  {
   "cell_type": "code",
   "execution_count": 2,
   "metadata": {},
   "outputs": [],
   "source": [
    "log = parse(science_log, \"../data/PROJ17101/RUN0/CLONE0/results0/science.log\")"
   ]
  },
  {
   "cell_type": "code",
   "execution_count": 3,
   "metadata": {},
   "outputs": [
    {
     "data": {
      "text/plain": [
       "'win32 10'"
      ]
     },
     "execution_count": 3,
     "metadata": {},
     "output_type": "execute_result"
    }
   ],
   "source": [
    "log.fah_core_header.platform"
   ]
  },
  {
   "cell_type": "code",
   "execution_count": 4,
   "metadata": {},
   "outputs": [],
   "source": [
    "platform, device = log.get_active_device()"
   ]
  },
  {
   "cell_type": "code",
   "execution_count": 5,
   "metadata": {},
   "outputs": [
    {
     "data": {
      "text/plain": [
       "PlatformInfo(profile='FULL_PROFILE', version='OpenCL 2.0 AMD-APP (1800.7)', name='AMD Accelerated Parallel Processing', vendor='Advanced Micro Devices, Inc.')"
      ]
     },
     "execution_count": 5,
     "metadata": {},
     "output_type": "execute_result"
    }
   ],
   "source": [
    "platform"
   ]
  },
  {
   "cell_type": "code",
   "execution_count": 6,
   "metadata": {},
   "outputs": [
    {
     "data": {
      "text/plain": [
       "Device(name='Hainan', vendor='Advanced Micro Devices, Inc.', version='OpenCL 1.2 AMD-APP (1800.7)')"
      ]
     },
     "execution_count": 6,
     "metadata": {},
     "output_type": "execute_result"
    }
   ],
   "source": [
    "device"
   ]
  },
  {
   "cell_type": "code",
   "execution_count": 7,
   "metadata": {},
   "outputs": [
    {
     "data": {
      "text/plain": [
       "34.1653"
      ]
     },
     "execution_count": 7,
     "metadata": {},
     "output_type": "execute_result"
    }
   ],
   "source": [
    "log.fah_core_log.average_perf_ns_day"
   ]
  },
  {
   "cell_type": "markdown",
   "metadata": {},
   "source": [
    "## Parsing all logs in a project"
   ]
  },
  {
   "cell_type": "code",
   "execution_count": 8,
   "metadata": {},
   "outputs": [
    {
     "data": {
      "text/plain": [
       "47782"
      ]
     },
     "execution_count": 8,
     "metadata": {},
     "output_type": "execute_result"
    }
   ],
   "source": [
    "files = glob.glob(\"../data/PROJ17101/RUN*/CLONE*/results*/science.log\")\n",
    "len(files)"
   ]
  },
  {
   "cell_type": "code",
   "execution_count": 9,
   "metadata": {
    "scrolled": true
   },
   "outputs": [
    {
     "name": "stdout",
     "output_type": "stream",
     "text": [
      "<class 'pandas.core.frame.DataFrame'>\n",
      "RangeIndex: 27487 entries, 0 to 27486\n",
      "Data columns (total 11 columns):\n",
      " #   Column            Non-Null Count  Dtype  \n",
      "---  ------            --------------  -----  \n",
      " 0   run               27487 non-null  int64  \n",
      " 1   clone             27487 non-null  int64  \n",
      " 2   gen               27487 non-null  int64  \n",
      " 3   os                27487 non-null  object \n",
      " 4   platform_name     27487 non-null  object \n",
      " 5   platform_vendor   27487 non-null  object \n",
      " 6   platform_version  27487 non-null  object \n",
      " 7   device_name       27487 non-null  object \n",
      " 8   device_vendor     27487 non-null  object \n",
      " 9   device_version    27487 non-null  object \n",
      " 10  perf_ns_per_day   27084 non-null  float64\n",
      "dtypes: float64(1), int64(3), object(7)\n",
      "memory usage: 2.3+ MB\n"
     ]
    }
   ],
   "source": [
    "if os.path.exists(\"checkpoint\"):\n",
    "    data = pd.read_feather(\"checkpoint\")\n",
    "else:\n",
    "    data = parse_logs_to_df(\"../data/PROJ17101/\")\n",
    "    data.to_feather(\"checkpoint\")\n",
    "    \n",
    "data.info()"
   ]
  },
  {
   "cell_type": "code",
   "execution_count": 10,
   "metadata": {},
   "outputs": [
    {
     "data": {
      "text/html": [
       "<div>\n",
       "<style scoped>\n",
       "    .dataframe tbody tr th:only-of-type {\n",
       "        vertical-align: middle;\n",
       "    }\n",
       "\n",
       "    .dataframe tbody tr th {\n",
       "        vertical-align: top;\n",
       "    }\n",
       "\n",
       "    .dataframe thead th {\n",
       "        text-align: right;\n",
       "    }\n",
       "</style>\n",
       "<table border=\"1\" class=\"dataframe\">\n",
       "  <thead>\n",
       "    <tr style=\"text-align: right;\">\n",
       "      <th></th>\n",
       "      <th>run</th>\n",
       "      <th>clone</th>\n",
       "      <th>gen</th>\n",
       "      <th>os</th>\n",
       "      <th>platform_name</th>\n",
       "      <th>platform_vendor</th>\n",
       "      <th>platform_version</th>\n",
       "      <th>device_name</th>\n",
       "      <th>device_vendor</th>\n",
       "      <th>device_version</th>\n",
       "      <th>perf_ns_per_day</th>\n",
       "    </tr>\n",
       "  </thead>\n",
       "  <tbody>\n",
       "    <tr>\n",
       "      <th>0</th>\n",
       "      <td>14</td>\n",
       "      <td>762</td>\n",
       "      <td>0</td>\n",
       "      <td>linux2 4.19.76-linuxkit</td>\n",
       "      <td>NVIDIA CUDA</td>\n",
       "      <td>NVIDIA Corporation</td>\n",
       "      <td>OpenCL 1.2 CUDA 10.2.95</td>\n",
       "      <td>Tesla T4</td>\n",
       "      <td>NVIDIA Corporation</td>\n",
       "      <td>OpenCL 1.2 CUDA</td>\n",
       "      <td>190.53700</td>\n",
       "    </tr>\n",
       "    <tr>\n",
       "      <th>1</th>\n",
       "      <td>14</td>\n",
       "      <td>114</td>\n",
       "      <td>0</td>\n",
       "      <td>win32 10</td>\n",
       "      <td>NVIDIA CUDA</td>\n",
       "      <td>NVIDIA Corporation</td>\n",
       "      <td>OpenCL 1.2 CUDA 11.0.140</td>\n",
       "      <td>GeForce RTX 2070 with Max-Q Design</td>\n",
       "      <td>NVIDIA Corporation</td>\n",
       "      <td>OpenCL 1.2 CUDA</td>\n",
       "      <td>222.69500</td>\n",
       "    </tr>\n",
       "    <tr>\n",
       "      <th>2</th>\n",
       "      <td>14</td>\n",
       "      <td>180</td>\n",
       "      <td>0</td>\n",
       "      <td>linux2 4.19.76-linuxkit</td>\n",
       "      <td>NVIDIA CUDA</td>\n",
       "      <td>NVIDIA Corporation</td>\n",
       "      <td>OpenCL 1.2 CUDA 10.2.95</td>\n",
       "      <td>Tesla V100-SXM2-16GB</td>\n",
       "      <td>NVIDIA Corporation</td>\n",
       "      <td>OpenCL 1.2 CUDA</td>\n",
       "      <td>599.75700</td>\n",
       "    </tr>\n",
       "    <tr>\n",
       "      <th>3</th>\n",
       "      <td>14</td>\n",
       "      <td>729</td>\n",
       "      <td>0</td>\n",
       "      <td>win32 10</td>\n",
       "      <td>NVIDIA CUDA</td>\n",
       "      <td>NVIDIA Corporation</td>\n",
       "      <td>OpenCL 1.2 CUDA 10.2.108</td>\n",
       "      <td>GeForce GTX 1080</td>\n",
       "      <td>NVIDIA Corporation</td>\n",
       "      <td>OpenCL 1.2 CUDA</td>\n",
       "      <td>191.92200</td>\n",
       "    </tr>\n",
       "    <tr>\n",
       "      <th>4</th>\n",
       "      <td>14</td>\n",
       "      <td>1394</td>\n",
       "      <td>0</td>\n",
       "      <td>win32 10</td>\n",
       "      <td>AMD Accelerated Parallel Processing</td>\n",
       "      <td>Advanced Micro Devices, Inc.</td>\n",
       "      <td>OpenCL 2.1 AMD-APP (2671.3)</td>\n",
       "      <td>Hainan</td>\n",
       "      <td>Advanced Micro Devices, Inc.</td>\n",
       "      <td>OpenCL 1.2 AMD-APP (2671.3)</td>\n",
       "      <td>12.20320</td>\n",
       "    </tr>\n",
       "    <tr>\n",
       "      <th>...</th>\n",
       "      <td>...</td>\n",
       "      <td>...</td>\n",
       "      <td>...</td>\n",
       "      <td>...</td>\n",
       "      <td>...</td>\n",
       "      <td>...</td>\n",
       "      <td>...</td>\n",
       "      <td>...</td>\n",
       "      <td>...</td>\n",
       "      <td>...</td>\n",
       "      <td>...</td>\n",
       "    </tr>\n",
       "    <tr>\n",
       "      <th>27482</th>\n",
       "      <td>13</td>\n",
       "      <td>466</td>\n",
       "      <td>0</td>\n",
       "      <td>linux2 4.19.76-linuxkit</td>\n",
       "      <td>NVIDIA CUDA</td>\n",
       "      <td>NVIDIA Corporation</td>\n",
       "      <td>OpenCL 1.2 CUDA 10.2.95</td>\n",
       "      <td>Tesla V100-SXM2-16GB</td>\n",
       "      <td>NVIDIA Corporation</td>\n",
       "      <td>OpenCL 1.2 CUDA</td>\n",
       "      <td>356.61000</td>\n",
       "    </tr>\n",
       "    <tr>\n",
       "      <th>27483</th>\n",
       "      <td>13</td>\n",
       "      <td>1739</td>\n",
       "      <td>0</td>\n",
       "      <td>win32 10</td>\n",
       "      <td>NVIDIA CUDA</td>\n",
       "      <td>NVIDIA Corporation</td>\n",
       "      <td>OpenCL 1.2 CUDA 9.1.84</td>\n",
       "      <td>Quadro P600</td>\n",
       "      <td>NVIDIA Corporation</td>\n",
       "      <td>OpenCL 1.2 CUDA</td>\n",
       "      <td>22.50330</td>\n",
       "    </tr>\n",
       "    <tr>\n",
       "      <th>27484</th>\n",
       "      <td>13</td>\n",
       "      <td>307</td>\n",
       "      <td>0</td>\n",
       "      <td>win32 10</td>\n",
       "      <td>NVIDIA CUDA</td>\n",
       "      <td>NVIDIA Corporation</td>\n",
       "      <td>OpenCL 1.2 CUDA 11.0.208</td>\n",
       "      <td>GeForce GTX 1070</td>\n",
       "      <td>NVIDIA Corporation</td>\n",
       "      <td>OpenCL 1.2 CUDA</td>\n",
       "      <td>NaN</td>\n",
       "    </tr>\n",
       "    <tr>\n",
       "      <th>27485</th>\n",
       "      <td>13</td>\n",
       "      <td>816</td>\n",
       "      <td>0</td>\n",
       "      <td>win32 10</td>\n",
       "      <td>NVIDIA CUDA</td>\n",
       "      <td>NVIDIA Corporation</td>\n",
       "      <td>OpenCL 1.2 CUDA 11.0.126</td>\n",
       "      <td>GeForce GTX 1660</td>\n",
       "      <td>NVIDIA Corporation</td>\n",
       "      <td>OpenCL 1.2 CUDA</td>\n",
       "      <td>82.36930</td>\n",
       "    </tr>\n",
       "    <tr>\n",
       "      <th>27486</th>\n",
       "      <td>13</td>\n",
       "      <td>1779</td>\n",
       "      <td>0</td>\n",
       "      <td>win32 10</td>\n",
       "      <td>AMD Accelerated Parallel Processing</td>\n",
       "      <td>Advanced Micro Devices, Inc.</td>\n",
       "      <td>OpenCL 2.0 AMD-APP (2117.13)</td>\n",
       "      <td>Hainan</td>\n",
       "      <td>Advanced Micro Devices, Inc.</td>\n",
       "      <td>OpenCL 1.2 AMD-APP (2117.13)</td>\n",
       "      <td>4.65263</td>\n",
       "    </tr>\n",
       "  </tbody>\n",
       "</table>\n",
       "<p>27487 rows × 11 columns</p>\n",
       "</div>"
      ],
      "text/plain": [
       "       run  clone  gen                       os  \\\n",
       "0       14    762    0  linux2 4.19.76-linuxkit   \n",
       "1       14    114    0                 win32 10   \n",
       "2       14    180    0  linux2 4.19.76-linuxkit   \n",
       "3       14    729    0                 win32 10   \n",
       "4       14   1394    0                 win32 10   \n",
       "...    ...    ...  ...                      ...   \n",
       "27482   13    466    0  linux2 4.19.76-linuxkit   \n",
       "27483   13   1739    0                 win32 10   \n",
       "27484   13    307    0                 win32 10   \n",
       "27485   13    816    0                 win32 10   \n",
       "27486   13   1779    0                 win32 10   \n",
       "\n",
       "                             platform_name               platform_vendor  \\\n",
       "0                              NVIDIA CUDA            NVIDIA Corporation   \n",
       "1                              NVIDIA CUDA            NVIDIA Corporation   \n",
       "2                              NVIDIA CUDA            NVIDIA Corporation   \n",
       "3                              NVIDIA CUDA            NVIDIA Corporation   \n",
       "4      AMD Accelerated Parallel Processing  Advanced Micro Devices, Inc.   \n",
       "...                                    ...                           ...   \n",
       "27482                          NVIDIA CUDA            NVIDIA Corporation   \n",
       "27483                          NVIDIA CUDA            NVIDIA Corporation   \n",
       "27484                          NVIDIA CUDA            NVIDIA Corporation   \n",
       "27485                          NVIDIA CUDA            NVIDIA Corporation   \n",
       "27486  AMD Accelerated Parallel Processing  Advanced Micro Devices, Inc.   \n",
       "\n",
       "                   platform_version                         device_name  \\\n",
       "0           OpenCL 1.2 CUDA 10.2.95                            Tesla T4   \n",
       "1          OpenCL 1.2 CUDA 11.0.140  GeForce RTX 2070 with Max-Q Design   \n",
       "2           OpenCL 1.2 CUDA 10.2.95                Tesla V100-SXM2-16GB   \n",
       "3          OpenCL 1.2 CUDA 10.2.108                    GeForce GTX 1080   \n",
       "4       OpenCL 2.1 AMD-APP (2671.3)                              Hainan   \n",
       "...                             ...                                 ...   \n",
       "27482       OpenCL 1.2 CUDA 10.2.95                Tesla V100-SXM2-16GB   \n",
       "27483        OpenCL 1.2 CUDA 9.1.84                         Quadro P600   \n",
       "27484      OpenCL 1.2 CUDA 11.0.208                    GeForce GTX 1070   \n",
       "27485      OpenCL 1.2 CUDA 11.0.126                    GeForce GTX 1660   \n",
       "27486  OpenCL 2.0 AMD-APP (2117.13)                              Hainan   \n",
       "\n",
       "                      device_vendor                device_version  \\\n",
       "0                NVIDIA Corporation               OpenCL 1.2 CUDA   \n",
       "1                NVIDIA Corporation               OpenCL 1.2 CUDA   \n",
       "2                NVIDIA Corporation               OpenCL 1.2 CUDA   \n",
       "3                NVIDIA Corporation               OpenCL 1.2 CUDA   \n",
       "4      Advanced Micro Devices, Inc.   OpenCL 1.2 AMD-APP (2671.3)   \n",
       "...                             ...                           ...   \n",
       "27482            NVIDIA Corporation               OpenCL 1.2 CUDA   \n",
       "27483            NVIDIA Corporation               OpenCL 1.2 CUDA   \n",
       "27484            NVIDIA Corporation               OpenCL 1.2 CUDA   \n",
       "27485            NVIDIA Corporation               OpenCL 1.2 CUDA   \n",
       "27486  Advanced Micro Devices, Inc.  OpenCL 1.2 AMD-APP (2117.13)   \n",
       "\n",
       "       perf_ns_per_day  \n",
       "0            190.53700  \n",
       "1            222.69500  \n",
       "2            599.75700  \n",
       "3            191.92200  \n",
       "4             12.20320  \n",
       "...                ...  \n",
       "27482        356.61000  \n",
       "27483         22.50330  \n",
       "27484              NaN  \n",
       "27485         82.36930  \n",
       "27486          4.65263  \n",
       "\n",
       "[27487 rows x 11 columns]"
      ]
     },
     "execution_count": 10,
     "metadata": {},
     "output_type": "execute_result"
    }
   ],
   "source": [
    "data"
   ]
  },
  {
   "cell_type": "code",
   "execution_count": 11,
   "metadata": {},
   "outputs": [
    {
     "data": {
      "text/html": [
       "\n",
       "<div id=\"altair-viz-b9bafe7c27ec48039dedbf5386a3c2cf\"></div>\n",
       "<script type=\"text/javascript\">\n",
       "  (function(spec, embedOpt){\n",
       "    let outputDiv = document.currentScript.previousElementSibling;\n",
       "    if (outputDiv.id !== \"altair-viz-b9bafe7c27ec48039dedbf5386a3c2cf\") {\n",
       "      outputDiv = document.getElementById(\"altair-viz-b9bafe7c27ec48039dedbf5386a3c2cf\");\n",
       "    }\n",
       "    const paths = {\n",
       "      \"vega\": \"https://cdn.jsdelivr.net/npm//vega@5?noext\",\n",
       "      \"vega-lib\": \"https://cdn.jsdelivr.net/npm//vega-lib?noext\",\n",
       "      \"vega-lite\": \"https://cdn.jsdelivr.net/npm//vega-lite@4.8.1?noext\",\n",
       "      \"vega-embed\": \"https://cdn.jsdelivr.net/npm//vega-embed@6?noext\",\n",
       "    };\n",
       "\n",
       "    function loadScript(lib) {\n",
       "      return new Promise(function(resolve, reject) {\n",
       "        var s = document.createElement('script');\n",
       "        s.src = paths[lib];\n",
       "        s.async = true;\n",
       "        s.onload = () => resolve(paths[lib]);\n",
       "        s.onerror = () => reject(`Error loading script: ${paths[lib]}`);\n",
       "        document.getElementsByTagName(\"head\")[0].appendChild(s);\n",
       "      });\n",
       "    }\n",
       "\n",
       "    function showError(err) {\n",
       "      outputDiv.innerHTML = `<div class=\"error\" style=\"color:red;\">${err}</div>`;\n",
       "      throw err;\n",
       "    }\n",
       "\n",
       "    function displayChart(vegaEmbed) {\n",
       "      vegaEmbed(outputDiv, spec, embedOpt)\n",
       "        .catch(err => showError(`Javascript Error: ${err.message}<br>This usually means there's a typo in your chart specification. See the javascript console for the full traceback.`));\n",
       "    }\n",
       "\n",
       "    if(typeof define === \"function\" && define.amd) {\n",
       "      requirejs.config({paths});\n",
       "      require([\"vega-embed\"], displayChart, err => showError(`Error loading script: ${err.message}`));\n",
       "    } else if (typeof vegaEmbed === \"function\") {\n",
       "      displayChart(vegaEmbed);\n",
       "    } else {\n",
       "      loadScript(\"vega\")\n",
       "        .then(() => loadScript(\"vega-lite\"))\n",
       "        .then(() => loadScript(\"vega-embed\"))\n",
       "        .catch(showError)\n",
       "        .then(() => displayChart(vegaEmbed));\n",
       "    }\n",
       "  })({\"config\": {\"view\": {\"continuousWidth\": 400, \"continuousHeight\": 300}}, \"data\": {\"name\": \"data-ca6dec9acaf4fc82d6487a22051cc5f3\"}, \"mark\": \"bar\", \"encoding\": {\"x\": {\"type\": \"quantitative\", \"aggregate\": \"mean\", \"field\": \"z_score_by_run\"}, \"y\": {\"type\": \"nominal\", \"field\": \"device_name\", \"sort\": \"-x\"}}, \"$schema\": \"https://vega.github.io/schema/vega-lite/v4.8.1.json\", \"datasets\": {\"data-ca6dec9acaf4fc82d6487a22051cc5f3\": [{\"device_name\": \"A100-SXM4-40GB\", \"z_score_by_run\": 1.9426190726423898}, {\"device_name\": \"Baffin\", \"z_score_by_run\": -1.136492634121234}, {\"device_name\": \"Bonaire\", \"z_score_by_run\": -1.191312716039454}, {\"device_name\": \"Bristol Ridge\", \"z_score_by_run\": -1.4453243911759366}, {\"device_name\": \"Capeverde\", \"z_score_by_run\": -1.3230634111719992}, {\"device_name\": \"Ellesmere\", \"z_score_by_run\": -0.845172620803999}, {\"device_name\": \"Fiji\", \"z_score_by_run\": -0.6922310887479118}, {\"device_name\": \"GRID V100D-8C\", \"z_score_by_run\": -0.820517797718055}, {\"device_name\": \"GeForce 940MX\", \"z_score_by_run\": -1.2850445844907918}, {\"device_name\": \"GeForce GT 1030\", \"z_score_by_run\": -1.217283604107007}, {\"device_name\": \"GeForce GTX 1050\", \"z_score_by_run\": -1.0754227873545312}, {\"device_name\": \"GeForce GTX 1050 Ti\", \"z_score_by_run\": -1.0066584779708383}, {\"device_name\": \"GeForce GTX 1060\", \"z_score_by_run\": -0.8747729830360362}, {\"device_name\": \"GeForce GTX 1060 3GB\", \"z_score_by_run\": -0.7743485041948877}, {\"device_name\": \"GeForce GTX 1060 6GB\", \"z_score_by_run\": -0.7517948221189129}, {\"device_name\": \"GeForce GTX 1060 with Max-Q Design\", \"z_score_by_run\": -0.9230376308224852}, {\"device_name\": \"GeForce GTX 1070\", \"z_score_by_run\": -0.519688026138464}, {\"device_name\": \"GeForce GTX 1070 Ti\", \"z_score_by_run\": -0.44536831636732194}, {\"device_name\": \"GeForce GTX 1080\", \"z_score_by_run\": -0.40320858435475254}, {\"device_name\": \"GeForce GTX 1080 Ti\", \"z_score_by_run\": -0.07734881225877019}, {\"device_name\": \"GeForce GTX 1650\", \"z_score_by_run\": -0.8799158897903155}, {\"device_name\": \"GeForce GTX 1650 SUPER\", \"z_score_by_run\": -0.6748756520143321}, {\"device_name\": \"GeForce GTX 1660\", \"z_score_by_run\": -0.6015662399031723}, {\"device_name\": \"GeForce GTX 1660 SUPER\", \"z_score_by_run\": -0.5209545470055985}, {\"device_name\": \"GeForce GTX 1660 Ti\", \"z_score_by_run\": -0.48534077083376276}, {\"device_name\": \"GeForce GTX 660\", \"z_score_by_run\": -1.2400945662407683}, {\"device_name\": \"GeForce GTX 745\", \"z_score_by_run\": -1.3271705673915168}, {\"device_name\": \"GeForce GTX 750\", \"z_score_by_run\": -1.2172697795401943}, {\"device_name\": \"GeForce GTX 750 Ti\", \"z_score_by_run\": -1.1714076571877234}, {\"device_name\": \"GeForce GTX 760\", \"z_score_by_run\": -1.224510549663446}, {\"device_name\": \"GeForce GTX 770\", \"z_score_by_run\": -1.1419542249531347}, {\"device_name\": \"GeForce GTX 950\", \"z_score_by_run\": -1.0724554178982366}, {\"device_name\": \"GeForce GTX 960\", \"z_score_by_run\": -1.0158864497857765}, {\"device_name\": \"GeForce GTX 960M\", \"z_score_by_run\": -1.2442397232902778}, {\"device_name\": \"GeForce GTX 970\", \"z_score_by_run\": -0.8067845301514487}, {\"device_name\": \"GeForce GTX 970M\", \"z_score_by_run\": -1.0094696981737554}, {\"device_name\": \"GeForce GTX 980\", \"z_score_by_run\": -0.7062205505511437}, {\"device_name\": \"GeForce GTX 980 Ti\", \"z_score_by_run\": -0.5316012254601428}, {\"device_name\": \"GeForce GTX 980M\", \"z_score_by_run\": -0.9177456453321262}, {\"device_name\": \"GeForce GTX TITAN X\", \"z_score_by_run\": -0.510776107269183}, {\"device_name\": \"GeForce MX150\", \"z_score_by_run\": -1.2085086882777463}, {\"device_name\": \"GeForce RTX 2060\", \"z_score_by_run\": -0.27100176392289294}, {\"device_name\": \"GeForce RTX 2060 SUPER\", \"z_score_by_run\": -0.09138173704115221}, {\"device_name\": \"GeForce RTX 2070\", \"z_score_by_run\": -0.0735178708936151}, {\"device_name\": \"GeForce RTX 2070 SUPER\", \"z_score_by_run\": 0.07856810865250628}, {\"device_name\": \"GeForce RTX 2070 with Max-Q Design\", \"z_score_by_run\": -0.3876764830557569}, {\"device_name\": \"GeForce RTX 2080\", \"z_score_by_run\": 0.14554563325064415}, {\"device_name\": \"GeForce RTX 2080 SUPER\", \"z_score_by_run\": 0.2777560848876471}, {\"device_name\": \"GeForce RTX 2080 Ti\", \"z_score_by_run\": 0.6757906199145067}, {\"device_name\": \"GeForce RTX 2080 with Max-Q Design\", \"z_score_by_run\": -0.3873860605925984}, {\"device_name\": \"Hainan\", \"z_score_by_run\": -1.3790307359783927}, {\"device_name\": \"Hawaii\", \"z_score_by_run\": -0.8721543193568427}, {\"device_name\": \"Intel(R) HD Graphics 520\", \"z_score_by_run\": -1.396813884711648}, {\"device_name\": \"Intel(R) UHD Graphics 630\", \"z_score_by_run\": -0.061136020797606}, {\"device_name\": \"P104-100\", \"z_score_by_run\": -0.8448169426265245}, {\"device_name\": \"P106-090\", \"z_score_by_run\": -1.0498329475931898}, {\"device_name\": \"P106-100\", \"z_score_by_run\": -0.8822343053151195}, {\"device_name\": \"Pitcairn\", \"z_score_by_run\": -1.1483803266158619}, {\"device_name\": \"Quadro GP100\", \"z_score_by_run\": -0.31944881354257254}, {\"device_name\": \"Quadro GV100\", \"z_score_by_run\": 0.9494502071772368}, {\"device_name\": \"Quadro K2200\", \"z_score_by_run\": -1.1569356887160278}, {\"device_name\": \"Quadro K620\", \"z_score_by_run\": -1.2627555534292172}, {\"device_name\": \"Quadro M4000\", \"z_score_by_run\": -1.0328341629171278}, {\"device_name\": \"Quadro P1000\", \"z_score_by_run\": -1.1061419909011756}, {\"device_name\": \"Quadro P2000\", \"z_score_by_run\": -0.9415779129168182}, {\"device_name\": \"Quadro P4000\", \"z_score_by_run\": -0.6168470321696937}, {\"device_name\": \"Quadro P4200\", \"z_score_by_run\": -0.6859958133849561}, {\"device_name\": \"Quadro P5000\", \"z_score_by_run\": -0.5283480401495942}, {\"device_name\": \"Quadro RTX 3000\", \"z_score_by_run\": -0.5360688546362828}, {\"device_name\": \"Quadro RTX 4000\", \"z_score_by_run\": -0.2516584445059777}, {\"device_name\": \"Quadro RTX 5000\", \"z_score_by_run\": 0.34861919731014657}, {\"device_name\": \"Quadro RTX 6000\", \"z_score_by_run\": 0.7703744002576635}, {\"device_name\": \"Quadro RTX 8000\", \"z_score_by_run\": 0.8013007976190647}, {\"device_name\": \"TITAN RTX\", \"z_score_by_run\": 0.5583111322766313}, {\"device_name\": \"TITAN V\", \"z_score_by_run\": 0.44973056701858816}, {\"device_name\": \"TITAN X (Pascal)\", \"z_score_by_run\": -0.12260144698611826}, {\"device_name\": \"TITAN Xp\", \"z_score_by_run\": 0.11816688779309698}, {\"device_name\": \"TITAN Xp COLLECTORS EDITION\", \"z_score_by_run\": 0.024577765159735723}, {\"device_name\": \"Tahiti\", \"z_score_by_run\": -0.9991536634795242}, {\"device_name\": \"Tesla K20m\", \"z_score_by_run\": -1.0538433686257747}, {\"device_name\": \"Tesla K80\", \"z_score_by_run\": -0.9108840630624727}, {\"device_name\": \"Tesla M60\", \"z_score_by_run\": -0.741205460588075}, {\"device_name\": \"Tesla P100-PCIE-12GB\", \"z_score_by_run\": -0.1553229577194223}, {\"device_name\": \"Tesla P100-PCIE-16GB\", \"z_score_by_run\": 0.042272145658839556}, {\"device_name\": \"Tesla P100-SXM2-16GB\", \"z_score_by_run\": 0.23432515232982157}, {\"device_name\": \"Tesla P4\", \"z_score_by_run\": -0.6946664602994063}, {\"device_name\": \"Tesla T10x\", \"z_score_by_run\": 0.15180534557834907}, {\"device_name\": \"Tesla T4\", \"z_score_by_run\": -0.2981724579883767}, {\"device_name\": \"Tesla V100-PCIE-16GB\", \"z_score_by_run\": 0.527984959473327}, {\"device_name\": \"Tesla V100-PCIE-16GB-LS\", \"z_score_by_run\": 0.9057403223012203}, {\"device_name\": \"Tesla V100-PCIE-32GB\", \"z_score_by_run\": 0.9414501315232522}, {\"device_name\": \"Tesla V100-SXM2-16GB\", \"z_score_by_run\": 1.0591425469744296}, {\"device_name\": \"Tesla V100-SXM2-32GB\", \"z_score_by_run\": 1.0552201326192567}, {\"device_name\": \"Tesla V100-SXM2-32GB-LS\", \"z_score_by_run\": 0.715738860995345}, {\"device_name\": \"Tesla V100-SXM3-32GB\", \"z_score_by_run\": 0.9965792571234654}, {\"device_name\": \"Tesla V100-SXM3-32GB-H\", \"z_score_by_run\": 1.3234007669461456}, {\"device_name\": \"Tesla V100S-PCIE-32GB\", \"z_score_by_run\": 1.1394132807431723}, {\"device_name\": \"Tonga\", \"z_score_by_run\": -1.0265503025221774}, {\"device_name\": \"gfx1010\", \"z_score_by_run\": -0.43869557291102296}, {\"device_name\": \"gfx1012\", \"z_score_by_run\": -0.7987764416911836}, {\"device_name\": \"gfx804\", \"z_score_by_run\": -1.1692438715110265}, {\"device_name\": \"gfx900\", \"z_score_by_run\": -0.4288981274189909}, {\"device_name\": \"gfx902\", \"z_score_by_run\": -1.3041292039059456}, {\"device_name\": \"gfx906\", \"z_score_by_run\": -0.1591010327518264}, {\"device_name\": \"gfx906+sram-ecc\", \"z_score_by_run\": -0.15806124313526143}]}}, {\"mode\": \"vega-lite\"});\n",
       "</script>"
      ],
      "text/plain": [
       "alt.Chart(...)"
      ]
     },
     "execution_count": 11,
     "metadata": {},
     "output_type": "execute_result"
    }
   ],
   "source": [
    "df = (data\n",
    " .set_index(['run', 'clone', 'gen', 'device_name'])\n",
    " ['perf_ns_per_day']\n",
    " .groupby('device_name').filter(lambda x: len(x) > 10)\n",
    " .groupby('run').transform(lambda x: (x - x.mean()) / x.std()).rename('z_score_by_run')\n",
    " .groupby('device_name').mean()\n",
    ").reset_index()\n",
    "\n",
    "alt.Chart(df).mark_bar().encode(\n",
    "    x=alt.X(\"z_score_by_run:Q\", aggregate='mean'),\n",
    "    y=alt.Y(\"device_name:N\", sort='-x')\n",
    ")"
   ]
  },
  {
   "cell_type": "code",
   "execution_count": 12,
   "metadata": {},
   "outputs": [
    {
     "data": {
      "text/html": [
       "\n",
       "<div id=\"altair-viz-265f5bd75edf45a4bcdb77c4b6504e8c\"></div>\n",
       "<script type=\"text/javascript\">\n",
       "  (function(spec, embedOpt){\n",
       "    let outputDiv = document.currentScript.previousElementSibling;\n",
       "    if (outputDiv.id !== \"altair-viz-265f5bd75edf45a4bcdb77c4b6504e8c\") {\n",
       "      outputDiv = document.getElementById(\"altair-viz-265f5bd75edf45a4bcdb77c4b6504e8c\");\n",
       "    }\n",
       "    const paths = {\n",
       "      \"vega\": \"https://cdn.jsdelivr.net/npm//vega@5?noext\",\n",
       "      \"vega-lib\": \"https://cdn.jsdelivr.net/npm//vega-lib?noext\",\n",
       "      \"vega-lite\": \"https://cdn.jsdelivr.net/npm//vega-lite@4.8.1?noext\",\n",
       "      \"vega-embed\": \"https://cdn.jsdelivr.net/npm//vega-embed@6?noext\",\n",
       "    };\n",
       "\n",
       "    function loadScript(lib) {\n",
       "      return new Promise(function(resolve, reject) {\n",
       "        var s = document.createElement('script');\n",
       "        s.src = paths[lib];\n",
       "        s.async = true;\n",
       "        s.onload = () => resolve(paths[lib]);\n",
       "        s.onerror = () => reject(`Error loading script: ${paths[lib]}`);\n",
       "        document.getElementsByTagName(\"head\")[0].appendChild(s);\n",
       "      });\n",
       "    }\n",
       "\n",
       "    function showError(err) {\n",
       "      outputDiv.innerHTML = `<div class=\"error\" style=\"color:red;\">${err}</div>`;\n",
       "      throw err;\n",
       "    }\n",
       "\n",
       "    function displayChart(vegaEmbed) {\n",
       "      vegaEmbed(outputDiv, spec, embedOpt)\n",
       "        .catch(err => showError(`Javascript Error: ${err.message}<br>This usually means there's a typo in your chart specification. See the javascript console for the full traceback.`));\n",
       "    }\n",
       "\n",
       "    if(typeof define === \"function\" && define.amd) {\n",
       "      requirejs.config({paths});\n",
       "      require([\"vega-embed\"], displayChart, err => showError(`Error loading script: ${err.message}`));\n",
       "    } else if (typeof vegaEmbed === \"function\") {\n",
       "      displayChart(vegaEmbed);\n",
       "    } else {\n",
       "      loadScript(\"vega\")\n",
       "        .then(() => loadScript(\"vega-lite\"))\n",
       "        .then(() => loadScript(\"vega-embed\"))\n",
       "        .catch(showError)\n",
       "        .then(() => displayChart(vegaEmbed));\n",
       "    }\n",
       "  })({\"config\": {\"view\": {\"continuousWidth\": 400, \"continuousHeight\": 300}}, \"data\": {\"name\": \"data-66f9d7459536aed2d1eafa3f07dbd6e4\"}, \"mark\": {\"type\": \"point\", \"filled\": true}, \"encoding\": {\"color\": {\"type\": \"nominal\", \"field\": \"run\"}, \"x\": {\"type\": \"quantitative\", \"field\": \"mean_ns_per_day\", \"scale\": {\"type\": \"log\"}}, \"y\": {\"type\": \"ordinal\", \"field\": \"device_name\", \"sort\": \"-x\"}}, \"$schema\": \"https://vega.github.io/schema/vega-lite/v4.8.1.json\", \"datasets\": {\"data-66f9d7459536aed2d1eafa3f07dbd6e4\": [{\"run\": 0, \"device_name\": \"A100-SXM4-40GB\", \"mean_ns_per_day\": 1118.9681967213132}, {\"run\": 0, \"device_name\": \"Capeverde\", \"mean_ns_per_day\": 51.16390151515149}, {\"run\": 0, \"device_name\": \"Ellesmere\", \"mean_ns_per_day\": 223.41122499999997}, {\"run\": 0, \"device_name\": \"GeForce GTX 1050 Ti\", \"mean_ns_per_day\": 199.89899999999994}, {\"run\": 0, \"device_name\": \"GeForce GTX 1060 6GB\", \"mean_ns_per_day\": 312.73321730769226}, {\"run\": 0, \"device_name\": \"GeForce GTX 1070\", \"mean_ns_per_day\": 414.2985694444444}, {\"run\": 0, \"device_name\": \"GeForce GTX 1070 Ti\", \"mean_ns_per_day\": 458.28079999999994}, {\"run\": 0, \"device_name\": \"GeForce GTX 1080\", \"mean_ns_per_day\": 503.07309090909126}, {\"run\": 0, \"device_name\": \"GeForce GTX 1080 Ti\", \"mean_ns_per_day\": 619.8520925925928}, {\"run\": 0, \"device_name\": \"GeForce GTX 1660 Ti\", \"mean_ns_per_day\": 465.80805555555554}, {\"run\": 0, \"device_name\": \"GeForce GTX 970\", \"mean_ns_per_day\": 273.41922222222223}, {\"run\": 0, \"device_name\": \"GeForce RTX 2060\", \"mean_ns_per_day\": 527.0558235294118}, {\"run\": 0, \"device_name\": \"GeForce RTX 2060 SUPER\", \"mean_ns_per_day\": 611.4274347826087}, {\"run\": 0, \"device_name\": \"GeForce RTX 2070\", \"mean_ns_per_day\": 607.3881562500001}, {\"run\": 0, \"device_name\": \"GeForce RTX 2070 SUPER\", \"mean_ns_per_day\": 705.2327735849061}, {\"run\": 0, \"device_name\": \"GeForce RTX 2080\", \"mean_ns_per_day\": 745.3441538461539}, {\"run\": 0, \"device_name\": \"GeForce RTX 2080 SUPER\", \"mean_ns_per_day\": 836.1143333333332}, {\"run\": 0, \"device_name\": \"GeForce RTX 2080 Ti\", \"mean_ns_per_day\": 942.1447666666661}, {\"run\": 0, \"device_name\": \"Hainan\", \"mean_ns_per_day\": 29.414980165289244}, {\"run\": 0, \"device_name\": \"Tesla K80\", \"mean_ns_per_day\": 236.08358928571425}, {\"run\": 0, \"device_name\": \"Tesla M60\", \"mean_ns_per_day\": 329.67876923076915}, {\"run\": 0, \"device_name\": \"Tesla T4\", \"mean_ns_per_day\": 523.1904035087721}, {\"run\": 0, \"device_name\": \"Tesla V100-SXM2-16GB\", \"mean_ns_per_day\": 904.6259049180333}, {\"run\": 0, \"device_name\": \"Tesla V100-SXM2-32GB\", \"mean_ns_per_day\": 855.3099259259258}, {\"run\": 0, \"device_name\": \"gfx1010\", \"mean_ns_per_day\": 405.13116}, {\"run\": 1, \"device_name\": \"A100-SXM4-40GB\", \"mean_ns_per_day\": 1120.1478231292513}, {\"run\": 1, \"device_name\": \"Capeverde\", \"mean_ns_per_day\": 51.902409999999996}, {\"run\": 1, \"device_name\": \"Ellesmere\", \"mean_ns_per_day\": 223.8301578947368}, {\"run\": 1, \"device_name\": \"GeForce GTX 1050 Ti\", \"mean_ns_per_day\": 201.51800000000006}, {\"run\": 1, \"device_name\": \"GeForce GTX 1060 6GB\", \"mean_ns_per_day\": 286.38618}, {\"run\": 1, \"device_name\": \"GeForce GTX 1070\", \"mean_ns_per_day\": 416.7924833333332}, {\"run\": 1, \"device_name\": \"GeForce GTX 1070 Ti\", \"mean_ns_per_day\": 460.6091333333334}, {\"run\": 1, \"device_name\": \"GeForce GTX 1080\", \"mean_ns_per_day\": 498.9039953125}, {\"run\": 1, \"device_name\": \"GeForce GTX 1080 Ti\", \"mean_ns_per_day\": 614.1748153846154}, {\"run\": 1, \"device_name\": \"GeForce GTX 1660 Ti\", \"mean_ns_per_day\": 458.3521052631579}, {\"run\": 1, \"device_name\": \"GeForce GTX 970\", \"mean_ns_per_day\": 289.00915151515153}, {\"run\": 1, \"device_name\": \"GeForce RTX 2060\", \"mean_ns_per_day\": 562.8122307692308}, {\"run\": 1, \"device_name\": \"GeForce RTX 2060 SUPER\", \"mean_ns_per_day\": 648.2688235294116}, {\"run\": 1, \"device_name\": \"GeForce RTX 2070\", \"mean_ns_per_day\": 573.0413294117647}, {\"run\": 1, \"device_name\": \"GeForce RTX 2070 SUPER\", \"mean_ns_per_day\": 685.7288448979592}, {\"run\": 1, \"device_name\": \"GeForce RTX 2080\", \"mean_ns_per_day\": 732.5221333333333}, {\"run\": 1, \"device_name\": \"GeForce RTX 2080 SUPER\", \"mean_ns_per_day\": 777.7833714285715}, {\"run\": 1, \"device_name\": \"GeForce RTX 2080 Ti\", \"mean_ns_per_day\": 933.496265957447}, {\"run\": 1, \"device_name\": \"Hainan\", \"mean_ns_per_day\": 29.709242391304343}, {\"run\": 1, \"device_name\": \"Tesla K80\", \"mean_ns_per_day\": 236.44908064516127}, {\"run\": 1, \"device_name\": \"Tesla M60\", \"mean_ns_per_day\": 329.169564516129}, {\"run\": 1, \"device_name\": \"Tesla T4\", \"mean_ns_per_day\": 521.853704225352}, {\"run\": 1, \"device_name\": \"Tesla V100-SXM2-16GB\", \"mean_ns_per_day\": 903.5228973509938}, {\"run\": 1, \"device_name\": \"Tesla V100-SXM2-32GB\", \"mean_ns_per_day\": 897.182607142857}, {\"run\": 1, \"device_name\": \"gfx1010\", \"mean_ns_per_day\": 383.8207916666667}, {\"run\": 2, \"device_name\": \"A100-SXM4-40GB\", \"mean_ns_per_day\": 2251.995220125787}, {\"run\": 2, \"device_name\": \"Capeverde\", \"mean_ns_per_day\": 93.43119692307694}, {\"run\": 2, \"device_name\": \"Ellesmere\", \"mean_ns_per_day\": 417.861875}, {\"run\": 2, \"device_name\": \"GeForce GTX 1050 Ti\", \"mean_ns_per_day\": 362.00436363636356}, {\"run\": 2, \"device_name\": \"GeForce GTX 1060 6GB\", \"mean_ns_per_day\": 561.9782749999999}, {\"run\": 2, \"device_name\": \"GeForce GTX 1070\", \"mean_ns_per_day\": 743.7060294117646}, {\"run\": 2, \"device_name\": \"GeForce GTX 1070 Ti\", \"mean_ns_per_day\": 859.5070499999999}, {\"run\": 2, \"device_name\": \"GeForce GTX 1080\", \"mean_ns_per_day\": 890.5128305084746}, {\"run\": 2, \"device_name\": \"GeForce GTX 1080 Ti\", \"mean_ns_per_day\": 1154.2176562500003}, {\"run\": 2, \"device_name\": \"GeForce GTX 1660 Ti\", \"mean_ns_per_day\": 730.46325}, {\"run\": 2, \"device_name\": \"GeForce GTX 970\", \"mean_ns_per_day\": 506.94339534883716}, {\"run\": 2, \"device_name\": \"GeForce RTX 2060\", \"mean_ns_per_day\": 809.7219999999999}, {\"run\": 2, \"device_name\": \"GeForce RTX 2060 SUPER\", \"mean_ns_per_day\": 922.2195333333333}, {\"run\": 2, \"device_name\": \"GeForce RTX 2070\", \"mean_ns_per_day\": 954.1941111111112}, {\"run\": 2, \"device_name\": \"GeForce RTX 2070 SUPER\", \"mean_ns_per_day\": 1087.7319523809524}, {\"run\": 2, \"device_name\": \"GeForce RTX 2080\", \"mean_ns_per_day\": 1118.7688461538462}, {\"run\": 2, \"device_name\": \"GeForce RTX 2080 SUPER\", \"mean_ns_per_day\": 1234.7339687500003}, {\"run\": 2, \"device_name\": \"GeForce RTX 2080 Ti\", \"mean_ns_per_day\": 1465.445325}, {\"run\": 2, \"device_name\": \"Hainan\", \"mean_ns_per_day\": 45.28274550000002}, {\"run\": 2, \"device_name\": \"Tesla K80\", \"mean_ns_per_day\": 386.6799038461537}, {\"run\": 2, \"device_name\": \"Tesla M60\", \"mean_ns_per_day\": 624.622890625}, {\"run\": 2, \"device_name\": \"Tesla T4\", \"mean_ns_per_day\": 884.0315510204081}, {\"run\": 2, \"device_name\": \"Tesla V100-SXM2-16GB\", \"mean_ns_per_day\": 1969.5259581881512}, {\"run\": 2, \"device_name\": \"Tesla V100-SXM2-32GB\", \"mean_ns_per_day\": 1973.0775806451616}, {\"run\": 2, \"device_name\": \"gfx1010\", \"mean_ns_per_day\": 744.4801875000002}, {\"run\": 3, \"device_name\": \"A100-SXM4-40GB\", \"mean_ns_per_day\": 2880.0251249999974}, {\"run\": 3, \"device_name\": \"Capeverde\", \"mean_ns_per_day\": 124.47813287671234}, {\"run\": 3, \"device_name\": \"Ellesmere\", \"mean_ns_per_day\": 551.1077352941174}, {\"run\": 3, \"device_name\": \"GeForce GTX 1050 Ti\", \"mean_ns_per_day\": 475.9643809523809}, {\"run\": 3, \"device_name\": \"GeForce GTX 1060 6GB\", \"mean_ns_per_day\": 776.6872976190476}, {\"run\": 3, \"device_name\": \"GeForce GTX 1070\", \"mean_ns_per_day\": 1027.6211632653058}, {\"run\": 3, \"device_name\": \"GeForce GTX 1070 Ti\", \"mean_ns_per_day\": 1037.4664444444443}, {\"run\": 3, \"device_name\": \"GeForce GTX 1080\", \"mean_ns_per_day\": 1233.1378815789476}, {\"run\": 3, \"device_name\": \"GeForce GTX 1080 Ti\", \"mean_ns_per_day\": 1526.3523448275869}, {\"run\": 3, \"device_name\": \"GeForce GTX 1660 Ti\", \"mean_ns_per_day\": 1141.2172500000001}, {\"run\": 3, \"device_name\": \"GeForce GTX 970\", \"mean_ns_per_day\": 714.4093636363635}, {\"run\": 3, \"device_name\": \"GeForce RTX 2060\", \"mean_ns_per_day\": 1314.348034482759}, {\"run\": 3, \"device_name\": \"GeForce RTX 2060 SUPER\", \"mean_ns_per_day\": 1519.9821739130434}, {\"run\": 3, \"device_name\": \"GeForce RTX 2070\", \"mean_ns_per_day\": 1517.8923636363638}, {\"run\": 3, \"device_name\": \"GeForce RTX 2070 SUPER\", \"mean_ns_per_day\": 1701.8077692307695}, {\"run\": 3, \"device_name\": \"GeForce RTX 2080\", \"mean_ns_per_day\": 1658.971117647059}, {\"run\": 3, \"device_name\": \"GeForce RTX 2080 SUPER\", \"mean_ns_per_day\": 1911.1683333333337}, {\"run\": 3, \"device_name\": \"GeForce RTX 2080 Ti\", \"mean_ns_per_day\": 2253.2233684210514}, {\"run\": 3, \"device_name\": \"Hainan\", \"mean_ns_per_day\": 66.50143327731092}, {\"run\": 3, \"device_name\": \"Tesla K80\", \"mean_ns_per_day\": 552.7011132075471}, {\"run\": 3, \"device_name\": \"Tesla M60\", \"mean_ns_per_day\": 811.8994482758618}, {\"run\": 3, \"device_name\": \"Tesla T4\", \"mean_ns_per_day\": 1254.0676470588232}, {\"run\": 3, \"device_name\": \"Tesla V100-SXM2-16GB\", \"mean_ns_per_day\": 2298.5893382352915}, {\"run\": 3, \"device_name\": \"Tesla V100-SXM2-32GB\", \"mean_ns_per_day\": 2297.9145833333328}, {\"run\": 3, \"device_name\": \"gfx1010\", \"mean_ns_per_day\": 929.8352368421055}, {\"run\": 4, \"device_name\": \"A100-SXM4-40GB\", \"mean_ns_per_day\": 532.5850662251659}, {\"run\": 4, \"device_name\": \"Capeverde\", \"mean_ns_per_day\": 16.288105000000005}, {\"run\": 4, \"device_name\": \"Ellesmere\", \"mean_ns_per_day\": 76.87319062499999}, {\"run\": 4, \"device_name\": \"GeForce GTX 1050 Ti\", \"mean_ns_per_day\": 51.35276363636364}, {\"run\": 4, \"device_name\": \"GeForce GTX 1060 6GB\", \"mean_ns_per_day\": 81.72238333333335}, {\"run\": 4, \"device_name\": \"GeForce GTX 1070\", \"mean_ns_per_day\": 121.01924868421051}, {\"run\": 4, \"device_name\": \"GeForce GTX 1070 Ti\", \"mean_ns_per_day\": 129.7658}, {\"run\": 4, \"device_name\": \"GeForce GTX 1080\", \"mean_ns_per_day\": 128.79892307692307}, {\"run\": 4, \"device_name\": \"GeForce GTX 1080 Ti\", \"mean_ns_per_day\": 187.07914285714284}, {\"run\": 4, \"device_name\": \"GeForce GTX 1660 Ti\", \"mean_ns_per_day\": 120.41300000000001}, {\"run\": 4, \"device_name\": \"GeForce GTX 970\", \"mean_ns_per_day\": 80.74368181818183}, {\"run\": 4, \"device_name\": \"GeForce RTX 2060\", \"mean_ns_per_day\": 157.5140076923077}, {\"run\": 4, \"device_name\": \"GeForce RTX 2060 SUPER\", \"mean_ns_per_day\": 190.97477272727275}, {\"run\": 4, \"device_name\": \"GeForce RTX 2070\", \"mean_ns_per_day\": 193.3572}, {\"run\": 4, \"device_name\": \"GeForce RTX 2070 SUPER\", \"mean_ns_per_day\": 223.80013333333332}, {\"run\": 4, \"device_name\": \"GeForce RTX 2080\", \"mean_ns_per_day\": 233.57403999999994}, {\"run\": 4, \"device_name\": \"GeForce RTX 2080 SUPER\", \"mean_ns_per_day\": 254.59902777777774}, {\"run\": 4, \"device_name\": \"GeForce RTX 2080 Ti\", \"mean_ns_per_day\": 312.97606730769246}, {\"run\": 4, \"device_name\": \"Hainan\", \"mean_ns_per_day\": 6.476890446428571}, {\"run\": 4, \"device_name\": \"Tesla K80\", \"mean_ns_per_day\": 65.24649298245612}, {\"run\": 4, \"device_name\": \"Tesla M60\", \"mean_ns_per_day\": 79.39685849056605}, {\"run\": 4, \"device_name\": \"Tesla T4\", \"mean_ns_per_day\": 136.65832857142863}, {\"run\": 4, \"device_name\": \"Tesla V100-SXM2-16GB\", \"mean_ns_per_day\": 388.2034498269892}, {\"run\": 4, \"device_name\": \"Tesla V100-SXM2-32GB\", \"mean_ns_per_day\": 388.19510344827586}, {\"run\": 4, \"device_name\": \"gfx1010\", \"mean_ns_per_day\": 142.72740263157894}, {\"run\": 5, \"device_name\": \"A100-SXM4-40GB\", \"mean_ns_per_day\": 415.1495597484283}, {\"run\": 5, \"device_name\": \"Capeverde\", \"mean_ns_per_day\": 13.491385964912281}, {\"run\": 5, \"device_name\": \"Ellesmere\", \"mean_ns_per_day\": 62.59167600000001}, {\"run\": 5, \"device_name\": \"GeForce GTX 1050 Ti\", \"mean_ns_per_day\": 43.558181481481476}, {\"run\": 5, \"device_name\": \"GeForce GTX 1060 6GB\", \"mean_ns_per_day\": 71.78681944444445}, {\"run\": 5, \"device_name\": \"GeForce GTX 1070\", \"mean_ns_per_day\": 104.03742000000004}, {\"run\": 5, \"device_name\": \"GeForce GTX 1070 Ti\", \"mean_ns_per_day\": 109.57570000000001}, {\"run\": 5, \"device_name\": \"GeForce GTX 1080\", \"mean_ns_per_day\": 109.19371632653066}, {\"run\": 5, \"device_name\": \"GeForce GTX 1080 Ti\", \"mean_ns_per_day\": 153.10203448275865}, {\"run\": 5, \"device_name\": \"GeForce GTX 1660 Ti\", \"mean_ns_per_day\": 101.8405894736842}, {\"run\": 5, \"device_name\": \"GeForce GTX 970\", \"mean_ns_per_day\": 67.33953809523807}, {\"run\": 5, \"device_name\": \"GeForce RTX 2060\", \"mean_ns_per_day\": 131.1960451612903}, {\"run\": 5, \"device_name\": \"GeForce RTX 2060 SUPER\", \"mean_ns_per_day\": 159.94449999999998}, {\"run\": 5, \"device_name\": \"GeForce RTX 2070\", \"mean_ns_per_day\": 161.56739473684206}, {\"run\": 5, \"device_name\": \"GeForce RTX 2070 SUPER\", \"mean_ns_per_day\": 179.54403636363637}, {\"run\": 5, \"device_name\": \"GeForce RTX 2080\", \"mean_ns_per_day\": 199.37273684210527}, {\"run\": 5, \"device_name\": \"GeForce RTX 2080 SUPER\", \"mean_ns_per_day\": 212.48704146341467}, {\"run\": 5, \"device_name\": \"GeForce RTX 2080 Ti\", \"mean_ns_per_day\": 266.83898823529415}, {\"run\": 5, \"device_name\": \"Hainan\", \"mean_ns_per_day\": 5.9708007843137265}, {\"run\": 5, \"device_name\": \"Tesla K80\", \"mean_ns_per_day\": 54.562830000000005}, {\"run\": 5, \"device_name\": \"Tesla M60\", \"mean_ns_per_day\": 68.2851161764706}, {\"run\": 5, \"device_name\": \"Tesla T4\", \"mean_ns_per_day\": 116.25469841269843}, {\"run\": 5, \"device_name\": \"Tesla V100-SXM2-16GB\", \"mean_ns_per_day\": 295.00664677419394}, {\"run\": 5, \"device_name\": \"Tesla V100-SXM2-32GB\", \"mean_ns_per_day\": 293.1334516129032}, {\"run\": 5, \"device_name\": \"gfx1010\", \"mean_ns_per_day\": 111.115432}, {\"run\": 6, \"device_name\": \"A100-SXM4-40GB\", \"mean_ns_per_day\": 817.4972287581686}, {\"run\": 6, \"device_name\": \"Capeverde\", \"mean_ns_per_day\": 24.20036923076923}, {\"run\": 6, \"device_name\": \"Ellesmere\", \"mean_ns_per_day\": 129.16842857142856}, {\"run\": 6, \"device_name\": \"GeForce GTX 1050 Ti\", \"mean_ns_per_day\": 81.31174000000001}, {\"run\": 6, \"device_name\": \"GeForce GTX 1060 6GB\", \"mean_ns_per_day\": 139.35281333333336}, {\"run\": 6, \"device_name\": \"GeForce GTX 1070\", \"mean_ns_per_day\": 190.2872}, {\"run\": 6, \"device_name\": \"GeForce GTX 1070 Ti\", \"mean_ns_per_day\": 220.7964705882353}, {\"run\": 6, \"device_name\": \"GeForce GTX 1080\", \"mean_ns_per_day\": 228.8417358490566}, {\"run\": 6, \"device_name\": \"GeForce GTX 1080 Ti\", \"mean_ns_per_day\": 329.52347142857127}, {\"run\": 6, \"device_name\": \"GeForce GTX 1660 Ti\", \"mean_ns_per_day\": 194.3441}, {\"run\": 6, \"device_name\": \"GeForce GTX 970\", \"mean_ns_per_day\": 128.5001625}, {\"run\": 6, \"device_name\": \"GeForce RTX 2060\", \"mean_ns_per_day\": 226.41010384615385}, {\"run\": 6, \"device_name\": \"GeForce RTX 2060 SUPER\", \"mean_ns_per_day\": 259.8123157894737}, {\"run\": 6, \"device_name\": \"GeForce RTX 2070\", \"mean_ns_per_day\": 263.9501935483871}, {\"run\": 6, \"device_name\": \"GeForce RTX 2070 SUPER\", \"mean_ns_per_day\": 305.0081904761904}, {\"run\": 6, \"device_name\": \"GeForce RTX 2080\", \"mean_ns_per_day\": 328.2313043478261}, {\"run\": 6, \"device_name\": \"GeForce RTX 2080 SUPER\", \"mean_ns_per_day\": 350.01099999999997}, {\"run\": 6, \"device_name\": \"GeForce RTX 2080 Ti\", \"mean_ns_per_day\": 429.4436709302325}, {\"run\": 6, \"device_name\": \"Hainan\", \"mean_ns_per_day\": 10.026440483870966}, {\"run\": 6, \"device_name\": \"Tesla K80\", \"mean_ns_per_day\": 95.74883050847458}, {\"run\": 6, \"device_name\": \"Tesla M60\", \"mean_ns_per_day\": 149.33622950819674}, {\"run\": 6, \"device_name\": \"Tesla T4\", \"mean_ns_per_day\": 210.78769230769225}, {\"run\": 6, \"device_name\": \"Tesla V100-SXM2-16GB\", \"mean_ns_per_day\": 666.9299453376216}, {\"run\": 6, \"device_name\": \"Tesla V100-SXM2-32GB\", \"mean_ns_per_day\": 673.4174999999999}, {\"run\": 6, \"device_name\": \"gfx1010\", \"mean_ns_per_day\": 214.77863548387094}, {\"run\": 7, \"device_name\": \"A100-SXM4-40GB\", \"mean_ns_per_day\": 1060.632945205477}, {\"run\": 7, \"device_name\": \"Capeverde\", \"mean_ns_per_day\": 31.953092187499994}, {\"run\": 7, \"device_name\": \"Ellesmere\", \"mean_ns_per_day\": 162.2967333333333}, {\"run\": 7, \"device_name\": \"GeForce GTX 1050 Ti\", \"mean_ns_per_day\": 100.22217500000001}, {\"run\": 7, \"device_name\": \"GeForce GTX 1060 6GB\", \"mean_ns_per_day\": 166.86314166666662}, {\"run\": 7, \"device_name\": \"GeForce GTX 1070\", \"mean_ns_per_day\": 242.59559459459462}, {\"run\": 7, \"device_name\": \"GeForce GTX 1070 Ti\", \"mean_ns_per_day\": 235.30275}, {\"run\": 7, \"device_name\": \"GeForce GTX 1080\", \"mean_ns_per_day\": 251.16934328358212}, {\"run\": 7, \"device_name\": \"GeForce GTX 1080 Ti\", \"mean_ns_per_day\": 364.3258412698414}, {\"run\": 7, \"device_name\": \"GeForce GTX 1660 Ti\", \"mean_ns_per_day\": 236.67992307692307}, {\"run\": 7, \"device_name\": \"GeForce GTX 970\", \"mean_ns_per_day\": 158.665064516129}, {\"run\": 7, \"device_name\": \"GeForce RTX 2060\", \"mean_ns_per_day\": 316.8998214285715}, {\"run\": 7, \"device_name\": \"GeForce RTX 2060 SUPER\", \"mean_ns_per_day\": 376.2671176470589}, {\"run\": 7, \"device_name\": \"GeForce RTX 2070\", \"mean_ns_per_day\": 371.28975862068967}, {\"run\": 7, \"device_name\": \"GeForce RTX 2070 SUPER\", \"mean_ns_per_day\": 435.4907209302326}, {\"run\": 7, \"device_name\": \"GeForce RTX 2080\", \"mean_ns_per_day\": 454.0791}, {\"run\": 7, \"device_name\": \"GeForce RTX 2080 SUPER\", \"mean_ns_per_day\": 495.94632000000007}, {\"run\": 7, \"device_name\": \"GeForce RTX 2080 Ti\", \"mean_ns_per_day\": 627.4068505747125}, {\"run\": 7, \"device_name\": \"Hainan\", \"mean_ns_per_day\": 12.753971870503596}, {\"run\": 7, \"device_name\": \"Tesla K80\", \"mean_ns_per_day\": 127.61423823529407}, {\"run\": 7, \"device_name\": \"Tesla M60\", \"mean_ns_per_day\": 157.00774074074087}, {\"run\": 7, \"device_name\": \"Tesla T4\", \"mean_ns_per_day\": 269.40578125000013}, {\"run\": 7, \"device_name\": \"Tesla V100-SXM2-16GB\", \"mean_ns_per_day\": 775.5140238907857}, {\"run\": 7, \"device_name\": \"Tesla V100-SXM2-32GB\", \"mean_ns_per_day\": 756.6303750000002}, {\"run\": 7, \"device_name\": \"gfx1010\", \"mean_ns_per_day\": 290.6136285714285}, {\"run\": 8, \"device_name\": \"A100-SXM4-40GB\", \"mean_ns_per_day\": 353.67024203821643}, {\"run\": 8, \"device_name\": \"Capeverde\", \"mean_ns_per_day\": 12.601347384615385}, {\"run\": 8, \"device_name\": \"Ellesmere\", \"mean_ns_per_day\": 56.96038163265305}, {\"run\": 8, \"device_name\": \"GeForce GTX 1050 Ti\", \"mean_ns_per_day\": 34.78629444444445}, {\"run\": 8, \"device_name\": \"GeForce GTX 1060 6GB\", \"mean_ns_per_day\": 58.12075862068966}, {\"run\": 8, \"device_name\": \"GeForce GTX 1070\", \"mean_ns_per_day\": 85.77480972222226}, {\"run\": 8, \"device_name\": \"GeForce GTX 1070 Ti\", \"mean_ns_per_day\": 93.31039545454543}, {\"run\": 8, \"device_name\": \"GeForce GTX 1080\", \"mean_ns_per_day\": 93.98799799999999}, {\"run\": 8, \"device_name\": \"GeForce GTX 1080 Ti\", \"mean_ns_per_day\": 130.7366492063492}, {\"run\": 8, \"device_name\": \"GeForce GTX 1660 Ti\", \"mean_ns_per_day\": 87.8838238095238}, {\"run\": 8, \"device_name\": \"GeForce GTX 970\", \"mean_ns_per_day\": 56.17096153846155}, {\"run\": 8, \"device_name\": \"GeForce RTX 2060\", \"mean_ns_per_day\": 110.0974129032258}, {\"run\": 8, \"device_name\": \"GeForce RTX 2060 SUPER\", \"mean_ns_per_day\": 132.48036842105262}, {\"run\": 8, \"device_name\": \"GeForce RTX 2070\", \"mean_ns_per_day\": 136.301875}, {\"run\": 8, \"device_name\": \"GeForce RTX 2070 SUPER\", \"mean_ns_per_day\": 149.79283396226415}, {\"run\": 8, \"device_name\": \"GeForce RTX 2080\", \"mean_ns_per_day\": 156.462725}, {\"run\": 8, \"device_name\": \"GeForce RTX 2080 SUPER\", \"mean_ns_per_day\": 172.0282}, {\"run\": 8, \"device_name\": \"GeForce RTX 2080 Ti\", \"mean_ns_per_day\": 212.40134519230773}, {\"run\": 8, \"device_name\": \"Hainan\", \"mean_ns_per_day\": 5.300851811023621}, {\"run\": 8, \"device_name\": \"Tesla K80\", \"mean_ns_per_day\": 45.49024032258064}, {\"run\": 8, \"device_name\": \"Tesla M60\", \"mean_ns_per_day\": 57.058867213114794}, {\"run\": 8, \"device_name\": \"Tesla T4\", \"mean_ns_per_day\": 103.52294464285713}, {\"run\": 8, \"device_name\": \"Tesla V100-SXM2-16GB\", \"mean_ns_per_day\": 274.53888054607495}, {\"run\": 8, \"device_name\": \"Tesla V100-SXM2-32GB\", \"mean_ns_per_day\": 263.7480833333333}, {\"run\": 8, \"device_name\": \"gfx1010\", \"mean_ns_per_day\": 107.79761875000001}, {\"run\": 9, \"device_name\": \"A100-SXM4-40GB\", \"mean_ns_per_day\": 979.4713014705898}, {\"run\": 9, \"device_name\": \"Capeverde\", \"mean_ns_per_day\": 74.65157749999999}, {\"run\": 9, \"device_name\": \"Ellesmere\", \"mean_ns_per_day\": 208.91045092024544}, {\"run\": 9, \"device_name\": \"GeForce GTX 1050 Ti\", \"mean_ns_per_day\": 304.30442}, {\"run\": 9, \"device_name\": \"GeForce GTX 1060 6GB\", \"mean_ns_per_day\": 458.9830263157896}, {\"run\": 9, \"device_name\": \"GeForce GTX 1070\", \"mean_ns_per_day\": 463.8856491228072}, {\"run\": 9, \"device_name\": \"GeForce GTX 1070 Ti\", \"mean_ns_per_day\": 521.73945}, {\"run\": 9, \"device_name\": \"GeForce GTX 1080\", \"mean_ns_per_day\": 491.93389193548387}, {\"run\": 9, \"device_name\": \"GeForce GTX 1080 Ti\", \"mean_ns_per_day\": 588.1256333333336}, {\"run\": 9, \"device_name\": \"GeForce GTX 1660 Ti\", \"mean_ns_per_day\": 528.6564615384615}, {\"run\": 9, \"device_name\": \"GeForce GTX 970\", \"mean_ns_per_day\": 362.8258461538462}, {\"run\": 9, \"device_name\": \"GeForce RTX 2060\", \"mean_ns_per_day\": 603.8351111111111}, {\"run\": 9, \"device_name\": \"GeForce RTX 2060 SUPER\", \"mean_ns_per_day\": 583.6511764705882}, {\"run\": 9, \"device_name\": \"GeForce RTX 2070\", \"mean_ns_per_day\": 584.2940000000001}, {\"run\": 9, \"device_name\": \"GeForce RTX 2070 SUPER\", \"mean_ns_per_day\": 594.5835263157895}, {\"run\": 9, \"device_name\": \"GeForce RTX 2080\", \"mean_ns_per_day\": 582.8298181818183}, {\"run\": 9, \"device_name\": \"GeForce RTX 2080 SUPER\", \"mean_ns_per_day\": 637.102}, {\"run\": 9, \"device_name\": \"GeForce RTX 2080 Ti\", \"mean_ns_per_day\": 754.3881573033708}, {\"run\": 9, \"device_name\": \"Hainan\", \"mean_ns_per_day\": 62.5477134146341}, {\"run\": 9, \"device_name\": \"Tesla K80\", \"mean_ns_per_day\": 354.44891836734683}, {\"run\": 9, \"device_name\": \"Tesla M60\", \"mean_ns_per_day\": 469.78373437499994}, {\"run\": 9, \"device_name\": \"Tesla T4\", \"mean_ns_per_day\": 814.2499310344829}, {\"run\": 9, \"device_name\": \"Tesla V100-SXM2-16GB\", \"mean_ns_per_day\": 760.6221566787001}, {\"run\": 9, \"device_name\": \"Tesla V100-SXM2-32GB\", \"mean_ns_per_day\": 958.3913888888887}, {\"run\": 9, \"device_name\": \"gfx1010\", \"mean_ns_per_day\": 347.3676315789473}, {\"run\": 10, \"device_name\": \"A100-SXM4-40GB\", \"mean_ns_per_day\": 132.4864503816796}, {\"run\": 10, \"device_name\": \"Capeverde\", \"mean_ns_per_day\": 3.9182103703703697}, {\"run\": 10, \"device_name\": \"Ellesmere\", \"mean_ns_per_day\": 21.13884028776978}, {\"run\": 10, \"device_name\": \"GeForce GTX 1050 Ti\", \"mean_ns_per_day\": 11.136379999999999}, {\"run\": 10, \"device_name\": \"GeForce GTX 1060 6GB\", \"mean_ns_per_day\": 17.53292282051282}, {\"run\": 10, \"device_name\": \"GeForce GTX 1070\", \"mean_ns_per_day\": 25.65563749999999}, {\"run\": 10, \"device_name\": \"GeForce GTX 1070 Ti\", \"mean_ns_per_day\": 25.578577777777774}, {\"run\": 10, \"device_name\": \"GeForce GTX 1080\", \"mean_ns_per_day\": 24.638228333333338}, {\"run\": 10, \"device_name\": \"GeForce GTX 1080 Ti\", \"mean_ns_per_day\": 36.39390735294117}, {\"run\": 10, \"device_name\": \"GeForce GTX 1660 Ti\", \"mean_ns_per_day\": 26.717390476190477}, {\"run\": 10, \"device_name\": \"GeForce GTX 970\", \"mean_ns_per_day\": 17.06650769230769}, {\"run\": 10, \"device_name\": \"GeForce RTX 2060\", \"mean_ns_per_day\": 33.587568749999996}, {\"run\": 10, \"device_name\": \"GeForce RTX 2060 SUPER\", \"mean_ns_per_day\": 41.64758791666666}, {\"run\": 10, \"device_name\": \"GeForce RTX 2070\", \"mean_ns_per_day\": 44.8407}, {\"run\": 10, \"device_name\": \"GeForce RTX 2070 SUPER\", \"mean_ns_per_day\": 45.786516666666664}, {\"run\": 10, \"device_name\": \"GeForce RTX 2080\", \"mean_ns_per_day\": 47.19192258064514}, {\"run\": 10, \"device_name\": \"GeForce RTX 2080 SUPER\", \"mean_ns_per_day\": 50.44442142857143}, {\"run\": 10, \"device_name\": \"GeForce RTX 2080 Ti\", \"mean_ns_per_day\": 65.06588974358971}, {\"run\": 10, \"device_name\": \"Hainan\", \"mean_ns_per_day\": 1.6560429324324322}, {\"run\": 10, \"device_name\": \"Tesla K80\", \"mean_ns_per_day\": 14.719107894736846}, {\"run\": 10, \"device_name\": \"Tesla M60\", \"mean_ns_per_day\": 15.547265957446808}, {\"run\": 10, \"device_name\": \"Tesla T4\", \"mean_ns_per_day\": 29.26315873015873}, {\"run\": 10, \"device_name\": \"Tesla V100-SXM2-16GB\", \"mean_ns_per_day\": 81.87063666666641}, {\"run\": 10, \"device_name\": \"Tesla V100-SXM2-32GB\", \"mean_ns_per_day\": 79.03385517241381}, {\"run\": 10, \"device_name\": \"gfx1010\", \"mean_ns_per_day\": 34.247992857142854}, {\"run\": 11, \"device_name\": \"A100-SXM4-40GB\", \"mean_ns_per_day\": 104.94950000000021}, {\"run\": 11, \"device_name\": \"Capeverde\", \"mean_ns_per_day\": 3.372871142857143}, {\"run\": 11, \"device_name\": \"Ellesmere\", \"mean_ns_per_day\": 17.26160277777778}, {\"run\": 11, \"device_name\": \"GeForce GTX 1050 Ti\", \"mean_ns_per_day\": 8.478158461538463}, {\"run\": 11, \"device_name\": \"GeForce GTX 1060 6GB\", \"mean_ns_per_day\": 13.893760612244897}, {\"run\": 11, \"device_name\": \"GeForce GTX 1070\", \"mean_ns_per_day\": 19.811021803278692}, {\"run\": 11, \"device_name\": \"GeForce GTX 1070 Ti\", \"mean_ns_per_day\": 20.142550000000004}, {\"run\": 11, \"device_name\": \"GeForce GTX 1080\", \"mean_ns_per_day\": 19.889162222222225}, {\"run\": 11, \"device_name\": \"GeForce GTX 1080 Ti\", \"mean_ns_per_day\": 29.01274242424242}, {\"run\": 11, \"device_name\": \"GeForce GTX 1660 Ti\", \"mean_ns_per_day\": 20.217425000000002}, {\"run\": 11, \"device_name\": \"GeForce GTX 970\", \"mean_ns_per_day\": 13.29827222222222}, {\"run\": 11, \"device_name\": \"GeForce RTX 2060\", \"mean_ns_per_day\": 26.708285185185186}, {\"run\": 11, \"device_name\": \"GeForce RTX 2060 SUPER\", \"mean_ns_per_day\": 33.62193529411765}, {\"run\": 11, \"device_name\": \"GeForce RTX 2070\", \"mean_ns_per_day\": 34.917781250000004}, {\"run\": 11, \"device_name\": \"GeForce RTX 2070 SUPER\", \"mean_ns_per_day\": 35.68425800000001}, {\"run\": 11, \"device_name\": \"GeForce RTX 2080\", \"mean_ns_per_day\": 33.7601136}, {\"run\": 11, \"device_name\": \"GeForce RTX 2080 SUPER\", \"mean_ns_per_day\": 38.062987500000006}, {\"run\": 11, \"device_name\": \"GeForce RTX 2080 Ti\", \"mean_ns_per_day\": 51.975630555555554}, {\"run\": 11, \"device_name\": \"Hainan\", \"mean_ns_per_day\": 1.37367175}, {\"run\": 11, \"device_name\": \"Tesla K80\", \"mean_ns_per_day\": 11.71023392857143}, {\"run\": 11, \"device_name\": \"Tesla M60\", \"mean_ns_per_day\": 12.027226984126978}, {\"run\": 11, \"device_name\": \"Tesla T4\", \"mean_ns_per_day\": 23.015650980392156}, {\"run\": 11, \"device_name\": \"Tesla V100-SXM2-16GB\", \"mean_ns_per_day\": 64.3184992619927}, {\"run\": 11, \"device_name\": \"Tesla V100-SXM2-32GB\", \"mean_ns_per_day\": 62.54764666666666}, {\"run\": 11, \"device_name\": \"gfx1010\", \"mean_ns_per_day\": 27.567507142857142}, {\"run\": 12, \"device_name\": \"A100-SXM4-40GB\", \"mean_ns_per_day\": 1327.6705594405562}, {\"run\": 12, \"device_name\": \"Capeverde\", \"mean_ns_per_day\": 41.026914285714284}, {\"run\": 12, \"device_name\": \"Ellesmere\", \"mean_ns_per_day\": 199.4970091549296}, {\"run\": 12, \"device_name\": \"GeForce GTX 1050 Ti\", \"mean_ns_per_day\": 144.65457692307695}, {\"run\": 12, \"device_name\": \"GeForce GTX 1060 6GB\", \"mean_ns_per_day\": 232.81591176470587}, {\"run\": 12, \"device_name\": \"GeForce GTX 1070\", \"mean_ns_per_day\": 322.84703076923086}, {\"run\": 12, \"device_name\": \"GeForce GTX 1070 Ti\", \"mean_ns_per_day\": 345.33428571428567}, {\"run\": 12, \"device_name\": \"GeForce GTX 1080\", \"mean_ns_per_day\": 363.2438135593219}, {\"run\": 12, \"device_name\": \"GeForce GTX 1080 Ti\", \"mean_ns_per_day\": 492.3512218367348}, {\"run\": 12, \"device_name\": \"GeForce GTX 1660 Ti\", \"mean_ns_per_day\": 307.5862521739131}, {\"run\": 12, \"device_name\": \"GeForce GTX 970\", \"mean_ns_per_day\": 215.97613793103454}, {\"run\": 12, \"device_name\": \"GeForce RTX 2060\", \"mean_ns_per_day\": 407.91096296296286}, {\"run\": 12, \"device_name\": \"GeForce RTX 2060 SUPER\", \"mean_ns_per_day\": 466.237}, {\"run\": 12, \"device_name\": \"GeForce RTX 2070\", \"mean_ns_per_day\": 454.10937500000006}, {\"run\": 12, \"device_name\": \"GeForce RTX 2070 SUPER\", \"mean_ns_per_day\": 519.995625}, {\"run\": 12, \"device_name\": \"GeForce RTX 2080\", \"mean_ns_per_day\": 560.8614827586206}, {\"run\": 12, \"device_name\": \"GeForce RTX 2080 SUPER\", \"mean_ns_per_day\": 592.72404}, {\"run\": 12, \"device_name\": \"GeForce RTX 2080 Ti\", \"mean_ns_per_day\": 743.718072289157}, {\"run\": 12, \"device_name\": \"Hainan\", \"mean_ns_per_day\": 19.26317804878049}, {\"run\": 12, \"device_name\": \"Tesla K80\", \"mean_ns_per_day\": 185.3087045454546}, {\"run\": 12, \"device_name\": \"Tesla M60\", \"mean_ns_per_day\": 216.94860563380277}, {\"run\": 12, \"device_name\": \"Tesla T4\", \"mean_ns_per_day\": 364.64620833333333}, {\"run\": 12, \"device_name\": \"Tesla V100-SXM2-16GB\", \"mean_ns_per_day\": 945.597100358423}, {\"run\": 12, \"device_name\": \"Tesla V100-SXM2-32GB\", \"mean_ns_per_day\": 927.3120000000001}, {\"run\": 12, \"device_name\": \"gfx1010\", \"mean_ns_per_day\": 377.1571848484849}, {\"run\": 13, \"device_name\": \"A100-SXM4-40GB\", \"mean_ns_per_day\": 544.8528456375838}, {\"run\": 13, \"device_name\": \"Capeverde\", \"mean_ns_per_day\": 14.745383749999998}, {\"run\": 13, \"device_name\": \"Ellesmere\", \"mean_ns_per_day\": 77.43574210526316}, {\"run\": 13, \"device_name\": \"GeForce GTX 1050 Ti\", \"mean_ns_per_day\": 44.30839090909092}, {\"run\": 13, \"device_name\": \"GeForce GTX 1060 6GB\", \"mean_ns_per_day\": 70.93735813953487}, {\"run\": 13, \"device_name\": \"GeForce GTX 1070\", \"mean_ns_per_day\": 102.98848771929828}, {\"run\": 13, \"device_name\": \"GeForce GTX 1070 Ti\", \"mean_ns_per_day\": 107.28390555555556}, {\"run\": 13, \"device_name\": \"GeForce GTX 1080\", \"mean_ns_per_day\": 108.81030689655171}, {\"run\": 13, \"device_name\": \"GeForce GTX 1080 Ti\", \"mean_ns_per_day\": 156.09814852941176}, {\"run\": 13, \"device_name\": \"GeForce GTX 1660 Ti\", \"mean_ns_per_day\": 100.8710653846154}, {\"run\": 13, \"device_name\": \"GeForce GTX 970\", \"mean_ns_per_day\": 68.07532}, {\"run\": 13, \"device_name\": \"GeForce RTX 2060\", \"mean_ns_per_day\": 129.97066153846157}, {\"run\": 13, \"device_name\": \"GeForce RTX 2060 SUPER\", \"mean_ns_per_day\": 162.747}, {\"run\": 13, \"device_name\": \"GeForce RTX 2070\", \"mean_ns_per_day\": 164.24954545454545}, {\"run\": 13, \"device_name\": \"GeForce RTX 2070 SUPER\", \"mean_ns_per_day\": 179.12795238095237}, {\"run\": 13, \"device_name\": \"GeForce RTX 2080\", \"mean_ns_per_day\": 189.1480714285714}, {\"run\": 13, \"device_name\": \"GeForce RTX 2080 SUPER\", \"mean_ns_per_day\": 205.1436551724138}, {\"run\": 13, \"device_name\": \"GeForce RTX 2080 Ti\", \"mean_ns_per_day\": 259.47710294117644}, {\"run\": 13, \"device_name\": \"Hainan\", \"mean_ns_per_day\": 6.640108157894736}, {\"run\": 13, \"device_name\": \"Tesla K80\", \"mean_ns_per_day\": 58.35973170731708}, {\"run\": 13, \"device_name\": \"Tesla M60\", \"mean_ns_per_day\": 66.00821666666667}, {\"run\": 13, \"device_name\": \"Tesla T4\", \"mean_ns_per_day\": 109.71062068965517}, {\"run\": 13, \"device_name\": \"Tesla V100-SXM2-16GB\", \"mean_ns_per_day\": 359.0564671280279}, {\"run\": 13, \"device_name\": \"Tesla V100-SXM2-32GB\", \"mean_ns_per_day\": 355.46970588235286}, {\"run\": 13, \"device_name\": \"gfx1010\", \"mean_ns_per_day\": 136.8302}, {\"run\": 14, \"device_name\": \"A100-SXM4-40GB\", \"mean_ns_per_day\": 874.8937692307699}, {\"run\": 14, \"device_name\": \"Capeverde\", \"mean_ns_per_day\": 24.37079393939393}, {\"run\": 14, \"device_name\": \"Ellesmere\", \"mean_ns_per_day\": 124.21213165467626}, {\"run\": 14, \"device_name\": \"GeForce GTX 1050 Ti\", \"mean_ns_per_day\": 76.39517500000002}, {\"run\": 14, \"device_name\": \"GeForce GTX 1060 6GB\", \"mean_ns_per_day\": 129.6372621621622}, {\"run\": 14, \"device_name\": \"GeForce GTX 1070\", \"mean_ns_per_day\": 178.5016999999999}, {\"run\": 14, \"device_name\": \"GeForce GTX 1070 Ti\", \"mean_ns_per_day\": 192.24094117647056}, {\"run\": 14, \"device_name\": \"GeForce GTX 1080\", \"mean_ns_per_day\": 195.88604642857143}, {\"run\": 14, \"device_name\": \"GeForce GTX 1080 Ti\", \"mean_ns_per_day\": 275.3793708333335}, {\"run\": 14, \"device_name\": \"GeForce GTX 1660 Ti\", \"mean_ns_per_day\": 176.62663157894738}, {\"run\": 14, \"device_name\": \"GeForce GTX 970\", \"mean_ns_per_day\": 119.84247619047616}, {\"run\": 14, \"device_name\": \"GeForce RTX 2060\", \"mean_ns_per_day\": 222.08115625}, {\"run\": 14, \"device_name\": \"GeForce RTX 2060 SUPER\", \"mean_ns_per_day\": 246.94094736842104}, {\"run\": 14, \"device_name\": \"GeForce RTX 2070\", \"mean_ns_per_day\": 273.52637037037044}, {\"run\": 14, \"device_name\": \"GeForce RTX 2070 SUPER\", \"mean_ns_per_day\": 302.0251666666666}, {\"run\": 14, \"device_name\": \"GeForce RTX 2080\", \"mean_ns_per_day\": 312.202516}, {\"run\": 14, \"device_name\": \"GeForce RTX 2080 SUPER\", \"mean_ns_per_day\": 359.18793181818177}, {\"run\": 14, \"device_name\": \"GeForce RTX 2080 Ti\", \"mean_ns_per_day\": 452.04208974358977}, {\"run\": 14, \"device_name\": \"Hainan\", \"mean_ns_per_day\": 11.531543870967742}, {\"run\": 14, \"device_name\": \"Tesla K80\", \"mean_ns_per_day\": 103.67126315789476}, {\"run\": 14, \"device_name\": \"Tesla M60\", \"mean_ns_per_day\": 116.8674444444444}, {\"run\": 14, \"device_name\": \"Tesla T4\", \"mean_ns_per_day\": 194.0643571428572}, {\"run\": 14, \"device_name\": \"Tesla V100-SXM2-16GB\", \"mean_ns_per_day\": 601.2107875457885}, {\"run\": 14, \"device_name\": \"Tesla V100-SXM2-32GB\", \"mean_ns_per_day\": 584.3127826086956}, {\"run\": 14, \"device_name\": \"gfx1010\", \"mean_ns_per_day\": 232.16680000000002}]}}, {\"mode\": \"vega-lite\"});\n",
       "</script>"
      ],
      "text/plain": [
       "alt.Chart(...)"
      ]
     },
     "execution_count": 12,
     "metadata": {},
     "output_type": "execute_result"
    }
   ],
   "source": [
    "df = (data\n",
    " .set_index(['run', 'clone', 'gen', 'device_name'])\n",
    " ['perf_ns_per_day']\n",
    " .groupby(['run', 'device_name']).filter(lambda x: len(x) > 10)\n",
    " .groupby('device_name').filter(lambda x: len(x.groupby('run')) == 15)\n",
    " .groupby(['run', 'device_name']).mean()\n",
    " .rename('mean_ns_per_day')\n",
    ").reset_index()\n",
    "\n",
    "alt.Chart(df).mark_point(filled=True).encode(\n",
    "    x=alt.X('mean_ns_per_day:Q', scale=alt.Scale(type='log')),\n",
    "    y=alt.Y('device_name:O', sort='-x'),\n",
    "    color='run:N',\n",
    ")"
   ]
  },
  {
   "cell_type": "code",
   "execution_count": 13,
   "metadata": {},
   "outputs": [
    {
     "data": {
      "text/plain": [
       "<seaborn.matrix.ClusterGrid at 0x7f1c85afc250>"
      ]
     },
     "execution_count": 13,
     "metadata": {},
     "output_type": "execute_result"
    },
    {
     "data": {
      "image/png": "[encoded data removed]",
      "text/plain": [
       "<Figure size 720x720 with 4 Axes>"
      ]
     },
     "metadata": {
      "needs_background": "light"
     },
     "output_type": "display_data"
    }
   ],
   "source": [
    "sns.clustermap(\n",
    "    data\n",
    "    .groupby(['run', 'device_name']).filter(lambda x: len(x) > 10)\n",
    "    .groupby('device_name').filter(lambda x: len(x.groupby('run')) == 15)\n",
    "    .groupby(['run', 'device_name'])\n",
    "    ['perf_ns_per_day']\n",
    "    .mean()\n",
    "    .pipe(lambda x: np.log(x))\n",
    "    .unstack('run'))"
   ]
  }
 ],
 "metadata": {
  "kernelspec": {
   "display_name": "Python 3",
   "language": "python",
   "name": "python3"
  },
  "language_info": {
   "codemirror_mode": {
    "name": "ipython",
    "version": 3
   },
   "file_extension": ".py",
   "mimetype": "text/x-python",
   "name": "python",
   "nbconvert_exporter": "python",
   "pygments_lexer": "ipython3",
   "version": "3.8.5"
  }
 },
 "nbformat": 4,
 "nbformat_minor": 4
}
