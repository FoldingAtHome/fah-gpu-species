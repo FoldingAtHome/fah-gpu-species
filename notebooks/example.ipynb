{
 "cells": [
  {
   "cell_type": "markdown",
   "metadata": {},
   "source": [
    "# FAH GPU performance analysis example\n",
    "\n",
    "**DISCLAIMER: the GPU benchmark data in this repo is experimental and not final. For now, the code and data presented here is intended as an example of parsing performance data from fah-core logs, and of the types of analysis that might be useful to automate intelligent assignment of work units to specific devices.**\n",
    "\n",
    "Here we analyze performance data (`ns_per_day`) parsed from log files created by `fah-core` for the project `PROJ17101`. This project is intended to be a benchmark suite and contains 15 runs representative of the range of workloads run on FAH today."
   ]
  },
  {
   "cell_type": "code",
   "execution_count": 1,
   "metadata": {},
   "outputs": [],
   "source": [
    "import glob\n",
    "import os\n",
    "import altair as alt\n",
    "import numpy as np\n",
    "import pandas as pd\n",
    "import seaborn as sns\n",
    "from fah_log_parser import ParseError, parse, science_log\n",
    "from fah_log_parser.util.pandas import parse_project_logs"
   ]
  },
  {
   "cell_type": "markdown",
   "metadata": {},
   "source": [
    "## Parsing a single `science.log` file"
   ]
  },
  {
   "cell_type": "code",
   "execution_count": 2,
   "metadata": {},
   "outputs": [],
   "source": [
    "log = parse(science_log, \"../data/PROJ17102/RUN0/CLONE0/results0/science.log\")"
   ]
  },
  {
   "cell_type": "code",
   "execution_count": 3,
   "metadata": {},
   "outputs": [
    {
     "data": {
      "text/plain": [
       "'linux2 4.19.76-linuxkit'"
      ]
     },
     "execution_count": 3,
     "metadata": {},
     "output_type": "execute_result"
    }
   ],
   "source": [
    "log.core_header.platform"
   ]
  },
  {
   "cell_type": "code",
   "execution_count": 4,
   "metadata": {},
   "outputs": [],
   "source": [
    "platform, device = log.get_active_device()"
   ]
  },
  {
   "cell_type": "code",
   "execution_count": 5,
   "metadata": {},
   "outputs": [
    {
     "data": {
      "text/plain": [
       "PlatformInfo(profile='FULL_PROFILE', version='OpenCL 1.2 CUDA 11.0.228', name='NVIDIA CUDA', vendor='NVIDIA Corporation')"
      ]
     },
     "execution_count": 5,
     "metadata": {},
     "output_type": "execute_result"
    }
   ],
   "source": [
    "platform"
   ]
  },
  {
   "cell_type": "code",
   "execution_count": 6,
   "metadata": {},
   "outputs": [
    {
     "data": {
      "text/plain": [
       "Device(name='GeForce GTX 750 Ti', vendor='NVIDIA Corporation', version='OpenCL 1.2 CUDA', driver_version='450.66')"
      ]
     },
     "execution_count": 6,
     "metadata": {},
     "output_type": "execute_result"
    }
   ],
   "source": [
    "device"
   ]
  },
  {
   "cell_type": "code",
   "execution_count": 7,
   "metadata": {},
   "outputs": [
    {
     "data": {
      "text/plain": [
       "174.551"
      ]
     },
     "execution_count": 7,
     "metadata": {},
     "output_type": "execute_result"
    }
   ],
   "source": [
    "log.core_log.average_perf_ns_day"
   ]
  },
  {
   "cell_type": "markdown",
   "metadata": {},
   "source": [
    "## Parsing all logs in a project"
   ]
  },
  {
   "cell_type": "code",
   "execution_count": 8,
   "metadata": {
    "scrolled": true
   },
   "outputs": [
    {
     "name": "stdout",
     "output_type": "stream",
     "text": [
      "<class 'pandas.core.frame.DataFrame'>\n",
      "RangeIndex: 5994 entries, 0 to 5993\n",
      "Data columns (total 13 columns):\n",
      " #   Column                 Non-Null Count  Dtype  \n",
      "---  ------                 --------------  -----  \n",
      " 0   run                    5994 non-null   int64  \n",
      " 1   clone                  5994 non-null   int64  \n",
      " 2   gen                    5994 non-null   int64  \n",
      " 3   os                     5994 non-null   object \n",
      " 4   platform_name          5994 non-null   object \n",
      " 5   platform_vendor        5994 non-null   object \n",
      " 6   platform_version       5994 non-null   object \n",
      " 7   device_name            5994 non-null   object \n",
      " 8   device_vendor          5994 non-null   object \n",
      " 9   device_version         5994 non-null   object \n",
      " 10  device_driver_version  14 non-null     object \n",
      " 11  cuda_enabled           5994 non-null   bool   \n",
      " 12  perf_ns_per_day        5903 non-null   float64\n",
      "dtypes: bool(1), float64(1), int64(3), object(8)\n",
      "memory usage: 567.9+ KB\n"
     ]
    }
   ],
   "source": [
    "if os.path.exists(\"checkpoint\"):\n",
    "    data = pd.read_feather(\"checkpoint\")\n",
    "else:\n",
    "    data = parse_project_logs(\"../data/PROJ17101/\", sample=10000)\n",
    "    data.reset_index.to_feather(\"checkpoint\")\n",
    "    \n",
    "data.info()"
   ]
  },
  {
   "cell_type": "code",
   "execution_count": 9,
   "metadata": {},
   "outputs": [
    {
     "data": {
      "text/html": [
       "\n",
       "<div id=\"altair-viz-fe07bd347d0747bfaa07e255227ee357\"></div>\n",
       "<script type=\"text/javascript\">\n",
       "  (function(spec, embedOpt){\n",
       "    let outputDiv = document.currentScript.previousElementSibling;\n",
       "    if (outputDiv.id !== \"altair-viz-fe07bd347d0747bfaa07e255227ee357\") {\n",
       "      outputDiv = document.getElementById(\"altair-viz-fe07bd347d0747bfaa07e255227ee357\");\n",
       "    }\n",
       "    const paths = {\n",
       "      \"vega\": \"https://cdn.jsdelivr.net/npm//vega@5?noext\",\n",
       "      \"vega-lib\": \"https://cdn.jsdelivr.net/npm//vega-lib?noext\",\n",
       "      \"vega-lite\": \"https://cdn.jsdelivr.net/npm//vega-lite@4.8.1?noext\",\n",
       "      \"vega-embed\": \"https://cdn.jsdelivr.net/npm//vega-embed@6?noext\",\n",
       "    };\n",
       "\n",
       "    function loadScript(lib) {\n",
       "      return new Promise(function(resolve, reject) {\n",
       "        var s = document.createElement('script');\n",
       "        s.src = paths[lib];\n",
       "        s.async = true;\n",
       "        s.onload = () => resolve(paths[lib]);\n",
       "        s.onerror = () => reject(`Error loading script: ${paths[lib]}`);\n",
       "        document.getElementsByTagName(\"head\")[0].appendChild(s);\n",
       "      });\n",
       "    }\n",
       "\n",
       "    function showError(err) {\n",
       "      outputDiv.innerHTML = `<div class=\"error\" style=\"color:red;\">${err}</div>`;\n",
       "      throw err;\n",
       "    }\n",
       "\n",
       "    function displayChart(vegaEmbed) {\n",
       "      vegaEmbed(outputDiv, spec, embedOpt)\n",
       "        .catch(err => showError(`Javascript Error: ${err.message}<br>This usually means there's a typo in your chart specification. See the javascript console for the full traceback.`));\n",
       "    }\n",
       "\n",
       "    if(typeof define === \"function\" && define.amd) {\n",
       "      requirejs.config({paths});\n",
       "      require([\"vega-embed\"], displayChart, err => showError(`Error loading script: ${err.message}`));\n",
       "    } else if (typeof vegaEmbed === \"function\") {\n",
       "      displayChart(vegaEmbed);\n",
       "    } else {\n",
       "      loadScript(\"vega\")\n",
       "        .then(() => loadScript(\"vega-lite\"))\n",
       "        .then(() => loadScript(\"vega-embed\"))\n",
       "        .catch(showError)\n",
       "        .then(() => displayChart(vegaEmbed));\n",
       "    }\n",
       "  })({\"config\": {\"view\": {\"continuousWidth\": 400, \"continuousHeight\": 300}}, \"data\": {\"name\": \"data-d18b8d2ed7e7e999a5587dc416eacac5\"}, \"mark\": \"bar\", \"encoding\": {\"x\": {\"type\": \"quantitative\", \"aggregate\": \"mean\", \"field\": \"z_score_by_run\"}, \"y\": {\"type\": \"nominal\", \"field\": \"device_name\", \"sort\": \"-x\"}}, \"$schema\": \"https://vega.github.io/schema/vega-lite/v4.8.1.json\", \"datasets\": {\"data-d18b8d2ed7e7e999a5587dc416eacac5\": [{\"device_name\": \"A100-SXM4-40GB\", \"z_score_by_run\": 2.145196017829584}, {\"device_name\": \"Baffin\", \"z_score_by_run\": -1.139362234187642}, {\"device_name\": \"Capeverde\", \"z_score_by_run\": -1.2949761460022684}, {\"device_name\": \"Ellesmere\", \"z_score_by_run\": -0.8271660875155432}, {\"device_name\": \"GRID V100D-8C\", \"z_score_by_run\": -0.7026657223897183}, {\"device_name\": \"GeForce GT 1030\", \"z_score_by_run\": -1.1455901555150905}, {\"device_name\": \"GeForce GTX 1050\", \"z_score_by_run\": -1.0507238229689162}, {\"device_name\": \"GeForce GTX 1050 Ti\", \"z_score_by_run\": -0.9333977807661279}, {\"device_name\": \"GeForce GTX 1060\", \"z_score_by_run\": -0.747159113284701}, {\"device_name\": \"GeForce GTX 1060 3GB\", \"z_score_by_run\": -0.7082118456628782}, {\"device_name\": \"GeForce GTX 1060 6GB\", \"z_score_by_run\": -0.7032884903088997}, {\"device_name\": \"GeForce GTX 1070\", \"z_score_by_run\": -0.4453830778300902}, {\"device_name\": \"GeForce GTX 1070 Ti\", \"z_score_by_run\": -0.3708319629499746}, {\"device_name\": \"GeForce GTX 1080\", \"z_score_by_run\": -0.34156477362776444}, {\"device_name\": \"GeForce GTX 1080 Ti\", \"z_score_by_run\": 0.032718531092282295}, {\"device_name\": \"GeForce GTX 1650\", \"z_score_by_run\": -0.8136764431789371}, {\"device_name\": \"GeForce GTX 1650 SUPER\", \"z_score_by_run\": -0.6152462900142383}, {\"device_name\": \"GeForce GTX 1660\", \"z_score_by_run\": -0.5177562946603633}, {\"device_name\": \"GeForce GTX 1660 SUPER\", \"z_score_by_run\": -0.4551191680081121}, {\"device_name\": \"GeForce GTX 1660 Ti\", \"z_score_by_run\": -0.3975934151209225}, {\"device_name\": \"GeForce GTX 750 Ti\", \"z_score_by_run\": -1.0808565030066177}, {\"device_name\": \"GeForce GTX 950\", \"z_score_by_run\": -0.985348758420641}, {\"device_name\": \"GeForce GTX 960\", \"z_score_by_run\": -0.9290434642992594}, {\"device_name\": \"GeForce GTX 970\", \"z_score_by_run\": -0.7320794399257827}, {\"device_name\": \"GeForce GTX 980\", \"z_score_by_run\": -0.6259570098179309}, {\"device_name\": \"GeForce GTX 980 Ti\", \"z_score_by_run\": -0.3671029828166222}, {\"device_name\": \"GeForce RTX 2060\", \"z_score_by_run\": -0.21334760797276087}, {\"device_name\": \"GeForce RTX 2060 SUPER\", \"z_score_by_run\": -0.016913762393887012}, {\"device_name\": \"GeForce RTX 2070\", \"z_score_by_run\": 0.018311490937226973}, {\"device_name\": \"GeForce RTX 2070 SUPER\", \"z_score_by_run\": 0.19429679723885587}, {\"device_name\": \"GeForce RTX 2080\", \"z_score_by_run\": 0.2716797202890408}, {\"device_name\": \"GeForce RTX 2080 SUPER\", \"z_score_by_run\": 0.4122777811879788}, {\"device_name\": \"GeForce RTX 2080 Ti\", \"z_score_by_run\": 0.7415944454372394}, {\"device_name\": \"Hainan\", \"z_score_by_run\": -1.3181769553186478}, {\"device_name\": \"Hawaii\", \"z_score_by_run\": -0.8523494897604232}, {\"device_name\": \"Quadro P4000\", \"z_score_by_run\": -0.48787732249603927}, {\"device_name\": \"Quadro RTX 6000\", \"z_score_by_run\": 0.8669239472377674}, {\"device_name\": \"Quadro RTX 8000\", \"z_score_by_run\": 0.8940214751252451}, {\"device_name\": \"TITAN V\", \"z_score_by_run\": 0.5426901833253283}, {\"device_name\": \"Tahiti\", \"z_score_by_run\": -0.9187383198385272}, {\"device_name\": \"Tesla K80\", \"z_score_by_run\": -0.8251577840464822}, {\"device_name\": \"Tesla M60\", \"z_score_by_run\": -0.679794747781278}, {\"device_name\": \"Tesla P100-PCIE-12GB\", \"z_score_by_run\": -0.046336566433891356}, {\"device_name\": \"Tesla P100-PCIE-16GB\", \"z_score_by_run\": 0.0843297592318133}, {\"device_name\": \"Tesla T4\", \"z_score_by_run\": -0.22255959950712037}, {\"device_name\": \"Tesla V100-PCIE-16GB\", \"z_score_by_run\": 0.5359655831078726}, {\"device_name\": \"Tesla V100-PCIE-32GB\", \"z_score_by_run\": 0.8350797030782945}, {\"device_name\": \"Tesla V100-SXM2-16GB\", \"z_score_by_run\": 1.143981722938211}, {\"device_name\": \"Tesla V100-SXM2-32GB\", \"z_score_by_run\": 1.1600875511388955}, {\"device_name\": \"Tesla V100-SXM3-32GB-H\", \"z_score_by_run\": 1.3737505408382924}, {\"device_name\": \"Tonga\", \"z_score_by_run\": -0.9360538245195453}, {\"device_name\": \"gfx1010\", \"z_score_by_run\": -0.36858894825280625}, {\"device_name\": \"gfx900\", \"z_score_by_run\": -0.3902427103654098}, {\"device_name\": \"gfx902\", \"z_score_by_run\": -1.1507768432817191}, {\"device_name\": \"gfx906\", \"z_score_by_run\": -0.10566153881447786}]}}, {\"mode\": \"vega-lite\"});\n",
       "</script>"
      ],
      "text/plain": [
       "alt.Chart(...)"
      ]
     },
     "execution_count": 9,
     "metadata": {},
     "output_type": "execute_result"
    }
   ],
   "source": [
    "df = (data\n",
    " .set_index(['run', 'clone', 'gen', 'device_name'])\n",
    " ['perf_ns_per_day']\n",
    " .groupby('device_name').filter(lambda x: len(x) > 10)\n",
    " .groupby('run').transform(lambda x: (x - x.mean()) / x.std()).rename('z_score_by_run')\n",
    " .groupby('device_name').mean()\n",
    ").reset_index()\n",
    "\n",
    "alt.Chart(df).mark_bar().encode(\n",
    "    x=alt.X(\"z_score_by_run:Q\", aggregate='mean'),\n",
    "    y=alt.Y(\"device_name:N\", sort='-x')\n",
    ")"
   ]
  },
  {
   "cell_type": "code",
   "execution_count": 10,
   "metadata": {},
   "outputs": [
    {
     "data": {
      "text/html": [
       "\n",
       "<div id=\"altair-viz-4be1edaf4b574b37bb7ca1d054cdf541\"></div>\n",
       "<script type=\"text/javascript\">\n",
       "  (function(spec, embedOpt){\n",
       "    let outputDiv = document.currentScript.previousElementSibling;\n",
       "    if (outputDiv.id !== \"altair-viz-4be1edaf4b574b37bb7ca1d054cdf541\") {\n",
       "      outputDiv = document.getElementById(\"altair-viz-4be1edaf4b574b37bb7ca1d054cdf541\");\n",
       "    }\n",
       "    const paths = {\n",
       "      \"vega\": \"https://cdn.jsdelivr.net/npm//vega@5?noext\",\n",
       "      \"vega-lib\": \"https://cdn.jsdelivr.net/npm//vega-lib?noext\",\n",
       "      \"vega-lite\": \"https://cdn.jsdelivr.net/npm//vega-lite@4.8.1?noext\",\n",
       "      \"vega-embed\": \"https://cdn.jsdelivr.net/npm//vega-embed@6?noext\",\n",
       "    };\n",
       "\n",
       "    function loadScript(lib) {\n",
       "      return new Promise(function(resolve, reject) {\n",
       "        var s = document.createElement('script');\n",
       "        s.src = paths[lib];\n",
       "        s.async = true;\n",
       "        s.onload = () => resolve(paths[lib]);\n",
       "        s.onerror = () => reject(`Error loading script: ${paths[lib]}`);\n",
       "        document.getElementsByTagName(\"head\")[0].appendChild(s);\n",
       "      });\n",
       "    }\n",
       "\n",
       "    function showError(err) {\n",
       "      outputDiv.innerHTML = `<div class=\"error\" style=\"color:red;\">${err}</div>`;\n",
       "      throw err;\n",
       "    }\n",
       "\n",
       "    function displayChart(vegaEmbed) {\n",
       "      vegaEmbed(outputDiv, spec, embedOpt)\n",
       "        .catch(err => showError(`Javascript Error: ${err.message}<br>This usually means there's a typo in your chart specification. See the javascript console for the full traceback.`));\n",
       "    }\n",
       "\n",
       "    if(typeof define === \"function\" && define.amd) {\n",
       "      requirejs.config({paths});\n",
       "      require([\"vega-embed\"], displayChart, err => showError(`Error loading script: ${err.message}`));\n",
       "    } else if (typeof vegaEmbed === \"function\") {\n",
       "      displayChart(vegaEmbed);\n",
       "    } else {\n",
       "      loadScript(\"vega\")\n",
       "        .then(() => loadScript(\"vega-lite\"))\n",
       "        .then(() => loadScript(\"vega-embed\"))\n",
       "        .catch(showError)\n",
       "        .then(() => displayChart(vegaEmbed));\n",
       "    }\n",
       "  })({\"config\": {\"view\": {\"continuousWidth\": 400, \"continuousHeight\": 300}}, \"data\": {\"name\": \"data-23ed9abc5c3d56e09f5878349066aa75\"}, \"mark\": {\"type\": \"point\", \"filled\": true}, \"encoding\": {\"color\": {\"type\": \"nominal\", \"field\": \"run\"}, \"x\": {\"type\": \"quantitative\", \"field\": \"mean_ns_per_day\", \"scale\": {\"type\": \"log\"}}, \"y\": {\"type\": \"ordinal\", \"field\": \"device_name\", \"sort\": \"-x\"}}, \"$schema\": \"https://vega.github.io/schema/vega-lite/v4.8.1.json\", \"datasets\": {\"data-23ed9abc5c3d56e09f5878349066aa75\": [{\"run\": 0, \"device_name\": \"A100-SXM4-40GB\", \"mean_ns_per_day\": 1096.1145000000001}, {\"run\": 0, \"device_name\": \"GeForce GTX 1080 Ti\", \"mean_ns_per_day\": 577.326888888889}, {\"run\": 0, \"device_name\": \"GeForce RTX 2080 Ti\", \"mean_ns_per_day\": 855.5646666666667}, {\"run\": 0, \"device_name\": \"Hainan\", \"mean_ns_per_day\": 29.992668260869564}, {\"run\": 0, \"device_name\": \"Tesla M60\", \"mean_ns_per_day\": 329.34882352941173}, {\"run\": 0, \"device_name\": \"Tesla V100-SXM2-16GB\", \"mean_ns_per_day\": 899.6408478260867}, {\"run\": 1, \"device_name\": \"A100-SXM4-40GB\", \"mean_ns_per_day\": 1092.5248387096774}, {\"run\": 1, \"device_name\": \"GeForce GTX 1080 Ti\", \"mean_ns_per_day\": 608.9757142857144}, {\"run\": 1, \"device_name\": \"GeForce RTX 2080 Ti\", \"mean_ns_per_day\": 953.0132916666666}, {\"run\": 1, \"device_name\": \"Hainan\", \"mean_ns_per_day\": 28.61730066666667}, {\"run\": 1, \"device_name\": \"Tesla M60\", \"mean_ns_per_day\": 329.6642727272727}, {\"run\": 1, \"device_name\": \"Tesla V100-SXM2-16GB\", \"mean_ns_per_day\": 901.7158292682925}, {\"run\": 2, \"device_name\": \"A100-SXM4-40GB\", \"mean_ns_per_day\": 2226.186}, {\"run\": 2, \"device_name\": \"GeForce GTX 1080 Ti\", \"mean_ns_per_day\": 1116.248875}, {\"run\": 2, \"device_name\": \"GeForce RTX 2080 Ti\", \"mean_ns_per_day\": 1425.9}, {\"run\": 2, \"device_name\": \"Hainan\", \"mean_ns_per_day\": 44.620892000000005}, {\"run\": 2, \"device_name\": \"Tesla M60\", \"mean_ns_per_day\": 626.779090909091}, {\"run\": 2, \"device_name\": \"Tesla V100-SXM2-16GB\", \"mean_ns_per_day\": 1974.3854545454556}, {\"run\": 3, \"device_name\": \"A100-SXM4-40GB\", \"mean_ns_per_day\": 2974.365217391304}, {\"run\": 3, \"device_name\": \"GeForce GTX 1080 Ti\", \"mean_ns_per_day\": 1456.571928571428}, {\"run\": 3, \"device_name\": \"GeForce RTX 2080 Ti\", \"mean_ns_per_day\": 2215.055263157894}, {\"run\": 3, \"device_name\": \"Hainan\", \"mean_ns_per_day\": 66.89308636363637}, {\"run\": 3, \"device_name\": \"Tesla M60\", \"mean_ns_per_day\": 814.0830000000001}, {\"run\": 3, \"device_name\": \"Tesla V100-SXM2-16GB\", \"mean_ns_per_day\": 2300.2917073170725}, {\"run\": 4, \"device_name\": \"A100-SXM4-40GB\", \"mean_ns_per_day\": 553.8044545454545}, {\"run\": 4, \"device_name\": \"GeForce GTX 1080 Ti\", \"mean_ns_per_day\": 178.23370588235298}, {\"run\": 4, \"device_name\": \"GeForce RTX 2080 Ti\", \"mean_ns_per_day\": 330.4836666666666}, {\"run\": 4, \"device_name\": \"Hainan\", \"mean_ns_per_day\": 6.395293928571429}, {\"run\": 4, \"device_name\": \"Tesla M60\", \"mean_ns_per_day\": 79.38350000000001}, {\"run\": 4, \"device_name\": \"Tesla V100-SXM2-16GB\", \"mean_ns_per_day\": 386.2433095238096}, {\"run\": 5, \"device_name\": \"A100-SXM4-40GB\", \"mean_ns_per_day\": 443.70761290322565}, {\"run\": 5, \"device_name\": \"GeForce GTX 1080 Ti\", \"mean_ns_per_day\": 148.50517647058825}, {\"run\": 5, \"device_name\": \"GeForce RTX 2080 Ti\", \"mean_ns_per_day\": 268.4251428571428}, {\"run\": 5, \"device_name\": \"Hainan\", \"mean_ns_per_day\": 5.8385196}, {\"run\": 5, \"device_name\": \"Tesla M60\", \"mean_ns_per_day\": 68.17677272727273}, {\"run\": 5, \"device_name\": \"Tesla V100-SXM2-16GB\", \"mean_ns_per_day\": 296.00283673469386}, {\"run\": 6, \"device_name\": \"A100-SXM4-40GB\", \"mean_ns_per_day\": 804.5451333333333}, {\"run\": 6, \"device_name\": \"GeForce GTX 1080 Ti\", \"mean_ns_per_day\": 330.7946400000001}, {\"run\": 6, \"device_name\": \"GeForce RTX 2080 Ti\", \"mean_ns_per_day\": 396.4988347826087}, {\"run\": 6, \"device_name\": \"Hainan\", \"mean_ns_per_day\": 10.290648421052634}, {\"run\": 6, \"device_name\": \"Tesla M60\", \"mean_ns_per_day\": 148.8842857142857}, {\"run\": 6, \"device_name\": \"Tesla V100-SXM2-16GB\", \"mean_ns_per_day\": 656.9780869565217}, {\"run\": 7, \"device_name\": \"A100-SXM4-40GB\", \"mean_ns_per_day\": 1096.898285714286}, {\"run\": 7, \"device_name\": \"GeForce GTX 1080 Ti\", \"mean_ns_per_day\": 363.2566111111111}, {\"run\": 7, \"device_name\": \"GeForce RTX 2080 Ti\", \"mean_ns_per_day\": 662.7508181818183}, {\"run\": 7, \"device_name\": \"Hainan\", \"mean_ns_per_day\": 12.5167665}, {\"run\": 7, \"device_name\": \"Tesla M60\", \"mean_ns_per_day\": 157.19946153846155}, {\"run\": 7, \"device_name\": \"Tesla V100-SXM2-16GB\", \"mean_ns_per_day\": 771.7125909090909}, {\"run\": 8, \"device_name\": \"A100-SXM4-40GB\", \"mean_ns_per_day\": 374.1055925925926}, {\"run\": 8, \"device_name\": \"GeForce GTX 1080 Ti\", \"mean_ns_per_day\": 135.3826}, {\"run\": 8, \"device_name\": \"GeForce RTX 2080 Ti\", \"mean_ns_per_day\": 217.8575}, {\"run\": 8, \"device_name\": \"Hainan\", \"mean_ns_per_day\": 5.4632056521739125}, {\"run\": 8, \"device_name\": \"Tesla M60\", \"mean_ns_per_day\": 57.35707500000001}, {\"run\": 8, \"device_name\": \"Tesla V100-SXM2-16GB\", \"mean_ns_per_day\": 269.9177738095238}, {\"run\": 9, \"device_name\": \"A100-SXM4-40GB\", \"mean_ns_per_day\": 1017.5256999999999}, {\"run\": 9, \"device_name\": \"GeForce GTX 1080 Ti\", \"mean_ns_per_day\": 642.2585333333334}, {\"run\": 9, \"device_name\": \"GeForce RTX 2080 Ti\", \"mean_ns_per_day\": 693.5590000000001}, {\"run\": 9, \"device_name\": \"Hainan\", \"mean_ns_per_day\": 54.00292842105264}, {\"run\": 9, \"device_name\": \"Tesla M60\", \"mean_ns_per_day\": 470.8969166666666}, {\"run\": 9, \"device_name\": \"Tesla V100-SXM2-16GB\", \"mean_ns_per_day\": 749.5004186046511}, {\"run\": 10, \"device_name\": \"A100-SXM4-40GB\", \"mean_ns_per_day\": 140.7019687499999}, {\"run\": 10, \"device_name\": \"GeForce GTX 1080 Ti\", \"mean_ns_per_day\": 36.1036}, {\"run\": 10, \"device_name\": \"GeForce RTX 2080 Ti\", \"mean_ns_per_day\": 66.36708333333334}, {\"run\": 10, \"device_name\": \"Hainan\", \"mean_ns_per_day\": 1.7345724999999999}, {\"run\": 10, \"device_name\": \"Tesla M60\", \"mean_ns_per_day\": 15.531512499999998}, {\"run\": 10, \"device_name\": \"Tesla V100-SXM2-16GB\", \"mean_ns_per_day\": 81.81513157894736}, {\"run\": 11, \"device_name\": \"A100-SXM4-40GB\", \"mean_ns_per_day\": 112.23034615384611}, {\"run\": 11, \"device_name\": \"GeForce GTX 1080 Ti\", \"mean_ns_per_day\": 31.867242105263156}, {\"run\": 11, \"device_name\": \"GeForce RTX 2080 Ti\", \"mean_ns_per_day\": 53.596707692307696}, {\"run\": 11, \"device_name\": \"Hainan\", \"mean_ns_per_day\": 1.3319934999999998}, {\"run\": 11, \"device_name\": \"Tesla M60\", \"mean_ns_per_day\": 12.083495238095237}, {\"run\": 11, \"device_name\": \"Tesla V100-SXM2-16GB\", \"mean_ns_per_day\": 63.92900869565219}, {\"run\": 12, \"device_name\": \"A100-SXM4-40GB\", \"mean_ns_per_day\": 1352.196666666667}, {\"run\": 12, \"device_name\": \"GeForce GTX 1080 Ti\", \"mean_ns_per_day\": 534.857090909091}, {\"run\": 12, \"device_name\": \"GeForce RTX 2080 Ti\", \"mean_ns_per_day\": 722.3207499999999}, {\"run\": 12, \"device_name\": \"Hainan\", \"mean_ns_per_day\": 18.139843750000004}, {\"run\": 12, \"device_name\": \"Tesla M60\", \"mean_ns_per_day\": 217.7441875}, {\"run\": 12, \"device_name\": \"Tesla V100-SXM2-16GB\", \"mean_ns_per_day\": 925.5799523809524}, {\"run\": 13, \"device_name\": \"A100-SXM4-40GB\", \"mean_ns_per_day\": 563.8571818181819}, {\"run\": 13, \"device_name\": \"GeForce GTX 1080 Ti\", \"mean_ns_per_day\": 166.404}, {\"run\": 13, \"device_name\": \"GeForce RTX 2080 Ti\", \"mean_ns_per_day\": 276.12611764705883}, {\"run\": 13, \"device_name\": \"Hainan\", \"mean_ns_per_day\": 6.686109166666667}, {\"run\": 13, \"device_name\": \"Tesla M60\", \"mean_ns_per_day\": 66.29112}, {\"run\": 13, \"device_name\": \"Tesla V100-SXM2-16GB\", \"mean_ns_per_day\": 354.2783478260868}, {\"run\": 14, \"device_name\": \"A100-SXM4-40GB\", \"mean_ns_per_day\": 891.29976}, {\"run\": 14, \"device_name\": \"GeForce GTX 1080 Ti\", \"mean_ns_per_day\": 299.088}, {\"run\": 14, \"device_name\": \"GeForce RTX 2080 Ti\", \"mean_ns_per_day\": 458.8765714285714}, {\"run\": 14, \"device_name\": \"Hainan\", \"mean_ns_per_day\": 12.010407333333331}, {\"run\": 14, \"device_name\": \"Tesla M60\", \"mean_ns_per_day\": 117.40576470588236}, {\"run\": 14, \"device_name\": \"Tesla V100-SXM2-16GB\", \"mean_ns_per_day\": 601.1317560975612}]}}, {\"mode\": \"vega-lite\"});\n",
       "</script>"
      ],
      "text/plain": [
       "alt.Chart(...)"
      ]
     },
     "execution_count": 10,
     "metadata": {},
     "output_type": "execute_result"
    }
   ],
   "source": [
    "df = (data\n",
    " .set_index(['run', 'clone', 'gen', 'device_name'])\n",
    " ['perf_ns_per_day']\n",
    " .groupby(['run', 'device_name']).filter(lambda x: len(x) > 10)\n",
    " .groupby('device_name').filter(lambda x: len(x.groupby('run')) == 15)\n",
    " .groupby(['run', 'device_name']).mean()\n",
    " .rename('mean_ns_per_day')\n",
    ").reset_index()\n",
    "\n",
    "alt.Chart(df).mark_point(filled=True).encode(\n",
    "    x=alt.X('mean_ns_per_day:Q', scale=alt.Scale(type='log')),\n",
    "    y=alt.Y('device_name:O', sort='-x'),\n",
    "    color='run:N',\n",
    ")"
   ]
  },
  {
   "cell_type": "code",
   "execution_count": 11,
   "metadata": {},
   "outputs": [
    {
     "data": {
      "text/plain": [
       "<seaborn.matrix.ClusterGrid at 0x7faee83de1c0>"
      ]
     },
     "execution_count": 11,
     "metadata": {},
     "output_type": "execute_result"
    },
    {
     "data": {
      "image/png": "[encoded data removed]",
      "text/plain": [
       "<Figure size 720x720 with 4 Axes>"
      ]
     },
     "metadata": {
      "needs_background": "light"
     },
     "output_type": "display_data"
    }
   ],
   "source": [
    "sns.clustermap(\n",
    "    data\n",
    "    .groupby(['run', 'device_name']).filter(lambda x: len(x) > 10)\n",
    "    .groupby('device_name').filter(lambda x: len(x.groupby('run')) == 15)\n",
    "    .groupby(['run', 'device_name'])\n",
    "    ['perf_ns_per_day']\n",
    "    .mean()\n",
    "    .pipe(lambda x: np.log(x))\n",
    "    .unstack('run'))"
   ]
  },
  {
   "cell_type": "code",
   "execution_count": null,
   "metadata": {},
   "outputs": [],
   "source": []
  }
 ],
 "metadata": {
  "kernelspec": {
   "display_name": "Python 3",
   "language": "python",
   "name": "python3"
  },
  "language_info": {
   "codemirror_mode": {
    "name": "ipython",
    "version": 3
   },
   "file_extension": ".py",
   "mimetype": "text/x-python",
   "name": "python",
   "nbconvert_exporter": "python",
   "pygments_lexer": "ipython3",
   "version": "3.8.5"
  }
 },
 "nbformat": 4,
 "nbformat_minor": 4
}
