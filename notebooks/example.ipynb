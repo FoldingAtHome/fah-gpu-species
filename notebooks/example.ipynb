{
 "cells": [
  {
   "cell_type": "markdown",
   "metadata": {},
   "source": [
    "# FAH GPU performance analysis example\n",
    "\n",
    "**DISCLAIMER: the GPU benchmark data in this repo is experimental and not final. For now, the code and data presented here is intended as an example of parsing performance data from fah-core logs, and of the types of analysis that might be useful to automate intelligent assignment of work units to specific devices.**\n",
    "\n",
    "Here we analyze performance data (`ns_per_day`) parsed from log files created by `fah-core` for the project `PROJ17113` and `PROJ17111` . This project is intended to be a benchmark suite and contains runs representative of the range of workloads run on FAH today."
   ]
  },
  {
   "cell_type": "code",
   "execution_count": 13,
   "metadata": {},
   "outputs": [],
   "source": [
    "import glob\n",
    "import os\n",
    "import altair as alt\n",
    "import numpy as np\n",
    "import pandas as pd\n",
    "import seaborn as sns\n",
    "from fah_log_parser import ParseError, parse, science_log\n",
    "from fah_log_parser.util.pandas import parse_project_logs"
   ]
  },
  {
   "cell_type": "markdown",
   "metadata": {},
   "source": [
    "## Parsing a single `science.log` file"
   ]
  },
  {
   "cell_type": "code",
   "execution_count": 14,
   "metadata": {},
   "outputs": [],
   "source": [
    "log = parse(science_log, \"../PROJ17113/RUN0/CLONE0/results0/science.log\") # linux \n"
   ]
  },
  {
   "cell_type": "code",
   "execution_count": 15,
   "metadata": {},
   "outputs": [],
   "source": [
    "log = parse(science_log, \"../PROJ17113/RUN12/CLONE172/results0/science.log\")  # windows"
   ]
  },
  {
   "cell_type": "code",
   "execution_count": 16,
   "metadata": {},
   "outputs": [],
   "source": [
    "log = parse(science_log, \"../PROJ17110/RUN0/CLONE0/results0/science.log\")  # older version of log"
   ]
  },
  {
   "cell_type": "code",
   "execution_count": 17,
   "metadata": {},
   "outputs": [
    {
     "data": {
      "text/plain": [
       "'win32 10'"
      ]
     },
     "execution_count": 17,
     "metadata": {},
     "output_type": "execute_result"
    }
   ],
   "source": [
    "log.core_header.platform"
   ]
  },
  {
   "cell_type": "code",
   "execution_count": 18,
   "metadata": {},
   "outputs": [],
   "source": [
    "platform, device = log.get_active_device()"
   ]
  },
  {
   "cell_type": "code",
   "execution_count": 19,
   "metadata": {},
   "outputs": [
    {
     "data": {
      "text/plain": [
       "PlatformInfo(profile='FULL_PROFILE', version='OpenCL 3.0 ', name='Intel(R) OpenCL HD Graphics', vendor='Intel(R) Corporation')"
      ]
     },
     "execution_count": 19,
     "metadata": {},
     "output_type": "execute_result"
    }
   ],
   "source": [
    "platform"
   ]
  },
  {
   "cell_type": "code",
   "execution_count": 20,
   "metadata": {},
   "outputs": [
    {
     "data": {
      "text/plain": [
       "Device(name='Intel(R) UHD Graphics 630', vendor='Intel(R) Corporation', version='OpenCL 3.0 NEO ', driver_version='27.20.100.8935')"
      ]
     },
     "execution_count": 20,
     "metadata": {},
     "output_type": "execute_result"
    }
   ],
   "source": [
    "device"
   ]
  },
  {
   "cell_type": "code",
   "execution_count": 21,
   "metadata": {
    "scrolled": true
   },
   "outputs": [
    {
     "data": {
      "text/plain": [
       "9.394"
      ]
     },
     "execution_count": 21,
     "metadata": {},
     "output_type": "execute_result"
    }
   ],
   "source": [
    "log.core_log.average_perf_ns_day"
   ]
  },
  {
   "cell_type": "markdown",
   "metadata": {},
   "source": [
    "## Parsing all logs in a project"
   ]
  },
  {
   "cell_type": "code",
   "execution_count": 22,
   "metadata": {
    "scrolled": true
   },
   "outputs": [
    {
     "name": "stdout",
     "output_type": "stream",
     "text": [
      "3201 files found in path ../PROJ17113/\n"
     ]
    },
    {
     "data": {
      "text/html": [
       "<pre style=\"white-space:pre;overflow-x:auto;line-height:normal;font-family:Menlo,'DejaVu Sans Mono',consolas,'Courier New',monospace\">/home/hmacdope/anaconda3/envs/openmm-core-v2/lib/python3.9/site-packages/rich-13.4.2-py3.9.egg/rich/live.py:231: \n",
       "UserWarning: install \"ipywidgets\" for Jupyter support\n",
       "  warnings.warn('install \"ipywidgets\" for Jupyter support')\n",
       "</pre>\n"
      ],
      "text/plain": [
       "/home/hmacdope/anaconda3/envs/openmm-core-v2/lib/python3.9/site-packages/rich-13.4.2-py3.9.egg/rich/live.py:231: \n",
       "UserWarning: install \"ipywidgets\" for Jupyter support\n",
       "  warnings.warn('install \"ipywidgets\" for Jupyter support')\n"
      ]
     },
     "metadata": {},
     "output_type": "display_data"
    },
    {
     "name": "stderr",
     "output_type": "stream",
     "text": [
      "WARNING:root:Parse error: ../PROJ17113/RUN16/CLONE181/results0/science.log: expected one of '[0123456789]', '\\\\s+', '\\n', 'a letter' at 20:22\n",
      "WARNING:root:Parse error: ../PROJ17113/RUN0/CLONE174/results0/science.log: expected one of '[0123456789]', '\\\\s+', '\\n', 'a letter' at 20:49\n",
      "WARNING:root:Parse error: ../PROJ17113/RUN16/CLONE178/results0/science.log: expected one of '[0123456789]', '\\\\s+', '\\n', 'a letter' at 20:40\n",
      "WARNING:root:Parse error: ../PROJ17113/RUN6/CLONE188/results0/science.log: expected one of '[0123456789]', '\\\\s+', '\\n', 'a letter' at 20:42\n",
      "WARNING:root:Parse error: ../PROJ17113/RUN6/CLONE177/results0/science.log: expected one of '[0123456789]', '\\\\s+', '\\n', 'a letter' at 20:34\n",
      "WARNING:root:Parse error: ../PROJ17113/RUN9/CLONE175/results0/science.log: expected one of '[0123456789]', '\\\\s+', '\\n', 'a letter' at 20:42\n",
      "WARNING:root:Parse error: ../PROJ17113/RUN0/CLONE184/results0/science.log: expected one of '[0123456789]', '\\\\s+', '\\n', 'a letter' at 20:25\n",
      "WARNING:root:Parse error: ../PROJ17113/RUN13/CLONE175/results0/science.log: expected one of '[0123456789]', '\\\\s+', '\\n', 'a letter' at 20:49\n",
      "WARNING:root:Parse error: ../PROJ17113/RUN7/CLONE183/results0/science.log: expected one of '[0123456789]', '\\\\s+', '\\n', 'a letter' at 21:23\n",
      "WARNING:root:Parse error: ../PROJ17113/RUN6/CLONE182/results0/science.log: expected one of '[0123456789]', '\\\\s+', '\\n', 'a letter' at 21:23\n",
      "WARNING:root:Parse error: ../PROJ17113/RUN7/CLONE186/results0/science.log: expected one of '[0123456789]', '\\\\s+', '\\n', 'a letter' at 21:23\n",
      "WARNING:root:Parse error: ../PROJ17113/RUN4/CLONE176/results0/science.log: expected one of '[0123456789]', '\\\\s+', '\\n', 'a letter' at 20:48\n",
      "WARNING:root:Parse error: ../PROJ17113/RUN6/CLONE183/results0/science.log: expected one of '[0123456789]', '\\\\s+', '\\n', 'a letter' at 20:22\n",
      "WARNING:root:Parse error: ../PROJ17113/RUN0/CLONE177/results0/science.log: expected one of '[0123456789]', '\\\\s+', '\\n', 'a letter' at 20:42\n",
      "WARNING:root:Parse error: ../PROJ17113/RUN12/CLONE183/results0/science.log: expected one of '[0123456789]', '\\\\s+', '\\n', 'a letter' at 20:39\n",
      "WARNING:root:Parse error: ../PROJ17113/RUN10/CLONE175/results0/science.log: expected one of '[0123456789]', '\\\\s+', '\\n', 'a letter' at 20:40\n",
      "WARNING:root:Parse error: ../PROJ17113/RUN7/CLONE180/results0/science.log: expected one of '[0123456789]', '\\\\s+', '\\n', 'a letter' at 20:35\n",
      "WARNING:root:Parse error: ../PROJ17113/RUN13/CLONE175/results0/science.log: expected one of '[0123456789]', '\\\\s+', '\\n', 'a letter' at 20:49\n",
      "WARNING:root:Parse error: ../PROJ17113/RUN11/CLONE177/results0/science.log: expected one of '[0123456789]', '\\\\s+', '\\n', 'a letter' at 20:33\n",
      "WARNING:root:Parse error: ../PROJ17113/RUN10/CLONE184/results0/science.log: expected one of '[0123456789]', '\\\\s+', '\\n', 'a letter' at 20:58\n",
      "WARNING:root:Parse error: ../PROJ17113/RUN0/CLONE181/results0/science.log: expected one of '[0123456789]', '\\\\s+', '\\n', 'a letter' at 20:19\n",
      "WARNING:root:Parse error: ../PROJ17113/RUN4/CLONE186/results0/science.log: expected one of '[0123456789]', '\\\\s+', '\\n', 'a letter' at 20:22\n",
      "WARNING:root:Parse error: ../PROJ17113/RUN1/CLONE179/results0/science.log: expected one of '[0123456789]', '\\\\s+', '\\n', 'a letter' at 20:49\n",
      "WARNING:root:Parse error: ../PROJ17113/RUN4/CLONE175/results0/science.log: expected one of '[0123456789]', '\\\\s+', '\\n', 'a letter' at 20:24\n",
      "WARNING:root:Parse error: ../PROJ17113/RUN9/CLONE175/results0/science.log: expected one of '[0123456789]', '\\\\s+', '\\n', 'a letter' at 20:42\n",
      "WARNING:root:Parse error: ../PROJ17113/RUN12/CLONE185/results0/science.log: expected one of '[0123456789]', '\\\\s+', '\\n', 'a letter' at 21:23\n",
      "WARNING:root:Parse error: ../PROJ17113/RUN2/CLONE185/results0/science.log: expected one of '[0123456789]', '\\\\s+', '\\n', 'a letter' at 20:40\n",
      "WARNING:root:Parse error: ../PROJ17113/RUN16/CLONE180/results0/science.log: expected one of '[0123456789]', '\\\\s+', '\\n', 'a letter' at 20:54\n",
      "WARNING:root:Parse error: ../PROJ17113/RUN0/CLONE185/results0/science.log: expected one of '[0123456789]', '\\\\s+', '\\n', 'a letter' at 20:20\n",
      "WARNING:root:Parse error: ../PROJ17113/RUN0/CLONE186/results0/science.log: expected one of '[0123456789]', '\\\\s+', '\\n', 'a letter' at 20:51\n",
      "WARNING:root:Parse error: ../PROJ17113/RUN8/CLONE177/results0/science.log: expected one of '[0123456789]', '\\\\s+', '\\n', 'a letter' at 20:33\n",
      "WARNING:root:Parse error: ../PROJ17113/RUN5/CLONE179/results0/science.log: expected one of '-', 'argument value' at 20:18\n",
      "WARNING:root:Parse error: ../PROJ17113/RUN9/CLONE182/results0/science.log: expected one of '[0123456789]', '\\\\s+', '\\n', 'a letter' at 20:32\n",
      "WARNING:root:Parse error: ../PROJ17113/RUN3/CLONE177/results0/science.log: expected one of '[0123456789]', '\\\\s+', '\\n', 'a letter' at 21:23\n",
      "WARNING:root:Parse error: ../PROJ17113/RUN11/CLONE186/results0/science.log: expected one of '[0123456789]', '\\\\s+', '\\n', 'a letter' at 21:23\n",
      "WARNING:root:Parse error: ../PROJ17113/RUN1/CLONE183/results0/science.log: expected one of '[0123456789]', '\\\\s+', '\\n', 'a letter' at 20:22\n",
      "WARNING:root:Parse error: ../PROJ17113/RUN5/CLONE174/results0/science.log: expected one of '[0123456789]', '\\\\s+', '\\n', 'a letter' at 20:59\n",
      "WARNING:root:Parse error: ../PROJ17113/RUN6/CLONE182/results0/science.log: expected one of '[0123456789]', '\\\\s+', '\\n', 'a letter' at 21:23\n",
      "WARNING:root:Parse error: ../PROJ17113/RUN9/CLONE184/results0/science.log: expected one of '[0123456789]', '\\\\s+', '\\n', 'a letter' at 20:20\n",
      "WARNING:root:Parse error: ../PROJ17113/RUN12/CLONE180/results0/science.log: expected one of '[0123456789]', '\\\\s+', '\\n', 'a letter' at 20:38\n",
      "WARNING:root:Parse error: ../PROJ17113/RUN8/CLONE188/results0/science.log: expected one of '[0123456789]', '\\\\s+', '\\n', 'a letter' at 20:28\n",
      "WARNING:root:Parse error: ../PROJ17113/RUN8/CLONE186/results0/science.log: expected one of '[0123456789]', '\\\\s+', '\\n', 'a letter' at 21:23\n",
      "WARNING:root:Parse error: ../PROJ17113/RUN2/CLONE175/results0/science.log: expected one of '[0123456789]', '\\\\s+', '\\n', 'a letter' at 20:27\n",
      "WARNING:root:Parse error: ../PROJ17113/RUN8/CLONE180/results0/science.log: expected one of '[0123456789]', '\\\\s+', '\\n', 'a letter' at 20:43\n",
      "WARNING:root:Parse error: ../PROJ17113/RUN16/CLONE184/results0/science.log: expected one of '[0123456789]', '\\\\s+', '\\n', 'a letter' at 20:40\n",
      "WARNING:root:Parse error: ../PROJ17113/RUN10/CLONE182/results0/science.log: expected one of '[0123456789]', '\\\\s+', '\\n', 'a letter' at 20:20\n",
      "WARNING:root:Parse error: ../PROJ17113/RUN7/CLONE180/results0/science.log: expected one of '[0123456789]', '\\\\s+', '\\n', 'a letter' at 20:35\n",
      "WARNING:root:Parse error: ../PROJ17113/RUN13/CLONE182/results0/science.log: expected one of '[0123456789]', '\\\\s+', '\\n', 'a letter' at 20:20\n",
      "WARNING:root:Parse error: ../PROJ17113/RUN16/CLONE184/results0/science.log: expected one of '[0123456789]', '\\\\s+', '\\n', 'a letter' at 20:40\n",
      "WARNING:root:Parse error: ../PROJ17113/RUN10/CLONE177/results0/science.log: expected one of '[0123456789]', '\\\\s+', '\\n', 'a letter' at 20:25\n",
      "WARNING:root:Parse error: ../PROJ17113/RUN0/CLONE177/results0/science.log: expected one of '[0123456789]', '\\\\s+', '\\n', 'a letter' at 20:42\n",
      "WARNING:root:Parse error: ../PROJ17113/RUN10/CLONE175/results0/science.log: expected one of '[0123456789]', '\\\\s+', '\\n', 'a letter' at 20:40\n",
      "WARNING:root:Parse error: ../PROJ17113/RUN0/CLONE180/results0/science.log: expected one of '[0123456789]', '\\\\s+', '\\n', 'a letter' at 20:59\n",
      "WARNING:root:Parse error: ../PROJ17113/RUN16/CLONE184/results0/science.log: expected one of '[0123456789]', '\\\\s+', '\\n', 'a letter' at 20:40\n",
      "WARNING:root:Parse error: ../PROJ17113/RUN10/CLONE187/results0/science.log: expected one of '[0123456789]', '\\\\s+', '\\n', 'a letter' at 20:22\n",
      "WARNING:root:Parse error: ../PROJ17113/RUN9/CLONE177/results0/science.log: expected one of '[0123456789]', '\\\\s+', '\\n', 'a letter' at 21:23\n",
      "WARNING:root:Parse error: ../PROJ17113/RUN3/CLONE174/results0/science.log: expected one of '[0123456789]', '\\\\s+', '\\n', 'a letter' at 20:48\n"
     ]
    },
    {
     "data": {
      "text/html": [
       "<pre style=\"white-space:pre;overflow-x:auto;line-height:normal;font-family:Menlo,'DejaVu Sans Mono',consolas,'Courier New',monospace\"></pre>\n"
      ],
      "text/plain": []
     },
     "metadata": {},
     "output_type": "display_data"
    },
    {
     "data": {
      "text/html": [
       "<pre style=\"white-space:pre;overflow-x:auto;line-height:normal;font-family:Menlo,'DejaVu Sans Mono',consolas,'Courier New',monospace\">\n",
       "</pre>\n"
      ],
      "text/plain": [
       "\n"
      ]
     },
     "metadata": {},
     "output_type": "display_data"
    },
    {
     "name": "stderr",
     "output_type": "stream",
     "text": [
      "WARNING:root:Failed to parse 57 files out of 1000\n"
     ]
    },
    {
     "name": "stdout",
     "output_type": "stream",
     "text": [
      "<class 'pandas.core.frame.DataFrame'>\n",
      "MultiIndex: 943 entries, (10, 132, 0) to (5, 121, 0)\n",
      "Data columns (total 10 columns):\n",
      " #   Column                 Non-Null Count  Dtype  \n",
      "---  ------                 --------------  -----  \n",
      " 0   os                     943 non-null    object \n",
      " 1   platform_name          943 non-null    object \n",
      " 2   platform_vendor        943 non-null    object \n",
      " 3   platform_version       943 non-null    object \n",
      " 4   device_name            943 non-null    object \n",
      " 5   device_vendor          943 non-null    object \n",
      " 6   device_version         943 non-null    object \n",
      " 7   device_driver_version  943 non-null    object \n",
      " 8   cuda_enabled           943 non-null    bool   \n",
      " 9   perf_ns_per_day        942 non-null    float64\n",
      "dtypes: bool(1), float64(1), object(8)\n",
      "memory usage: 77.4+ KB\n"
     ]
    }
   ],
   "source": [
    "data = parse_project_logs(\"../PROJ17113/\", sample=1000)\n",
    "data.reset_index().to_feather(\"checkpoint\")\n",
    "    \n",
    "data.info()\n"
   ]
  },
  {
   "cell_type": "code",
   "execution_count": 23,
   "metadata": {},
   "outputs": [
    {
     "data": {
      "text/html": [
       "<div>\n",
       "<style scoped>\n",
       "    .dataframe tbody tr th:only-of-type {\n",
       "        vertical-align: middle;\n",
       "    }\n",
       "\n",
       "    .dataframe tbody tr th {\n",
       "        vertical-align: top;\n",
       "    }\n",
       "\n",
       "    .dataframe thead th {\n",
       "        text-align: right;\n",
       "    }\n",
       "</style>\n",
       "<table border=\"1\" class=\"dataframe\">\n",
       "  <thead>\n",
       "    <tr style=\"text-align: right;\">\n",
       "      <th></th>\n",
       "      <th></th>\n",
       "      <th></th>\n",
       "      <th>os</th>\n",
       "      <th>platform_name</th>\n",
       "      <th>platform_vendor</th>\n",
       "      <th>platform_version</th>\n",
       "      <th>device_name</th>\n",
       "      <th>device_vendor</th>\n",
       "      <th>device_version</th>\n",
       "      <th>device_driver_version</th>\n",
       "      <th>cuda_enabled</th>\n",
       "      <th>perf_ns_per_day</th>\n",
       "    </tr>\n",
       "    <tr>\n",
       "      <th>run</th>\n",
       "      <th>clone</th>\n",
       "      <th>gen</th>\n",
       "      <th></th>\n",
       "      <th></th>\n",
       "      <th></th>\n",
       "      <th></th>\n",
       "      <th></th>\n",
       "      <th></th>\n",
       "      <th></th>\n",
       "      <th></th>\n",
       "      <th></th>\n",
       "      <th></th>\n",
       "    </tr>\n",
       "  </thead>\n",
       "  <tbody>\n",
       "    <tr>\n",
       "      <th>10</th>\n",
       "      <th>132</th>\n",
       "      <th>0</th>\n",
       "      <td>win32 10</td>\n",
       "      <td>NVIDIA CUDA</td>\n",
       "      <td>NVIDIA Corporation</td>\n",
       "      <td>OpenCL 3.0 CUDA 12.1.98</td>\n",
       "      <td>NVIDIA GeForce RTX 4070 Ti</td>\n",
       "      <td>NVIDIA Corporation</td>\n",
       "      <td>OpenCL 3.0 CUDA</td>\n",
       "      <td>531.41</td>\n",
       "      <td>True</td>\n",
       "      <td>44.2214</td>\n",
       "    </tr>\n",
       "    <tr>\n",
       "      <th>5</th>\n",
       "      <th>17</th>\n",
       "      <th>0</th>\n",
       "      <td>linux 5.15.0-1034-azure</td>\n",
       "      <td>NVIDIA CUDA</td>\n",
       "      <td>NVIDIA Corporation</td>\n",
       "      <td>OpenCL 3.0 CUDA 12.0.133</td>\n",
       "      <td>NVIDIA GeForce GTX 1080 Ti</td>\n",
       "      <td>NVIDIA Corporation</td>\n",
       "      <td>OpenCL 3.0 CUDA</td>\n",
       "      <td>525.78.01</td>\n",
       "      <td>True</td>\n",
       "      <td>63.6218</td>\n",
       "    </tr>\n",
       "    <tr>\n",
       "      <th>3</th>\n",
       "      <th>119</th>\n",
       "      <th>0</th>\n",
       "      <td>win32 10</td>\n",
       "      <td>NVIDIA CUDA</td>\n",
       "      <td>NVIDIA Corporation</td>\n",
       "      <td>OpenCL 3.0 CUDA 12.0.151</td>\n",
       "      <td>NVIDIA RTX A4500</td>\n",
       "      <td>NVIDIA Corporation</td>\n",
       "      <td>OpenCL 3.0 CUDA</td>\n",
       "      <td>528.89</td>\n",
       "      <td>True</td>\n",
       "      <td>483.2050</td>\n",
       "    </tr>\n",
       "    <tr>\n",
       "      <th>12</th>\n",
       "      <th>93</th>\n",
       "      <th>0</th>\n",
       "      <td>linux 5.15.0-1034-azure</td>\n",
       "      <td>NVIDIA CUDA</td>\n",
       "      <td>NVIDIA Corporation</td>\n",
       "      <td>OpenCL 3.0 CUDA 12.0.133</td>\n",
       "      <td>NVIDIA GeForce GTX 1080 Ti</td>\n",
       "      <td>NVIDIA Corporation</td>\n",
       "      <td>OpenCL 3.0 CUDA</td>\n",
       "      <td>525.78.01</td>\n",
       "      <td>True</td>\n",
       "      <td>187.1220</td>\n",
       "    </tr>\n",
       "    <tr>\n",
       "      <th>6</th>\n",
       "      <th>9</th>\n",
       "      <th>0</th>\n",
       "      <td>linux 5.15.0-1034-azure</td>\n",
       "      <td>NVIDIA CUDA</td>\n",
       "      <td>NVIDIA Corporation</td>\n",
       "      <td>OpenCL 3.0 CUDA 12.0.147</td>\n",
       "      <td>NVIDIA GeForce GTX 970</td>\n",
       "      <td>NVIDIA Corporation</td>\n",
       "      <td>OpenCL 3.0 CUDA</td>\n",
       "      <td>525.89.02</td>\n",
       "      <td>True</td>\n",
       "      <td>44.5413</td>\n",
       "    </tr>\n",
       "    <tr>\n",
       "      <th>...</th>\n",
       "      <th>...</th>\n",
       "      <th>...</th>\n",
       "      <td>...</td>\n",
       "      <td>...</td>\n",
       "      <td>...</td>\n",
       "      <td>...</td>\n",
       "      <td>...</td>\n",
       "      <td>...</td>\n",
       "      <td>...</td>\n",
       "      <td>...</td>\n",
       "      <td>...</td>\n",
       "      <td>...</td>\n",
       "    </tr>\n",
       "    <tr>\n",
       "      <th>9</th>\n",
       "      <th>50</th>\n",
       "      <th>0</th>\n",
       "      <td>linux 5.15.0-1034-azure</td>\n",
       "      <td>NVIDIA CUDA</td>\n",
       "      <td>NVIDIA Corporation</td>\n",
       "      <td>OpenCL 3.0 CUDA 12.0.133</td>\n",
       "      <td>NVIDIA GeForce GTX 1080 Ti</td>\n",
       "      <td>NVIDIA Corporation</td>\n",
       "      <td>OpenCL 3.0 CUDA</td>\n",
       "      <td>525.78.01</td>\n",
       "      <td>True</td>\n",
       "      <td>405.6220</td>\n",
       "    </tr>\n",
       "    <tr>\n",
       "      <th>8</th>\n",
       "      <th>167</th>\n",
       "      <th>0</th>\n",
       "      <td>win32 10</td>\n",
       "      <td>NVIDIA CUDA</td>\n",
       "      <td>NVIDIA Corporation</td>\n",
       "      <td>OpenCL 3.0 CUDA 11.7.101</td>\n",
       "      <td>NVIDIA GeForce RTX 3060</td>\n",
       "      <td>NVIDIA Corporation</td>\n",
       "      <td>OpenCL 3.0 CUDA</td>\n",
       "      <td>516.94</td>\n",
       "      <td>True</td>\n",
       "      <td>42.3532</td>\n",
       "    </tr>\n",
       "    <tr>\n",
       "      <th>6</th>\n",
       "      <th>106</th>\n",
       "      <th>0</th>\n",
       "      <td>linux 5.15.0-1034-azure</td>\n",
       "      <td>NVIDIA CUDA</td>\n",
       "      <td>NVIDIA Corporation</td>\n",
       "      <td>OpenCL 3.0 CUDA 12.0.133</td>\n",
       "      <td>NVIDIA GeForce GTX 1080 Ti</td>\n",
       "      <td>NVIDIA Corporation</td>\n",
       "      <td>OpenCL 3.0 CUDA</td>\n",
       "      <td>525.78.01</td>\n",
       "      <td>True</td>\n",
       "      <td>125.4900</td>\n",
       "    </tr>\n",
       "    <tr>\n",
       "      <th>4</th>\n",
       "      <th>166</th>\n",
       "      <th>0</th>\n",
       "      <td>win32 10</td>\n",
       "      <td>NVIDIA CUDA</td>\n",
       "      <td>NVIDIA Corporation</td>\n",
       "      <td>OpenCL 3.0 CUDA 11.7.101</td>\n",
       "      <td>NVIDIA GeForce RTX 3060</td>\n",
       "      <td>NVIDIA Corporation</td>\n",
       "      <td>OpenCL 3.0 CUDA</td>\n",
       "      <td>516.94</td>\n",
       "      <td>True</td>\n",
       "      <td>64.3957</td>\n",
       "    </tr>\n",
       "    <tr>\n",
       "      <th>5</th>\n",
       "      <th>121</th>\n",
       "      <th>0</th>\n",
       "      <td>linux 5.15.0-1034-azure</td>\n",
       "      <td>NVIDIA CUDA</td>\n",
       "      <td>NVIDIA Corporation</td>\n",
       "      <td>OpenCL 3.0 CUDA 12.0.133</td>\n",
       "      <td>NVIDIA GeForce GTX 1080 Ti</td>\n",
       "      <td>NVIDIA Corporation</td>\n",
       "      <td>OpenCL 3.0 CUDA</td>\n",
       "      <td>525.78.01</td>\n",
       "      <td>True</td>\n",
       "      <td>63.1435</td>\n",
       "    </tr>\n",
       "  </tbody>\n",
       "</table>\n",
       "<p>943 rows × 10 columns</p>\n",
       "</div>"
      ],
      "text/plain": [
       "                                    os platform_name     platform_vendor  \\\n",
       "run clone gen                                                              \n",
       "10  132   0                   win32 10   NVIDIA CUDA  NVIDIA Corporation   \n",
       "5   17    0    linux 5.15.0-1034-azure   NVIDIA CUDA  NVIDIA Corporation   \n",
       "3   119   0                   win32 10   NVIDIA CUDA  NVIDIA Corporation   \n",
       "12  93    0    linux 5.15.0-1034-azure   NVIDIA CUDA  NVIDIA Corporation   \n",
       "6   9     0    linux 5.15.0-1034-azure   NVIDIA CUDA  NVIDIA Corporation   \n",
       "...                                ...           ...                 ...   \n",
       "9   50    0    linux 5.15.0-1034-azure   NVIDIA CUDA  NVIDIA Corporation   \n",
       "8   167   0                   win32 10   NVIDIA CUDA  NVIDIA Corporation   \n",
       "6   106   0    linux 5.15.0-1034-azure   NVIDIA CUDA  NVIDIA Corporation   \n",
       "4   166   0                   win32 10   NVIDIA CUDA  NVIDIA Corporation   \n",
       "5   121   0    linux 5.15.0-1034-azure   NVIDIA CUDA  NVIDIA Corporation   \n",
       "\n",
       "                       platform_version                 device_name  \\\n",
       "run clone gen                                                         \n",
       "10  132   0     OpenCL 3.0 CUDA 12.1.98  NVIDIA GeForce RTX 4070 Ti   \n",
       "5   17    0    OpenCL 3.0 CUDA 12.0.133  NVIDIA GeForce GTX 1080 Ti   \n",
       "3   119   0    OpenCL 3.0 CUDA 12.0.151            NVIDIA RTX A4500   \n",
       "12  93    0    OpenCL 3.0 CUDA 12.0.133  NVIDIA GeForce GTX 1080 Ti   \n",
       "6   9     0    OpenCL 3.0 CUDA 12.0.147      NVIDIA GeForce GTX 970   \n",
       "...                                 ...                         ...   \n",
       "9   50    0    OpenCL 3.0 CUDA 12.0.133  NVIDIA GeForce GTX 1080 Ti   \n",
       "8   167   0    OpenCL 3.0 CUDA 11.7.101     NVIDIA GeForce RTX 3060   \n",
       "6   106   0    OpenCL 3.0 CUDA 12.0.133  NVIDIA GeForce GTX 1080 Ti   \n",
       "4   166   0    OpenCL 3.0 CUDA 11.7.101     NVIDIA GeForce RTX 3060   \n",
       "5   121   0    OpenCL 3.0 CUDA 12.0.133  NVIDIA GeForce GTX 1080 Ti   \n",
       "\n",
       "                    device_vendor   device_version device_driver_version  \\\n",
       "run clone gen                                                              \n",
       "10  132   0    NVIDIA Corporation  OpenCL 3.0 CUDA                531.41   \n",
       "5   17    0    NVIDIA Corporation  OpenCL 3.0 CUDA             525.78.01   \n",
       "3   119   0    NVIDIA Corporation  OpenCL 3.0 CUDA                528.89   \n",
       "12  93    0    NVIDIA Corporation  OpenCL 3.0 CUDA             525.78.01   \n",
       "6   9     0    NVIDIA Corporation  OpenCL 3.0 CUDA             525.89.02   \n",
       "...                           ...              ...                   ...   \n",
       "9   50    0    NVIDIA Corporation  OpenCL 3.0 CUDA             525.78.01   \n",
       "8   167   0    NVIDIA Corporation  OpenCL 3.0 CUDA                516.94   \n",
       "6   106   0    NVIDIA Corporation  OpenCL 3.0 CUDA             525.78.01   \n",
       "4   166   0    NVIDIA Corporation  OpenCL 3.0 CUDA                516.94   \n",
       "5   121   0    NVIDIA Corporation  OpenCL 3.0 CUDA             525.78.01   \n",
       "\n",
       "               cuda_enabled  perf_ns_per_day  \n",
       "run clone gen                                 \n",
       "10  132   0            True          44.2214  \n",
       "5   17    0            True          63.6218  \n",
       "3   119   0            True         483.2050  \n",
       "12  93    0            True         187.1220  \n",
       "6   9     0            True          44.5413  \n",
       "...                     ...              ...  \n",
       "9   50    0            True         405.6220  \n",
       "8   167   0            True          42.3532  \n",
       "6   106   0            True         125.4900  \n",
       "4   166   0            True          64.3957  \n",
       "5   121   0            True          63.1435  \n",
       "\n",
       "[943 rows x 10 columns]"
      ]
     },
     "execution_count": 23,
     "metadata": {},
     "output_type": "execute_result"
    }
   ],
   "source": [
    "data"
   ]
  },
  {
   "cell_type": "code",
   "execution_count": 12,
   "metadata": {},
   "outputs": [
    {
     "ename": "KeyError",
     "evalue": "'device_name'",
     "output_type": "error",
     "traceback": [
      "\u001b[0;31m---------------------------------------------------------------------------\u001b[0m",
      "\u001b[0;31mKeyError\u001b[0m                                  Traceback (most recent call last)",
      "Cell \u001b[0;32mIn[12], line 1\u001b[0m\n\u001b[0;32m----> 1\u001b[0m df \u001b[38;5;241m=\u001b[39m (\u001b[43mdata\u001b[49m\n\u001b[1;32m      2\u001b[0m \u001b[43m \u001b[49m\u001b[43m[\u001b[49m\u001b[38;5;124;43m'\u001b[39;49m\u001b[38;5;124;43mperf_ns_per_day\u001b[39;49m\u001b[38;5;124;43m'\u001b[39;49m\u001b[43m]\u001b[49m\n\u001b[1;32m      3\u001b[0m \u001b[43m \u001b[49m\u001b[38;5;241;43m.\u001b[39;49m\u001b[43mgroupby\u001b[49m\u001b[43m(\u001b[49m\u001b[38;5;124;43m'\u001b[39;49m\u001b[38;5;124;43mdevice_name\u001b[39;49m\u001b[38;5;124;43m'\u001b[39;49m\u001b[43m)\u001b[49m\u001b[38;5;241m.\u001b[39mfilter(\u001b[38;5;28;01mlambda\u001b[39;00m x: \u001b[38;5;28mlen\u001b[39m(x) \u001b[38;5;241m>\u001b[39m \u001b[38;5;241m10\u001b[39m)\n\u001b[1;32m      4\u001b[0m  \u001b[38;5;241m.\u001b[39mgroupby(\u001b[38;5;124m'\u001b[39m\u001b[38;5;124mrun\u001b[39m\u001b[38;5;124m'\u001b[39m)\u001b[38;5;241m.\u001b[39mtransform(\u001b[38;5;28;01mlambda\u001b[39;00m x: (x \u001b[38;5;241m-\u001b[39m x\u001b[38;5;241m.\u001b[39mmean()) \u001b[38;5;241m/\u001b[39m x\u001b[38;5;241m.\u001b[39mstd())\u001b[38;5;241m.\u001b[39mrename(\u001b[38;5;124m'\u001b[39m\u001b[38;5;124mz_score_by_run\u001b[39m\u001b[38;5;124m'\u001b[39m)\n\u001b[1;32m      5\u001b[0m  \u001b[38;5;241m.\u001b[39mgroupby(\u001b[38;5;124m'\u001b[39m\u001b[38;5;124mdevice_name\u001b[39m\u001b[38;5;124m'\u001b[39m)\u001b[38;5;241m.\u001b[39mmean()\n\u001b[1;32m      6\u001b[0m )\u001b[38;5;241m.\u001b[39mreset_index()\n\u001b[1;32m      8\u001b[0m alt\u001b[38;5;241m.\u001b[39mChart(df)\u001b[38;5;241m.\u001b[39mmark_bar()\u001b[38;5;241m.\u001b[39mencode(\n\u001b[1;32m      9\u001b[0m     x\u001b[38;5;241m=\u001b[39malt\u001b[38;5;241m.\u001b[39mX(\u001b[38;5;124m\"\u001b[39m\u001b[38;5;124mz_score_by_run:Q\u001b[39m\u001b[38;5;124m\"\u001b[39m, aggregate\u001b[38;5;241m=\u001b[39m\u001b[38;5;124m'\u001b[39m\u001b[38;5;124mmean\u001b[39m\u001b[38;5;124m'\u001b[39m),\n\u001b[1;32m     10\u001b[0m     y\u001b[38;5;241m=\u001b[39malt\u001b[38;5;241m.\u001b[39mY(\u001b[38;5;124m\"\u001b[39m\u001b[38;5;124mdevice_name:N\u001b[39m\u001b[38;5;124m\"\u001b[39m, sort\u001b[38;5;241m=\u001b[39m\u001b[38;5;124m'\u001b[39m\u001b[38;5;124m-x\u001b[39m\u001b[38;5;124m'\u001b[39m)\n\u001b[1;32m     11\u001b[0m )\n",
      "File \u001b[0;32m~/anaconda3/envs/openmm-core-v2/lib/python3.9/site-packages/pandas-2.0.2-py3.9-linux-x86_64.egg/pandas/core/series.py:2064\u001b[0m, in \u001b[0;36mSeries.groupby\u001b[0;34m(self, by, axis, level, as_index, sort, group_keys, observed, dropna)\u001b[0m\n\u001b[1;32m   2061\u001b[0m     \u001b[38;5;28;01mraise\u001b[39;00m \u001b[38;5;167;01mTypeError\u001b[39;00m(\u001b[38;5;124m\"\u001b[39m\u001b[38;5;124mas_index=False only valid with DataFrame\u001b[39m\u001b[38;5;124m\"\u001b[39m)\n\u001b[1;32m   2062\u001b[0m axis \u001b[38;5;241m=\u001b[39m \u001b[38;5;28mself\u001b[39m\u001b[38;5;241m.\u001b[39m_get_axis_number(axis)\n\u001b[0;32m-> 2064\u001b[0m \u001b[38;5;28;01mreturn\u001b[39;00m \u001b[43mSeriesGroupBy\u001b[49m\u001b[43m(\u001b[49m\n\u001b[1;32m   2065\u001b[0m \u001b[43m    \u001b[49m\u001b[43mobj\u001b[49m\u001b[38;5;241;43m=\u001b[39;49m\u001b[38;5;28;43mself\u001b[39;49m\u001b[43m,\u001b[49m\n\u001b[1;32m   2066\u001b[0m \u001b[43m    \u001b[49m\u001b[43mkeys\u001b[49m\u001b[38;5;241;43m=\u001b[39;49m\u001b[43mby\u001b[49m\u001b[43m,\u001b[49m\n\u001b[1;32m   2067\u001b[0m \u001b[43m    \u001b[49m\u001b[43maxis\u001b[49m\u001b[38;5;241;43m=\u001b[39;49m\u001b[43maxis\u001b[49m\u001b[43m,\u001b[49m\n\u001b[1;32m   2068\u001b[0m \u001b[43m    \u001b[49m\u001b[43mlevel\u001b[49m\u001b[38;5;241;43m=\u001b[39;49m\u001b[43mlevel\u001b[49m\u001b[43m,\u001b[49m\n\u001b[1;32m   2069\u001b[0m \u001b[43m    \u001b[49m\u001b[43mas_index\u001b[49m\u001b[38;5;241;43m=\u001b[39;49m\u001b[43mas_index\u001b[49m\u001b[43m,\u001b[49m\n\u001b[1;32m   2070\u001b[0m \u001b[43m    \u001b[49m\u001b[43msort\u001b[49m\u001b[38;5;241;43m=\u001b[39;49m\u001b[43msort\u001b[49m\u001b[43m,\u001b[49m\n\u001b[1;32m   2071\u001b[0m \u001b[43m    \u001b[49m\u001b[43mgroup_keys\u001b[49m\u001b[38;5;241;43m=\u001b[39;49m\u001b[43mgroup_keys\u001b[49m\u001b[43m,\u001b[49m\n\u001b[1;32m   2072\u001b[0m \u001b[43m    \u001b[49m\u001b[43mobserved\u001b[49m\u001b[38;5;241;43m=\u001b[39;49m\u001b[43mobserved\u001b[49m\u001b[43m,\u001b[49m\n\u001b[1;32m   2073\u001b[0m \u001b[43m    \u001b[49m\u001b[43mdropna\u001b[49m\u001b[38;5;241;43m=\u001b[39;49m\u001b[43mdropna\u001b[49m\u001b[43m,\u001b[49m\n\u001b[1;32m   2074\u001b[0m \u001b[43m\u001b[49m\u001b[43m)\u001b[49m\n",
      "File \u001b[0;32m~/anaconda3/envs/openmm-core-v2/lib/python3.9/site-packages/pandas-2.0.2-py3.9-linux-x86_64.egg/pandas/core/groupby/groupby.py:931\u001b[0m, in \u001b[0;36mGroupBy.__init__\u001b[0;34m(self, obj, keys, axis, level, grouper, exclusions, selection, as_index, sort, group_keys, observed, dropna)\u001b[0m\n\u001b[1;32m    928\u001b[0m \u001b[38;5;28mself\u001b[39m\u001b[38;5;241m.\u001b[39mdropna \u001b[38;5;241m=\u001b[39m dropna\n\u001b[1;32m    930\u001b[0m \u001b[38;5;28;01mif\u001b[39;00m grouper \u001b[38;5;129;01mis\u001b[39;00m \u001b[38;5;28;01mNone\u001b[39;00m:\n\u001b[0;32m--> 931\u001b[0m     grouper, exclusions, obj \u001b[38;5;241m=\u001b[39m \u001b[43mget_grouper\u001b[49m\u001b[43m(\u001b[49m\n\u001b[1;32m    932\u001b[0m \u001b[43m        \u001b[49m\u001b[43mobj\u001b[49m\u001b[43m,\u001b[49m\n\u001b[1;32m    933\u001b[0m \u001b[43m        \u001b[49m\u001b[43mkeys\u001b[49m\u001b[43m,\u001b[49m\n\u001b[1;32m    934\u001b[0m \u001b[43m        \u001b[49m\u001b[43maxis\u001b[49m\u001b[38;5;241;43m=\u001b[39;49m\u001b[43maxis\u001b[49m\u001b[43m,\u001b[49m\n\u001b[1;32m    935\u001b[0m \u001b[43m        \u001b[49m\u001b[43mlevel\u001b[49m\u001b[38;5;241;43m=\u001b[39;49m\u001b[43mlevel\u001b[49m\u001b[43m,\u001b[49m\n\u001b[1;32m    936\u001b[0m \u001b[43m        \u001b[49m\u001b[43msort\u001b[49m\u001b[38;5;241;43m=\u001b[39;49m\u001b[43msort\u001b[49m\u001b[43m,\u001b[49m\n\u001b[1;32m    937\u001b[0m \u001b[43m        \u001b[49m\u001b[43mobserved\u001b[49m\u001b[38;5;241;43m=\u001b[39;49m\u001b[43mobserved\u001b[49m\u001b[43m,\u001b[49m\n\u001b[1;32m    938\u001b[0m \u001b[43m        \u001b[49m\u001b[43mdropna\u001b[49m\u001b[38;5;241;43m=\u001b[39;49m\u001b[38;5;28;43mself\u001b[39;49m\u001b[38;5;241;43m.\u001b[39;49m\u001b[43mdropna\u001b[49m\u001b[43m,\u001b[49m\n\u001b[1;32m    939\u001b[0m \u001b[43m    \u001b[49m\u001b[43m)\u001b[49m\n\u001b[1;32m    941\u001b[0m \u001b[38;5;28mself\u001b[39m\u001b[38;5;241m.\u001b[39mobj \u001b[38;5;241m=\u001b[39m obj\n\u001b[1;32m    942\u001b[0m \u001b[38;5;28mself\u001b[39m\u001b[38;5;241m.\u001b[39maxis \u001b[38;5;241m=\u001b[39m obj\u001b[38;5;241m.\u001b[39m_get_axis_number(axis)\n",
      "File \u001b[0;32m~/anaconda3/envs/openmm-core-v2/lib/python3.9/site-packages/pandas-2.0.2-py3.9-linux-x86_64.egg/pandas/core/groupby/grouper.py:985\u001b[0m, in \u001b[0;36mget_grouper\u001b[0;34m(obj, key, axis, level, sort, observed, validate, dropna)\u001b[0m\n\u001b[1;32m    983\u001b[0m         in_axis, level, gpr \u001b[38;5;241m=\u001b[39m \u001b[38;5;28;01mFalse\u001b[39;00m, gpr, \u001b[38;5;28;01mNone\u001b[39;00m\n\u001b[1;32m    984\u001b[0m     \u001b[38;5;28;01melse\u001b[39;00m:\n\u001b[0;32m--> 985\u001b[0m         \u001b[38;5;28;01mraise\u001b[39;00m \u001b[38;5;167;01mKeyError\u001b[39;00m(gpr)\n\u001b[1;32m    986\u001b[0m \u001b[38;5;28;01melif\u001b[39;00m \u001b[38;5;28misinstance\u001b[39m(gpr, Grouper) \u001b[38;5;129;01mand\u001b[39;00m gpr\u001b[38;5;241m.\u001b[39mkey \u001b[38;5;129;01mis\u001b[39;00m \u001b[38;5;129;01mnot\u001b[39;00m \u001b[38;5;28;01mNone\u001b[39;00m:\n\u001b[1;32m    987\u001b[0m     \u001b[38;5;66;03m# Add key to exclusions\u001b[39;00m\n\u001b[1;32m    988\u001b[0m     exclusions\u001b[38;5;241m.\u001b[39madd(gpr\u001b[38;5;241m.\u001b[39mkey)\n",
      "\u001b[0;31mKeyError\u001b[0m: 'device_name'"
     ]
    }
   ],
   "source": [
    "df = (data\n",
    " ['perf_ns_per_day']\n",
    " .groupby('device_name').filter(lambda x: len(x) > 10)\n",
    " .groupby('run').transform(lambda x: (x - x.mean()) / x.std()).rename('z_score_by_run')\n",
    " .groupby('device_name').mean()\n",
    ").reset_index()\n",
    "\n",
    "alt.Chart(df).mark_bar().encode(\n",
    "    x=alt.X(\"z_score_by_run:Q\", aggregate='mean'),\n",
    "    y=alt.Y(\"device_name:N\", sort='-x')\n",
    ")"
   ]
  },
  {
   "cell_type": "code",
   "execution_count": null,
   "metadata": {},
   "outputs": [],
   "source": [
    "df = (data\n",
    " .set_index(['run', 'clone', 'gen', 'device_name'])\n",
    " ['perf_ns_per_day']\n",
    " .groupby(['run', 'device_name']).filter(lambda x: len(x) > 10)\n",
    " .groupby('device_name').filter(lambda x: len(x.groupby('run')) == 15)\n",
    " .groupby(['run', 'device_name']).mean()\n",
    " .rename('mean_ns_per_day')\n",
    ").reset_index()\n",
    "\n",
    "alt.Chart(df).mark_point(filled=True).encode(\n",
    "    x=alt.X('mean_ns_per_day:Q', scale=alt.Scale(type='log')),\n",
    "    y=alt.Y('device_name:O', sort='-x'),\n",
    "    color='run:N',\n",
    ")"
   ]
  },
  {
   "cell_type": "code",
   "execution_count": null,
   "metadata": {},
   "outputs": [],
   "source": [
    "sns.clustermap(\n",
    "    data\n",
    "    .groupby(['run', 'device_name']).filter(lambda x: len(x) > 10)\n",
    "    .groupby('device_name').filter(lambda x: len(x.groupby('run')) == 15)\n",
    "    .groupby(['run', 'device_name'])\n",
    "    ['perf_ns_per_day']\n",
    "    .mean()\n",
    "    .pipe(lambda x: np.log(x))\n",
    "    .unstack('run'))"
   ]
  },
  {
   "cell_type": "code",
   "execution_count": null,
   "metadata": {},
   "outputs": [],
   "source": []
  },
  {
   "cell_type": "code",
   "execution_count": null,
   "metadata": {},
   "outputs": [],
   "source": []
  }
 ],
 "metadata": {
  "kernelspec": {
   "display_name": "Python 3 (ipykernel)",
   "language": "python",
   "name": "python3"
  },
  "language_info": {
   "codemirror_mode": {
    "name": "ipython",
    "version": 3
   },
   "file_extension": ".py",
   "mimetype": "text/x-python",
   "name": "python",
   "nbconvert_exporter": "python",
   "pygments_lexer": "ipython3",
   "version": "3.9.16"
  }
 },
 "nbformat": 4,
 "nbformat_minor": 4
}
