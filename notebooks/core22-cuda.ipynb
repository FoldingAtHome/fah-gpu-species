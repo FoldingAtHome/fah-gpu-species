{
 "cells": [
  {
   "cell_type": "code",
   "execution_count": 2,
   "metadata": {},
   "outputs": [],
   "source": [
    "import altair as alt\n",
    "import pandas as pd"
   ]
  },
  {
   "cell_type": "markdown",
   "metadata": {},
   "source": [
    "# CUDA vs. OpenCL performance analysis example\n",
    "\n",
    "First, generate parsed log dataset using\n",
    "\n",
    "```bash\n",
    "parse_fah_log dataframe --data-dir ../data --output ../data/benchmark_data PROJ17101 PROJ17102\n",
    "```"
   ]
  },
  {
   "cell_type": "code",
   "execution_count": 4,
   "metadata": {},
   "outputs": [
    {
     "name": "stdout",
     "output_type": "stream",
     "text": [
      "<class 'pandas.core.frame.DataFrame'>\n",
      "MultiIndex: 2590 entries, (0, 0, 0) to (18, 33, 0)\n",
      "Data columns (total 10 columns):\n",
      " #   Column                 Non-Null Count  Dtype  \n",
      "---  ------                 --------------  -----  \n",
      " 0   os                     2590 non-null   object \n",
      " 1   platform_name          2590 non-null   object \n",
      " 2   platform_vendor        2590 non-null   object \n",
      " 3   platform_version       2590 non-null   object \n",
      " 4   device_name            2590 non-null   object \n",
      " 5   device_vendor          2590 non-null   object \n",
      " 6   device_version         2590 non-null   object \n",
      " 7   device_driver_version  2590 non-null   object \n",
      " 8   cuda_enabled           2590 non-null   bool   \n",
      " 9   perf_ns_per_day        2588 non-null   float64\n",
      "dtypes: bool(1), float64(1), object(8)\n",
      "memory usage: 205.4+ KB\n"
     ]
    }
   ],
   "source": [
    "data = pd.read_feather(\"./checkpoint_17110\").set_index([\"run\", \"clone\", \"gen\"]).sort_index()\n",
    "data.info()"
   ]
  },
  {
   "cell_type": "code",
   "execution_count": 10,
   "metadata": {},
   "outputs": [
    {
     "data": {
      "text/html": [
       "\n",
       "<style>\n",
       "  #altair-viz-0f332286390042489eba62b2fe2c3ec3.vega-embed {\n",
       "    width: 100%;\n",
       "    display: flex;\n",
       "  }\n",
       "\n",
       "  #altair-viz-0f332286390042489eba62b2fe2c3ec3.vega-embed details,\n",
       "  #altair-viz-0f332286390042489eba62b2fe2c3ec3.vega-embed details summary {\n",
       "    position: relative;\n",
       "  }\n",
       "</style>\n",
       "<div id=\"altair-viz-0f332286390042489eba62b2fe2c3ec3\"></div>\n",
       "<script type=\"text/javascript\">\n",
       "  var VEGA_DEBUG = (typeof VEGA_DEBUG == \"undefined\") ? {} : VEGA_DEBUG;\n",
       "  (function(spec, embedOpt){\n",
       "    let outputDiv = document.currentScript.previousElementSibling;\n",
       "    if (outputDiv.id !== \"altair-viz-0f332286390042489eba62b2fe2c3ec3\") {\n",
       "      outputDiv = document.getElementById(\"altair-viz-0f332286390042489eba62b2fe2c3ec3\");\n",
       "    }\n",
       "    const paths = {\n",
       "      \"vega\": \"https://cdn.jsdelivr.net/npm/vega@5?noext\",\n",
       "      \"vega-lib\": \"https://cdn.jsdelivr.net/npm/vega-lib?noext\",\n",
       "      \"vega-lite\": \"https://cdn.jsdelivr.net/npm/vega-lite@5.8.0?noext\",\n",
       "      \"vega-embed\": \"https://cdn.jsdelivr.net/npm/vega-embed@6?noext\",\n",
       "    };\n",
       "\n",
       "    function maybeLoadScript(lib, version) {\n",
       "      var key = `${lib.replace(\"-\", \"\")}_version`;\n",
       "      return (VEGA_DEBUG[key] == version) ?\n",
       "        Promise.resolve(paths[lib]) :\n",
       "        new Promise(function(resolve, reject) {\n",
       "          var s = document.createElement('script');\n",
       "          document.getElementsByTagName(\"head\")[0].appendChild(s);\n",
       "          s.async = true;\n",
       "          s.onload = () => {\n",
       "            VEGA_DEBUG[key] = version;\n",
       "            return resolve(paths[lib]);\n",
       "          };\n",
       "          s.onerror = () => reject(`Error loading script: ${paths[lib]}`);\n",
       "          s.src = paths[lib];\n",
       "        });\n",
       "    }\n",
       "\n",
       "    function showError(err) {\n",
       "      outputDiv.innerHTML = `<div class=\"error\" style=\"color:red;\">${err}</div>`;\n",
       "      throw err;\n",
       "    }\n",
       "\n",
       "    function displayChart(vegaEmbed) {\n",
       "      vegaEmbed(outputDiv, spec, embedOpt)\n",
       "        .catch(err => showError(`Javascript Error: ${err.message}<br>This usually means there's a typo in your chart specification. See the javascript console for the full traceback.`));\n",
       "    }\n",
       "\n",
       "    if(typeof define === \"function\" && define.amd) {\n",
       "      requirejs.config({paths});\n",
       "      require([\"vega-embed\"], displayChart, err => showError(`Error loading script: ${err.message}`));\n",
       "    } else {\n",
       "      maybeLoadScript(\"vega\", \"5\")\n",
       "        .then(() => maybeLoadScript(\"vega-lite\", \"5.8.0\"))\n",
       "        .then(() => maybeLoadScript(\"vega-embed\", \"6\"))\n",
       "        .catch(showError)\n",
       "        .then(() => displayChart(vegaEmbed));\n",
       "    }\n",
       "  })({\"config\": {\"view\": {\"continuousWidth\": 300, \"continuousHeight\": 300}}, \"data\": {\"name\": \"data-ee089b4104dc540d78b9317821b3644b\"}, \"facet\": {\"column\": {\"field\": \"run\", \"type\": \"ordinal\"}}, \"spec\": {\"layer\": [{\"mark\": {\"type\": \"bar\"}, \"encoding\": {\"color\": {\"field\": \"platform\", \"type\": \"nominal\"}, \"x\": {\"field\": \"platform\", \"type\": \"nominal\"}, \"y\": {\"aggregate\": \"mean\", \"field\": \"perf_ns_per_day\", \"title\": \"mean ns/day\", \"type\": \"quantitative\"}}}, {\"mark\": {\"type\": \"errorbar\", \"extent\": \"ci\"}, \"encoding\": {\"x\": {\"field\": \"platform\", \"title\": null, \"type\": \"nominal\"}, \"y\": {\"field\": \"perf_ns_per_day\", \"title\": null, \"type\": \"quantitative\"}}}]}, \"title\": \"GeForce RTX 2080 Ti\", \"$schema\": \"https://vega.github.io/schema/vega-lite/v5.8.0.json\", \"datasets\": {\"data-ee089b4104dc540d78b9317821b3644b\": [{\"run\": 1, \"clone\": 42, \"gen\": 0, \"os\": \"win32 10\", \"platform_name\": \"NVIDIA CUDA\", \"platform_vendor\": \"NVIDIA Corporation\", \"platform_version\": \"OpenCL 1.2 CUDA 10.0.132\", \"device_name\": \"GeForce RTX 2080 Ti\", \"device_vendor\": \"NVIDIA Corporation\", \"device_version\": \"OpenCL 1.2 CUDA\", \"device_driver_version\": \"417.71\", \"cuda_enabled\": false, \"perf_ns_per_day\": 69.5696, \"platform\": \"CUDA\"}, {\"run\": 4, \"clone\": 83, \"gen\": 0, \"os\": \"win32 10\", \"platform_name\": \"NVIDIA CUDA\", \"platform_vendor\": \"NVIDIA Corporation\", \"platform_version\": \"OpenCL 1.2 CUDA 10.0.132\", \"device_name\": \"GeForce RTX 2080 Ti\", \"device_vendor\": \"NVIDIA Corporation\", \"device_version\": \"OpenCL 1.2 CUDA\", \"device_driver_version\": \"417.71\", \"cuda_enabled\": false, \"perf_ns_per_day\": 69.35, \"platform\": \"CUDA\"}, {\"run\": 4, \"clone\": 83, \"gen\": 0, \"os\": \"win32 10\", \"platform_name\": \"NVIDIA CUDA\", \"platform_vendor\": \"NVIDIA Corporation\", \"platform_version\": \"OpenCL 1.2 CUDA 10.0.132\", \"device_name\": \"GeForce RTX 2080 Ti\", \"device_vendor\": \"NVIDIA Corporation\", \"device_version\": \"OpenCL 1.2 CUDA\", \"device_driver_version\": \"417.71\", \"cuda_enabled\": false, \"perf_ns_per_day\": 69.35, \"platform\": \"CUDA\"}, {\"run\": 5, \"clone\": 89, \"gen\": 0, \"os\": \"win32 10\", \"platform_name\": \"NVIDIA CUDA\", \"platform_vendor\": \"NVIDIA Corporation\", \"platform_version\": \"OpenCL 1.2 CUDA 10.0.132\", \"device_name\": \"GeForce RTX 2080 Ti\", \"device_vendor\": \"NVIDIA Corporation\", \"device_version\": \"OpenCL 1.2 CUDA\", \"device_driver_version\": \"417.71\", \"cuda_enabled\": false, \"perf_ns_per_day\": 52.776, \"platform\": \"CUDA\"}, {\"run\": 7, \"clone\": 95, \"gen\": 0, \"os\": \"win32 10\", \"platform_name\": \"NVIDIA CUDA\", \"platform_vendor\": \"NVIDIA Corporation\", \"platform_version\": \"OpenCL 1.2 CUDA 10.0.132\", \"device_name\": \"GeForce RTX 2080 Ti\", \"device_vendor\": \"NVIDIA Corporation\", \"device_version\": \"OpenCL 1.2 CUDA\", \"device_driver_version\": \"417.71\", \"cuda_enabled\": false, \"perf_ns_per_day\": 135.454, \"platform\": \"CUDA\"}, {\"run\": 7, \"clone\": 146, \"gen\": 0, \"os\": \"win32 10\", \"platform_name\": \"NVIDIA CUDA\", \"platform_vendor\": \"NVIDIA Corporation\", \"platform_version\": \"OpenCL 1.2 CUDA 10.0.132\", \"device_name\": \"GeForce RTX 2080 Ti\", \"device_vendor\": \"NVIDIA Corporation\", \"device_version\": \"OpenCL 1.2 CUDA\", \"device_driver_version\": \"417.71\", \"cuda_enabled\": false, \"perf_ns_per_day\": 136.512, \"platform\": \"CUDA\"}, {\"run\": 8, \"clone\": 136, \"gen\": 0, \"os\": \"win32 10\", \"platform_name\": \"NVIDIA CUDA\", \"platform_vendor\": \"NVIDIA Corporation\", \"platform_version\": \"OpenCL 1.2 CUDA 10.0.132\", \"device_name\": \"GeForce RTX 2080 Ti\", \"device_vendor\": \"NVIDIA Corporation\", \"device_version\": \"OpenCL 1.2 CUDA\", \"device_driver_version\": \"417.71\", \"cuda_enabled\": false, \"perf_ns_per_day\": 39.4603, \"platform\": \"CUDA\"}, {\"run\": 16, \"clone\": 53, \"gen\": 0, \"os\": \"win32 10\", \"platform_name\": \"NVIDIA CUDA\", \"platform_vendor\": \"NVIDIA Corporation\", \"platform_version\": \"OpenCL 1.2 CUDA 10.0.132\", \"device_name\": \"GeForce RTX 2080 Ti\", \"device_vendor\": \"NVIDIA Corporation\", \"device_version\": \"OpenCL 1.2 CUDA\", \"device_driver_version\": \"417.71\", \"cuda_enabled\": false, \"perf_ns_per_day\": 48.7018, \"platform\": \"CUDA\"}, {\"run\": 16, \"clone\": 60, \"gen\": 0, \"os\": \"win32 10\", \"platform_name\": \"NVIDIA CUDA\", \"platform_vendor\": \"NVIDIA Corporation\", \"platform_version\": \"OpenCL 1.2 CUDA 11.1.96\", \"device_name\": \"GeForce RTX 2080 Ti\", \"device_vendor\": \"NVIDIA Corporation\", \"device_version\": \"OpenCL 1.2 CUDA\", \"device_driver_version\": \"456.71\", \"cuda_enabled\": false, \"perf_ns_per_day\": 140.566, \"platform\": \"CUDA\"}, {\"run\": 16, \"clone\": 60, \"gen\": 0, \"os\": \"win32 10\", \"platform_name\": \"NVIDIA CUDA\", \"platform_vendor\": \"NVIDIA Corporation\", \"platform_version\": \"OpenCL 1.2 CUDA 11.1.96\", \"device_name\": \"GeForce RTX 2080 Ti\", \"device_vendor\": \"NVIDIA Corporation\", \"device_version\": \"OpenCL 1.2 CUDA\", \"device_driver_version\": \"456.71\", \"cuda_enabled\": false, \"perf_ns_per_day\": 140.566, \"platform\": \"CUDA\"}]}}, {\"mode\": \"vega-lite\"});\n",
       "</script>"
      ],
      "text/plain": [
       "alt.FacetChart(...)"
      ]
     },
     "execution_count": 10,
     "metadata": {},
     "output_type": "execute_result"
    }
   ],
   "source": [
    "device_name = \"GeForce RTX 2080 Ti\"\n",
    "\n",
    "df = (data\n",
    "      .pipe(lambda df: df[df[\"device_name\"] == device_name])\n",
    "      .assign(platform=lambda df: df[\"cuda_enabled\"].replace({False: \"CUDA\", True: \"OpenCL\"}))).reset_index()\n",
    "\n",
    "bars = alt.Chart().mark_bar().encode(\n",
    "    x=\"platform:N\",\n",
    "    y=alt.Y(\"mean(perf_ns_per_day):Q\", title=\"mean ns/day\"),\n",
    "    color='platform:N',\n",
    ")\n",
    "\n",
    "error_bars = alt.Chart().mark_errorbar(extent='ci').encode(\n",
    "    x=alt.X(\"platform:N\", title=None),\n",
    "    y=alt.Y(\"perf_ns_per_day:Q\", title=None)\n",
    ")\n",
    "\n",
    "alt.layer(bars, error_bars, data=df).facet(\n",
    "    column=\"run:O\",\n",
    "    title=device_name\n",
    ")"
   ]
  },
  {
   "cell_type": "code",
   "execution_count": null,
   "metadata": {},
   "outputs": [],
   "source": []
  }
 ],
 "metadata": {
  "kernelspec": {
   "display_name": "Python 3 (ipykernel)",
   "language": "python",
   "name": "python3"
  },
  "language_info": {
   "codemirror_mode": {
    "name": "ipython",
    "version": 3
   },
   "file_extension": ".py",
   "mimetype": "text/x-python",
   "name": "python",
   "nbconvert_exporter": "python",
   "pygments_lexer": "ipython3",
   "version": "3.9.16"
  }
 },
 "nbformat": 4,
 "nbformat_minor": 4
}
