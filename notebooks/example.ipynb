{
 "cells": [
  {
   "cell_type": "code",
   "execution_count": 1,
   "metadata": {},
   "outputs": [],
   "source": [
    "import altair as alt\n",
    "import glob\n",
    "import logging\n",
    "import multiprocessing\n",
    "import numpy as np\n",
    "import pandas as pd\n",
    "import re\n",
    "import seaborn as sns\n",
    "from tqdm.auto import tqdm\n",
    "from fah_log_parser import ParseError, parse, science_log"
   ]
  },
  {
   "cell_type": "code",
   "execution_count": 2,
   "metadata": {},
   "outputs": [],
   "source": [
    "USE_CHECKPOINT = False  # whether to restore local cache of parsed data (should be 'False' on first run)"
   ]
  },
  {
   "cell_type": "code",
   "execution_count": 3,
   "metadata": {},
   "outputs": [],
   "source": [
    "log = parse(science_log, 'PROJ17100/RUN0/CLONE0/results0/science.log')"
   ]
  },
  {
   "cell_type": "code",
   "execution_count": 4,
   "metadata": {},
   "outputs": [
    {
     "data": {
      "text/plain": [
       "Device(name='GeForce GTX 1080 Ti', vendor='NVIDIA Corporation', version='OpenCL 1.2 CUDA')"
      ]
     },
     "execution_count": 4,
     "metadata": {},
     "output_type": "execute_result"
    }
   ],
   "source": [
    "log.get_active_device()"
   ]
  },
  {
   "cell_type": "code",
   "execution_count": 5,
   "metadata": {},
   "outputs": [
    {
     "data": {
      "text/plain": [
       "638.783"
      ]
     },
     "execution_count": 5,
     "metadata": {},
     "output_type": "execute_result"
    }
   ],
   "source": [
    "log.fah_core_log.average_perf_ns_day"
   ]
  },
  {
   "cell_type": "code",
   "execution_count": 6,
   "metadata": {},
   "outputs": [
    {
     "data": {
      "text/plain": [
       "416"
      ]
     },
     "execution_count": 6,
     "metadata": {},
     "output_type": "execute_result"
    }
   ],
   "source": [
    "files = glob.glob('PROJ17100/RUN0/CLONE*/results0/science.log')\n",
    "len(files)"
   ]
  },
  {
   "cell_type": "code",
   "execution_count": 7,
   "metadata": {},
   "outputs": [
    {
     "data": {
      "application/vnd.jupyter.widget-view+json": {
       "model_id": "9ac3544c78f2439786bcd0c34c93bc22",
       "version_major": 2,
       "version_minor": 0
      },
      "text/plain": [
       "HBox(children=(FloatProgress(value=0.0, max=416.0), HTML(value='')))"
      ]
     },
     "metadata": {},
     "output_type": "display_data"
    },
    {
     "name": "stderr",
     "output_type": "stream",
     "text": [
      "WARNING:root:Error parsing log: expected one of '', 'Performance since last checkpoint: ', '\\\\s+' at 431:0\n",
      "WARNING:root:Error parsing log: expected '\\n' at 78:0\n",
      "WARNING:root:Error parsing log: expected one of '', 'Performance since last checkpoint: ', '\\\\s+' at 576:0\n",
      "WARNING:root:Error parsing log: expected one of '', 'Performance since last checkpoint: ', '\\\\s+' at 782:0\n",
      "WARNING:root:Error parsing log: expected '-' at 20:43\n",
      "WARNING:root:Error parsing log: expected '-' at 20:43\n",
      "WARNING:root:Error parsing log: expected '-' at 20:43\n",
      "WARNING:root:Error parsing log: expected '-' at 20:43\n",
      "WARNING:root:Error parsing log: expected one of '', 'Performance since last checkpoint: ', '\\\\s+' at 558:0\n",
      "WARNING:root:Error parsing log: expected one of '', 'Performance since last checkpoint: ', '\\\\s+' at 455:0\n",
      "WARNING:root:Error parsing log: 'utf-8' codec can't decode byte 0xe7 in position 1952: invalid continuation byte\n",
      "WARNING:root:Error parsing log: 'utf-8' codec can't decode byte 0xe9 in position 1942: invalid continuation byte\n",
      "WARNING:root:Error parsing log: expected one of '', 'Performance since last checkpoint: ', '\\\\s+' at 444:0\n",
      "WARNING:root:Error parsing log: expected '-' at 20:22\n",
      "WARNING:root:Error parsing log: 'utf-8' codec can't decode byte 0x89 in position 1945: invalid start byte\n",
      "WARNING:root:Error parsing log: 'utf-8' codec can't decode byte 0xe9 in position 1941: invalid continuation byte\n",
      "WARNING:root:Error parsing log: expected '-' at 20:43\n",
      "WARNING:root:Error parsing log: expected '-' at 20:22\n",
      "WARNING:root:Error parsing log: expected '\\n' at 70:0\n",
      "WARNING:root:Error parsing log: expected '-' at 20:43\n"
     ]
    },
    {
     "name": "stdout",
     "output_type": "stream",
     "text": [
      "\n"
     ]
    },
    {
     "data": {
      "text/html": [
       "<div>\n",
       "<style scoped>\n",
       "    .dataframe tbody tr th:only-of-type {\n",
       "        vertical-align: middle;\n",
       "    }\n",
       "\n",
       "    .dataframe tbody tr th {\n",
       "        vertical-align: top;\n",
       "    }\n",
       "\n",
       "    .dataframe thead th {\n",
       "        text-align: right;\n",
       "    }\n",
       "</style>\n",
       "<table border=\"1\" class=\"dataframe\">\n",
       "  <thead>\n",
       "    <tr style=\"text-align: right;\">\n",
       "      <th></th>\n",
       "      <th>gpu_name</th>\n",
       "      <th>ns_per_day</th>\n",
       "    </tr>\n",
       "  </thead>\n",
       "  <tbody>\n",
       "    <tr>\n",
       "      <th>0</th>\n",
       "      <td>Intel(R) UHD Graphics 630</td>\n",
       "      <td>41.1553</td>\n",
       "    </tr>\n",
       "    <tr>\n",
       "      <th>1</th>\n",
       "      <td>gfx906</td>\n",
       "      <td>439.8940</td>\n",
       "    </tr>\n",
       "    <tr>\n",
       "      <th>2</th>\n",
       "      <td>GeForce GTX 1050 Ti</td>\n",
       "      <td>192.7630</td>\n",
       "    </tr>\n",
       "    <tr>\n",
       "      <th>3</th>\n",
       "      <td>Intel(R) UHD Graphics 630</td>\n",
       "      <td>43.9251</td>\n",
       "    </tr>\n",
       "    <tr>\n",
       "      <th>4</th>\n",
       "      <td>GeForce GTX 1050 Ti</td>\n",
       "      <td>157.8070</td>\n",
       "    </tr>\n",
       "  </tbody>\n",
       "</table>\n",
       "</div>"
      ],
      "text/plain": [
       "                    gpu_name  ns_per_day\n",
       "0  Intel(R) UHD Graphics 630     41.1553\n",
       "1                     gfx906    439.8940\n",
       "2        GeForce GTX 1050 Ti    192.7630\n",
       "3  Intel(R) UHD Graphics 630     43.9251\n",
       "4        GeForce GTX 1050 Ti    157.8070"
      ]
     },
     "execution_count": 7,
     "metadata": {},
     "output_type": "execute_result"
    }
   ],
   "source": [
    "def get_gpu_perf(log_file):\n",
    "    try:\n",
    "        p = parse(science_log, log_file)\n",
    "        return p.get_active_device().name, p.fah_core_log.average_perf_ns_day\n",
    "    except (ParseError, ValueError) as e:\n",
    "        logging.warning(f\"Error parsing log: {e}\")\n",
    "\n",
    "gpu_perf = pd.DataFrame.from_records([get_gpu_perf(f) for f in tqdm(files)],  columns=[\"gpu_name\", \"ns_per_day\"])\n",
    "gpu_perf.head()"
   ]
  },
  {
   "cell_type": "code",
   "execution_count": 8,
   "metadata": {},
   "outputs": [
    {
     "data": {
      "text/html": [
       "\n",
       "<div id=\"altair-viz-67e99e3d23224a1fa8d9f0c8e8c5b286\"></div>\n",
       "<script type=\"text/javascript\">\n",
       "  (function(spec, embedOpt){\n",
       "    let outputDiv = document.currentScript.previousElementSibling;\n",
       "    if (outputDiv.id !== \"altair-viz-67e99e3d23224a1fa8d9f0c8e8c5b286\") {\n",
       "      outputDiv = document.getElementById(\"altair-viz-67e99e3d23224a1fa8d9f0c8e8c5b286\");\n",
       "    }\n",
       "    const paths = {\n",
       "      \"vega\": \"https://cdn.jsdelivr.net/npm//vega@5?noext\",\n",
       "      \"vega-lib\": \"https://cdn.jsdelivr.net/npm//vega-lib?noext\",\n",
       "      \"vega-lite\": \"https://cdn.jsdelivr.net/npm//vega-lite@4.8.1?noext\",\n",
       "      \"vega-embed\": \"https://cdn.jsdelivr.net/npm//vega-embed@6?noext\",\n",
       "    };\n",
       "\n",
       "    function loadScript(lib) {\n",
       "      return new Promise(function(resolve, reject) {\n",
       "        var s = document.createElement('script');\n",
       "        s.src = paths[lib];\n",
       "        s.async = true;\n",
       "        s.onload = () => resolve(paths[lib]);\n",
       "        s.onerror = () => reject(`Error loading script: ${paths[lib]}`);\n",
       "        document.getElementsByTagName(\"head\")[0].appendChild(s);\n",
       "      });\n",
       "    }\n",
       "\n",
       "    function showError(err) {\n",
       "      outputDiv.innerHTML = `<div class=\"error\" style=\"color:red;\">${err}</div>`;\n",
       "      throw err;\n",
       "    }\n",
       "\n",
       "    function displayChart(vegaEmbed) {\n",
       "      vegaEmbed(outputDiv, spec, embedOpt)\n",
       "        .catch(err => showError(`Javascript Error: ${err.message}<br>This usually means there's a typo in your chart specification. See the javascript console for the full traceback.`));\n",
       "    }\n",
       "\n",
       "    if(typeof define === \"function\" && define.amd) {\n",
       "      requirejs.config({paths});\n",
       "      require([\"vega-embed\"], displayChart, err => showError(`Error loading script: ${err.message}`));\n",
       "    } else if (typeof vegaEmbed === \"function\") {\n",
       "      displayChart(vegaEmbed);\n",
       "    } else {\n",
       "      loadScript(\"vega\")\n",
       "        .then(() => loadScript(\"vega-lite\"))\n",
       "        .then(() => loadScript(\"vega-embed\"))\n",
       "        .catch(showError)\n",
       "        .then(() => displayChart(vegaEmbed));\n",
       "    }\n",
       "  })({\"config\": {\"view\": {\"continuousWidth\": 400, \"continuousHeight\": 300}}, \"data\": {\"name\": \"data-96f281446e33dc7dc3f57f4a5f9aa5d4\"}, \"mark\": \"bar\", \"encoding\": {\"x\": {\"type\": \"quantitative\", \"aggregate\": \"mean\", \"field\": \"ns_per_day\"}, \"y\": {\"type\": \"nominal\", \"field\": \"gpu_name\", \"sort\": \"-x\"}}, \"$schema\": \"https://vega.github.io/schema/vega-lite/v4.8.1.json\", \"datasets\": {\"data-96f281446e33dc7dc3f57f4a5f9aa5d4\": [{\"gpu_name\": \"Intel(R) UHD Graphics 630\", \"ns_per_day\": 41.1553}, {\"gpu_name\": \"gfx906\", \"ns_per_day\": 439.894}, {\"gpu_name\": \"GeForce GTX 1050 Ti\", \"ns_per_day\": 192.763}, {\"gpu_name\": \"Intel(R) UHD Graphics 630\", \"ns_per_day\": 43.9251}, {\"gpu_name\": \"GeForce GTX 1050 Ti\", \"ns_per_day\": 157.807}, {\"gpu_name\": \"GeForce GTX 1080 Ti\", \"ns_per_day\": 674.669}, {\"gpu_name\": \"GeForce GTX 1050 Ti\", \"ns_per_day\": 193.695}, {\"gpu_name\": \"GeForce GTX 950\", \"ns_per_day\": 152.207}, {\"gpu_name\": \"Tesla C2070\", \"ns_per_day\": 45.61}, {\"gpu_name\": \"GeForce GTX 1050 Ti\", \"ns_per_day\": 190.621}, {\"gpu_name\": \"GeForce GTX 1080\", \"ns_per_day\": 536.121}, {\"gpu_name\": \"gfx1010\", \"ns_per_day\": 352.173}, {\"gpu_name\": \"GeForce GTX 1060 3GB\", \"ns_per_day\": 315.2}, {\"gpu_name\": \"GeForce GTX 1080\", \"ns_per_day\": 377.645}, {\"gpu_name\": \"GeForce GTX 1050 Ti\", \"ns_per_day\": 190.319}, {\"gpu_name\": \"Intel(R) UHD Graphics 630\", \"ns_per_day\": 45.0117}, {\"gpu_name\": \"GeForce RTX 2070\", \"ns_per_day\": 638.783}, {\"gpu_name\": \"GeForce GTX 1050 Ti\", \"ns_per_day\": 193.384}, {\"gpu_name\": \"GeForce GTX 1080 Ti\", \"ns_per_day\": 597.468}, {\"gpu_name\": \"GeForce GTX 1080 Ti\", \"ns_per_day\": 356.354}, {\"gpu_name\": \"Intel(R) UHD Graphics 630\", \"ns_per_day\": 44.4947}, {\"gpu_name\": \"GeForce GTX 980\", \"ns_per_day\": 363.913}, {\"gpu_name\": \"GeForce GTX 1650\", \"ns_per_day\": 249.152}, {\"gpu_name\": \"gfx900\", \"ns_per_day\": 329.017}, {\"gpu_name\": \"GeForce RTX 2080 Ti\", \"ns_per_day\": 863.965}, {\"gpu_name\": \"GeForce GTX 1050 Ti\", \"ns_per_day\": 192.454}, {\"gpu_name\": \"GeForce GTX 650 Ti BOOST\", \"ns_per_day\": 71.7819}, {\"gpu_name\": \"GeForce RTX 2080\", \"ns_per_day\": 811.427}, {\"gpu_name\": null, \"ns_per_day\": null}, {\"gpu_name\": \"gfx1010\", \"ns_per_day\": 346.084}, {\"gpu_name\": \"GeForce GTX 1070\", \"ns_per_day\": 472.8}, {\"gpu_name\": null, \"ns_per_day\": null}, {\"gpu_name\": \"GeForce RTX 2060\", \"ns_per_day\": 645.651}, {\"gpu_name\": \"GeForce GTX 1080\", \"ns_per_day\": 526.716}, {\"gpu_name\": \"Intel(R) HD Graphics 530\", \"ns_per_day\": 40.8891}, {\"gpu_name\": \"Tesla V100-SXM2-16GB\", \"ns_per_day\": 916.726}, {\"gpu_name\": \"GeForce RTX 2060\", \"ns_per_day\": 638.783}, {\"gpu_name\": \"GeForce GTX 1050 Ti\", \"ns_per_day\": 193.073}, {\"gpu_name\": \"GeForce GTX 1080 Ti\", \"ns_per_day\": 358.481}, {\"gpu_name\": \"GeForce GTX 1050 Ti\", \"ns_per_day\": 188.526}, {\"gpu_name\": \"Intel(R) UHD Graphics 630\", \"ns_per_day\": 35.9447}, {\"gpu_name\": \"Quadro P2000\", \"ns_per_day\": 244.585}, {\"gpu_name\": \"GeForce GTX 1070 Ti\", \"ns_per_day\": 500.38}, {\"gpu_name\": \"GeForce RTX 2080 Ti\", \"ns_per_day\": 992.489}, {\"gpu_name\": \"gfx1010\", \"ns_per_day\": 384.908}, {\"gpu_name\": \"Intel(R) UHD Graphics 630\", \"ns_per_day\": 24.3889}, {\"gpu_name\": \"gfx1010\", \"ns_per_day\": 354.251}, {\"gpu_name\": \"GeForce GTX 1080 Ti\", \"ns_per_day\": 741.303}, {\"gpu_name\": \"GeForce GTX 1060 3GB\", \"ns_per_day\": 196.871}, {\"gpu_name\": null, \"ns_per_day\": null}, {\"gpu_name\": \"Intel(R) UHD Graphics 630\", \"ns_per_day\": 45.8363}, {\"gpu_name\": \"GeForce GTX 1050 Ti\", \"ns_per_day\": 159.696}, {\"gpu_name\": \"Intel(R) UHD Graphics 630\", \"ns_per_day\": 36.9739}, {\"gpu_name\": \"GeForce RTX 2060\", \"ns_per_day\": 582.967}, {\"gpu_name\": \"GeForce GTX 1080 Ti\", \"ns_per_day\": 242.608}, {\"gpu_name\": \"GeForce GTX 1070\", \"ns_per_day\": 490.168}, {\"gpu_name\": \"GeForce RTX 2080\", \"ns_per_day\": 930.939}, {\"gpu_name\": \"GeForce GTX 1050 Ti\", \"ns_per_day\": 194.953}, {\"gpu_name\": null, \"ns_per_day\": null}, {\"gpu_name\": \"Intel(R) UHD Graphics 630\", \"ns_per_day\": 45.3516}, {\"gpu_name\": \"GeForce RTX 2060\", \"ns_per_day\": 638.783}, {\"gpu_name\": \"GeForce GTX 660 Ti\", \"ns_per_day\": 112.868}, {\"gpu_name\": \"GeForce GTX 1080 Ti\", \"ns_per_day\": 736.756}, {\"gpu_name\": \"GeForce GTX 1080 Ti\", \"ns_per_day\": 325.45}, {\"gpu_name\": \"Intel(R) HD Graphics 530\", \"ns_per_day\": 32.8118}, {\"gpu_name\": \"GeForce RTX 2080 Ti\", \"ns_per_day\": 909.782}, {\"gpu_name\": null, \"ns_per_day\": null}, {\"gpu_name\": \"GeForce GTX 1050 Ti\", \"ns_per_day\": 196.549}, {\"gpu_name\": \"GeForce GTX 980 Ti\", \"ns_per_day\": 494.202}, {\"gpu_name\": \"Intel(R) HD Graphics 530\", \"ns_per_day\": 32.7224}, {\"gpu_name\": \"Ellesmere\", \"ns_per_day\": 171.314}, {\"gpu_name\": \"Intel(R) UHD Graphics 630\", \"ns_per_day\": 31.2006}, {\"gpu_name\": \"GeForce RTX 2070 SUPER\", \"ns_per_day\": 577.361}, {\"gpu_name\": \"GeForce GTX 1050 Ti\", \"ns_per_day\": 158.641}, {\"gpu_name\": \"Quadro P1000\", \"ns_per_day\": 133.881}, {\"gpu_name\": \"GeForce GTX 980\", \"ns_per_day\": 382.456}, {\"gpu_name\": \"GeForce GTX 960\", \"ns_per_day\": 209.95}, {\"gpu_name\": \"GeForce RTX 2060 SUPER\", \"ns_per_day\": 555.978}, {\"gpu_name\": \"gfx900\", \"ns_per_day\": 353.209}, {\"gpu_name\": \"GeForce RTX 2060\", \"ns_per_day\": 642.199}, {\"gpu_name\": \"GeForce GTX 1050 Ti\", \"ns_per_day\": 191.533}, {\"gpu_name\": \"GeForce GTX 1080 Ti\", \"ns_per_day\": 259.376}, {\"gpu_name\": \"GeForce GTX 1080\", \"ns_per_day\": 577.361}, {\"gpu_name\": \"gfx900\", \"ns_per_day\": 329.921}, {\"gpu_name\": \"Tesla V100-SXM2-16GB\", \"ns_per_day\": 923.778}, {\"gpu_name\": \"GeForce RTX 2080 SUPER\", \"ns_per_day\": 930.939}, {\"gpu_name\": \"GeForce GTX 1080 Ti\", \"ns_per_day\": 380.035}, {\"gpu_name\": \"Ellesmere\", \"ns_per_day\": 203.544}, {\"gpu_name\": \"GeForce GTX 1650\", \"ns_per_day\": 247.611}, {\"gpu_name\": \"GeForce RTX 2080 SUPER\", \"ns_per_day\": 889.564}, {\"gpu_name\": \"Intel(R) UHD Graphics 630\", \"ns_per_day\": 43.5271}, {\"gpu_name\": \"GeForce GTX 1080 Ti\", \"ns_per_day\": 275.438}, {\"gpu_name\": \"GeForce GTX 650 Ti BOOST\", \"ns_per_day\": 70.0649}, {\"gpu_name\": null, \"ns_per_day\": null}, {\"gpu_name\": \"GeForce GTX 1050 Ti\", \"ns_per_day\": 194.008}, {\"gpu_name\": \"GeForce GTX 980M\", \"ns_per_day\": 279.282}, {\"gpu_name\": \"GeForce GTX 1060 6GB\", \"ns_per_day\": 331.744}, {\"gpu_name\": \"Tesla V100-PCIE-32GB\", \"ns_per_day\": 863.965}, {\"gpu_name\": \"GeForce GTX 1050 Ti\", \"ns_per_day\": 159.061}, {\"gpu_name\": \"GeForce GTX 1050 Ti\", \"ns_per_day\": 194.637}, {\"gpu_name\": \"GeForce GTX 1070 Ti\", \"ns_per_day\": 350.12}, {\"gpu_name\": \"GeForce GTX 1050 Ti\", \"ns_per_day\": 191.839}, {\"gpu_name\": \"GeForce GTX 980 Ti\", \"ns_per_day\": 494.202}, {\"gpu_name\": \"GeForce RTX 2080 Ti\", \"ns_per_day\": 960.729}, {\"gpu_name\": \"GeForce GTX 980 Ti\", \"ns_per_day\": 484.239}, {\"gpu_name\": \"GeForce GTX 1050 Ti\", \"ns_per_day\": 182.787}, {\"gpu_name\": \"GeForce GTX 1050 Ti\", \"ns_per_day\": 193.384}, {\"gpu_name\": \"GeForce GTX 1070\", \"ns_per_day\": 444.782}, {\"gpu_name\": \"Intel(R) UHD Graphics 630\", \"ns_per_day\": 44.8436}, {\"gpu_name\": null, \"ns_per_day\": null}, {\"gpu_name\": \"Tesla T4\", \"ns_per_day\": 511.026}, {\"gpu_name\": \"GeForce GTX 980\", \"ns_per_day\": 382.456}, {\"gpu_name\": \"GeForce GTX 1050 Ti\", \"ns_per_day\": 185.326}, {\"gpu_name\": \"GeForce GTX 1080 Ti\", \"ns_per_day\": 387.391}, {\"gpu_name\": \"GeForce GTX 1050 Ti\", \"ns_per_day\": 159.696}, {\"gpu_name\": \"Intel(R) UHD Graphics 630\", \"ns_per_day\": 35.9124}, {\"gpu_name\": \"gfx906\", \"ns_per_day\": 409.867}, {\"gpu_name\": \"GeForce RTX 2080 SUPER\", \"ns_per_day\": 769.815}, {\"gpu_name\": \"Tesla C2070\", \"ns_per_day\": 45.61}, {\"gpu_name\": \"GeForce RTX 2060\", \"ns_per_day\": 638.783}, {\"gpu_name\": \"GeForce GTX 1050 Ti\", \"ns_per_day\": 197.194}, {\"gpu_name\": \"gfx1010\", \"ns_per_day\": 397.653}, {\"gpu_name\": \"GeForce GTX 1050 Ti\", \"ns_per_day\": 159.061}, {\"gpu_name\": \"GeForce RTX 2060\", \"ns_per_day\": 645.651}, {\"gpu_name\": \"GeForce GTX 1050 Ti\", \"ns_per_day\": 193.384}, {\"gpu_name\": \"gfx1010\", \"ns_per_day\": 404.347}, {\"gpu_name\": \"GeForce GTX 1660 SUPER\", \"ns_per_day\": 486.199}, {\"gpu_name\": \"GeForce RTX 2070 SUPER\", \"ns_per_day\": 667.173}, {\"gpu_name\": \"GeForce GTX 1070\", \"ns_per_day\": 474.669}, {\"gpu_name\": \"GeForce GTX 970\", \"ns_per_day\": 247.101}, {\"gpu_name\": \"GeForce GTX 1050 Ti\", \"ns_per_day\": 193.695}, {\"gpu_name\": \"Tesla V100-SXM2-32GB\", \"ns_per_day\": 889.564}, {\"gpu_name\": \"GeForce GTX 1050 Ti\", \"ns_per_day\": 193.695}, {\"gpu_name\": \"GeForce GTX 1080 Ti\", \"ns_per_day\": 266.869}, {\"gpu_name\": \"Intel(R) HD Graphics 520\", \"ns_per_day\": 18.6044}, {\"gpu_name\": \"GeForce GTX 1050 Ti\", \"ns_per_day\": 192.763}, {\"gpu_name\": \"GeForce RTX 2080 SUPER\", \"ns_per_day\": 851.71}, {\"gpu_name\": \"GeForce GTX 1050 Ti\", \"ns_per_day\": 192.146}, {\"gpu_name\": \"GeForce RTX 2080 Ti\", \"ns_per_day\": 916.726}, {\"gpu_name\": \"GeForce GTX 1050 Ti\", \"ns_per_day\": 191.839}, {\"gpu_name\": \"gfx1010\", \"ns_per_day\": 358.481}, {\"gpu_name\": \"GeForce RTX 2080 SUPER\", \"ns_per_day\": 727.825}, {\"gpu_name\": \"GeForce RTX 2070 SUPER\", \"ns_per_day\": 811.427}, {\"gpu_name\": \"GeForce GTX 1050 Ti\", \"ns_per_day\": 158.641}, {\"gpu_name\": \"gfx900\", \"ns_per_day\": 346.084}, {\"gpu_name\": \"GeForce GTX 1050 Ti\", \"ns_per_day\": 159.272}, {\"gpu_name\": \"Intel(R) Gen9 HD Graphics NEO\", \"ns_per_day\": 44.4947}, {\"gpu_name\": \"gfx906\", \"ns_per_day\": 412.684}, {\"gpu_name\": \"GeForce GTX 1050 Ti\", \"ns_per_day\": 190.924}, {\"gpu_name\": \"GeForce GTX 1080 Ti\", \"ns_per_day\": 678.481}, {\"gpu_name\": \"GeForce GTX 980 Ti\", \"ns_per_day\": 484.239}, {\"gpu_name\": \"GeForce GTX 1050 Ti\", \"ns_per_day\": 195.588}, {\"gpu_name\": \"GeForce GTX 1050 Ti\", \"ns_per_day\": 193.384}, {\"gpu_name\": \"GeForce GTX 1050 Ti\", \"ns_per_day\": 191.533}, {\"gpu_name\": \"gfx906\", \"ns_per_day\": 419.899}, {\"gpu_name\": \"gfx1010\", \"ns_per_day\": 396.34}, {\"gpu_name\": \"GeForce RTX 2070 SUPER\", \"ns_per_day\": 828.215}, {\"gpu_name\": \"GeForce GTX 1660 Ti\", \"ns_per_day\": 482.294}, {\"gpu_name\": \"GeForce GTX 1050 Ti\", \"ns_per_day\": 192.763}, {\"gpu_name\": \"GeForce GTX 1050 Ti\", \"ns_per_day\": 201.158}, {\"gpu_name\": \"Intel(R) UHD Graphics 630\", \"ns_per_day\": 36.7701}, {\"gpu_name\": \"GeForce GTX 1070 Ti\", \"ns_per_day\": 494.202}, {\"gpu_name\": \"GeForce GTX 1050 Ti\", \"ns_per_day\": 193.695}, {\"gpu_name\": \"gfx900\", \"ns_per_day\": 435.113}, {\"gpu_name\": \"GeForce GTX 1080 Ti\", \"ns_per_day\": 750.57}, {\"gpu_name\": \"gfx900\", \"ns_per_day\": 332.662}, {\"gpu_name\": \"Intel(R) UHD Graphics 630\", \"ns_per_day\": 41.7418}, {\"gpu_name\": \"Intel(R) UHD Graphics 630\", \"ns_per_day\": 42.8438}, {\"gpu_name\": \"GeForce GTX 1070\", \"ns_per_day\": 247.611}, {\"gpu_name\": \"GeForce GTX 1660 SUPER\", \"ns_per_day\": 458.363}, {\"gpu_name\": \"Intel(R) UHD Graphics 630\", \"ns_per_day\": 43.909}, {\"gpu_name\": \"gfx906\", \"ns_per_day\": 476.552}, {\"gpu_name\": null, \"ns_per_day\": null}, {\"gpu_name\": \"GeForce GTX 1050 Ti\", \"ns_per_day\": 194.322}, {\"gpu_name\": \"GeForce RTX 2060\", \"ns_per_day\": 642.199}, {\"gpu_name\": \"Intel(R) UHD Graphics 630\", \"ns_per_day\": 44.3796}, {\"gpu_name\": \"GeForce RTX 2070 SUPER\", \"ns_per_day\": 694.169}, {\"gpu_name\": \"GeForce RTX 2080 Ti\", \"ns_per_day\": 1026.42}, {\"gpu_name\": \"GeForce RTX 2070 SUPER\", \"ns_per_day\": 686.235}, {\"gpu_name\": \"GeForce RTX 2060 SUPER\", \"ns_per_day\": 678.481}, {\"gpu_name\": \"Quadro RTX 4000\", \"ns_per_day\": 566.468}, {\"gpu_name\": \"GeForce GTX 1050 Ti\", \"ns_per_day\": 159.484}, {\"gpu_name\": \"Intel(R) UHD Graphics 630\", \"ns_per_day\": 44.4288}, {\"gpu_name\": \"GeForce GTX 1070\", \"ns_per_day\": 469.106}, {\"gpu_name\": \"Intel(R) HD Graphics 530\", \"ns_per_day\": 41.368}, {\"gpu_name\": \"GeForce GTX 970\", \"ns_per_day\": 266.278}, {\"gpu_name\": null, \"ns_per_day\": null}, {\"gpu_name\": \"GeForce GTX 970\", \"ns_per_day\": 255.513}, {\"gpu_name\": \"GeForce GTX 1050 Ti\", \"ns_per_day\": 192.454}, {\"gpu_name\": \"GeForce GTX 970\", \"ns_per_day\": 261.637}, {\"gpu_name\": \"gfx900\", \"ns_per_day\": 331.744}, {\"gpu_name\": \"GeForce GTX 1070\", \"ns_per_day\": 474.669}, {\"gpu_name\": \"GeForce RTX 2080 Ti\", \"ns_per_day\": 1035.27}, {\"gpu_name\": \"GeForce RTX 2060\", \"ns_per_day\": 642.199}, {\"gpu_name\": \"GeForce RTX 2080 Ti\", \"ns_per_day\": 923.778}, {\"gpu_name\": \"GeForce GTX 1050 Ti\", \"ns_per_day\": 191.228}, {\"gpu_name\": \"GeForce GTX 1060 3GB\", \"ns_per_day\": 316.863}, {\"gpu_name\": \"Intel(R) UHD Graphics 630\", \"ns_per_day\": 44.76}, {\"gpu_name\": \"Intel(R) UHD Graphics 630\", \"ns_per_day\": 43.0126}, {\"gpu_name\": \"GeForce RTX 2080\", \"ns_per_day\": 736.756}, {\"gpu_name\": \"GeForce GTX 1080 Ti\", \"ns_per_day\": 638.783}, {\"gpu_name\": \"GeForce GTX 1050 Ti\", \"ns_per_day\": 157.6}, {\"gpu_name\": \"Intel(R) UHD Graphics 630\", \"ns_per_day\": 45.1131}, {\"gpu_name\": \"TITAN V\", \"ns_per_day\": 674.669}, {\"gpu_name\": \"GeForce RTX 2060\", \"ns_per_day\": 569.152}, {\"gpu_name\": \"GeForce GTX 1080 Ti\", \"ns_per_day\": 741.303}, {\"gpu_name\": \"GeForce GTX 1080 Ti\", \"ns_per_day\": 363.913}, {\"gpu_name\": \"gfx906\", \"ns_per_day\": 433.542}, {\"gpu_name\": null, \"ns_per_day\": null}, {\"gpu_name\": \"Intel(R) Iris(R) Plus Graphics 640\", \"ns_per_day\": 56.9692}, {\"gpu_name\": null, \"ns_per_day\": null}, {\"gpu_name\": \"GeForce GTX 1050 Ti\", \"ns_per_day\": 157.6}, {\"gpu_name\": \"Intel(R) UHD Graphics 630\", \"ns_per_day\": 32.2913}, {\"gpu_name\": null, \"ns_per_day\": null}, {\"gpu_name\": \"GeForce GTX 1080 Ti\", \"ns_per_day\": 635.403}, {\"gpu_name\": \"Quadro P2000\", \"ns_per_day\": 193.384}, {\"gpu_name\": \"Intel(R) UHD Graphics 630\", \"ns_per_day\": 44.2488}, {\"gpu_name\": \"GeForce GTX 1050 Ti\", \"ns_per_day\": 188.526}, {\"gpu_name\": \"gfx900\", \"ns_per_day\": 319.391}, {\"gpu_name\": \"gfx900\", \"ns_per_day\": 333.587}, {\"gpu_name\": \"Quadro M500M\", \"ns_per_day\": 17.2322}, {\"gpu_name\": \"Intel(R) HD Graphics 530\", \"ns_per_day\": 40.585}, {\"gpu_name\": \"GeForce GTX 1050 Ti\", \"ns_per_day\": 191.839}, {\"gpu_name\": \"GeForce GTX 1050 Ti\", \"ns_per_day\": 156.982}, {\"gpu_name\": \"GeForce RTX 2080\", \"ns_per_day\": 755.29}, {\"gpu_name\": \"GeForce GTX 1070\", \"ns_per_day\": 467.281}, {\"gpu_name\": \"GeForce GTX 1050 Ti\", \"ns_per_day\": 209.95}, {\"gpu_name\": \"GeForce GTX 1660 SUPER\", \"ns_per_day\": 460.119}, {\"gpu_name\": \"GeForce RTX 2070 SUPER\", \"ns_per_day\": 741.303}, {\"gpu_name\": \"GeForce RTX 2080 SUPER\", \"ns_per_day\": 828.215}, {\"gpu_name\": \"GeForce GTX 1080 Ti\", \"ns_per_day\": 702.287}, {\"gpu_name\": \"GeForce GTX 1050 Ti\", \"ns_per_day\": 194.322}, {\"gpu_name\": \"Intel(R) UHD Graphics 630\", \"ns_per_day\": 36.3802}, {\"gpu_name\": \"GeForce GTX 1060 3GB\", \"ns_per_day\": 196.227}, {\"gpu_name\": null, \"ns_per_day\": null}, {\"gpu_name\": \"Bonaire\", \"ns_per_day\": 83.5126}, {\"gpu_name\": \"GeForce GTX 1050 Ti\", \"ns_per_day\": 158.015}, {\"gpu_name\": \"GeForce GTX 1050 Ti\", \"ns_per_day\": 192.454}, {\"gpu_name\": \"GeForce GTX 980M\", \"ns_per_day\": 279.933}, {\"gpu_name\": \"GeForce GTX 980M\", \"ns_per_day\": 279.933}, {\"gpu_name\": \"Intel(R) UHD Graphics 630\", \"ns_per_day\": 44.5442}, {\"gpu_name\": null, \"ns_per_day\": null}, {\"gpu_name\": \"gfx900\", \"ns_per_day\": 321.099}, {\"gpu_name\": \"GeForce RTX 2080\", \"ns_per_day\": 760.071}, {\"gpu_name\": \"GeForce GTX 980\", \"ns_per_day\": 174.551}, {\"gpu_name\": null, \"ns_per_day\": null}, {\"gpu_name\": \"GeForce GTX 1050 Ti\", \"ns_per_day\": 191.839}, {\"gpu_name\": \"GeForce RTX 2080\", \"ns_per_day\": 816.947}, {\"gpu_name\": \"gfx906\", \"ns_per_day\": 411.271}, {\"gpu_name\": \"Intel(R) UHD Graphics 630\", \"ns_per_day\": 21.3003}, {\"gpu_name\": \"GeForce RTX 2080 Ti\", \"ns_per_day\": 968.477}, {\"gpu_name\": \"Quadro P2000\", \"ns_per_day\": 252.823}, {\"gpu_name\": \"Intel(R) UHD Graphics 630\", \"ns_per_day\": 45.1471}, {\"gpu_name\": \"GeForce GTX 1050 Ti\", \"ns_per_day\": 159.484}, {\"gpu_name\": \"GeForce GTX 1650\", \"ns_per_day\": 249.152}, {\"gpu_name\": \"Tesla V100-PCIE-32GB\", \"ns_per_day\": 863.965}, {\"gpu_name\": \"GeForce GTX 1050 Ti\", \"ns_per_day\": 199.156}, {\"gpu_name\": \"GeForce GTX 1050 Ti\", \"ns_per_day\": 197.518}, {\"gpu_name\": \"GeForce GTX 980\", \"ns_per_day\": 382.456}, {\"gpu_name\": \"GeForce GTX 1080\", \"ns_per_day\": 555.978}, {\"gpu_name\": \"GeForce GTX 1050\", \"ns_per_day\": 40.3397}, {\"gpu_name\": \"Intel(R) UHD Graphics 630\", \"ns_per_day\": 38.0758}, {\"gpu_name\": \"GeForce GTX 970\", \"ns_per_day\": 338.285}, {\"gpu_name\": \"GeForce GTX 1050 Ti\", \"ns_per_day\": 194.322}, {\"gpu_name\": \"Intel(R) HD Graphics 630\", \"ns_per_day\": 430.434}, {\"gpu_name\": \"GeForce GTX 1050 Ti\", \"ns_per_day\": 157.187}, {\"gpu_name\": \"P104-100\", \"ns_per_day\": 353.209}, {\"gpu_name\": \"GeForce GTX 1070 Ti\", \"ns_per_day\": 332.662}, {\"gpu_name\": \"Intel(R) HD Graphics 530\", \"ns_per_day\": 32.7313}, {\"gpu_name\": \"GeForce GTX 1050 Ti\", \"ns_per_day\": 159.061}, {\"gpu_name\": \"GeForce GTX 1050 Ti\", \"ns_per_day\": 194.637}, {\"gpu_name\": null, \"ns_per_day\": null}, {\"gpu_name\": \"GeForce GTX 1650 SUPER\", \"ns_per_day\": 280.587}, {\"gpu_name\": \"GeForce GTX 1080\", \"ns_per_day\": 529.036}, {\"gpu_name\": \"GeForce GTX 1050 Ti\", \"ns_per_day\": 158.223}, {\"gpu_name\": \"GeForce GTX 1060 6GB\", \"ns_per_day\": 321.96}, {\"gpu_name\": \"Intel(R) UHD Graphics 630\", \"ns_per_day\": 42.1225}, {\"gpu_name\": \"GeForce RTX 2070 SUPER\", \"ns_per_day\": 811.427}, {\"gpu_name\": \"GeForce GTX 1050 Ti\", \"ns_per_day\": 191.839}, {\"gpu_name\": \"GeForce GTX 1050 Ti\", \"ns_per_day\": 198.17}, {\"gpu_name\": \"GeForce GTX 1050 Ti\", \"ns_per_day\": 189.12}, {\"gpu_name\": \"gfx1010\", \"ns_per_day\": 354.251}, {\"gpu_name\": \"GeForce GTX 1050 Ti\", \"ns_per_day\": 189.418}, {\"gpu_name\": \"GeForce GTX 1050 Ti\", \"ns_per_day\": 159.908}, {\"gpu_name\": \"GeForce RTX 2080 Ti\", \"ns_per_day\": 916.726}, {\"gpu_name\": \"GeForce RTX 2060\", \"ns_per_day\": 645.651}, {\"gpu_name\": \"GeForce GTX 1080 Ti\", \"ns_per_day\": 702.287}, {\"gpu_name\": \"Intel(R) UHD Graphics 630\", \"ns_per_day\": 36.4133}, {\"gpu_name\": \"GeForce RTX 2060\", \"ns_per_day\": 555.978}, {\"gpu_name\": \"GeForce RTX 2060 SUPER\", \"ns_per_day\": 603.473}, {\"gpu_name\": \"GeForce GTX 1070\", \"ns_per_day\": 476.552}, {\"gpu_name\": \"Tahiti\", \"ns_per_day\": 172.793}, {\"gpu_name\": \"GeForce GTX 1080 Ti\", \"ns_per_day\": 741.303}, {\"gpu_name\": \"Tesla C2070\", \"ns_per_day\": 45.198}, {\"gpu_name\": \"gfx900\", \"ns_per_day\": 358.481}, {\"gpu_name\": \"GeForce GTX 1050 Ti\", \"ns_per_day\": 201.834}, {\"gpu_name\": \"GeForce GTX 1650\", \"ns_per_day\": 249.67}, {\"gpu_name\": \"gfx1010\", \"ns_per_day\": 354.251}, {\"gpu_name\": \"Intel(R) UHD Graphics 630\", \"ns_per_day\": 36.4354}, {\"gpu_name\": \"gfx900\", \"ns_per_day\": 344.101}, {\"gpu_name\": \"GeForce RTX 2080 Ti\", \"ns_per_day\": 992.489}, {\"gpu_name\": \"GeForce RTX 2060\", \"ns_per_day\": 482.294}, {\"gpu_name\": \"Quadro P1000\", \"ns_per_day\": 133.435}, {\"gpu_name\": \"GeForce RTX 2080 Ti\", \"ns_per_day\": 816.947}, {\"gpu_name\": \"gfx1010\", \"ns_per_day\": 460.119}, {\"gpu_name\": \"gfx906\", \"ns_per_day\": 425.855}, {\"gpu_name\": \"Ellesmere\", \"ns_per_day\": 288.681}, {\"gpu_name\": \"GeForce GTX 1080 Ti\", \"ns_per_day\": 622.234}, {\"gpu_name\": \"GeForce GTX 980\", \"ns_per_day\": 381.242}, {\"gpu_name\": null, \"ns_per_day\": null}, {\"gpu_name\": \"GeForce GTX 1050 Ti\", \"ns_per_day\": 158.641}, {\"gpu_name\": \"GeForce GTX 1050 Ti\", \"ns_per_day\": 194.008}, {\"gpu_name\": \"GeForce GTX 1050 Ti\", \"ns_per_day\": 194.953}, {\"gpu_name\": \"Ellesmere\", \"ns_per_day\": 235.473}, {\"gpu_name\": \"GeForce GTX 1070\", \"ns_per_day\": 472.8}, {\"gpu_name\": \"Tesla V100-SXM2-16GB\", \"ns_per_day\": 896.203}, {\"gpu_name\": \"GeForce GTX 1080\", \"ns_per_day\": 456.62}, {\"gpu_name\": null, \"ns_per_day\": null}, {\"gpu_name\": \"GeForce RTX 2080 Ti\", \"ns_per_day\": 800.608}, {\"gpu_name\": \"GeForce GTX 1080 Ti\", \"ns_per_day\": 378.836}, {\"gpu_name\": \"gfx1010\", \"ns_per_day\": 352.173}, {\"gpu_name\": \"GeForce GTX 1050 Ti\", \"ns_per_day\": 158.432}, {\"gpu_name\": \"Intel(R) UHD Graphics 630\", \"ns_per_day\": 44.8604}, {\"gpu_name\": \"GeForce GTX 1070\", \"ns_per_day\": 522.135}, {\"gpu_name\": \"GeForce GTX 1050 Ti\", \"ns_per_day\": 159.061}, {\"gpu_name\": \"GeForce GTX 1660 SUPER\", \"ns_per_day\": 411.271}, {\"gpu_name\": \"GeForce GTX 970\", \"ns_per_day\": 259.376}, {\"gpu_name\": \"GeForce GTX 1050 Ti\", \"ns_per_day\": 192.454}, {\"gpu_name\": \"GeForce GTX 1080 Ti\", \"ns_per_day\": 741.303}, {\"gpu_name\": \"GeForce RTX 2080 Ti\", \"ns_per_day\": 938.212}, {\"gpu_name\": \"Intel(R) HD Graphics 530\", \"ns_per_day\": 28.1508}, {\"gpu_name\": \"GeForce RTX 2080 Ti\", \"ns_per_day\": 968.477}, {\"gpu_name\": \"GeForce GTX 1050 Ti\", \"ns_per_day\": 190.621}, {\"gpu_name\": \"GeForce RTX 2080 Ti\", \"ns_per_day\": 1000.76}, {\"gpu_name\": \"GeForce RTX 2070\", \"ns_per_day\": 600.456}, {\"gpu_name\": \"GeForce GTX 1050 Ti\", \"ns_per_day\": 188.526}, {\"gpu_name\": \"GeForce GTX 1060 3GB\", \"ns_per_day\": 196.871}, {\"gpu_name\": \"Ellesmere\", \"ns_per_day\": 188.823}, {\"gpu_name\": \"GeForce GTX 1080\", \"ns_per_day\": 571.863}, {\"gpu_name\": \"GeForce RTX 2070\", \"ns_per_day\": 667.173}, {\"gpu_name\": \"gfx900\", \"ns_per_day\": 297.993}, {\"gpu_name\": \"Intel(R) UHD Graphics 630\", \"ns_per_day\": 45.3516}, {\"gpu_name\": \"Intel(R) HD Graphics 530\", \"ns_per_day\": 40.8196}, {\"gpu_name\": \"GeForce GTX 1080 Ti\", \"ns_per_day\": 706.419}, {\"gpu_name\": \"GeForce GTX 1070\", \"ns_per_day\": 380.035}, {\"gpu_name\": \"GeForce GTX 1080 Ti\", \"ns_per_day\": 396.34}, {\"gpu_name\": \"gfx900\", \"ns_per_day\": 346.084}, {\"gpu_name\": \"Intel(R) UHD Graphics 630\", \"ns_per_day\": 43.4483}, {\"gpu_name\": \"Tesla V100-PCIE-16GB\", \"ns_per_day\": 863.965}, {\"gpu_name\": \"GeForce RTX 2060\", \"ns_per_day\": 494.202}, {\"gpu_name\": \"GeForce RTX 2080\", \"ns_per_day\": 839.798}, {\"gpu_name\": \"GeForce GTX 1070\", \"ns_per_day\": 519.875}, {\"gpu_name\": \"Intel(R) HD Graphics 530\", \"ns_per_day\": 32.776}, {\"gpu_name\": \"GeForce RTX 2070 SUPER\", \"ns_per_day\": 811.427}, {\"gpu_name\": \"Intel(R) HD Graphics 520\", \"ns_per_day\": 28.0849}, {\"gpu_name\": \"GeForce GTX 1070\", \"ns_per_day\": 524.416}, {\"gpu_name\": \"gfx900\", \"ns_per_day\": 323.696}, {\"gpu_name\": \"GeForce GTX 1070\", \"ns_per_day\": 463.672}, {\"gpu_name\": \"GeForce GTX 1060 3GB\", \"ns_per_day\": 305.575}, {\"gpu_name\": \"Tesla V100-PCIE-32GB\", \"ns_per_day\": 800.608}, {\"gpu_name\": \"GeForce GTX 1080 Ti\", \"ns_per_day\": 667.173}, {\"gpu_name\": \"Intel(R) UHD Graphics 630\", \"ns_per_day\": 36.4133}, {\"gpu_name\": \"Intel(R) HD Graphics 530\", \"ns_per_day\": 40.9169}, {\"gpu_name\": \"Intel(R) UHD Graphics 630\", \"ns_per_day\": 44.978}, {\"gpu_name\": \"GeForce GTX 1050 Ti\", \"ns_per_day\": 187.35}, {\"gpu_name\": \"GeForce GTX 1050 Ti\", \"ns_per_day\": 158.641}, {\"gpu_name\": \"gfx906\", \"ns_per_day\": 354.251}, {\"gpu_name\": \"Intel(R) UHD Graphics 630\", \"ns_per_day\": 24.624}, {\"gpu_name\": \"GeForce GTX 980 Ti\", \"ns_per_day\": 486.199}, {\"gpu_name\": \"GeForce GTX 1050 Ti\", \"ns_per_day\": 192.146}, {\"gpu_name\": \"GeForce RTX 2060\", \"ns_per_day\": 645.651}, {\"gpu_name\": \"GeForce RTX 2060\", \"ns_per_day\": 638.783}, {\"gpu_name\": \"GeForce GTX 1050 Ti\", \"ns_per_day\": 199.156}, {\"gpu_name\": \"Intel(R) UHD Graphics 630\", \"ns_per_day\": 37.4816}, {\"gpu_name\": \"GeForce GTX 980\", \"ns_per_day\": 382.456}, {\"gpu_name\": \"GeForce GTX 1660 Ti\", \"ns_per_day\": 474.669}, {\"gpu_name\": \"GeForce GTX 1050 Ti\", \"ns_per_day\": 194.008}, {\"gpu_name\": \"GeForce GTX 1050 Ti\", \"ns_per_day\": 159.484}, {\"gpu_name\": \"Intel(R) UHD Graphics Coffee Lake Halo GT2\", \"ns_per_day\": 26.5865}, {\"gpu_name\": \"Tesla V100-SXM2-16GB\", \"ns_per_day\": 916.726}, {\"gpu_name\": \"GeForce GTX 1050 Ti\", \"ns_per_day\": 199.819}, {\"gpu_name\": \"Intel(R) HD Graphics 530\", \"ns_per_day\": 40.0437}, {\"gpu_name\": \"GeForce GTX 1080 Ti\", \"ns_per_day\": 365.019}, {\"gpu_name\": \"Intel(R) HD Graphics 520\", \"ns_per_day\": 17.7387}, {\"gpu_name\": \"Intel(R) Gen9 HD Graphics NEO\", \"ns_per_day\": 44.3796}, {\"gpu_name\": \"Intel(R) HD Graphics 530\", \"ns_per_day\": 32.2999}, {\"gpu_name\": \"Intel(R) UHD Graphics 630\", \"ns_per_day\": 44.4288}, {\"gpu_name\": \"Tesla T10x\", \"ns_per_day\": 811.427}, {\"gpu_name\": \"Intel(R) UHD Graphics 630\", \"ns_per_day\": 36.4465}, {\"gpu_name\": \"GeForce RTX 2080 Ti\", \"ns_per_day\": 822.542}, {\"gpu_name\": \"GeForce GTX 1080 Ti\", \"ns_per_day\": 558.564}, {\"gpu_name\": \"gfx900\", \"ns_per_day\": 321.96}, {\"gpu_name\": \"Tesla V100-SXM2-16GB\", \"ns_per_day\": 916.726}, {\"gpu_name\": \"Intel(R) UHD Graphics 630\", \"ns_per_day\": 44.7267}, {\"gpu_name\": \"GeForce GTX 1050 Ti\", \"ns_per_day\": 192.146}, {\"gpu_name\": null, \"ns_per_day\": null}, {\"gpu_name\": \"GeForce RTX 2070 SUPER\", \"ns_per_day\": 795.306}, {\"gpu_name\": \"GeForce GTX 970\", \"ns_per_day\": 309.513}, {\"gpu_name\": \"GeForce GTX 1080 Ti\", \"ns_per_day\": 736.756}, {\"gpu_name\": \"gfx906\", \"ns_per_day\": 428.897}, {\"gpu_name\": \"GeForce RTX 2080 Ti\", \"ns_per_day\": 984.354}, {\"gpu_name\": \"Intel(R) UHD Graphics 630\", \"ns_per_day\": 44.2162}, {\"gpu_name\": \"gfx900\", \"ns_per_day\": 388.645}, {\"gpu_name\": \"Intel(R) Iris(R) Plus Graphics 640\", \"ns_per_day\": 29.6229}, {\"gpu_name\": null, \"ns_per_day\": null}, {\"gpu_name\": \"gfx900\", \"ns_per_day\": 351.144}, {\"gpu_name\": \"Intel(R) HD Graphics 520\", \"ns_per_day\": 35.2898}, {\"gpu_name\": \"GeForce GTX 1060 3GB\", \"ns_per_day\": 351.144}, {\"gpu_name\": \"Intel(R) HD Graphics 530\", \"ns_per_day\": 32.6512}, {\"gpu_name\": \"GeForce GTX 1070\", \"ns_per_day\": 402.99}, {\"gpu_name\": \"GeForce GTX 1050 Ti\", \"ns_per_day\": 192.454}, {\"gpu_name\": \"GeForce GTX 1050 Ti\", \"ns_per_day\": 192.146}, {\"gpu_name\": \"Intel(R) UHD Graphics Coffee Lake Halo GT2\", \"ns_per_day\": 27.7155}, {\"gpu_name\": \"GeForce GTX 1050 Ti\", \"ns_per_day\": 191.533}, {\"gpu_name\": \"GeForce GTX 1080\", \"ns_per_day\": 545.869}, {\"gpu_name\": \"GeForce GTX 1050 Ti\", \"ns_per_day\": 192.454}]}}, {\"mode\": \"vega-lite\"});\n",
       "</script>"
      ],
      "text/plain": [
       "alt.Chart(...)"
      ]
     },
     "execution_count": 8,
     "metadata": {},
     "output_type": "execute_result"
    }
   ],
   "source": [
    "alt.Chart(gpu_perf).mark_bar().encode(\n",
    "    x=\"mean(ns_per_day)\",\n",
    "    y=alt.Y(\"gpu_name:N\", sort='-x')\n",
    ")"
   ]
  },
  {
   "cell_type": "code",
   "execution_count": 9,
   "metadata": {},
   "outputs": [],
   "source": [
    "def make_record(**d):\n",
    "    return {\n",
    "        'run_id': int(d['run_id']),\n",
    "        'clone_id': int(d['clone_id']),\n",
    "        'results_id': int(d['results_id']),\n",
    "        'gpu_name': d['gpu_name'],\n",
    "        'ns_per_day': float(d['ns_per_day'])\n",
    "    }\n",
    "\n",
    "\n",
    "def parse_log(fname):\n",
    "    pattern = r\"PROJ(?P<project_id>[0-9]+)/RUN(?P<run_id>[0-9]+)/CLONE(?P<clone_id>[0-9]+)/results(?P<results_id>[0-9])/science.log\"\n",
    "    params = re.match(pattern, fname).groupdict()\n",
    "    \n",
    "    try:\n",
    "        log = parse(science_log, fname)\n",
    "        gpu_name = log.get_active_device().name\n",
    "    except (ParseError, ValueError) as e:\n",
    "        logging.warning(f\"Error parsing {fname}: {e}\")\n",
    "        return []\n",
    "    \n",
    "    return [\n",
    "        make_record(\n",
    "            gpu_name=gpu_name,\n",
    "            ns_per_day=log.fah_core_log.average_perf_ns_day,\n",
    "            **params\n",
    "        )\n",
    "    ]\n",
    "\n",
    "def parse_logs_to_df(files):\n",
    "    with multiprocessing.Pool() as p:\n",
    "        results = p.imap(parse_log, files)\n",
    "        recs = [r for res in tqdm(results, total=len(files)) for r in res]\n",
    "    return pd.DataFrame.from_records(recs)"
   ]
  },
  {
   "cell_type": "code",
   "execution_count": 10,
   "metadata": {},
   "outputs": [
    {
     "data": {
      "text/plain": [
       "12649"
      ]
     },
     "execution_count": 10,
     "metadata": {},
     "output_type": "execute_result"
    }
   ],
   "source": [
    "files = glob.glob('PROJ17100/RUN*/CLONE*/results?/science.log')\n",
    "len(files)"
   ]
  },
  {
   "cell_type": "code",
   "execution_count": 11,
   "metadata": {
    "scrolled": true
   },
   "outputs": [
    {
     "data": {
      "application/vnd.jupyter.widget-view+json": {
       "model_id": "ea01177d771a4591a81f4ec12b618d07",
       "version_major": 2,
       "version_minor": 0
      },
      "text/plain": [
       "HBox(children=(FloatProgress(value=0.0, max=12649.0), HTML(value='')))"
      ]
     },
     "metadata": {},
     "output_type": "display_data"
    },
    {
     "name": "stderr",
     "output_type": "stream",
     "text": [
      "WARNING:root:Error parsing PROJ17100/RUN14/CLONE400/results1/science.log: Didn't find a match for the OpenCL platform, device specified in arguments, or no valid OpenCL devices found.\n",
      "WARNING:root:Error parsing PROJ17100/RUN14/CLONE186/results1/science.log: expected one of '', 'Performance since last checkpoint: ', '\\\\s+' at 454:0\n",
      "WARNING:root:Error parsing PROJ17100/RUN14/CLONE414/results0/science.log: expected one of '', 'Performance since last checkpoint: ', '\\\\s+' at 913:0\n",
      "WARNING:root:Error parsing PROJ17100/RUN14/CLONE110/results1/science.log: expected one of '', 'Performance since last checkpoint: ', '\\\\s+' at 445:0\n",
      "WARNING:root:Error parsing PROJ17100/RUN14/CLONE160/results0/science.log: expected '-' at 20:43\n",
      "WARNING:root:Error parsing PROJ17100/RUN14/CLONE9/results0/science.log: expected '-' at 20:43\n",
      "WARNING:root:Error parsing PROJ17100/RUN14/CLONE135/results3/science.log: expected one of '', 'Performance since last checkpoint: ', '\\\\s+' at 428:0\n",
      "WARNING:root:Error parsing PROJ17100/RUN14/CLONE173/results1/science.log: expected '-' at 20:43\n",
      "WARNING:root:Error parsing PROJ17100/RUN14/CLONE284/results0/science.log: expected '-' at 20:22\n",
      "WARNING:root:Error parsing PROJ17100/RUN14/CLONE165/results0/science.log: expected '-' at 20:43\n",
      "WARNING:root:Error parsing PROJ17100/RUN14/CLONE20/results1/science.log: expected '-' at 20:43\n",
      "WARNING:root:Error parsing PROJ17100/RUN14/CLONE21/results0/science.log: expected '-' at 20:43\n",
      "WARNING:root:Error parsing PROJ17100/RUN14/CLONE152/results1/science.log: expected one of '\\\\*+ ', '\\\\s+' at 0:0\n",
      "WARNING:root:Error parsing PROJ17100/RUN14/CLONE152/results0/science.log: expected one of '\\\\*+ ', '\\\\s+' at 0:0\n",
      "WARNING:root:Error parsing PROJ17100/RUN14/CLONE137/results0/science.log: expected one of '', 'Performance since last checkpoint: ', '\\\\s+' at 429:0\n",
      "WARNING:root:Error parsing PROJ17100/RUN14/CLONE105/results1/science.log: expected one of '', 'Performance since last checkpoint: ', '\\\\s+' at 425:0\n",
      "WARNING:root:Error parsing PROJ17100/RUN14/CLONE15/results1/science.log: expected '-' at 20:43\n",
      "WARNING:root:Error parsing PROJ17100/RUN14/CLONE17/results0/science.log: expected '-' at 20:43\n",
      "WARNING:root:Error parsing PROJ17100/RUN14/CLONE295/results0/science.log: expected '-' at 20:22\n",
      "WARNING:root:Error parsing PROJ17100/RUN9/CLONE114/results1/science.log: expected one of '', 'Performance since last checkpoint: ', '\\\\s+' at 462:0\n",
      "WARNING:root:Error parsing PROJ17100/RUN9/CLONE138/results0/science.log: 'utf-8' codec can't decode byte 0xfc in position 1944: invalid start byte\n",
      "WARNING:root:Error parsing PROJ17100/RUN9/CLONE98/results0/science.log: expected one of '', 'Performance since last checkpoint: ', '\\\\s+' at 468:0\n",
      "WARNING:root:Error parsing PROJ17100/RUN9/CLONE380/results1/science.log: expected one of '', 'Performance since last checkpoint: ', '\\\\s+' at 448:0\n",
      "WARNING:root:Error parsing PROJ17100/RUN9/CLONE186/results0/science.log: expected one of '', 'Performance since last checkpoint: ', '\\\\s+' at 441:0\n",
      "WARNING:root:Error parsing PROJ17100/RUN9/CLONE14/results0/science.log: expected '-' at 20:43\n",
      "WARNING:root:Error parsing PROJ17100/RUN9/CLONE368/results1/science.log: expected '-' at 21:43\n",
      "WARNING:root:Error parsing PROJ17100/RUN9/CLONE7/results1/science.log: expected '-' at 20:43\n",
      "WARNING:root:Error parsing PROJ17100/RUN9/CLONE111/results0/science.log: expected one of '', 'Performance since last checkpoint: ', '\\\\s+' at 440:0\n",
      "WARNING:root:Error parsing PROJ17100/RUN9/CLONE131/results0/science.log: 'utf-8' codec can't decode byte 0xfc in position 1944: invalid start byte\n",
      "WARNING:root:Error parsing PROJ17100/RUN9/CLONE197/results1/science.log: expected one of '', 'Performance since last checkpoint: ', '\\\\s+' at 461:0\n",
      "WARNING:root:Error parsing PROJ17100/RUN9/CLONE29/results0/science.log: expected '-' at 20:43\n",
      "WARNING:root:Error parsing PROJ17100/RUN9/CLONE403/results1/science.log: 'utf-8' codec can't decode byte 0xe8 in position 1974: invalid continuation byte\n",
      "WARNING:root:Error parsing PROJ17100/RUN9/CLONE31/results1/science.log: expected '-' at 20:22\n",
      "WARNING:root:Error parsing PROJ17100/RUN9/CLONE129/results0/science.log: 'utf-8' codec can't decode byte 0x8b in position 1940: invalid start byte\n",
      "WARNING:root:Error parsing PROJ17100/RUN9/CLONE158/results0/science.log: expected '-' at 20:43\n",
      "WARNING:root:Error parsing PROJ17100/RUN9/CLONE136/results0/science.log: expected '-' at 19:74\n",
      "WARNING:root:Error parsing PROJ17100/RUN9/CLONE151/results0/science.log: expected '-' at 20:43\n",
      "WARNING:root:Error parsing PROJ17100/RUN9/CLONE23/results1/science.log: expected '-' at 20:43\n",
      "WARNING:root:Error parsing PROJ17100/RUN9/CLONE103/results0/science.log: expected one of '\\\\*+ ', '\\\\s+' at 0:0\n",
      "WARNING:root:Error parsing PROJ17100/RUN9/CLONE99/results0/science.log: expected one of '\\\\*+ ', '\\\\s+' at 0:0\n",
      "WARNING:root:Error parsing PROJ17100/RUN9/CLONE50/results1/science.log: expected '-' at 21:37\n",
      "WARNING:root:Error parsing PROJ17100/RUN9/CLONE167/results0/science.log: expected '-' at 20:43\n",
      "WARNING:root:Error parsing PROJ17100/RUN9/CLONE373/results0/science.log: expected one of '', 'Performance since last checkpoint: ', '\\\\s+' at 616:0\n",
      "WARNING:root:Error parsing PROJ17100/RUN9/CLONE10/results1/science.log: expected '-' at 20:43\n",
      "WARNING:root:Error parsing PROJ17100/RUN9/CLONE49/results0/science.log: expected '-' at 20:37\n",
      "WARNING:root:Error parsing PROJ17100/RUN4/CLONE100/results0/science.log: expected one of '', 'Performance since last checkpoint: ', '\\\\s+' at 400:0\n",
      "WARNING:root:Error parsing PROJ17100/RUN4/CLONE160/results1/science.log: expected one of '', 'Performance since last checkpoint: ', '\\\\s+' at 436:0\n",
      "WARNING:root:Error parsing PROJ17100/RUN4/CLONE405/results0/science.log: 'utf-8' codec can't decode byte 0xc0 in position 1971: invalid start byte\n",
      "WARNING:root:Error parsing PROJ17100/RUN4/CLONE135/results1/science.log: expected '-' at 20:43\n",
      "WARNING:root:Error parsing PROJ17100/RUN4/CLONE421/results1/science.log: expected one of '\\\\*+ ', '\\\\s+' at 0:0\n",
      "WARNING:root:Error parsing PROJ17100/RUN4/CLONE143/results1/science.log: expected one of '', 'Performance since last checkpoint: ', '\\\\s+' at 424:0\n",
      "WARNING:root:Error parsing PROJ17100/RUN4/CLONE155/results1/science.log: expected '-' at 20:43\n",
      "WARNING:root:Error parsing PROJ17100/RUN4/CLONE287/results1/science.log: expected '-' at 20:22\n",
      "WARNING:root:Error parsing PROJ17100/RUN4/CLONE165/results0/science.log: expected '-' at 20:43\n",
      "WARNING:root:Error parsing PROJ17100/RUN4/CLONE18/results1/science.log: expected '-' at 20:43\n",
      "WARNING:root:Error parsing PROJ17100/RUN4/CLONE67/results1/science.log: expected '-' at 20:22\n",
      "WARNING:root:Error parsing PROJ17100/RUN4/CLONE64/results1/science.log: expected '-' at 20:22\n",
      "WARNING:root:Error parsing PROJ17100/RUN4/CLONE133/results2/science.log: expected one of '', 'Performance since last checkpoint: ', '\\\\s+' at 428:0\n",
      "WARNING:root:Error parsing PROJ17100/RUN4/CLONE8/results0/science.log: expected '-' at 20:43\n",
      "WARNING:root:Error parsing PROJ17100/RUN4/CLONE19/results0/science.log: expected '-' at 20:22\n",
      "WARNING:root:Error parsing PROJ17100/RUN4/CLONE174/results0/science.log: expected '-' at 20:43\n",
      "WARNING:root:Error parsing PROJ17100/RUN4/CLONE52/results1/science.log: expected '-' at 20:43\n",
      "WARNING:root:Error parsing PROJ17100/RUN4/CLONE137/results1/science.log: expected '-' at 20:43\n",
      "WARNING:root:Error parsing PROJ17100/RUN4/CLONE121/results1/science.log: expected one of '', 'Performance since last checkpoint: ', '\\\\s+' at 448:0\n",
      "WARNING:root:Error parsing PROJ17100/RUN4/CLONE157/results0/science.log: expected '-' at 20:43\n",
      "WARNING:root:Error parsing PROJ17100/RUN4/CLONE167/results1/science.log: 'utf-8' codec can't decode byte 0xfc in position 1945: invalid start byte\n",
      "WARNING:root:Error parsing PROJ17100/RUN4/CLONE17/results1/science.log: expected '-' at 20:43\n",
      "WARNING:root:Error parsing PROJ17100/RUN4/CLONE369/results1/science.log: expected one of '', 'Performance since last checkpoint: ', '\\\\s+' at 419:0\n",
      "WARNING:root:Error parsing PROJ17100/RUN2/CLONE98/results0/science.log: expected one of '', 'Performance since last checkpoint: ', '\\\\s+' at 445:0\n",
      "WARNING:root:Error parsing PROJ17100/RUN2/CLONE250/results1/science.log: expected one of '', 'Performance since last checkpoint: ', '\\\\s+' at 410:0\n"
     ]
    },
    {
     "name": "stderr",
     "output_type": "stream",
     "text": [
      "WARNING:root:Error parsing PROJ17100/RUN2/CLONE25/results0/science.log: expected '-' at 20:43\n",
      "WARNING:root:Error parsing PROJ17100/RUN2/CLONE24/results0/science.log: expected '-' at 20:43\n",
      "WARNING:root:Error parsing PROJ17100/RUN2/CLONE9/results0/science.log: expected '-' at 20:43\n",
      "WARNING:root:Error parsing PROJ17100/RUN2/CLONE141/results1/science.log: 'utf-8' codec can't decode byte 0xfc in position 1945: invalid start byte\n",
      "WARNING:root:Error parsing PROJ17100/RUN2/CLONE29/results0/science.log: expected '-' at 20:43\n",
      "WARNING:root:Error parsing PROJ17100/RUN2/CLONE135/results0/science.log: expected one of '', 'Performance since last checkpoint: ', '\\\\s+' at 872:0\n",
      "WARNING:root:Error parsing PROJ17100/RUN2/CLONE109/results0/science.log: 'utf-8' codec can't decode byte 0xfc in position 1946: invalid start byte\n",
      "WARNING:root:Error parsing PROJ17100/RUN2/CLONE5/results0/science.log: expected '-' at 20:43\n",
      "WARNING:root:Error parsing PROJ17100/RUN2/CLONE396/results1/science.log: expected one of '', 'Performance since last checkpoint: ', '\\\\s+' at 421:0\n",
      "WARNING:root:Error parsing PROJ17100/RUN2/CLONE129/results0/science.log: expected one of '', 'Performance since last checkpoint: ', '\\\\s+' at 602:0\n",
      "WARNING:root:Error parsing PROJ17100/RUN2/CLONE158/results1/science.log: expected one of '', 'Performance since last checkpoint: ', '\\\\s+' at 400:0\n",
      "WARNING:root:Error parsing PROJ17100/RUN2/CLONE59/results1/science.log: expected one of '', 'Performance since last checkpoint: ', '\\\\s+' at 429:0\n",
      "WARNING:root:Error parsing PROJ17100/RUN2/CLONE20/results0/science.log: expected '-' at 20:43\n",
      "WARNING:root:Error parsing PROJ17100/RUN2/CLONE44/results0/science.log: expected one of '', 'Performance since last checkpoint: ', '\\\\s+' at 567:0\n",
      "WARNING:root:Error parsing PROJ17100/RUN2/CLONE99/results1/science.log: expected one of '', 'Performance since last checkpoint: ', '\\\\s+' at 929:0\n",
      "WARNING:root:Error parsing PROJ17100/RUN2/CLONE390/results1/science.log: expected one of '', 'Performance since last checkpoint: ', '\\\\s+' at 457:0\n",
      "WARNING:root:Error parsing PROJ17100/RUN2/CLONE167/results1/science.log: expected '-' at 20:43\n",
      "WARNING:root:Error parsing PROJ17100/RUN2/CLONE167/results0/science.log: expected '-' at 20:43\n",
      "WARNING:root:Error parsing PROJ17100/RUN6/CLONE153/results1/science.log: expected '-' at 20:43\n",
      "WARNING:root:Error parsing PROJ17100/RUN6/CLONE259/results0/science.log: expected one of '', 'Performance since last checkpoint: ', '\\\\s+' at 435:0\n",
      "WARNING:root:Error parsing PROJ17100/RUN6/CLONE28/results1/science.log: expected '-' at 20:43\n",
      "WARNING:root:Error parsing PROJ17100/RUN6/CLONE16/results1/science.log: expected '-' at 20:43\n",
      "WARNING:root:Error parsing PROJ17100/RUN6/CLONE139/results2/science.log: expected one of '', 'Performance since last checkpoint: ', '\\\\s+' at 610:0\n",
      "WARNING:root:Error parsing PROJ17100/RUN6/CLONE368/results1/science.log: expected '-' at 21:43\n",
      "WARNING:root:Error parsing PROJ17100/RUN6/CLONE43/results1/science.log: expected '-' at 21:37\n",
      "WARNING:root:Error parsing PROJ17100/RUN6/CLONE6/results0/science.log: expected '-' at 20:43\n",
      "WARNING:root:Error parsing PROJ17100/RUN6/CLONE7/results0/science.log: expected '-' at 20:43\n",
      "WARNING:root:Error parsing PROJ17100/RUN6/CLONE127/results0/science.log: expected one of '', 'Performance since last checkpoint: ', '\\\\s+' at 609:0\n",
      "WARNING:root:Error parsing PROJ17100/RUN6/CLONE163/results1/science.log: expected '-' at 20:43\n",
      "WARNING:root:Error parsing PROJ17100/RUN6/CLONE169/results0/science.log: expected '-' at 20:43\n",
      "WARNING:root:Error parsing PROJ17100/RUN6/CLONE330/results0/science.log: expected one of '', 'Performance since last checkpoint: ', '\\\\s+' at 414:0\n",
      "WARNING:root:Error parsing PROJ17100/RUN6/CLONE116/results0/science.log: expected one of '', 'Performance since last checkpoint: ', '\\\\s+' at 617:0\n",
      "WARNING:root:Error parsing PROJ17100/RUN6/CLONE159/results0/science.log: expected one of '', 'Performance since last checkpoint: ', '\\\\s+' at 611:0\n",
      "WARNING:root:Error parsing PROJ17100/RUN6/CLONE18/results0/science.log: expected '-' at 20:43\n",
      "WARNING:root:Error parsing PROJ17100/RUN6/CLONE136/results1/science.log: expected '-' at 20:43\n",
      "WARNING:root:Error parsing PROJ17100/RUN6/CLONE8/results0/science.log: expected '-' at 20:43\n",
      "WARNING:root:Error parsing PROJ17100/RUN6/CLONE8/results1/science.log: expected '-' at 20:43\n",
      "WARNING:root:Error parsing PROJ17100/RUN6/CLONE4/results1/science.log: expected '-' at 20:43\n",
      "WARNING:root:Error parsing PROJ17100/RUN6/CLONE286/results0/science.log: expected one of '', 'Performance since last checkpoint: ', '\\\\s+' at 408:0\n",
      "WARNING:root:Error parsing PROJ17100/RUN6/CLONE41/results0/science.log: expected one of '', 'Performance since last checkpoint: ', '\\\\s+' at 414:0\n",
      "WARNING:root:Error parsing PROJ17100/RUN6/CLONE60/results0/science.log: expected '-' at 20:22\n",
      "WARNING:root:Error parsing PROJ17100/RUN6/CLONE152/results1/science.log: expected '-' at 20:43\n",
      "WARNING:root:Error parsing PROJ17100/RUN6/CLONE152/results0/science.log: expected '-' at 20:43\n",
      "WARNING:root:Error parsing PROJ17100/RUN6/CLONE106/results0/science.log: expected one of '', 'Performance since last checkpoint: ', '\\\\s+' at 934:0\n",
      "WARNING:root:Error parsing PROJ17100/RUN0/CLONE62/results1/science.log: expected '\\n' at 70:0\n",
      "WARNING:root:Error parsing PROJ17100/RUN0/CLONE185/results1/science.log: expected one of '', 'Performance since last checkpoint: ', '\\\\s+' at 458:0\n",
      "WARNING:root:Error parsing PROJ17100/RUN0/CLONE84/results1/science.log: expected one of '', 'Performance since last checkpoint: ', '\\\\s+' at 602:0\n",
      "WARNING:root:Error parsing PROJ17100/RUN0/CLONE380/results0/science.log: expected '\\n' at 78:0\n",
      "WARNING:root:Error parsing PROJ17100/RUN0/CLONE98/results0/science.log: expected one of '', 'Performance since last checkpoint: ', '\\\\s+' at 431:0\n",
      "WARNING:root:Error parsing PROJ17100/RUN0/CLONE150/results1/science.log: 'utf-8' codec can't decode byte 0xe9 in position 1940: invalid continuation byte\n",
      "WARNING:root:Error parsing PROJ17100/RUN0/CLONE132/results1/science.log: 'utf-8' codec can't decode byte 0xe9 in position 1941: invalid continuation byte\n",
      "WARNING:root:Error parsing PROJ17100/RUN0/CLONE318/results0/science.log: expected one of '', 'Performance since last checkpoint: ', '\\\\s+' at 576:0\n",
      "WARNING:root:Error parsing PROJ17100/RUN0/CLONE14/results0/science.log: expected '-' at 20:43\n",
      "WARNING:root:Error parsing PROJ17100/RUN0/CLONE183/results0/science.log: expected one of '', 'Performance since last checkpoint: ', '\\\\s+' at 782:0\n",
      "WARNING:root:Error parsing PROJ17100/RUN0/CLONE27/results0/science.log: expected '-' at 20:43\n",
      "WARNING:root:Error parsing PROJ17100/RUN0/CLONE368/results1/science.log: expected '-' at 21:43\n",
      "WARNING:root:Error parsing PROJ17100/RUN0/CLONE12/results0/science.log: expected '-' at 20:43\n",
      "WARNING:root:Error parsing PROJ17100/RUN0/CLONE12/results1/science.log: expected '-' at 20:43\n",
      "WARNING:root:Error parsing PROJ17100/RUN0/CLONE9/results1/science.log: expected '-' at 20:43\n",
      "WARNING:root:Error parsing PROJ17100/RUN0/CLONE171/results0/science.log: expected '-' at 20:43\n",
      "WARNING:root:Error parsing PROJ17100/RUN0/CLONE221/results0/science.log: expected one of '', 'Performance since last checkpoint: ', '\\\\s+' at 558:0\n",
      "WARNING:root:Error parsing PROJ17100/RUN0/CLONE123/results0/science.log: 'utf-8' codec can't decode byte 0xe7 in position 1952: invalid continuation byte\n",
      "WARNING:root:Error parsing PROJ17100/RUN0/CLONE104/results0/science.log: 'utf-8' codec can't decode byte 0xe9 in position 1942: invalid continuation byte\n",
      "WARNING:root:Error parsing PROJ17100/RUN0/CLONE124/results0/science.log: expected one of '', 'Performance since last checkpoint: ', '\\\\s+' at 455:0\n",
      "WARNING:root:Error parsing PROJ17100/RUN0/CLONE5/results1/science.log: expected '-' at 20:43\n",
      "WARNING:root:Error parsing PROJ17100/RUN0/CLONE226/results1/science.log: expected one of '', 'Performance since last checkpoint: ', '\\\\s+' at 406:0\n",
      "WARNING:root:Error parsing PROJ17100/RUN0/CLONE173/results0/science.log: expected one of '', 'Performance since last checkpoint: ', '\\\\s+' at 444:0\n",
      "WARNING:root:Error parsing PROJ17100/RUN0/CLONE36/results0/science.log: expected '-' at 20:22\n",
      "WARNING:root:Error parsing PROJ17100/RUN0/CLONE154/results0/science.log: 'utf-8' codec can't decode byte 0x89 in position 1945: invalid start byte\n"
     ]
    },
    {
     "name": "stderr",
     "output_type": "stream",
     "text": [
      "WARNING:root:Error parsing PROJ17100/RUN0/CLONE133/results0/science.log: 'utf-8' codec can't decode byte 0xe9 in position 1941: invalid continuation byte\n",
      "WARNING:root:Error parsing PROJ17100/RUN0/CLONE314/results1/science.log: expected one of '', 'Performance since last checkpoint: ', '\\\\s+' at 890:0\n",
      "WARNING:root:Error parsing PROJ17100/RUN0/CLONE164/results0/science.log: expected '-' at 20:43\n",
      "WARNING:root:Error parsing PROJ17100/RUN0/CLONE293/results0/science.log: expected '-' at 20:22\n",
      "WARNING:root:Error parsing PROJ17100/RUN0/CLONE48/results0/science.log: expected '\\n' at 70:0\n",
      "WARNING:root:Error parsing PROJ17100/RUN0/CLONE10/results0/science.log: expected '-' at 20:43\n",
      "WARNING:root:Error parsing PROJ17100/RUN12/CLONE114/results0/science.log: expected one of '', 'Performance since last checkpoint: ', '\\\\s+' at 421:0\n",
      "WARNING:root:Error parsing PROJ17100/RUN12/CLONE100/results0/science.log: 'utf-8' codec can't decode byte 0xd2 in position 1943: invalid continuation byte\n",
      "WARNING:root:Error parsing PROJ17100/RUN12/CLONE140/results2/science.log: expected one of '', 'Performance since last checkpoint: ', '\\\\s+' at 427:0\n",
      "WARNING:root:Error parsing PROJ17100/RUN12/CLONE96/results0/science.log: expected one of '', 'Performance since last checkpoint: ', '\\\\s+' at 434:0\n",
      "WARNING:root:Error parsing PROJ17100/RUN12/CLONE127/results1/science.log: expected 'Version ' at 55:0\n",
      "WARNING:root:Error parsing PROJ17100/RUN12/CLONE292/results1/science.log: expected '-' at 20:22\n",
      "WARNING:root:Error parsing PROJ17100/RUN12/CLONE77/results0/science.log: expected '-' at 20:37\n",
      "WARNING:root:Error parsing PROJ17100/RUN12/CLONE193/results0/science.log: 'utf-8' codec can't decode byte 0x82 in position 1967: invalid start byte\n",
      "WARNING:root:Error parsing PROJ17100/RUN12/CLONE171/results1/science.log: expected one of '\\\\*+ ', '\\\\s+' at 0:0\n",
      "WARNING:root:Error parsing PROJ17100/RUN12/CLONE29/results1/science.log: expected '-' at 20:43\n",
      "WARNING:root:Error parsing PROJ17100/RUN12/CLONE97/results0/science.log: expected one of '', 'Performance since last checkpoint: ', '\\\\s+' at 452:0\n",
      "WARNING:root:Error parsing PROJ17100/RUN12/CLONE334/results0/science.log: expected one of '', 'Performance since last checkpoint: ', '\\\\s+' at 731:0\n",
      "WARNING:root:Error parsing PROJ17100/RUN12/CLONE3/results1/science.log: expected '-' at 20:43\n",
      "WARNING:root:Error parsing PROJ17100/RUN12/CLONE36/results1/science.log: 'utf-8' codec can't decode byte 0xdc in position 1911: invalid continuation byte\n",
      "WARNING:root:Error parsing PROJ17100/RUN12/CLONE383/results0/science.log: expected one of '', 'Performance since last checkpoint: ', '\\\\s+' at 428:0\n",
      "WARNING:root:Error parsing PROJ17100/RUN12/CLONE175/results0/science.log: expected '-' at 20:43\n",
      "WARNING:root:Error parsing PROJ17100/RUN12/CLONE19/results1/science.log: expected '-' at 20:43\n",
      "WARNING:root:Error parsing PROJ17100/RUN12/CLONE41/results1/science.log: expected '\\n' at 70:0\n",
      "WARNING:root:Error parsing PROJ17100/RUN12/CLONE11/results0/science.log: expected '-' at 20:43\n",
      "WARNING:root:Error parsing PROJ17100/RUN12/CLONE103/results1/science.log: expected one of '\\\\*+ ', '\\\\s+' at 0:0\n",
      "WARNING:root:Error parsing PROJ17100/RUN12/CLONE137/results0/science.log: expected one of '', 'Performance since last checkpoint: ', '\\\\s+' at 452:0\n",
      "WARNING:root:Error parsing PROJ17100/RUN12/CLONE118/results0/science.log: expected one of '', 'Performance since last checkpoint: ', '\\\\s+' at 1377:0\n",
      "WARNING:root:Error parsing PROJ17100/RUN12/CLONE157/results0/science.log: expected one of '', 'Performance since last checkpoint: ', '\\\\s+' at 1237:0\n",
      "WARNING:root:Error parsing PROJ17100/RUN10/CLONE146/results1/science.log: 'utf-8' codec can't decode byte 0xe7 in position 1952: invalid continuation byte\n",
      "WARNING:root:Error parsing PROJ17100/RUN10/CLONE371/results1/science.log: expected one of '', 'Performance since last checkpoint: ', '\\\\s+' at 421:0\n",
      "WARNING:root:Error parsing PROJ17100/RUN10/CLONE2/results1/science.log: expected '-' at 20:43\n",
      "WARNING:root:Error parsing PROJ17100/RUN10/CLONE30/results1/science.log: expected '-' at 20:22\n",
      "WARNING:root:Error parsing PROJ17100/RUN10/CLONE16/results1/science.log: expected '-' at 20:43\n",
      "WARNING:root:Error parsing PROJ17100/RUN10/CLONE27/results0/science.log: expected '-' at 20:43\n",
      "WARNING:root:Error parsing PROJ17100/RUN10/CLONE139/results1/science.log: expected '-' at 20:43\n",
      "WARNING:root:Error parsing PROJ17100/RUN10/CLONE12/results0/science.log: expected '-' at 20:43\n",
      "WARNING:root:Error parsing PROJ17100/RUN10/CLONE43/results1/science.log: expected '-' at 20:22\n",
      "WARNING:root:Error parsing PROJ17100/RUN10/CLONE170/results1/science.log: expected '-' at 20:43\n",
      "WARNING:root:Error parsing PROJ17100/RUN10/CLONE9/results0/science.log: expected '-' at 20:43\n",
      "WARNING:root:Error parsing PROJ17100/RUN10/CLONE405/results1/science.log: 'utf-8' codec can't decode byte 0x82 in position 1974: invalid start byte\n",
      "WARNING:root:Error parsing PROJ17100/RUN10/CLONE171/results0/science.log: expected '-' at 20:43\n",
      "WARNING:root:Error parsing PROJ17100/RUN10/CLONE171/results1/science.log: expected '-' at 20:43\n",
      "WARNING:root:Error parsing PROJ17100/RUN10/CLONE135/results1/science.log: expected '-' at 20:43\n",
      "WARNING:root:Error parsing PROJ17100/RUN10/CLONE119/results0/science.log: expected one of '', 'Performance since last checkpoint: ', '\\\\s+' at 910:0\n",
      "WARNING:root:Error parsing PROJ17100/RUN10/CLONE109/results0/science.log: expected one of '', 'Performance since last checkpoint: ', '\\\\s+' at 441:0\n",
      "WARNING:root:Error parsing PROJ17100/RUN10/CLONE104/results0/science.log: expected one of '', 'Performance since last checkpoint: ', '\\\\s+' at 442:0\n",
      "WARNING:root:Error parsing PROJ17100/RUN10/CLONE145/results1/science.log: expected '-' at 20:43\n",
      "WARNING:root:Error parsing PROJ17100/RUN10/CLONE22/results1/science.log: expected '-' at 20:43\n",
      "WARNING:root:Error parsing PROJ17100/RUN10/CLONE261/results1/science.log: expected one of '', 'Performance since last checkpoint: ', '\\\\s+' at 425:0\n",
      "WARNING:root:Error parsing PROJ17100/RUN10/CLONE394/results1/science.log: 'utf-8' codec can't decode byte 0xf8 in position 1985: invalid start byte\n",
      "WARNING:root:Error parsing PROJ17100/RUN10/CLONE156/results1/science.log: 'utf-8' codec can't decode byte 0xb3 in position 1943: invalid start byte\n",
      "WARNING:root:Error parsing PROJ17100/RUN10/CLONE346/results0/science.log: expected '-' at 21:43\n",
      "WARNING:root:Error parsing PROJ17100/RUN10/CLONE187/results0/science.log: expected one of '', 'Performance since last checkpoint: ', '\\\\s+' at 585:0\n",
      "WARNING:root:Error parsing PROJ17100/RUN10/CLONE121/results0/science.log: expected '[' at 56:0\n",
      "WARNING:root:Error parsing PROJ17100/RUN10/CLONE166/results1/science.log: expected '-' at 20:43\n",
      "WARNING:root:Error parsing PROJ17100/RUN10/CLONE15/results0/science.log: expected '-' at 20:43\n",
      "WARNING:root:Error parsing PROJ17100/RUN10/CLONE10/results0/science.log: expected '-' at 20:43\n",
      "WARNING:root:Error parsing PROJ17100/RUN5/CLONE180/results1/science.log: expected one of '', 'Performance since last checkpoint: ', '\\\\s+' at 452:0\n",
      "WARNING:root:Error parsing PROJ17100/RUN5/CLONE2/results1/science.log: expected '-' at 20:43\n",
      "WARNING:root:Error parsing PROJ17100/RUN5/CLONE365/results1/science.log: expected one of '', 'Performance since last checkpoint: ', '\\\\s+' at 407:0\n",
      "WARNING:root:Error parsing PROJ17100/RUN5/CLONE182/results0/science.log: expected '-' at 19:74\n",
      "WARNING:root:Error parsing PROJ17100/RUN5/CLONE66/results0/science.log: expected '\\n' at 70:0\n",
      "WARNING:root:Error parsing PROJ17100/RUN5/CLONE28/results0/science.log: expected '-' at 20:43\n",
      "WARNING:root:Error parsing PROJ17100/RUN5/CLONE368/results0/science.log: expected '-' at 21:43\n",
      "WARNING:root:Error parsing PROJ17100/RUN5/CLONE12/results1/science.log: expected '-' at 20:43\n",
      "WARNING:root:Error parsing PROJ17100/RUN5/CLONE70/results0/science.log: expected '-' at 20:22\n",
      "WARNING:root:Error parsing PROJ17100/RUN5/CLONE25/results1/science.log: expected '-' at 20:43\n",
      "WARNING:root:Error parsing PROJ17100/RUN5/CLONE181/results0/science.log: expected one of '', 'Performance since last checkpoint: ', '\\\\s+' at 443:0\n",
      "WARNING:root:Error parsing PROJ17100/RUN5/CLONE147/results0/science.log: expected one of '', 'Performance since last checkpoint: ', '\\\\s+' at 742:0\n"
     ]
    },
    {
     "name": "stderr",
     "output_type": "stream",
     "text": [
      "WARNING:root:Error parsing PROJ17100/RUN5/CLONE163/results0/science.log: expected one of '\\\\*+ ', '\\\\s+' at 0:0\n",
      "WARNING:root:Error parsing PROJ17100/RUN5/CLONE13/results1/science.log: 'utf-8' codec can't decode byte 0xc5 in position 1978: invalid continuation byte\n",
      "WARNING:root:Error parsing PROJ17100/RUN5/CLONE254/results0/science.log: expected one of '', 'Performance since last checkpoint: ', '\\\\s+' at 415:0\n",
      "WARNING:root:Error parsing PROJ17100/RUN5/CLONE159/results0/science.log: expected '-' at 20:43\n",
      "WARNING:root:Error parsing PROJ17100/RUN5/CLONE418/results0/science.log: expected '-' at 20:22\n",
      "WARNING:root:Error parsing PROJ17100/RUN5/CLONE20/results1/science.log: expected '-' at 20:43\n",
      "WARNING:root:Error parsing PROJ17100/RUN5/CLONE20/results0/science.log: expected '-' at 20:43\n",
      "WARNING:root:Error parsing PROJ17100/RUN5/CLONE41/results1/science.log: expected '-' at 19:74\n",
      "WARNING:root:Error parsing PROJ17100/RUN5/CLONE156/results0/science.log: expected '-' at 20:43\n",
      "WARNING:root:Error parsing PROJ17100/RUN5/CLONE11/results0/science.log: expected '-' at 20:43\n",
      "WARNING:root:Error parsing PROJ17100/RUN5/CLONE152/results1/science.log: expected '-' at 20:43\n",
      "WARNING:root:Error parsing PROJ17100/RUN5/CLONE172/results0/science.log: expected '-' at 20:43\n",
      "WARNING:root:Error parsing PROJ17100/RUN1/CLONE114/results0/science.log: expected one of '\\\\*+ ', '\\\\s+' at 0:0\n",
      "WARNING:root:Error parsing PROJ17100/RUN1/CLONE138/results0/science.log: 'utf-8' codec can't decode byte 0xe7 in position 1952: invalid continuation byte\n",
      "WARNING:root:Error parsing PROJ17100/RUN1/CLONE362/results0/science.log: expected one of '', 'Performance since last checkpoint: ', '\\\\s+' at 734:0\n",
      "WARNING:root:Error parsing PROJ17100/RUN1/CLONE16/results0/science.log: expected '-' at 20:43\n",
      "WARNING:root:Error parsing PROJ17100/RUN1/CLONE69/results1/science.log: expected one of '\\\\*+ ', '\\\\s+' at 0:0\n",
      "WARNING:root:Error parsing PROJ17100/RUN1/CLONE142/results1/science.log: 'utf-8' codec can't decode byte 0xb3 in position 1944: invalid start byte\n",
      "WARNING:root:Error parsing PROJ17100/RUN1/CLONE24/results0/science.log: 'utf-8' codec can't decode byte 0xb4 in position 1974: invalid start byte\n",
      "WARNING:root:Error parsing PROJ17100/RUN1/CLONE181/results1/science.log: 'utf-8' codec can't decode byte 0x89 in position 1946: invalid start byte\n",
      "WARNING:root:Error parsing PROJ17100/RUN1/CLONE29/results0/science.log: expected '-' at 20:43\n",
      "WARNING:root:Error parsing PROJ17100/RUN1/CLONE163/results1/science.log: expected '-' at 20:43\n",
      "WARNING:root:Error parsing PROJ17100/RUN1/CLONE5/results1/science.log: expected '-' at 20:43\n",
      "WARNING:root:Error parsing PROJ17100/RUN1/CLONE8/results1/science.log: expected '-' at 20:43\n",
      "WARNING:root:Error parsing PROJ17100/RUN1/CLONE391/results0/science.log: expected one of '', 'Performance since last checkpoint: ', '\\\\s+' at 588:0\n",
      "WARNING:root:Error parsing PROJ17100/RUN1/CLONE21/results1/science.log: expected '-' at 20:43\n",
      "WARNING:root:Error parsing PROJ17100/RUN1/CLONE1/results1/science.log: expected '-' at 20:43\n",
      "WARNING:root:Error parsing PROJ17100/RUN1/CLONE65/results1/science.log: expected '\\n' at 75:0\n",
      "WARNING:root:Error parsing PROJ17100/RUN1/CLONE72/results0/science.log: expected '-' at 20:22\n",
      "WARNING:root:Error parsing PROJ17100/RUN1/CLONE157/results1/science.log: expected '-' at 20:43\n",
      "WARNING:root:Error parsing PROJ17100/RUN1/CLONE15/results1/science.log: expected '-' at 20:43\n",
      "WARNING:root:Error parsing PROJ17100/RUN1/CLONE15/results0/science.log: expected '-' at 20:43\n",
      "WARNING:root:Error parsing PROJ17100/RUN11/CLONE297/results0/science.log: 'utf-8' codec can't decode byte 0xb4 in position 1975: invalid start byte\n",
      "WARNING:root:Error parsing PROJ17100/RUN11/CLONE146/results1/science.log: expected one of '', 'Performance since last checkpoint: ', '\\\\s+' at 440:0\n",
      "WARNING:root:Error parsing PROJ17100/RUN11/CLONE2/results1/science.log: expected '-' at 20:43\n",
      "WARNING:root:Error parsing PROJ17100/RUN11/CLONE186/results1/science.log: expected one of '\\\\*+ ', '\\\\s+' at 0:0\n",
      "WARNING:root:Error parsing PROJ17100/RUN11/CLONE30/results1/science.log: expected '-' at 20:43\n",
      "WARNING:root:Error parsing PROJ17100/RUN11/CLONE161/results0/science.log: expected '-' at 20:43\n",
      "WARNING:root:Error parsing PROJ17100/RUN11/CLONE28/results1/science.log: expected '-' at 20:43\n",
      "WARNING:root:Error parsing PROJ17100/RUN11/CLONE70/results0/science.log: expected one of '\\\\*+ ', '\\\\s+' at 0:0\n",
      "WARNING:root:Error parsing PROJ17100/RUN11/CLONE25/results0/science.log: expected '-' at 20:43\n",
      "WARNING:root:Error parsing PROJ17100/RUN11/CLONE142/results1/science.log: expected '-' at 20:43\n",
      "WARNING:root:Error parsing PROJ17100/RUN11/CLONE181/results0/science.log: expected one of '\\\\*+ ', '\\\\s+' at 0:0\n",
      "WARNING:root:Error parsing PROJ17100/RUN11/CLONE3/results1/science.log: expected '-' at 20:43\n",
      "WARNING:root:Error parsing PROJ17100/RUN11/CLONE56/results1/science.log: expected '-' at 20:22\n",
      "WARNING:root:Error parsing PROJ17100/RUN11/CLONE116/results1/science.log: expected one of '', 'Performance since last checkpoint: ', '\\\\s+' at 544:0\n",
      "WARNING:root:Error parsing PROJ17100/RUN11/CLONE159/results0/science.log: 'utf-8' codec can't decode byte 0xfc in position 1945: invalid start byte\n",
      "WARNING:root:Error parsing PROJ17100/RUN11/CLONE165/results0/science.log: expected '-' at 20:43\n",
      "WARNING:root:Error parsing PROJ17100/RUN11/CLONE346/results0/science.log: expected '-' at 21:43\n",
      "WARNING:root:Error parsing PROJ17100/RUN11/CLONE23/results1/science.log: expected '-' at 20:43\n",
      "WARNING:root:Error parsing PROJ17100/RUN11/CLONE117/results1/science.log: expected one of '', 'Performance since last checkpoint: ', '\\\\s+' at 777:0\n",
      "WARNING:root:Error parsing PROJ17100/RUN11/CLONE162/results1/science.log: expected '-' at 20:43\n",
      "WARNING:root:Error parsing PROJ17100/RUN11/CLONE162/results0/science.log: expected '-' at 20:43\n",
      "WARNING:root:Error parsing PROJ17100/RUN11/CLONE118/results1/science.log: expected '-' at 20:43\n",
      "WARNING:root:Error parsing PROJ17100/RUN11/CLONE48/results0/science.log: expected '-' at 20:22\n",
      "WARNING:root:Error parsing PROJ17100/RUN11/CLONE15/results0/science.log: expected '-' at 20:43\n",
      "WARNING:root:Error parsing PROJ17100/RUN3/CLONE297/results1/science.log: expected '-' at 20:22\n",
      "WARNING:root:Error parsing PROJ17100/RUN3/CLONE186/results0/science.log: expected one of '', 'Performance since last checkpoint: ', '\\\\s+' at 590:0\n",
      "WARNING:root:Error parsing PROJ17100/RUN3/CLONE183/results0/science.log: expected one of '', 'Performance since last checkpoint: ', '\\\\s+' at 411:0\n",
      "WARNING:root:Error parsing PROJ17100/RUN3/CLONE149/results1/science.log: 'utf-8' codec can't decode byte 0xb3 in position 1943: invalid start byte\n",
      "WARNING:root:Error parsing PROJ17100/RUN3/CLONE16/results1/science.log: expected one of '\\\\*+ ', '\\\\s+' at 0:0\n",
      "WARNING:root:Error parsing PROJ17100/RUN3/CLONE326/results0/science.log: expected one of '', 'Performance since last checkpoint: ', '\\\\s+' at 907:0\n",
      "WARNING:root:Error parsing PROJ17100/RUN3/CLONE57/results1/science.log: expected '-' at 20:22\n",
      "WARNING:root:Error parsing PROJ17100/RUN3/CLONE189/results0/science.log: expected one of '', 'Performance since last checkpoint: ', '\\\\s+' at 759:0\n",
      "WARNING:root:Error parsing PROJ17100/RUN3/CLONE139/results3/science.log: expected one of '', 'Performance since last checkpoint: ', '\\\\s+' at 898:0\n",
      "WARNING:root:Error parsing PROJ17100/RUN3/CLONE26/results1/science.log: expected '-' at 20:43\n",
      "WARNING:root:Error parsing PROJ17100/RUN3/CLONE170/results1/science.log: expected '-' at 20:43\n",
      "WARNING:root:Error parsing PROJ17100/RUN3/CLONE181/results0/science.log: expected one of '', 'Performance since last checkpoint: ', '\\\\s+' at 425:0\n",
      "WARNING:root:Error parsing PROJ17100/RUN3/CLONE147/results1/science.log: expected '-' at 20:43\n",
      "WARNING:root:Error parsing PROJ17100/RUN3/CLONE171/results1/science.log: expected one of '', 'Performance since last checkpoint: ', '\\\\s+' at 580:0\n",
      "WARNING:root:Error parsing PROJ17100/RUN3/CLONE163/results0/science.log: expected '-' at 20:43\n",
      "WARNING:root:Error parsing PROJ17100/RUN3/CLONE364/results1/science.log: expected one of '', 'Performance since last checkpoint: ', '\\\\s+' at 863:0\n",
      "WARNING:root:Error parsing PROJ17100/RUN3/CLONE403/results1/science.log: expected one of '', 'Performance since last checkpoint: ', '\\\\s+' at 582:0\n"
     ]
    },
    {
     "name": "stderr",
     "output_type": "stream",
     "text": [
      "WARNING:root:Error parsing PROJ17100/RUN3/CLONE165/results0/science.log: expected '-' at 19:74\n",
      "WARNING:root:Error parsing PROJ17100/RUN3/CLONE164/results0/science.log: expected '-' at 20:43\n",
      "WARNING:root:Error parsing PROJ17100/RUN3/CLONE176/results0/science.log: expected '-' at 20:43\n",
      "WARNING:root:Error parsing PROJ17100/RUN3/CLONE299/results1/science.log: expected '-' at 20:22\n",
      "WARNING:root:Error parsing PROJ17100/RUN3/CLONE137/results1/science.log: expected '-' at 20:43\n",
      "WARNING:root:Error parsing PROJ17100/RUN3/CLONE118/results0/science.log: expected one of '\\\\*+ ', '\\\\s+' at 0:0\n",
      "WARNING:root:Error parsing PROJ17100/RUN3/CLONE115/results1/science.log: expected one of '', 'Performance since last checkpoint: ', '\\\\s+' at 455:0\n",
      "WARNING:root:Error parsing PROJ17100/RUN7/CLONE98/results0/science.log: expected one of '\\\\*+ ', '\\\\s+' at 0:0\n",
      "WARNING:root:Error parsing PROJ17100/RUN7/CLONE413/results0/science.log: expected one of '', 'Performance since last checkpoint: ', '\\\\s+' at 435:0\n",
      "WARNING:root:Error parsing PROJ17100/RUN7/CLONE139/results3/science.log: expected one of '', 'Performance since last checkpoint: ', '\\\\s+' at 712:0\n",
      "WARNING:root:Error parsing PROJ17100/RUN7/CLONE139/results1/science.log: expected one of '', 'Performance since last checkpoint: ', '\\\\s+' at 1108:0\n",
      "WARNING:root:Error parsing PROJ17100/RUN7/CLONE12/results0/science.log: expected '-' at 20:43\n",
      "WARNING:root:Error parsing PROJ17100/RUN7/CLONE9/results0/science.log: expected '-' at 20:43\n",
      "WARNING:root:Error parsing PROJ17100/RUN7/CLONE111/results0/science.log: expected one of '', 'Performance since last checkpoint: ', '\\\\s+' at 423:0\n",
      "WARNING:root:Error parsing PROJ17100/RUN7/CLONE141/results2/science.log: expected one of '', 'Performance since last checkpoint: ', '\\\\s+' at 442:0\n",
      "WARNING:root:Error parsing PROJ17100/RUN7/CLONE135/results0/science.log: expected one of '', 'Performance since last checkpoint: ', '\\\\s+' at 947:0\n",
      "WARNING:root:Error parsing PROJ17100/RUN7/CLONE421/results0/science.log: expected one of '', 'Performance since last checkpoint: ', '\\\\s+' at 420:0\n",
      "WARNING:root:Error parsing PROJ17100/RUN7/CLONE163/results1/science.log: expected one of '', 'Performance since last checkpoint: ', '\\\\s+' at 448:0\n",
      "WARNING:root:Error parsing PROJ17100/RUN7/CLONE159/results0/science.log: expected '-' at 20:43\n",
      "WARNING:root:Error parsing PROJ17100/RUN7/CLONE284/results0/science.log: 'utf-8' codec can't decode byte 0xb3 in position 1945: invalid start byte\n",
      "WARNING:root:Error parsing PROJ17100/RUN7/CLONE391/results1/science.log: 'utf-8' codec can't decode byte 0xe5 in position 1974: invalid continuation byte\n",
      "WARNING:root:Error parsing PROJ17100/RUN7/CLONE4/results1/science.log: expected '-' at 20:43\n",
      "WARNING:root:Error parsing PROJ17100/RUN7/CLONE19/results1/science.log: expected '-' at 20:43\n",
      "WARNING:root:Error parsing PROJ17100/RUN7/CLONE156/results0/science.log: 'utf-8' codec can't decode byte 0xe9 in position 1952: invalid continuation byte\n",
      "WARNING:root:Error parsing PROJ17100/RUN7/CLONE327/results0/science.log: expected one of '', 'Performance since last checkpoint: ', '\\\\s+' at 433:0\n",
      "WARNING:root:Error parsing PROJ17100/RUN7/CLONE176/results0/science.log: expected '-' at 20:43\n",
      "WARNING:root:Error parsing PROJ17100/RUN7/CLONE174/results0/science.log: expected '-' at 20:43\n",
      "WARNING:root:Error parsing PROJ17100/RUN7/CLONE44/results0/science.log: expected '[' at 57:0\n",
      "WARNING:root:Error parsing PROJ17100/RUN7/CLONE157/results1/science.log: expected '-' at 20:43\n",
      "WARNING:root:Error parsing PROJ17100/RUN7/CLONE130/results0/science.log: expected one of '', 'Performance since last checkpoint: ', '\\\\s+' at 446:0\n",
      "WARNING:root:Error parsing PROJ17100/RUN8/CLONE289/results1/science.log: 'utf-8' codec can't decode byte 0xb3 in position 1944: invalid start byte\n",
      "WARNING:root:Error parsing PROJ17100/RUN8/CLONE100/results1/science.log: expected one of '\\\\*+ ', '\\\\s+' at 0:0\n",
      "WARNING:root:Error parsing PROJ17100/RUN8/CLONE2/results1/science.log: expected '-' at 20:43\n",
      "WARNING:root:Error parsing PROJ17100/RUN8/CLONE382/results1/science.log: expected one of '', 'Performance since last checkpoint: ', '\\\\s+' at 434:0\n",
      "WARNING:root:Error parsing PROJ17100/RUN8/CLONE14/results1/science.log: expected '-' at 20:43\n",
      "WARNING:root:Error parsing PROJ17100/RUN8/CLONE39/results1/science.log: expected '\\n' at 81:0\n",
      "WARNING:root:Error parsing PROJ17100/RUN8/CLONE28/results1/science.log: expected '-' at 20:43\n",
      "WARNING:root:Error parsing PROJ17100/RUN8/CLONE27/results0/science.log: expected '-' at 20:43\n",
      "WARNING:root:Error parsing PROJ17100/RUN8/CLONE43/results0/science.log: expected '-' at 20:22\n",
      "WARNING:root:Error parsing PROJ17100/RUN8/CLONE126/results0/science.log: expected one of '', 'Performance since last checkpoint: ', '\\\\s+' at 960:0\n",
      "WARNING:root:Error parsing PROJ17100/RUN8/CLONE141/results0/science.log: expected one of '', 'Performance since last checkpoint: ', '\\\\s+' at 457:0\n",
      "WARNING:root:Error parsing PROJ17100/RUN8/CLONE107/results0/science.log: expected one of '', 'Performance since last checkpoint: ', '\\\\s+' at 622:0\n",
      "WARNING:root:Error parsing PROJ17100/RUN8/CLONE155/results0/science.log: expected '-' at 20:43\n",
      "WARNING:root:Error parsing PROJ17100/RUN8/CLONE163/results1/science.log: expected '-' at 20:43\n",
      "WARNING:root:Error parsing PROJ17100/RUN8/CLONE13/results1/science.log: expected '-' at 20:43\n",
      "WARNING:root:Error parsing PROJ17100/RUN8/CLONE5/results1/science.log: expected '-' at 20:43\n",
      "WARNING:root:Error parsing PROJ17100/RUN8/CLONE154/results1/science.log: expected one of '', 'Performance since last checkpoint: ', '\\\\s+' at 588:0\n",
      "WARNING:root:Error parsing PROJ17100/RUN8/CLONE129/results1/science.log: expected '-' at 20:43\n",
      "WARNING:root:Error parsing PROJ17100/RUN8/CLONE8/results1/science.log: expected '-' at 20:43\n",
      "WARNING:root:Error parsing PROJ17100/RUN8/CLONE310/results0/science.log: expected one of '', 'Performance since last checkpoint: ', '\\\\s+' at 437:0\n",
      "WARNING:root:Error parsing PROJ17100/RUN8/CLONE21/results0/science.log: expected '-' at 20:43\n",
      "WARNING:root:Error parsing PROJ17100/RUN8/CLONE152/results0/science.log: 'utf-8' codec can't decode byte 0xe7 in position 1951: invalid continuation byte\n",
      "WARNING:root:Error parsing PROJ17100/RUN8/CLONE290/results0/science.log: expected '-' at 20:22\n",
      "WARNING:root:Error parsing PROJ17100/RUN8/CLONE121/results1/science.log: expected one of '', 'Performance since last checkpoint: ', '\\\\s+' at 470:0\n",
      "WARNING:root:Error parsing PROJ17100/RUN8/CLONE10/results0/science.log: expected '-' at 20:43\n",
      "WARNING:root:Error parsing PROJ17100/RUN13/CLONE150/results0/science.log: expected '-' at 20:43\n",
      "WARNING:root:Error parsing PROJ17100/RUN13/CLONE382/results0/science.log: 'utf-8' codec can't decode byte 0xfc in position 1978: invalid start byte\n",
      "WARNING:root:Error parsing PROJ17100/RUN13/CLONE198/results0/science.log: expected one of '\\\\*+ ', '\\\\s+' at 0:0\n",
      "WARNING:root:Error parsing PROJ17100/RUN13/CLONE183/results0/science.log: expected one of '', 'Performance since last checkpoint: ', '\\\\s+' at 564:0\n",
      "WARNING:root:Error parsing PROJ17100/RUN13/CLONE161/results1/science.log: expected one of '', 'Performance since last checkpoint: ', '\\\\s+' at 1075:0\n",
      "WARNING:root:Error parsing PROJ17100/RUN13/CLONE28/results1/science.log: expected '-' at 20:43\n",
      "WARNING:root:Error parsing PROJ17100/RUN13/CLONE12/results0/science.log: expected '-' at 20:43\n",
      "WARNING:root:Error parsing PROJ17100/RUN13/CLONE24/results1/science.log: expected '-' at 20:43\n",
      "WARNING:root:Error parsing PROJ17100/RUN13/CLONE13/results0/science.log: expected '-' at 20:43\n",
      "WARNING:root:Error parsing PROJ17100/RUN13/CLONE124/results1/science.log: expected one of '\\\\*+ ', '\\\\s+' at 0:0\n",
      "WARNING:root:Error parsing PROJ17100/RUN13/CLONE177/results0/science.log: expected '-' at 20:43\n",
      "WARNING:root:Error parsing PROJ17100/RUN13/CLONE104/results0/science.log: expected one of '', 'Performance since last checkpoint: ', '\\\\s+' at 586:0\n",
      "WARNING:root:Error parsing PROJ17100/RUN13/CLONE168/results0/science.log: expected '-' at 20:43\n",
      "WARNING:root:Error parsing PROJ17100/RUN13/CLONE287/results1/science.log: expected '-' at 20:22\n",
      "WARNING:root:Error parsing PROJ17100/RUN13/CLONE276/results1/science.log: 'utf-8' codec can't decode byte 0xc0 in position 1971: invalid start byte\n"
     ]
    },
    {
     "name": "stderr",
     "output_type": "stream",
     "text": [
      "WARNING:root:Error parsing PROJ17100/RUN13/CLONE22/results0/science.log: expected '-' at 20:43\n",
      "WARNING:root:Error parsing PROJ17100/RUN13/CLONE159/results1/science.log: expected one of '', 'Performance since last checkpoint: ', '\\\\s+' at 1272:0\n",
      "WARNING:root:Error parsing PROJ17100/RUN13/CLONE133/results1/science.log: expected '-' at 20:43\n",
      "WARNING:root:Error parsing PROJ17100/RUN13/CLONE136/results0/science.log: expected one of '', 'Performance since last checkpoint: ', '\\\\s+' at 618:0\n",
      "WARNING:root:Error parsing PROJ17100/RUN13/CLONE387/results1/science.log: 'utf-8' codec can't decode byte 0x92 in position 1971: invalid start byte\n",
      "WARNING:root:Error parsing PROJ17100/RUN13/CLONE137/results1/science.log: expected '-' at 20:43\n",
      "WARNING:root:Error parsing PROJ17100/RUN13/CLONE112/results0/science.log: expected one of '', 'Performance since last checkpoint: ', '\\\\s+' at 930:0\n",
      "WARNING:root:Error parsing PROJ17100/RUN13/CLONE17/results0/science.log: expected '-' at 20:43\n"
     ]
    },
    {
     "name": "stdout",
     "output_type": "stream",
     "text": [
      "\n",
      "<class 'pandas.core.frame.DataFrame'>\n",
      "RangeIndex: 12289 entries, 0 to 12288\n",
      "Data columns (total 5 columns):\n",
      " #   Column      Non-Null Count  Dtype  \n",
      "---  ------      --------------  -----  \n",
      " 0   run_id      12289 non-null  int64  \n",
      " 1   clone_id    12289 non-null  int64  \n",
      " 2   results_id  12289 non-null  int64  \n",
      " 3   gpu_name    12289 non-null  object \n",
      " 4   ns_per_day  12289 non-null  float64\n",
      "dtypes: float64(1), int64(3), object(1)\n",
      "memory usage: 480.2+ KB\n"
     ]
    }
   ],
   "source": [
    "if USE_CHECKPOINT:\n",
    "    data = pd.read_feather('checkpoint')\n",
    "else:\n",
    "    data = parse_logs_to_df(files)\n",
    "    data.to_feather('checkpoint')\n",
    "    \n",
    "data.info()"
   ]
  },
  {
   "cell_type": "code",
   "execution_count": 12,
   "metadata": {},
   "outputs": [
    {
     "data": {
      "text/html": [
       "\n",
       "<div id=\"altair-viz-2c77034e290d44c8ba6c406cb599a30f\"></div>\n",
       "<script type=\"text/javascript\">\n",
       "  (function(spec, embedOpt){\n",
       "    let outputDiv = document.currentScript.previousElementSibling;\n",
       "    if (outputDiv.id !== \"altair-viz-2c77034e290d44c8ba6c406cb599a30f\") {\n",
       "      outputDiv = document.getElementById(\"altair-viz-2c77034e290d44c8ba6c406cb599a30f\");\n",
       "    }\n",
       "    const paths = {\n",
       "      \"vega\": \"https://cdn.jsdelivr.net/npm//vega@5?noext\",\n",
       "      \"vega-lib\": \"https://cdn.jsdelivr.net/npm//vega-lib?noext\",\n",
       "      \"vega-lite\": \"https://cdn.jsdelivr.net/npm//vega-lite@4.8.1?noext\",\n",
       "      \"vega-embed\": \"https://cdn.jsdelivr.net/npm//vega-embed@6?noext\",\n",
       "    };\n",
       "\n",
       "    function loadScript(lib) {\n",
       "      return new Promise(function(resolve, reject) {\n",
       "        var s = document.createElement('script');\n",
       "        s.src = paths[lib];\n",
       "        s.async = true;\n",
       "        s.onload = () => resolve(paths[lib]);\n",
       "        s.onerror = () => reject(`Error loading script: ${paths[lib]}`);\n",
       "        document.getElementsByTagName(\"head\")[0].appendChild(s);\n",
       "      });\n",
       "    }\n",
       "\n",
       "    function showError(err) {\n",
       "      outputDiv.innerHTML = `<div class=\"error\" style=\"color:red;\">${err}</div>`;\n",
       "      throw err;\n",
       "    }\n",
       "\n",
       "    function displayChart(vegaEmbed) {\n",
       "      vegaEmbed(outputDiv, spec, embedOpt)\n",
       "        .catch(err => showError(`Javascript Error: ${err.message}<br>This usually means there's a typo in your chart specification. See the javascript console for the full traceback.`));\n",
       "    }\n",
       "\n",
       "    if(typeof define === \"function\" && define.amd) {\n",
       "      requirejs.config({paths});\n",
       "      require([\"vega-embed\"], displayChart, err => showError(`Error loading script: ${err.message}`));\n",
       "    } else if (typeof vegaEmbed === \"function\") {\n",
       "      displayChart(vegaEmbed);\n",
       "    } else {\n",
       "      loadScript(\"vega\")\n",
       "        .then(() => loadScript(\"vega-lite\"))\n",
       "        .then(() => loadScript(\"vega-embed\"))\n",
       "        .catch(showError)\n",
       "        .then(() => displayChart(vegaEmbed));\n",
       "    }\n",
       "  })({\"config\": {\"view\": {\"continuousWidth\": 400, \"continuousHeight\": 300}}, \"data\": {\"name\": \"data-b527d2fc7575dc937de7de021f7f2f69\"}, \"mark\": \"bar\", \"encoding\": {\"x\": {\"type\": \"quantitative\", \"aggregate\": \"mean\", \"field\": \"z_score_by_run\"}, \"y\": {\"type\": \"nominal\", \"field\": \"gpu_name\", \"sort\": \"-x\"}}, \"$schema\": \"https://vega.github.io/schema/vega-lite/v4.8.1.json\", \"datasets\": {\"data-b527d2fc7575dc937de7de021f7f2f69\": [{\"gpu_name\": \"Baffin\", \"z_score_by_run\": -0.8950921095120052}, {\"gpu_name\": \"Ellesmere\", \"z_score_by_run\": -0.4448600816595989}, {\"gpu_name\": \"GRID T4-2Q\", \"z_score_by_run\": 0.14678844006619626}, {\"gpu_name\": \"GeForce GTX 1050\", \"z_score_by_run\": -1.1236499152128687}, {\"gpu_name\": \"GeForce GTX 1050 Ti\", \"z_score_by_run\": -0.7096268460615817}, {\"gpu_name\": \"GeForce GTX 1060 3GB\", \"z_score_by_run\": -0.2966593234668034}, {\"gpu_name\": \"GeForce GTX 1060 6GB\", \"z_score_by_run\": -0.29375341222161117}, {\"gpu_name\": \"GeForce GTX 1070\", \"z_score_by_run\": 0.21282003717734757}, {\"gpu_name\": \"GeForce GTX 1070 Ti\", \"z_score_by_run\": 0.23271501088369415}, {\"gpu_name\": \"GeForce GTX 1080\", \"z_score_by_run\": 0.2891659394237515}, {\"gpu_name\": \"GeForce GTX 1080 Ti\", \"z_score_by_run\": 0.7331189338150614}, {\"gpu_name\": \"GeForce GTX 1650\", \"z_score_by_run\": -0.5248799378581019}, {\"gpu_name\": \"GeForce GTX 1660\", \"z_score_by_run\": -0.0197361347434795}, {\"gpu_name\": \"GeForce GTX 1660 SUPER\", \"z_score_by_run\": 0.08220333123951036}, {\"gpu_name\": \"GeForce GTX 1660 Ti\", \"z_score_by_run\": 0.19818092623832229}, {\"gpu_name\": \"GeForce GTX 560 Ti\", \"z_score_by_run\": -1.0183051087608521}, {\"gpu_name\": \"GeForce GTX 650 Ti BOOST\", \"z_score_by_run\": -1.048213658520195}, {\"gpu_name\": \"GeForce GTX 660 Ti\", \"z_score_by_run\": -0.9044945013986742}, {\"gpu_name\": \"GeForce GTX 750 Ti\", \"z_score_by_run\": -0.8949931891686642}, {\"gpu_name\": \"GeForce GTX 960\", \"z_score_by_run\": -0.7230222473588469}, {\"gpu_name\": \"GeForce GTX 960M\", \"z_score_by_run\": -0.9233657832952694}, {\"gpu_name\": \"GeForce GTX 970\", \"z_score_by_run\": -0.3294007927110299}, {\"gpu_name\": \"GeForce GTX 980\", \"z_score_by_run\": -0.06549005687524471}, {\"gpu_name\": \"GeForce GTX 980 Ti\", \"z_score_by_run\": 0.3109067156006426}, {\"gpu_name\": \"GeForce GTX 980M\", \"z_score_by_run\": -0.39504245058639587}, {\"gpu_name\": \"GeForce GTX TITAN X\", \"z_score_by_run\": 0.1891102322391388}, {\"gpu_name\": \"GeForce RTX 2060\", \"z_score_by_run\": 0.6093312997106376}, {\"gpu_name\": \"GeForce RTX 2060 SUPER\", \"z_score_by_run\": 0.7243768889709359}, {\"gpu_name\": \"GeForce RTX 2070\", \"z_score_by_run\": 0.7472077262643003}, {\"gpu_name\": \"GeForce RTX 2070 SUPER\", \"z_score_by_run\": 1.2041443923316775}, {\"gpu_name\": \"GeForce RTX 2080\", \"z_score_by_run\": 1.1293823816643545}, {\"gpu_name\": \"GeForce RTX 2080 SUPER\", \"z_score_by_run\": 1.302472607258723}, {\"gpu_name\": \"GeForce RTX 2080 Ti\", \"z_score_by_run\": 1.8957670572453011}, {\"gpu_name\": \"Intel(R) Gen9 HD Graphics NEO\", \"z_score_by_run\": -1.1302836399481035}, {\"gpu_name\": \"Intel(R) HD Graphics 520\", \"z_score_by_run\": -1.2135458095560714}, {\"gpu_name\": \"Intel(R) HD Graphics 530\", \"z_score_by_run\": -1.1695543990258732}, {\"gpu_name\": \"Intel(R) Iris(R) Plus Graphics 640\", \"z_score_by_run\": -1.1340705311977468}, {\"gpu_name\": \"Intel(R) UHD Graphics 630\", \"z_score_by_run\": -1.1638974519482097}, {\"gpu_name\": \"Intel(R) UHD Graphics Coffee Lake Halo GT2\", \"z_score_by_run\": -1.1973055247297655}, {\"gpu_name\": \"Quadro P1000\", \"z_score_by_run\": -0.8567426982281877}, {\"gpu_name\": \"Quadro P2000\", \"z_score_by_run\": -0.556470758494175}, {\"gpu_name\": \"Quadro P4000\", \"z_score_by_run\": -0.08761059490942012}, {\"gpu_name\": \"Spectre\", \"z_score_by_run\": -1.0597173401586502}, {\"gpu_name\": \"TITAN X (Pascal)\", \"z_score_by_run\": 0.6214888813985219}, {\"gpu_name\": \"TITAN Xp\", \"z_score_by_run\": 1.1265299444428094}, {\"gpu_name\": \"Tesla C2070\", \"z_score_by_run\": -1.13774742859363}, {\"gpu_name\": \"Tesla K80\", \"z_score_by_run\": -0.5244424047808643}, {\"gpu_name\": \"Tesla M60\", \"z_score_by_run\": -0.38309726553422174}, {\"gpu_name\": \"Tesla P100-PCIE-16GB\", \"z_score_by_run\": 0.9967887147403561}, {\"gpu_name\": \"Tesla T10\", \"z_score_by_run\": 1.3599393659022576}, {\"gpu_name\": \"Tesla T10x\", \"z_score_by_run\": 1.3054473413425498}, {\"gpu_name\": \"Tesla T4\", \"z_score_by_run\": 0.2724526353019159}, {\"gpu_name\": \"Tesla V100-PCIE-16GB\", \"z_score_by_run\": 1.9707130532747115}, {\"gpu_name\": \"Tesla V100-PCIE-32GB\", \"z_score_by_run\": 2.3511325825085656}, {\"gpu_name\": \"Tesla V100-SXM2-16GB\", \"z_score_by_run\": 2.613016003406436}, {\"gpu_name\": \"Tesla V100-SXM2-32GB\", \"z_score_by_run\": 2.1971312423319946}, {\"gpu_name\": \"Tesla V100-SXM3-32GB-H\", \"z_score_by_run\": 2.8650834727736103}, {\"gpu_name\": \"gfx1010\", \"z_score_by_run\": 0.21784074157493108}, {\"gpu_name\": \"gfx900\", \"z_score_by_run\": 0.2988168193994196}, {\"gpu_name\": \"gfx906\", \"z_score_by_run\": 0.6316681443175642}]}}, {\"mode\": \"vega-lite\"});\n",
       "</script>"
      ],
      "text/plain": [
       "alt.Chart(...)"
      ]
     },
     "execution_count": 12,
     "metadata": {},
     "output_type": "execute_result"
    }
   ],
   "source": [
    "df = (data\n",
    " .set_index(['run_id', 'clone_id', 'results_id', 'gpu_name'])\n",
    " ['ns_per_day']\n",
    " .groupby('gpu_name').filter(lambda x: len(x) > 10)\n",
    " .groupby('run_id').transform(lambda x: (x - x.mean()) / x.std()).rename('z_score_by_run')\n",
    " .groupby('gpu_name').mean()\n",
    ").reset_index()\n",
    "\n",
    "alt.Chart(df).mark_bar().encode(\n",
    "    x=alt.X(\"z_score_by_run:Q\", aggregate='mean'),\n",
    "    y=alt.Y(\"gpu_name:N\", sort='-x')\n",
    ")"
   ]
  },
  {
   "cell_type": "code",
   "execution_count": 13,
   "metadata": {},
   "outputs": [
    {
     "data": {
      "text/html": [
       "\n",
       "<div id=\"altair-viz-471d6ecd5ac44a35927a6fe4d4e44eb6\"></div>\n",
       "<script type=\"text/javascript\">\n",
       "  (function(spec, embedOpt){\n",
       "    let outputDiv = document.currentScript.previousElementSibling;\n",
       "    if (outputDiv.id !== \"altair-viz-471d6ecd5ac44a35927a6fe4d4e44eb6\") {\n",
       "      outputDiv = document.getElementById(\"altair-viz-471d6ecd5ac44a35927a6fe4d4e44eb6\");\n",
       "    }\n",
       "    const paths = {\n",
       "      \"vega\": \"https://cdn.jsdelivr.net/npm//vega@5?noext\",\n",
       "      \"vega-lib\": \"https://cdn.jsdelivr.net/npm//vega-lib?noext\",\n",
       "      \"vega-lite\": \"https://cdn.jsdelivr.net/npm//vega-lite@4.8.1?noext\",\n",
       "      \"vega-embed\": \"https://cdn.jsdelivr.net/npm//vega-embed@6?noext\",\n",
       "    };\n",
       "\n",
       "    function loadScript(lib) {\n",
       "      return new Promise(function(resolve, reject) {\n",
       "        var s = document.createElement('script');\n",
       "        s.src = paths[lib];\n",
       "        s.async = true;\n",
       "        s.onload = () => resolve(paths[lib]);\n",
       "        s.onerror = () => reject(`Error loading script: ${paths[lib]}`);\n",
       "        document.getElementsByTagName(\"head\")[0].appendChild(s);\n",
       "      });\n",
       "    }\n",
       "\n",
       "    function showError(err) {\n",
       "      outputDiv.innerHTML = `<div class=\"error\" style=\"color:red;\">${err}</div>`;\n",
       "      throw err;\n",
       "    }\n",
       "\n",
       "    function displayChart(vegaEmbed) {\n",
       "      vegaEmbed(outputDiv, spec, embedOpt)\n",
       "        .catch(err => showError(`Javascript Error: ${err.message}<br>This usually means there's a typo in your chart specification. See the javascript console for the full traceback.`));\n",
       "    }\n",
       "\n",
       "    if(typeof define === \"function\" && define.amd) {\n",
       "      requirejs.config({paths});\n",
       "      require([\"vega-embed\"], displayChart, err => showError(`Error loading script: ${err.message}`));\n",
       "    } else if (typeof vegaEmbed === \"function\") {\n",
       "      displayChart(vegaEmbed);\n",
       "    } else {\n",
       "      loadScript(\"vega\")\n",
       "        .then(() => loadScript(\"vega-lite\"))\n",
       "        .then(() => loadScript(\"vega-embed\"))\n",
       "        .catch(showError)\n",
       "        .then(() => displayChart(vegaEmbed));\n",
       "    }\n",
       "  })({\"config\": {\"view\": {\"continuousWidth\": 400, \"continuousHeight\": 300}}, \"data\": {\"name\": \"data-ecd4f538174c51a135f3d4e13c94b85b\"}, \"mark\": {\"type\": \"point\", \"filled\": true}, \"encoding\": {\"color\": {\"type\": \"nominal\", \"field\": \"run_id\"}, \"x\": {\"type\": \"quantitative\", \"field\": \"mean_ns_per_day\", \"scale\": {\"type\": \"log\"}}, \"y\": {\"type\": \"ordinal\", \"field\": \"gpu_name\", \"sort\": \"-x\"}}, \"$schema\": \"https://vega.github.io/schema/vega-lite/v4.8.1.json\", \"datasets\": {\"data-ecd4f538174c51a135f3d4e13c94b85b\": [{\"run_id\": 0, \"gpu_name\": \"GeForce GTX 1050 Ti\", \"mean_ns_per_day\": 184.80312500000002}, {\"run_id\": 0, \"gpu_name\": \"GeForce GTX 1070\", \"mean_ns_per_day\": 465.4754411764705}, {\"run_id\": 0, \"gpu_name\": \"GeForce GTX 1080 Ti\", \"mean_ns_per_day\": 535.1999310344828}, {\"run_id\": 0, \"gpu_name\": \"GeForce GTX 970\", \"mean_ns_per_day\": 286.34799999999996}, {\"run_id\": 0, \"gpu_name\": \"GeForce RTX 2060\", \"mean_ns_per_day\": 619.0584411764706}, {\"run_id\": 0, \"gpu_name\": \"GeForce RTX 2070 SUPER\", \"mean_ns_per_day\": 767.921909090909}, {\"run_id\": 0, \"gpu_name\": \"GeForce RTX 2080 Ti\", \"mean_ns_per_day\": 947.2388333333331}, {\"run_id\": 0, \"gpu_name\": \"Intel(R) HD Graphics 530\", \"mean_ns_per_day\": 36.68029677419354}, {\"run_id\": 0, \"gpu_name\": \"Intel(R) UHD Graphics 630\", \"mean_ns_per_day\": 40.006928571428574}, {\"run_id\": 0, \"gpu_name\": \"gfx1010\", \"mean_ns_per_day\": 375.68740740740736}, {\"run_id\": 0, \"gpu_name\": \"gfx900\", \"mean_ns_per_day\": 340.5046764705882}, {\"run_id\": 1, \"gpu_name\": \"GeForce GTX 1050 Ti\", \"mean_ns_per_day\": 186.01464375000006}, {\"run_id\": 1, \"gpu_name\": \"GeForce GTX 1070\", \"mean_ns_per_day\": 471.7286974999999}, {\"run_id\": 1, \"gpu_name\": \"GeForce GTX 1080 Ti\", \"mean_ns_per_day\": 557.9988833333332}, {\"run_id\": 1, \"gpu_name\": \"GeForce GTX 970\", \"mean_ns_per_day\": 281.138125}, {\"run_id\": 1, \"gpu_name\": \"GeForce RTX 2060\", \"mean_ns_per_day\": 551.0420444444444}, {\"run_id\": 1, \"gpu_name\": \"GeForce RTX 2070 SUPER\", \"mean_ns_per_day\": 762.3389545454546}, {\"run_id\": 1, \"gpu_name\": \"GeForce RTX 2080 Ti\", \"mean_ns_per_day\": 949.0163589743592}, {\"run_id\": 1, \"gpu_name\": \"Intel(R) HD Graphics 530\", \"mean_ns_per_day\": 36.53590769230769}, {\"run_id\": 1, \"gpu_name\": \"Intel(R) UHD Graphics 630\", \"mean_ns_per_day\": 40.57699402985074}, {\"run_id\": 1, \"gpu_name\": \"gfx1010\", \"mean_ns_per_day\": 377.28438095238096}, {\"run_id\": 1, \"gpu_name\": \"gfx900\", \"mean_ns_per_day\": 343.22388235294113}, {\"run_id\": 2, \"gpu_name\": \"GeForce GTX 1050 Ti\", \"mean_ns_per_day\": 319.5990714285715}, {\"run_id\": 2, \"gpu_name\": \"GeForce GTX 1070\", \"mean_ns_per_day\": 878.9040465116278}, {\"run_id\": 2, \"gpu_name\": \"GeForce GTX 1080 Ti\", \"mean_ns_per_day\": 1110.3372399999998}, {\"run_id\": 2, \"gpu_name\": \"GeForce GTX 970\", \"mean_ns_per_day\": 565.1902272727272}, {\"run_id\": 2, \"gpu_name\": \"GeForce RTX 2060\", \"mean_ns_per_day\": 903.6467586206893}, {\"run_id\": 2, \"gpu_name\": \"GeForce RTX 2070 SUPER\", \"mean_ns_per_day\": 1224.4264}, {\"run_id\": 2, \"gpu_name\": \"GeForce RTX 2080 Ti\", \"mean_ns_per_day\": 1489.32}, {\"run_id\": 2, \"gpu_name\": \"Intel(R) HD Graphics 530\", \"mean_ns_per_day\": 57.657475000000005}, {\"run_id\": 2, \"gpu_name\": \"Intel(R) UHD Graphics 630\", \"mean_ns_per_day\": 58.89164647887325}, {\"run_id\": 2, \"gpu_name\": \"gfx1010\", \"mean_ns_per_day\": 641.1536896551723}, {\"run_id\": 2, \"gpu_name\": \"gfx900\", \"mean_ns_per_day\": 562.8408780487805}, {\"run_id\": 3, \"gpu_name\": \"GeForce GTX 1050 Ti\", \"mean_ns_per_day\": 450.4236835443035}, {\"run_id\": 3, \"gpu_name\": \"GeForce GTX 1070\", \"mean_ns_per_day\": 1141.2917027027029}, {\"run_id\": 3, \"gpu_name\": \"GeForce GTX 1080 Ti\", \"mean_ns_per_day\": 1342.7559433962258}, {\"run_id\": 3, \"gpu_name\": \"GeForce GTX 970\", \"mean_ns_per_day\": 662.7920476190475}, {\"run_id\": 3, \"gpu_name\": \"GeForce RTX 2060\", \"mean_ns_per_day\": 1481.0007142857144}, {\"run_id\": 3, \"gpu_name\": \"GeForce RTX 2070 SUPER\", \"mean_ns_per_day\": 1831.7494736842104}, {\"run_id\": 3, \"gpu_name\": \"GeForce RTX 2080 Ti\", \"mean_ns_per_day\": 2188.999361224489}, {\"run_id\": 3, \"gpu_name\": \"Intel(R) HD Graphics 530\", \"mean_ns_per_day\": 84.79326071428572}, {\"run_id\": 3, \"gpu_name\": \"Intel(R) UHD Graphics 630\", \"mean_ns_per_day\": 93.16992028985504}, {\"run_id\": 3, \"gpu_name\": \"gfx1010\", \"mean_ns_per_day\": 924.479864864865}, {\"run_id\": 3, \"gpu_name\": \"gfx900\", \"mean_ns_per_day\": 802.7881842105263}, {\"run_id\": 4, \"gpu_name\": \"GeForce GTX 1050 Ti\", \"mean_ns_per_day\": 48.9872296511628}, {\"run_id\": 4, \"gpu_name\": \"GeForce GTX 1070\", \"mean_ns_per_day\": 130.49991190476194}, {\"run_id\": 4, \"gpu_name\": \"GeForce GTX 1080 Ti\", \"mean_ns_per_day\": 193.49432075471697}, {\"run_id\": 4, \"gpu_name\": \"GeForce GTX 970\", \"mean_ns_per_day\": 82.02100869565216}, {\"run_id\": 4, \"gpu_name\": \"GeForce RTX 2060\", \"mean_ns_per_day\": 172.11790555555547}, {\"run_id\": 4, \"gpu_name\": \"GeForce RTX 2070 SUPER\", \"mean_ns_per_day\": 235.16219230769227}, {\"run_id\": 4, \"gpu_name\": \"GeForce RTX 2080 Ti\", \"mean_ns_per_day\": 310.7902836734694}, {\"run_id\": 4, \"gpu_name\": \"Intel(R) HD Graphics 530\", \"mean_ns_per_day\": 9.46121941176471}, {\"run_id\": 4, \"gpu_name\": \"Intel(R) UHD Graphics 630\", \"mean_ns_per_day\": 9.75310693548387}, {\"run_id\": 4, \"gpu_name\": \"gfx1010\", \"mean_ns_per_day\": 146.4134390243902}, {\"run_id\": 4, \"gpu_name\": \"gfx900\", \"mean_ns_per_day\": 158.830925}, {\"run_id\": 5, \"gpu_name\": \"GeForce GTX 1050 Ti\", \"mean_ns_per_day\": 41.54537333333334}, {\"run_id\": 5, \"gpu_name\": \"GeForce GTX 1070\", \"mean_ns_per_day\": 110.88259024390241}, {\"run_id\": 5, \"gpu_name\": \"GeForce GTX 1080 Ti\", \"mean_ns_per_day\": 162.71865964912274}, {\"run_id\": 5, \"gpu_name\": \"GeForce GTX 970\", \"mean_ns_per_day\": 71.92428235294116}, {\"run_id\": 5, \"gpu_name\": \"GeForce RTX 2060\", \"mean_ns_per_day\": 151.03221428571436}, {\"run_id\": 5, \"gpu_name\": \"GeForce RTX 2070 SUPER\", \"mean_ns_per_day\": 200.90900000000002}, {\"run_id\": 5, \"gpu_name\": \"GeForce RTX 2080 Ti\", \"mean_ns_per_day\": 271.18809999999996}, {\"run_id\": 5, \"gpu_name\": \"Intel(R) HD Graphics 530\", \"mean_ns_per_day\": 7.8356264285714285}, {\"run_id\": 5, \"gpu_name\": \"Intel(R) UHD Graphics 630\", \"mean_ns_per_day\": 8.649373220338985}, {\"run_id\": 5, \"gpu_name\": \"gfx1010\", \"mean_ns_per_day\": 117.00892105263154}, {\"run_id\": 5, \"gpu_name\": \"gfx900\", \"mean_ns_per_day\": 134.1197777777778}, {\"run_id\": 6, \"gpu_name\": \"GeForce GTX 1050 Ti\", \"mean_ns_per_day\": 74.58125747126444}, {\"run_id\": 6, \"gpu_name\": \"GeForce GTX 1070\", \"mean_ns_per_day\": 203.94556857142848}, {\"run_id\": 6, \"gpu_name\": \"GeForce GTX 1080 Ti\", \"mean_ns_per_day\": 333.1760408163266}, {\"run_id\": 6, \"gpu_name\": \"GeForce GTX 970\", \"mean_ns_per_day\": 137.32961904761902}, {\"run_id\": 6, \"gpu_name\": \"GeForce RTX 2060\", \"mean_ns_per_day\": 242.61939166666656}, {\"run_id\": 6, \"gpu_name\": \"GeForce RTX 2070 SUPER\", \"mean_ns_per_day\": 329.6040740740741}, {\"run_id\": 6, \"gpu_name\": \"GeForce RTX 2080 Ti\", \"mean_ns_per_day\": 435.60392682926823}, {\"run_id\": 6, \"gpu_name\": \"Intel(R) HD Graphics 530\", \"mean_ns_per_day\": 12.274640000000002}, {\"run_id\": 6, \"gpu_name\": \"Intel(R) UHD Graphics 630\", \"mean_ns_per_day\": 13.687308000000003}, {\"run_id\": 6, \"gpu_name\": \"gfx1010\", \"mean_ns_per_day\": 218.58804166666664}, {\"run_id\": 6, \"gpu_name\": \"gfx900\", \"mean_ns_per_day\": 229.5286}, {\"run_id\": 7, \"gpu_name\": \"GeForce GTX 1050 Ti\", \"mean_ns_per_day\": 96.76209261744958}, {\"run_id\": 7, \"gpu_name\": \"GeForce GTX 1070\", \"mean_ns_per_day\": 266.998625}, {\"run_id\": 7, \"gpu_name\": \"GeForce GTX 1080 Ti\", \"mean_ns_per_day\": 374.7623035714288}, {\"run_id\": 7, \"gpu_name\": \"GeForce GTX 970\", \"mean_ns_per_day\": 165.52535}, {\"run_id\": 7, \"gpu_name\": \"GeForce RTX 2060\", \"mean_ns_per_day\": 336.2710906249999}, {\"run_id\": 7, \"gpu_name\": \"GeForce RTX 2070 SUPER\", \"mean_ns_per_day\": 460.9934}, {\"run_id\": 7, \"gpu_name\": \"GeForce RTX 2080 Ti\", \"mean_ns_per_day\": 614.3022931818183}, {\"run_id\": 7, \"gpu_name\": \"Intel(R) HD Graphics 530\", \"mean_ns_per_day\": 17.979761904761904}, {\"run_id\": 7, \"gpu_name\": \"Intel(R) UHD Graphics 630\", \"mean_ns_per_day\": 20.309985660377365}, {\"run_id\": 7, \"gpu_name\": \"gfx1010\", \"mean_ns_per_day\": 288.41746341463414}, {\"run_id\": 7, \"gpu_name\": \"gfx900\", \"mean_ns_per_day\": 315.6590303030304}, {\"run_id\": 8, \"gpu_name\": \"GeForce GTX 1050 Ti\", \"mean_ns_per_day\": 34.48026445783132}, {\"run_id\": 8, \"gpu_name\": \"GeForce GTX 1070\", \"mean_ns_per_day\": 93.26011351351349}, {\"run_id\": 8, \"gpu_name\": \"GeForce GTX 1080 Ti\", \"mean_ns_per_day\": 132.22900312500002}, {\"run_id\": 8, \"gpu_name\": \"GeForce GTX 970\", \"mean_ns_per_day\": 58.897153333333335}, {\"run_id\": 8, \"gpu_name\": \"GeForce RTX 2060\", \"mean_ns_per_day\": 123.58057692307692}, {\"run_id\": 8, \"gpu_name\": \"GeForce RTX 2070 SUPER\", \"mean_ns_per_day\": 168.39071428571427}, {\"run_id\": 8, \"gpu_name\": \"GeForce RTX 2080 Ti\", \"mean_ns_per_day\": 215.46102127659577}, {\"run_id\": 8, \"gpu_name\": \"Intel(R) HD Graphics 530\", \"mean_ns_per_day\": 11.608127142857144}, {\"run_id\": 8, \"gpu_name\": \"Intel(R) UHD Graphics 630\", \"mean_ns_per_day\": 9.227898550724639}, {\"run_id\": 8, \"gpu_name\": \"gfx1010\", \"mean_ns_per_day\": 110.544}, {\"run_id\": 8, \"gpu_name\": \"gfx900\", \"mean_ns_per_day\": 110.08035}, {\"run_id\": 9, \"gpu_name\": \"GeForce GTX 1050 Ti\", \"mean_ns_per_day\": 249.09762804878054}, {\"run_id\": 9, \"gpu_name\": \"GeForce GTX 1070\", \"mean_ns_per_day\": 588.4171836734695}, {\"run_id\": 9, \"gpu_name\": \"GeForce GTX 1080 Ti\", \"mean_ns_per_day\": 536.5029777777779}, {\"run_id\": 9, \"gpu_name\": \"GeForce GTX 970\", \"mean_ns_per_day\": 410.7857499999999}, {\"run_id\": 9, \"gpu_name\": \"GeForce RTX 2060\", \"mean_ns_per_day\": 914.1568875}, {\"run_id\": 9, \"gpu_name\": \"GeForce RTX 2070 SUPER\", \"mean_ns_per_day\": 832.0305555555555}, {\"run_id\": 9, \"gpu_name\": \"GeForce RTX 2080 Ti\", \"mean_ns_per_day\": 818.8008490566039}, {\"run_id\": 9, \"gpu_name\": \"Intel(R) HD Graphics 530\", \"mean_ns_per_day\": 82.07314545454545}, {\"run_id\": 9, \"gpu_name\": \"Intel(R) UHD Graphics 630\", \"mean_ns_per_day\": 92.58027051282053}, {\"run_id\": 9, \"gpu_name\": \"gfx1010\", \"mean_ns_per_day\": 329.1472285714285}, {\"run_id\": 9, \"gpu_name\": \"gfx900\", \"mean_ns_per_day\": 245.14738461538465}, {\"run_id\": 10, \"gpu_name\": \"GeForce GTX 1050 Ti\", \"mean_ns_per_day\": 10.814094319526626}, {\"run_id\": 10, \"gpu_name\": \"GeForce GTX 1070\", \"mean_ns_per_day\": 26.56008285714285}, {\"run_id\": 10, \"gpu_name\": \"GeForce GTX 1080 Ti\", \"mean_ns_per_day\": 38.762295081967196}, {\"run_id\": 10, \"gpu_name\": \"GeForce GTX 970\", \"mean_ns_per_day\": 18.512968750000002}, {\"run_id\": 10, \"gpu_name\": \"GeForce RTX 2060\", \"mean_ns_per_day\": 36.43871621621622}, {\"run_id\": 10, \"gpu_name\": \"GeForce RTX 2070 SUPER\", \"mean_ns_per_day\": 49.07256666666667}, {\"run_id\": 10, \"gpu_name\": \"GeForce RTX 2080 Ti\", \"mean_ns_per_day\": 64.58495075}, {\"run_id\": 10, \"gpu_name\": \"Intel(R) HD Graphics 530\", \"mean_ns_per_day\": 1.7188193478260867}, {\"run_id\": 10, \"gpu_name\": \"Intel(R) UHD Graphics 630\", \"mean_ns_per_day\": 1.9396250322580644}, {\"run_id\": 10, \"gpu_name\": \"gfx1010\", \"mean_ns_per_day\": 35.31285652173914}, {\"run_id\": 10, \"gpu_name\": \"gfx900\", \"mean_ns_per_day\": 42.39547}, {\"run_id\": 11, \"gpu_name\": \"GeForce GTX 1050 Ti\", \"mean_ns_per_day\": 8.405071210191092}, {\"run_id\": 11, \"gpu_name\": \"GeForce GTX 1070\", \"mean_ns_per_day\": 20.000265000000002}, {\"run_id\": 11, \"gpu_name\": \"GeForce GTX 1080 Ti\", \"mean_ns_per_day\": 29.904731914893624}, {\"run_id\": 11, \"gpu_name\": \"GeForce GTX 970\", \"mean_ns_per_day\": 14.116715}, {\"run_id\": 11, \"gpu_name\": \"GeForce RTX 2060\", \"mean_ns_per_day\": 28.16465142857143}, {\"run_id\": 11, \"gpu_name\": \"GeForce RTX 2070 SUPER\", \"mean_ns_per_day\": 38.65978076923077}, {\"run_id\": 11, \"gpu_name\": \"GeForce RTX 2080 Ti\", \"mean_ns_per_day\": 51.180286363636355}, {\"run_id\": 11, \"gpu_name\": \"Intel(R) HD Graphics 530\", \"mean_ns_per_day\": 1.350345189189189}, {\"run_id\": 11, \"gpu_name\": \"Intel(R) UHD Graphics 630\", \"mean_ns_per_day\": 1.4917727066666662}, {\"run_id\": 11, \"gpu_name\": \"gfx1010\", \"mean_ns_per_day\": 27.83172894736843}, {\"run_id\": 11, \"gpu_name\": \"gfx900\", \"mean_ns_per_day\": 34.96855000000001}, {\"run_id\": 12, \"gpu_name\": \"GeForce GTX 1050 Ti\", \"mean_ns_per_day\": 137.37001874999993}, {\"run_id\": 12, \"gpu_name\": \"GeForce GTX 1070\", \"mean_ns_per_day\": 349.68048000000005}, {\"run_id\": 12, \"gpu_name\": \"GeForce GTX 1080 Ti\", \"mean_ns_per_day\": 504.7277735849056}, {\"run_id\": 12, \"gpu_name\": \"GeForce GTX 970\", \"mean_ns_per_day\": 211.04875}, {\"run_id\": 12, \"gpu_name\": \"GeForce RTX 2060\", \"mean_ns_per_day\": 414.4152302325582}, {\"run_id\": 12, \"gpu_name\": \"GeForce RTX 2070 SUPER\", \"mean_ns_per_day\": 568.4123333333332}, {\"run_id\": 12, \"gpu_name\": \"GeForce RTX 2080 Ti\", \"mean_ns_per_day\": 739.3573848484848}, {\"run_id\": 12, \"gpu_name\": \"Intel(R) HD Graphics 530\", \"mean_ns_per_day\": 27.302975}, {\"run_id\": 12, \"gpu_name\": \"Intel(R) UHD Graphics 630\", \"mean_ns_per_day\": 30.12578783783784}, {\"run_id\": 12, \"gpu_name\": \"gfx1010\", \"mean_ns_per_day\": 379.36758260869567}, {\"run_id\": 12, \"gpu_name\": \"gfx900\", \"mean_ns_per_day\": 351.9684210526316}, {\"run_id\": 13, \"gpu_name\": \"GeForce GTX 1050 Ti\", \"mean_ns_per_day\": 42.777089142857115}, {\"run_id\": 13, \"gpu_name\": \"GeForce GTX 1070\", \"mean_ns_per_day\": 108.74117804878045}, {\"run_id\": 13, \"gpu_name\": \"GeForce GTX 1080 Ti\", \"mean_ns_per_day\": 166.38769999999997}, {\"run_id\": 13, \"gpu_name\": \"GeForce GTX 970\", \"mean_ns_per_day\": 71.47133888888888}, {\"run_id\": 13, \"gpu_name\": \"GeForce RTX 2060\", \"mean_ns_per_day\": 128.36138883720935}, {\"run_id\": 13, \"gpu_name\": \"GeForce RTX 2070 SUPER\", \"mean_ns_per_day\": 188.56071999999998}, {\"run_id\": 13, \"gpu_name\": \"GeForce RTX 2080 Ti\", \"mean_ns_per_day\": 264.5763636363636}, {\"run_id\": 13, \"gpu_name\": \"Intel(R) HD Graphics 530\", \"mean_ns_per_day\": 8.250479069767444}, {\"run_id\": 13, \"gpu_name\": \"Intel(R) UHD Graphics 630\", \"mean_ns_per_day\": 9.16252625}, {\"run_id\": 13, \"gpu_name\": \"gfx1010\", \"mean_ns_per_day\": 137.19459375}, {\"run_id\": 13, \"gpu_name\": \"gfx900\", \"mean_ns_per_day\": 153.3392105263158}, {\"run_id\": 14, \"gpu_name\": \"GeForce GTX 1050 Ti\", \"mean_ns_per_day\": 74.97542420382165}, {\"run_id\": 14, \"gpu_name\": \"GeForce GTX 1070\", \"mean_ns_per_day\": 193.58206382978724}, {\"run_id\": 14, \"gpu_name\": \"GeForce GTX 1080 Ti\", \"mean_ns_per_day\": 293.1637118644067}, {\"run_id\": 14, \"gpu_name\": \"GeForce GTX 970\", \"mean_ns_per_day\": 122.49280454545452}, {\"run_id\": 14, \"gpu_name\": \"GeForce RTX 2060\", \"mean_ns_per_day\": 222.07664864864864}, {\"run_id\": 14, \"gpu_name\": \"GeForce RTX 2070 SUPER\", \"mean_ns_per_day\": 312.358}, {\"run_id\": 14, \"gpu_name\": \"GeForce RTX 2080 Ti\", \"mean_ns_per_day\": 443.9277743589743}, {\"run_id\": 14, \"gpu_name\": \"Intel(R) HD Graphics 530\", \"mean_ns_per_day\": 14.291078124999997}, {\"run_id\": 14, \"gpu_name\": \"Intel(R) UHD Graphics 630\", \"mean_ns_per_day\": 16.477253214285714}, {\"run_id\": 14, \"gpu_name\": \"gfx1010\", \"mean_ns_per_day\": 236.29258536585363}, {\"run_id\": 14, \"gpu_name\": \"gfx900\", \"mean_ns_per_day\": 242.52619354838717}]}}, {\"mode\": \"vega-lite\"});\n",
       "</script>"
      ],
      "text/plain": [
       "alt.Chart(...)"
      ]
     },
     "execution_count": 13,
     "metadata": {},
     "output_type": "execute_result"
    }
   ],
   "source": [
    "df = (data\n",
    " .set_index(['run_id', 'clone_id', 'results_id', 'gpu_name'])\n",
    " ['ns_per_day']\n",
    " .groupby(['run_id', 'gpu_name']).filter(lambda x: len(x) > 10)\n",
    " .groupby('gpu_name').filter(lambda x: len(x.groupby('run_id')) == 15)\n",
    " .groupby(['run_id', 'gpu_name']).mean()\n",
    " .rename('mean_ns_per_day')\n",
    ").reset_index()\n",
    "\n",
    "alt.Chart(df).mark_point(filled=True).encode(\n",
    "    x=alt.X('mean_ns_per_day:Q', scale=alt.Scale(type='log')),\n",
    "    y=alt.Y('gpu_name:O', sort='-x'),\n",
    "    color='run_id:N',\n",
    ")"
   ]
  },
  {
   "cell_type": "code",
   "execution_count": 14,
   "metadata": {},
   "outputs": [
    {
     "data": {
      "text/plain": [
       "<seaborn.matrix.ClusterGrid at 0x7fdead6c4820>"
      ]
     },
     "execution_count": 14,
     "metadata": {},
     "output_type": "execute_result"
    },
    {
     "data": {
      "image/png": "[encoded data removed]",
      "text/plain": [
       "<Figure size 720x720 with 4 Axes>"
      ]
     },
     "metadata": {
      "needs_background": "light"
     },
     "output_type": "display_data"
    }
   ],
   "source": [
    "sns.clustermap(\n",
    "    data\n",
    "    .groupby('gpu_name').filter(lambda x: len(x.groupby('run_id')) == 15)\n",
    "    .groupby(['run_id', 'gpu_name'])\n",
    "    ['ns_per_day']\n",
    "    .mean()\n",
    "    .pipe(lambda x: np.log(x))\n",
    "    .unstack('run_id'))"
   ]
  }
 ],
 "metadata": {
  "kernelspec": {
   "display_name": "Python 3",
   "language": "python",
   "name": "python3"
  },
  "language_info": {
   "codemirror_mode": {
    "name": "ipython",
    "version": 3
   },
   "file_extension": ".py",
   "mimetype": "text/x-python",
   "name": "python",
   "nbconvert_exporter": "python",
   "pygments_lexer": "ipython3",
   "version": "3.8.3"
  }
 },
 "nbformat": 4,
 "nbformat_minor": 4
}
