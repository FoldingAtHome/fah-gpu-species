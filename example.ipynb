{
 "cells": [
  {
   "cell_type": "code",
   "execution_count": 1,
   "metadata": {},
   "outputs": [],
   "source": [
    "import altair as alt\n",
    "import glob\n",
    "import logging\n",
    "import multiprocessing\n",
    "import pandas as pd\n",
    "import re\n",
    "from tqdm.auto import tqdm\n",
    "from parse_science_log import parse"
   ]
  },
  {
   "cell_type": "code",
   "execution_count": 2,
   "metadata": {},
   "outputs": [],
   "source": [
    "log = parse('PROJ17100/RUN0/CLONE0/results0/science.log')"
   ]
  },
  {
   "cell_type": "code",
   "execution_count": 3,
   "metadata": {},
   "outputs": [
    {
     "data": {
      "text/plain": [
       "Device(name='GeForce GTX 1080 Ti', vendor='NVIDIA Corporation', version='OpenCL 1.2 CUDA')"
      ]
     },
     "execution_count": 3,
     "metadata": {},
     "output_type": "execute_result"
    }
   ],
   "source": [
    "log.get_active_device()"
   ]
  },
  {
   "cell_type": "code",
   "execution_count": 4,
   "metadata": {},
   "outputs": [
    {
     "data": {
      "text/plain": [
       "638.783"
      ]
     },
     "execution_count": 4,
     "metadata": {},
     "output_type": "execute_result"
    }
   ],
   "source": [
    "log.fah_core_log.average_perf_ns_day"
   ]
  },
  {
   "cell_type": "code",
   "execution_count": 5,
   "metadata": {},
   "outputs": [
    {
     "data": {
      "text/plain": [
       "416"
      ]
     },
     "execution_count": 5,
     "metadata": {},
     "output_type": "execute_result"
    }
   ],
   "source": [
    "files = glob.glob('PROJ17100/RUN0/CLONE*/results0/science.log')\n",
    "len(files)"
   ]
  },
  {
   "cell_type": "code",
   "execution_count": 6,
   "metadata": {},
   "outputs": [
    {
     "data": {
      "application/vnd.jupyter.widget-view+json": {
       "model_id": "5e2496dfe44e48f1b0f27cca4a12d052",
       "version_major": 2,
       "version_minor": 0
      },
      "text/plain": [
       "HBox(children=(FloatProgress(value=0.0, max=416.0), HTML(value='')))"
      ]
     },
     "metadata": {},
     "output_type": "display_data"
    },
    {
     "name": "stdout",
     "output_type": "stream",
     "text": [
      "\n"
     ]
    }
   ],
   "source": [
    "def get_gpu_perf(log_file):\n",
    "    try:\n",
    "        p = parse(log_file)\n",
    "        return p.get_active_device().name, p.fah_core_log.average_perf_ns_day\n",
    "    except:\n",
    "        return None\n",
    "\n",
    "gpu_perf = pd.DataFrame.from_records([get_gpu_perf(f) for f in tqdm(files)],  columns=[\"gpu_name\", \"ns_per_day\"])"
   ]
  },
  {
   "cell_type": "code",
   "execution_count": 7,
   "metadata": {},
   "outputs": [
    {
     "data": {
      "text/html": [
       "<div>\n",
       "<style scoped>\n",
       "    .dataframe tbody tr th:only-of-type {\n",
       "        vertical-align: middle;\n",
       "    }\n",
       "\n",
       "    .dataframe tbody tr th {\n",
       "        vertical-align: top;\n",
       "    }\n",
       "\n",
       "    .dataframe thead th {\n",
       "        text-align: right;\n",
       "    }\n",
       "</style>\n",
       "<table border=\"1\" class=\"dataframe\">\n",
       "  <thead>\n",
       "    <tr style=\"text-align: right;\">\n",
       "      <th></th>\n",
       "      <th>gpu_name</th>\n",
       "      <th>ns_per_day</th>\n",
       "    </tr>\n",
       "  </thead>\n",
       "  <tbody>\n",
       "    <tr>\n",
       "      <th>0</th>\n",
       "      <td>Intel(R) UHD Graphics 630</td>\n",
       "      <td>41.1553</td>\n",
       "    </tr>\n",
       "    <tr>\n",
       "      <th>1</th>\n",
       "      <td>gfx906</td>\n",
       "      <td>439.8940</td>\n",
       "    </tr>\n",
       "    <tr>\n",
       "      <th>2</th>\n",
       "      <td>GeForce GTX 1050 Ti</td>\n",
       "      <td>192.7630</td>\n",
       "    </tr>\n",
       "    <tr>\n",
       "      <th>3</th>\n",
       "      <td>Intel(R) UHD Graphics 630</td>\n",
       "      <td>43.9251</td>\n",
       "    </tr>\n",
       "    <tr>\n",
       "      <th>4</th>\n",
       "      <td>GeForce GTX 1050 Ti</td>\n",
       "      <td>157.8070</td>\n",
       "    </tr>\n",
       "  </tbody>\n",
       "</table>\n",
       "</div>"
      ],
      "text/plain": [
       "                    gpu_name  ns_per_day\n",
       "0  Intel(R) UHD Graphics 630     41.1553\n",
       "1                     gfx906    439.8940\n",
       "2        GeForce GTX 1050 Ti    192.7630\n",
       "3  Intel(R) UHD Graphics 630     43.9251\n",
       "4        GeForce GTX 1050 Ti    157.8070"
      ]
     },
     "execution_count": 7,
     "metadata": {},
     "output_type": "execute_result"
    }
   ],
   "source": [
    "gpu_perf.head()"
   ]
  },
  {
   "cell_type": "code",
   "execution_count": 8,
   "metadata": {},
   "outputs": [
    {
     "data": {
      "text/html": [
       "\n",
       "<div id=\"altair-viz-1bd88dce7bb54d998263de6c8861ede7\"></div>\n",
       "<script type=\"text/javascript\">\n",
       "  (function(spec, embedOpt){\n",
       "    let outputDiv = document.currentScript.previousElementSibling;\n",
       "    if (outputDiv.id !== \"altair-viz-1bd88dce7bb54d998263de6c8861ede7\") {\n",
       "      outputDiv = document.getElementById(\"altair-viz-1bd88dce7bb54d998263de6c8861ede7\");\n",
       "    }\n",
       "    const paths = {\n",
       "      \"vega\": \"https://cdn.jsdelivr.net/npm//vega@5?noext\",\n",
       "      \"vega-lib\": \"https://cdn.jsdelivr.net/npm//vega-lib?noext\",\n",
       "      \"vega-lite\": \"https://cdn.jsdelivr.net/npm//vega-lite@4.8.1?noext\",\n",
       "      \"vega-embed\": \"https://cdn.jsdelivr.net/npm//vega-embed@6?noext\",\n",
       "    };\n",
       "\n",
       "    function loadScript(lib) {\n",
       "      return new Promise(function(resolve, reject) {\n",
       "        var s = document.createElement('script');\n",
       "        s.src = paths[lib];\n",
       "        s.async = true;\n",
       "        s.onload = () => resolve(paths[lib]);\n",
       "        s.onerror = () => reject(`Error loading script: ${paths[lib]}`);\n",
       "        document.getElementsByTagName(\"head\")[0].appendChild(s);\n",
       "      });\n",
       "    }\n",
       "\n",
       "    function showError(err) {\n",
       "      outputDiv.innerHTML = `<div class=\"error\" style=\"color:red;\">${err}</div>`;\n",
       "      throw err;\n",
       "    }\n",
       "\n",
       "    function displayChart(vegaEmbed) {\n",
       "      vegaEmbed(outputDiv, spec, embedOpt)\n",
       "        .catch(err => showError(`Javascript Error: ${err.message}<br>This usually means there's a typo in your chart specification. See the javascript console for the full traceback.`));\n",
       "    }\n",
       "\n",
       "    if(typeof define === \"function\" && define.amd) {\n",
       "      requirejs.config({paths});\n",
       "      require([\"vega-embed\"], displayChart, err => showError(`Error loading script: ${err.message}`));\n",
       "    } else if (typeof vegaEmbed === \"function\") {\n",
       "      displayChart(vegaEmbed);\n",
       "    } else {\n",
       "      loadScript(\"vega\")\n",
       "        .then(() => loadScript(\"vega-lite\"))\n",
       "        .then(() => loadScript(\"vega-embed\"))\n",
       "        .catch(showError)\n",
       "        .then(() => displayChart(vegaEmbed));\n",
       "    }\n",
       "  })({\"config\": {\"view\": {\"continuousWidth\": 400, \"continuousHeight\": 300}}, \"data\": {\"name\": \"data-96f281446e33dc7dc3f57f4a5f9aa5d4\"}, \"mark\": \"bar\", \"encoding\": {\"x\": {\"type\": \"quantitative\", \"aggregate\": \"mean\", \"field\": \"ns_per_day\"}, \"y\": {\"type\": \"nominal\", \"field\": \"gpu_name\", \"sort\": \"-x\"}}, \"$schema\": \"https://vega.github.io/schema/vega-lite/v4.8.1.json\", \"datasets\": {\"data-96f281446e33dc7dc3f57f4a5f9aa5d4\": [{\"gpu_name\": \"Intel(R) UHD Graphics 630\", \"ns_per_day\": 41.1553}, {\"gpu_name\": \"gfx906\", \"ns_per_day\": 439.894}, {\"gpu_name\": \"GeForce GTX 1050 Ti\", \"ns_per_day\": 192.763}, {\"gpu_name\": \"Intel(R) UHD Graphics 630\", \"ns_per_day\": 43.9251}, {\"gpu_name\": \"GeForce GTX 1050 Ti\", \"ns_per_day\": 157.807}, {\"gpu_name\": \"GeForce GTX 1080 Ti\", \"ns_per_day\": 674.669}, {\"gpu_name\": \"GeForce GTX 1050 Ti\", \"ns_per_day\": 193.695}, {\"gpu_name\": \"GeForce GTX 950\", \"ns_per_day\": 152.207}, {\"gpu_name\": \"Tesla C2070\", \"ns_per_day\": 45.61}, {\"gpu_name\": \"GeForce GTX 1050 Ti\", \"ns_per_day\": 190.621}, {\"gpu_name\": \"GeForce GTX 1080\", \"ns_per_day\": 536.121}, {\"gpu_name\": \"gfx1010\", \"ns_per_day\": 352.173}, {\"gpu_name\": \"GeForce GTX 1060 3GB\", \"ns_per_day\": 315.2}, {\"gpu_name\": \"GeForce GTX 1080\", \"ns_per_day\": 377.645}, {\"gpu_name\": \"GeForce GTX 1050 Ti\", \"ns_per_day\": 190.319}, {\"gpu_name\": \"Intel(R) UHD Graphics 630\", \"ns_per_day\": 45.0117}, {\"gpu_name\": \"GeForce RTX 2070\", \"ns_per_day\": 638.783}, {\"gpu_name\": \"GeForce GTX 1050 Ti\", \"ns_per_day\": 193.384}, {\"gpu_name\": \"GeForce GTX 1080 Ti\", \"ns_per_day\": 597.468}, {\"gpu_name\": \"GeForce GTX 1080 Ti\", \"ns_per_day\": 356.354}, {\"gpu_name\": \"Intel(R) UHD Graphics 630\", \"ns_per_day\": 44.4947}, {\"gpu_name\": \"GeForce GTX 980\", \"ns_per_day\": 363.913}, {\"gpu_name\": \"GeForce GTX 1650\", \"ns_per_day\": 249.152}, {\"gpu_name\": \"gfx900\", \"ns_per_day\": 329.017}, {\"gpu_name\": \"GeForce RTX 2080 Ti\", \"ns_per_day\": 863.965}, {\"gpu_name\": \"GeForce GTX 1050 Ti\", \"ns_per_day\": 192.454}, {\"gpu_name\": \"GeForce GTX 650 Ti BOOST\", \"ns_per_day\": 71.7819}, {\"gpu_name\": \"GeForce RTX 2080\", \"ns_per_day\": 811.427}, {\"gpu_name\": null, \"ns_per_day\": null}, {\"gpu_name\": \"gfx1010\", \"ns_per_day\": 346.084}, {\"gpu_name\": \"GeForce GTX 1070\", \"ns_per_day\": 472.8}, {\"gpu_name\": null, \"ns_per_day\": null}, {\"gpu_name\": \"GeForce RTX 2060\", \"ns_per_day\": 645.651}, {\"gpu_name\": \"GeForce GTX 1080\", \"ns_per_day\": 526.716}, {\"gpu_name\": \"Intel(R) HD Graphics 530\", \"ns_per_day\": 40.8891}, {\"gpu_name\": \"Tesla V100-SXM2-16GB\", \"ns_per_day\": 916.726}, {\"gpu_name\": \"GeForce RTX 2060\", \"ns_per_day\": 638.783}, {\"gpu_name\": \"GeForce GTX 1050 Ti\", \"ns_per_day\": 193.073}, {\"gpu_name\": \"GeForce GTX 1080 Ti\", \"ns_per_day\": 358.481}, {\"gpu_name\": \"GeForce GTX 1050 Ti\", \"ns_per_day\": 188.526}, {\"gpu_name\": \"Intel(R) UHD Graphics 630\", \"ns_per_day\": 35.9447}, {\"gpu_name\": \"Quadro P2000\", \"ns_per_day\": 244.585}, {\"gpu_name\": \"GeForce GTX 1070 Ti\", \"ns_per_day\": 500.38}, {\"gpu_name\": \"GeForce RTX 2080 Ti\", \"ns_per_day\": 992.489}, {\"gpu_name\": \"gfx1010\", \"ns_per_day\": 384.908}, {\"gpu_name\": \"Intel(R) UHD Graphics 630\", \"ns_per_day\": 24.3889}, {\"gpu_name\": \"gfx1010\", \"ns_per_day\": 354.251}, {\"gpu_name\": \"GeForce GTX 1080 Ti\", \"ns_per_day\": 741.303}, {\"gpu_name\": \"GeForce GTX 1060 3GB\", \"ns_per_day\": 196.871}, {\"gpu_name\": null, \"ns_per_day\": null}, {\"gpu_name\": \"Intel(R) UHD Graphics 630\", \"ns_per_day\": 45.8363}, {\"gpu_name\": \"GeForce GTX 1050 Ti\", \"ns_per_day\": 159.696}, {\"gpu_name\": \"Intel(R) UHD Graphics 630\", \"ns_per_day\": 36.9739}, {\"gpu_name\": \"GeForce RTX 2060\", \"ns_per_day\": 582.967}, {\"gpu_name\": \"GeForce GTX 1080 Ti\", \"ns_per_day\": 242.608}, {\"gpu_name\": \"GeForce GTX 1070\", \"ns_per_day\": 490.168}, {\"gpu_name\": \"GeForce RTX 2080\", \"ns_per_day\": 930.939}, {\"gpu_name\": \"GeForce GTX 1050 Ti\", \"ns_per_day\": 194.953}, {\"gpu_name\": null, \"ns_per_day\": null}, {\"gpu_name\": \"Intel(R) UHD Graphics 630\", \"ns_per_day\": 45.3516}, {\"gpu_name\": \"GeForce RTX 2060\", \"ns_per_day\": 638.783}, {\"gpu_name\": \"GeForce GTX 660 Ti\", \"ns_per_day\": 112.868}, {\"gpu_name\": \"GeForce GTX 1080 Ti\", \"ns_per_day\": 736.756}, {\"gpu_name\": \"GeForce GTX 1080 Ti\", \"ns_per_day\": 325.45}, {\"gpu_name\": \"Intel(R) HD Graphics 530\", \"ns_per_day\": 32.8118}, {\"gpu_name\": \"GeForce RTX 2080 Ti\", \"ns_per_day\": 909.782}, {\"gpu_name\": null, \"ns_per_day\": null}, {\"gpu_name\": \"GeForce GTX 1050 Ti\", \"ns_per_day\": 196.549}, {\"gpu_name\": \"GeForce GTX 980 Ti\", \"ns_per_day\": 494.202}, {\"gpu_name\": \"Intel(R) HD Graphics 530\", \"ns_per_day\": 32.7224}, {\"gpu_name\": \"Ellesmere\", \"ns_per_day\": 171.314}, {\"gpu_name\": \"Intel(R) UHD Graphics 630\", \"ns_per_day\": 31.2006}, {\"gpu_name\": \"GeForce RTX 2070 SUPER\", \"ns_per_day\": 577.361}, {\"gpu_name\": \"GeForce GTX 1050 Ti\", \"ns_per_day\": 158.641}, {\"gpu_name\": \"Quadro P1000\", \"ns_per_day\": 133.881}, {\"gpu_name\": \"GeForce GTX 980\", \"ns_per_day\": 382.456}, {\"gpu_name\": \"GeForce GTX 960\", \"ns_per_day\": 209.95}, {\"gpu_name\": \"GeForce RTX 2060 SUPER\", \"ns_per_day\": 555.978}, {\"gpu_name\": \"gfx900\", \"ns_per_day\": 353.209}, {\"gpu_name\": \"GeForce RTX 2060\", \"ns_per_day\": 642.199}, {\"gpu_name\": \"GeForce GTX 1050 Ti\", \"ns_per_day\": 191.533}, {\"gpu_name\": \"GeForce GTX 1080 Ti\", \"ns_per_day\": 259.376}, {\"gpu_name\": \"GeForce GTX 1080\", \"ns_per_day\": 577.361}, {\"gpu_name\": \"gfx900\", \"ns_per_day\": 329.921}, {\"gpu_name\": \"Tesla V100-SXM2-16GB\", \"ns_per_day\": 923.778}, {\"gpu_name\": \"GeForce RTX 2080 SUPER\", \"ns_per_day\": 930.939}, {\"gpu_name\": \"GeForce GTX 1080 Ti\", \"ns_per_day\": 380.035}, {\"gpu_name\": \"Ellesmere\", \"ns_per_day\": 203.544}, {\"gpu_name\": \"GeForce GTX 1650\", \"ns_per_day\": 247.611}, {\"gpu_name\": \"GeForce RTX 2080 SUPER\", \"ns_per_day\": 889.564}, {\"gpu_name\": \"Intel(R) UHD Graphics 630\", \"ns_per_day\": 43.5271}, {\"gpu_name\": \"GeForce GTX 1080 Ti\", \"ns_per_day\": 275.438}, {\"gpu_name\": \"GeForce GTX 650 Ti BOOST\", \"ns_per_day\": 70.0649}, {\"gpu_name\": null, \"ns_per_day\": null}, {\"gpu_name\": \"GeForce GTX 1050 Ti\", \"ns_per_day\": 194.008}, {\"gpu_name\": \"GeForce GTX 980M\", \"ns_per_day\": 279.282}, {\"gpu_name\": \"GeForce GTX 1060 6GB\", \"ns_per_day\": 331.744}, {\"gpu_name\": \"Tesla V100-PCIE-32GB\", \"ns_per_day\": 863.965}, {\"gpu_name\": \"GeForce GTX 1050 Ti\", \"ns_per_day\": 159.061}, {\"gpu_name\": \"GeForce GTX 1050 Ti\", \"ns_per_day\": 194.637}, {\"gpu_name\": \"GeForce GTX 1070 Ti\", \"ns_per_day\": 350.12}, {\"gpu_name\": \"GeForce GTX 1050 Ti\", \"ns_per_day\": 191.839}, {\"gpu_name\": \"GeForce GTX 980 Ti\", \"ns_per_day\": 494.202}, {\"gpu_name\": \"GeForce RTX 2080 Ti\", \"ns_per_day\": 960.729}, {\"gpu_name\": \"GeForce GTX 980 Ti\", \"ns_per_day\": 484.239}, {\"gpu_name\": \"GeForce GTX 1050 Ti\", \"ns_per_day\": 182.787}, {\"gpu_name\": \"GeForce GTX 1050 Ti\", \"ns_per_day\": 193.384}, {\"gpu_name\": \"GeForce GTX 1070\", \"ns_per_day\": 444.782}, {\"gpu_name\": \"Intel(R) UHD Graphics 630\", \"ns_per_day\": 44.8436}, {\"gpu_name\": null, \"ns_per_day\": null}, {\"gpu_name\": \"Tesla T4\", \"ns_per_day\": 511.026}, {\"gpu_name\": \"GeForce GTX 980\", \"ns_per_day\": 382.456}, {\"gpu_name\": \"GeForce GTX 1050 Ti\", \"ns_per_day\": 185.326}, {\"gpu_name\": \"GeForce GTX 1080 Ti\", \"ns_per_day\": 387.391}, {\"gpu_name\": \"GeForce GTX 1050 Ti\", \"ns_per_day\": 159.696}, {\"gpu_name\": \"Intel(R) UHD Graphics 630\", \"ns_per_day\": 35.9124}, {\"gpu_name\": \"gfx906\", \"ns_per_day\": 409.867}, {\"gpu_name\": \"GeForce RTX 2080 SUPER\", \"ns_per_day\": 769.815}, {\"gpu_name\": \"Tesla C2070\", \"ns_per_day\": 45.61}, {\"gpu_name\": \"GeForce RTX 2060\", \"ns_per_day\": 638.783}, {\"gpu_name\": \"GeForce GTX 1050 Ti\", \"ns_per_day\": 197.194}, {\"gpu_name\": \"gfx1010\", \"ns_per_day\": 397.653}, {\"gpu_name\": \"GeForce GTX 1050 Ti\", \"ns_per_day\": 159.061}, {\"gpu_name\": \"GeForce RTX 2060\", \"ns_per_day\": 645.651}, {\"gpu_name\": \"GeForce GTX 1050 Ti\", \"ns_per_day\": 193.384}, {\"gpu_name\": \"gfx1010\", \"ns_per_day\": 404.347}, {\"gpu_name\": \"GeForce GTX 1660 SUPER\", \"ns_per_day\": 486.199}, {\"gpu_name\": \"GeForce RTX 2070 SUPER\", \"ns_per_day\": 667.173}, {\"gpu_name\": \"GeForce GTX 1070\", \"ns_per_day\": 474.669}, {\"gpu_name\": \"GeForce GTX 970\", \"ns_per_day\": 247.101}, {\"gpu_name\": \"GeForce GTX 1050 Ti\", \"ns_per_day\": 193.695}, {\"gpu_name\": \"Tesla V100-SXM2-32GB\", \"ns_per_day\": 889.564}, {\"gpu_name\": \"GeForce GTX 1050 Ti\", \"ns_per_day\": 193.695}, {\"gpu_name\": \"GeForce GTX 1080 Ti\", \"ns_per_day\": 266.869}, {\"gpu_name\": \"Intel(R) HD Graphics 520\", \"ns_per_day\": 18.6044}, {\"gpu_name\": \"GeForce GTX 1050 Ti\", \"ns_per_day\": 192.763}, {\"gpu_name\": \"GeForce RTX 2080 SUPER\", \"ns_per_day\": 851.71}, {\"gpu_name\": \"GeForce GTX 1050 Ti\", \"ns_per_day\": 192.146}, {\"gpu_name\": \"GeForce RTX 2080 Ti\", \"ns_per_day\": 916.726}, {\"gpu_name\": \"GeForce GTX 1050 Ti\", \"ns_per_day\": 191.839}, {\"gpu_name\": \"gfx1010\", \"ns_per_day\": 358.481}, {\"gpu_name\": \"GeForce RTX 2080 SUPER\", \"ns_per_day\": 727.825}, {\"gpu_name\": \"GeForce RTX 2070 SUPER\", \"ns_per_day\": 811.427}, {\"gpu_name\": \"GeForce GTX 1050 Ti\", \"ns_per_day\": 158.641}, {\"gpu_name\": \"gfx900\", \"ns_per_day\": 346.084}, {\"gpu_name\": \"GeForce GTX 1050 Ti\", \"ns_per_day\": 159.272}, {\"gpu_name\": \"Intel(R) Gen9 HD Graphics NEO\", \"ns_per_day\": 44.4947}, {\"gpu_name\": \"gfx906\", \"ns_per_day\": 412.684}, {\"gpu_name\": \"GeForce GTX 1050 Ti\", \"ns_per_day\": 190.924}, {\"gpu_name\": \"GeForce GTX 1080 Ti\", \"ns_per_day\": 678.481}, {\"gpu_name\": \"GeForce GTX 980 Ti\", \"ns_per_day\": 484.239}, {\"gpu_name\": \"GeForce GTX 1050 Ti\", \"ns_per_day\": 195.588}, {\"gpu_name\": \"GeForce GTX 1050 Ti\", \"ns_per_day\": 193.384}, {\"gpu_name\": \"GeForce GTX 1050 Ti\", \"ns_per_day\": 191.533}, {\"gpu_name\": \"gfx906\", \"ns_per_day\": 419.899}, {\"gpu_name\": \"gfx1010\", \"ns_per_day\": 396.34}, {\"gpu_name\": \"GeForce RTX 2070 SUPER\", \"ns_per_day\": 828.215}, {\"gpu_name\": \"GeForce GTX 1660 Ti\", \"ns_per_day\": 482.294}, {\"gpu_name\": \"GeForce GTX 1050 Ti\", \"ns_per_day\": 192.763}, {\"gpu_name\": \"GeForce GTX 1050 Ti\", \"ns_per_day\": 201.158}, {\"gpu_name\": \"Intel(R) UHD Graphics 630\", \"ns_per_day\": 36.7701}, {\"gpu_name\": \"GeForce GTX 1070 Ti\", \"ns_per_day\": 494.202}, {\"gpu_name\": \"GeForce GTX 1050 Ti\", \"ns_per_day\": 193.695}, {\"gpu_name\": \"gfx900\", \"ns_per_day\": 435.113}, {\"gpu_name\": \"GeForce GTX 1080 Ti\", \"ns_per_day\": 750.57}, {\"gpu_name\": \"gfx900\", \"ns_per_day\": 332.662}, {\"gpu_name\": \"Intel(R) UHD Graphics 630\", \"ns_per_day\": 41.7418}, {\"gpu_name\": \"Intel(R) UHD Graphics 630\", \"ns_per_day\": 42.8438}, {\"gpu_name\": \"GeForce GTX 1070\", \"ns_per_day\": 247.611}, {\"gpu_name\": \"GeForce GTX 1660 SUPER\", \"ns_per_day\": 458.363}, {\"gpu_name\": \"Intel(R) UHD Graphics 630\", \"ns_per_day\": 43.909}, {\"gpu_name\": \"gfx906\", \"ns_per_day\": 476.552}, {\"gpu_name\": null, \"ns_per_day\": null}, {\"gpu_name\": \"GeForce GTX 1050 Ti\", \"ns_per_day\": 194.322}, {\"gpu_name\": \"GeForce RTX 2060\", \"ns_per_day\": 642.199}, {\"gpu_name\": \"Intel(R) UHD Graphics 630\", \"ns_per_day\": 44.3796}, {\"gpu_name\": \"GeForce RTX 2070 SUPER\", \"ns_per_day\": 694.169}, {\"gpu_name\": \"GeForce RTX 2080 Ti\", \"ns_per_day\": 1026.42}, {\"gpu_name\": \"GeForce RTX 2070 SUPER\", \"ns_per_day\": 686.235}, {\"gpu_name\": \"GeForce RTX 2060 SUPER\", \"ns_per_day\": 678.481}, {\"gpu_name\": \"Quadro RTX 4000\", \"ns_per_day\": 566.468}, {\"gpu_name\": \"GeForce GTX 1050 Ti\", \"ns_per_day\": 159.484}, {\"gpu_name\": \"Intel(R) UHD Graphics 630\", \"ns_per_day\": 44.4288}, {\"gpu_name\": \"GeForce GTX 1070\", \"ns_per_day\": 469.106}, {\"gpu_name\": \"Intel(R) HD Graphics 530\", \"ns_per_day\": 41.368}, {\"gpu_name\": \"GeForce GTX 970\", \"ns_per_day\": 266.278}, {\"gpu_name\": null, \"ns_per_day\": null}, {\"gpu_name\": \"GeForce GTX 970\", \"ns_per_day\": 255.513}, {\"gpu_name\": \"GeForce GTX 1050 Ti\", \"ns_per_day\": 192.454}, {\"gpu_name\": \"GeForce GTX 970\", \"ns_per_day\": 261.637}, {\"gpu_name\": \"gfx900\", \"ns_per_day\": 331.744}, {\"gpu_name\": \"GeForce GTX 1070\", \"ns_per_day\": 474.669}, {\"gpu_name\": \"GeForce RTX 2080 Ti\", \"ns_per_day\": 1035.27}, {\"gpu_name\": \"GeForce RTX 2060\", \"ns_per_day\": 642.199}, {\"gpu_name\": \"GeForce RTX 2080 Ti\", \"ns_per_day\": 923.778}, {\"gpu_name\": \"GeForce GTX 1050 Ti\", \"ns_per_day\": 191.228}, {\"gpu_name\": \"GeForce GTX 1060 3GB\", \"ns_per_day\": 316.863}, {\"gpu_name\": \"Intel(R) UHD Graphics 630\", \"ns_per_day\": 44.76}, {\"gpu_name\": \"Intel(R) UHD Graphics 630\", \"ns_per_day\": 43.0126}, {\"gpu_name\": \"GeForce RTX 2080\", \"ns_per_day\": 736.756}, {\"gpu_name\": \"GeForce GTX 1080 Ti\", \"ns_per_day\": 638.783}, {\"gpu_name\": \"GeForce GTX 1050 Ti\", \"ns_per_day\": 157.6}, {\"gpu_name\": \"Intel(R) UHD Graphics 630\", \"ns_per_day\": 45.1131}, {\"gpu_name\": \"TITAN V\", \"ns_per_day\": 674.669}, {\"gpu_name\": \"GeForce RTX 2060\", \"ns_per_day\": 569.152}, {\"gpu_name\": \"GeForce GTX 1080 Ti\", \"ns_per_day\": 741.303}, {\"gpu_name\": \"GeForce GTX 1080 Ti\", \"ns_per_day\": 363.913}, {\"gpu_name\": \"gfx906\", \"ns_per_day\": 433.542}, {\"gpu_name\": null, \"ns_per_day\": null}, {\"gpu_name\": \"Intel(R) Iris(R) Plus Graphics 640\", \"ns_per_day\": 56.9692}, {\"gpu_name\": null, \"ns_per_day\": null}, {\"gpu_name\": \"GeForce GTX 1050 Ti\", \"ns_per_day\": 157.6}, {\"gpu_name\": \"Intel(R) UHD Graphics 630\", \"ns_per_day\": 32.2913}, {\"gpu_name\": null, \"ns_per_day\": null}, {\"gpu_name\": \"GeForce GTX 1080 Ti\", \"ns_per_day\": 635.403}, {\"gpu_name\": \"Quadro P2000\", \"ns_per_day\": 193.384}, {\"gpu_name\": \"Intel(R) UHD Graphics 630\", \"ns_per_day\": 44.2488}, {\"gpu_name\": \"GeForce GTX 1050 Ti\", \"ns_per_day\": 188.526}, {\"gpu_name\": \"gfx900\", \"ns_per_day\": 319.391}, {\"gpu_name\": \"gfx900\", \"ns_per_day\": 333.587}, {\"gpu_name\": \"Quadro M500M\", \"ns_per_day\": 17.2322}, {\"gpu_name\": \"Intel(R) HD Graphics 530\", \"ns_per_day\": 40.585}, {\"gpu_name\": \"GeForce GTX 1050 Ti\", \"ns_per_day\": 191.839}, {\"gpu_name\": \"GeForce GTX 1050 Ti\", \"ns_per_day\": 156.982}, {\"gpu_name\": \"GeForce RTX 2080\", \"ns_per_day\": 755.29}, {\"gpu_name\": \"GeForce GTX 1070\", \"ns_per_day\": 467.281}, {\"gpu_name\": \"GeForce GTX 1050 Ti\", \"ns_per_day\": 209.95}, {\"gpu_name\": \"GeForce GTX 1660 SUPER\", \"ns_per_day\": 460.119}, {\"gpu_name\": \"GeForce RTX 2070 SUPER\", \"ns_per_day\": 741.303}, {\"gpu_name\": \"GeForce RTX 2080 SUPER\", \"ns_per_day\": 828.215}, {\"gpu_name\": \"GeForce GTX 1080 Ti\", \"ns_per_day\": 702.287}, {\"gpu_name\": \"GeForce GTX 1050 Ti\", \"ns_per_day\": 194.322}, {\"gpu_name\": \"Intel(R) UHD Graphics 630\", \"ns_per_day\": 36.3802}, {\"gpu_name\": \"GeForce GTX 1060 3GB\", \"ns_per_day\": 196.227}, {\"gpu_name\": null, \"ns_per_day\": null}, {\"gpu_name\": \"Bonaire\", \"ns_per_day\": 83.5126}, {\"gpu_name\": \"GeForce GTX 1050 Ti\", \"ns_per_day\": 158.015}, {\"gpu_name\": \"GeForce GTX 1050 Ti\", \"ns_per_day\": 192.454}, {\"gpu_name\": \"GeForce GTX 980M\", \"ns_per_day\": 279.933}, {\"gpu_name\": \"GeForce GTX 980M\", \"ns_per_day\": 279.933}, {\"gpu_name\": \"Intel(R) UHD Graphics 630\", \"ns_per_day\": 44.5442}, {\"gpu_name\": null, \"ns_per_day\": null}, {\"gpu_name\": \"gfx900\", \"ns_per_day\": 321.099}, {\"gpu_name\": \"GeForce RTX 2080\", \"ns_per_day\": 760.071}, {\"gpu_name\": \"GeForce GTX 980\", \"ns_per_day\": 174.551}, {\"gpu_name\": null, \"ns_per_day\": null}, {\"gpu_name\": \"GeForce GTX 1050 Ti\", \"ns_per_day\": 191.839}, {\"gpu_name\": \"GeForce RTX 2080\", \"ns_per_day\": 816.947}, {\"gpu_name\": \"gfx906\", \"ns_per_day\": 411.271}, {\"gpu_name\": \"Intel(R) UHD Graphics 630\", \"ns_per_day\": 21.3003}, {\"gpu_name\": \"GeForce RTX 2080 Ti\", \"ns_per_day\": 968.477}, {\"gpu_name\": \"Quadro P2000\", \"ns_per_day\": 252.823}, {\"gpu_name\": \"Intel(R) UHD Graphics 630\", \"ns_per_day\": 45.1471}, {\"gpu_name\": \"GeForce GTX 1050 Ti\", \"ns_per_day\": 159.484}, {\"gpu_name\": \"GeForce GTX 1650\", \"ns_per_day\": 249.152}, {\"gpu_name\": \"Tesla V100-PCIE-32GB\", \"ns_per_day\": 863.965}, {\"gpu_name\": \"GeForce GTX 1050 Ti\", \"ns_per_day\": 199.156}, {\"gpu_name\": \"GeForce GTX 1050 Ti\", \"ns_per_day\": 197.518}, {\"gpu_name\": \"GeForce GTX 980\", \"ns_per_day\": 382.456}, {\"gpu_name\": \"GeForce GTX 1080\", \"ns_per_day\": 555.978}, {\"gpu_name\": \"GeForce GTX 1050\", \"ns_per_day\": 40.3397}, {\"gpu_name\": \"Intel(R) UHD Graphics 630\", \"ns_per_day\": 38.0758}, {\"gpu_name\": \"GeForce GTX 970\", \"ns_per_day\": 338.285}, {\"gpu_name\": \"GeForce GTX 1050 Ti\", \"ns_per_day\": 194.322}, {\"gpu_name\": \"Intel(R) HD Graphics 630\", \"ns_per_day\": 430.434}, {\"gpu_name\": \"GeForce GTX 1050 Ti\", \"ns_per_day\": 157.187}, {\"gpu_name\": \"P104-100\", \"ns_per_day\": 353.209}, {\"gpu_name\": \"GeForce GTX 1070 Ti\", \"ns_per_day\": 332.662}, {\"gpu_name\": \"Intel(R) HD Graphics 530\", \"ns_per_day\": 32.7313}, {\"gpu_name\": \"GeForce GTX 1050 Ti\", \"ns_per_day\": 159.061}, {\"gpu_name\": \"GeForce GTX 1050 Ti\", \"ns_per_day\": 194.637}, {\"gpu_name\": null, \"ns_per_day\": null}, {\"gpu_name\": \"GeForce GTX 1650 SUPER\", \"ns_per_day\": 280.587}, {\"gpu_name\": \"GeForce GTX 1080\", \"ns_per_day\": 529.036}, {\"gpu_name\": \"GeForce GTX 1050 Ti\", \"ns_per_day\": 158.223}, {\"gpu_name\": \"GeForce GTX 1060 6GB\", \"ns_per_day\": 321.96}, {\"gpu_name\": \"Intel(R) UHD Graphics 630\", \"ns_per_day\": 42.1225}, {\"gpu_name\": \"GeForce RTX 2070 SUPER\", \"ns_per_day\": 811.427}, {\"gpu_name\": \"GeForce GTX 1050 Ti\", \"ns_per_day\": 191.839}, {\"gpu_name\": \"GeForce GTX 1050 Ti\", \"ns_per_day\": 198.17}, {\"gpu_name\": \"GeForce GTX 1050 Ti\", \"ns_per_day\": 189.12}, {\"gpu_name\": \"gfx1010\", \"ns_per_day\": 354.251}, {\"gpu_name\": \"GeForce GTX 1050 Ti\", \"ns_per_day\": 189.418}, {\"gpu_name\": \"GeForce GTX 1050 Ti\", \"ns_per_day\": 159.908}, {\"gpu_name\": \"GeForce RTX 2080 Ti\", \"ns_per_day\": 916.726}, {\"gpu_name\": \"GeForce RTX 2060\", \"ns_per_day\": 645.651}, {\"gpu_name\": \"GeForce GTX 1080 Ti\", \"ns_per_day\": 702.287}, {\"gpu_name\": \"Intel(R) UHD Graphics 630\", \"ns_per_day\": 36.4133}, {\"gpu_name\": \"GeForce RTX 2060\", \"ns_per_day\": 555.978}, {\"gpu_name\": \"GeForce RTX 2060 SUPER\", \"ns_per_day\": 603.473}, {\"gpu_name\": \"GeForce GTX 1070\", \"ns_per_day\": 476.552}, {\"gpu_name\": \"Tahiti\", \"ns_per_day\": 172.793}, {\"gpu_name\": \"GeForce GTX 1080 Ti\", \"ns_per_day\": 741.303}, {\"gpu_name\": \"Tesla C2070\", \"ns_per_day\": 45.198}, {\"gpu_name\": \"gfx900\", \"ns_per_day\": 358.481}, {\"gpu_name\": \"GeForce GTX 1050 Ti\", \"ns_per_day\": 201.834}, {\"gpu_name\": \"GeForce GTX 1650\", \"ns_per_day\": 249.67}, {\"gpu_name\": \"gfx1010\", \"ns_per_day\": 354.251}, {\"gpu_name\": \"Intel(R) UHD Graphics 630\", \"ns_per_day\": 36.4354}, {\"gpu_name\": \"gfx900\", \"ns_per_day\": 344.101}, {\"gpu_name\": \"GeForce RTX 2080 Ti\", \"ns_per_day\": 992.489}, {\"gpu_name\": \"GeForce RTX 2060\", \"ns_per_day\": 482.294}, {\"gpu_name\": \"Quadro P1000\", \"ns_per_day\": 133.435}, {\"gpu_name\": \"GeForce RTX 2080 Ti\", \"ns_per_day\": 816.947}, {\"gpu_name\": \"gfx1010\", \"ns_per_day\": 460.119}, {\"gpu_name\": \"gfx906\", \"ns_per_day\": 425.855}, {\"gpu_name\": \"Ellesmere\", \"ns_per_day\": 288.681}, {\"gpu_name\": \"GeForce GTX 1080 Ti\", \"ns_per_day\": 622.234}, {\"gpu_name\": \"GeForce GTX 980\", \"ns_per_day\": 381.242}, {\"gpu_name\": null, \"ns_per_day\": null}, {\"gpu_name\": \"GeForce GTX 1050 Ti\", \"ns_per_day\": 158.641}, {\"gpu_name\": \"GeForce GTX 1050 Ti\", \"ns_per_day\": 194.008}, {\"gpu_name\": \"GeForce GTX 1050 Ti\", \"ns_per_day\": 194.953}, {\"gpu_name\": \"Ellesmere\", \"ns_per_day\": 235.473}, {\"gpu_name\": \"GeForce GTX 1070\", \"ns_per_day\": 472.8}, {\"gpu_name\": \"Tesla V100-SXM2-16GB\", \"ns_per_day\": 896.203}, {\"gpu_name\": \"GeForce GTX 1080\", \"ns_per_day\": 456.62}, {\"gpu_name\": null, \"ns_per_day\": null}, {\"gpu_name\": \"GeForce RTX 2080 Ti\", \"ns_per_day\": 800.608}, {\"gpu_name\": \"GeForce GTX 1080 Ti\", \"ns_per_day\": 378.836}, {\"gpu_name\": \"gfx1010\", \"ns_per_day\": 352.173}, {\"gpu_name\": \"GeForce GTX 1050 Ti\", \"ns_per_day\": 158.432}, {\"gpu_name\": \"Intel(R) UHD Graphics 630\", \"ns_per_day\": 44.8604}, {\"gpu_name\": \"GeForce GTX 1070\", \"ns_per_day\": 522.135}, {\"gpu_name\": \"GeForce GTX 1050 Ti\", \"ns_per_day\": 159.061}, {\"gpu_name\": \"GeForce GTX 1660 SUPER\", \"ns_per_day\": 411.271}, {\"gpu_name\": \"GeForce GTX 970\", \"ns_per_day\": 259.376}, {\"gpu_name\": \"GeForce GTX 1050 Ti\", \"ns_per_day\": 192.454}, {\"gpu_name\": \"GeForce GTX 1080 Ti\", \"ns_per_day\": 741.303}, {\"gpu_name\": \"GeForce RTX 2080 Ti\", \"ns_per_day\": 938.212}, {\"gpu_name\": \"Intel(R) HD Graphics 530\", \"ns_per_day\": 28.1508}, {\"gpu_name\": \"GeForce RTX 2080 Ti\", \"ns_per_day\": 968.477}, {\"gpu_name\": \"GeForce GTX 1050 Ti\", \"ns_per_day\": 190.621}, {\"gpu_name\": \"GeForce RTX 2080 Ti\", \"ns_per_day\": 1000.76}, {\"gpu_name\": \"GeForce RTX 2070\", \"ns_per_day\": 600.456}, {\"gpu_name\": \"GeForce GTX 1050 Ti\", \"ns_per_day\": 188.526}, {\"gpu_name\": \"GeForce GTX 1060 3GB\", \"ns_per_day\": 196.871}, {\"gpu_name\": \"Ellesmere\", \"ns_per_day\": 188.823}, {\"gpu_name\": \"GeForce GTX 1080\", \"ns_per_day\": 571.863}, {\"gpu_name\": \"GeForce RTX 2070\", \"ns_per_day\": 667.173}, {\"gpu_name\": \"gfx900\", \"ns_per_day\": 297.993}, {\"gpu_name\": \"Intel(R) UHD Graphics 630\", \"ns_per_day\": 45.3516}, {\"gpu_name\": \"Intel(R) HD Graphics 530\", \"ns_per_day\": 40.8196}, {\"gpu_name\": \"GeForce GTX 1080 Ti\", \"ns_per_day\": 706.419}, {\"gpu_name\": \"GeForce GTX 1070\", \"ns_per_day\": 380.035}, {\"gpu_name\": \"GeForce GTX 1080 Ti\", \"ns_per_day\": 396.34}, {\"gpu_name\": \"gfx900\", \"ns_per_day\": 346.084}, {\"gpu_name\": \"Intel(R) UHD Graphics 630\", \"ns_per_day\": 43.4483}, {\"gpu_name\": \"Tesla V100-PCIE-16GB\", \"ns_per_day\": 863.965}, {\"gpu_name\": \"GeForce RTX 2060\", \"ns_per_day\": 494.202}, {\"gpu_name\": \"GeForce RTX 2080\", \"ns_per_day\": 839.798}, {\"gpu_name\": \"GeForce GTX 1070\", \"ns_per_day\": 519.875}, {\"gpu_name\": \"Intel(R) HD Graphics 530\", \"ns_per_day\": 32.776}, {\"gpu_name\": \"GeForce RTX 2070 SUPER\", \"ns_per_day\": 811.427}, {\"gpu_name\": \"Intel(R) HD Graphics 520\", \"ns_per_day\": 28.0849}, {\"gpu_name\": \"GeForce GTX 1070\", \"ns_per_day\": 524.416}, {\"gpu_name\": \"gfx900\", \"ns_per_day\": 323.696}, {\"gpu_name\": \"GeForce GTX 1070\", \"ns_per_day\": 463.672}, {\"gpu_name\": \"GeForce GTX 1060 3GB\", \"ns_per_day\": 305.575}, {\"gpu_name\": \"Tesla V100-PCIE-32GB\", \"ns_per_day\": 800.608}, {\"gpu_name\": \"GeForce GTX 1080 Ti\", \"ns_per_day\": 667.173}, {\"gpu_name\": \"Intel(R) UHD Graphics 630\", \"ns_per_day\": 36.4133}, {\"gpu_name\": \"Intel(R) HD Graphics 530\", \"ns_per_day\": 40.9169}, {\"gpu_name\": \"Intel(R) UHD Graphics 630\", \"ns_per_day\": 44.978}, {\"gpu_name\": \"GeForce GTX 1050 Ti\", \"ns_per_day\": 187.35}, {\"gpu_name\": \"GeForce GTX 1050 Ti\", \"ns_per_day\": 158.641}, {\"gpu_name\": \"gfx906\", \"ns_per_day\": 354.251}, {\"gpu_name\": \"Intel(R) UHD Graphics 630\", \"ns_per_day\": 24.624}, {\"gpu_name\": \"GeForce GTX 980 Ti\", \"ns_per_day\": 486.199}, {\"gpu_name\": \"GeForce GTX 1050 Ti\", \"ns_per_day\": 192.146}, {\"gpu_name\": \"GeForce RTX 2060\", \"ns_per_day\": 645.651}, {\"gpu_name\": \"GeForce RTX 2060\", \"ns_per_day\": 638.783}, {\"gpu_name\": \"GeForce GTX 1050 Ti\", \"ns_per_day\": 199.156}, {\"gpu_name\": \"Intel(R) UHD Graphics 630\", \"ns_per_day\": 37.4816}, {\"gpu_name\": \"GeForce GTX 980\", \"ns_per_day\": 382.456}, {\"gpu_name\": \"GeForce GTX 1660 Ti\", \"ns_per_day\": 474.669}, {\"gpu_name\": \"GeForce GTX 1050 Ti\", \"ns_per_day\": 194.008}, {\"gpu_name\": \"GeForce GTX 1050 Ti\", \"ns_per_day\": 159.484}, {\"gpu_name\": \"Intel(R) UHD Graphics Coffee Lake Halo GT2\", \"ns_per_day\": 26.5865}, {\"gpu_name\": \"Tesla V100-SXM2-16GB\", \"ns_per_day\": 916.726}, {\"gpu_name\": \"GeForce GTX 1050 Ti\", \"ns_per_day\": 199.819}, {\"gpu_name\": \"Intel(R) HD Graphics 530\", \"ns_per_day\": 40.0437}, {\"gpu_name\": \"GeForce GTX 1080 Ti\", \"ns_per_day\": 365.019}, {\"gpu_name\": \"Intel(R) HD Graphics 520\", \"ns_per_day\": 17.7387}, {\"gpu_name\": \"Intel(R) Gen9 HD Graphics NEO\", \"ns_per_day\": 44.3796}, {\"gpu_name\": \"Intel(R) HD Graphics 530\", \"ns_per_day\": 32.2999}, {\"gpu_name\": \"Intel(R) UHD Graphics 630\", \"ns_per_day\": 44.4288}, {\"gpu_name\": \"Tesla T10x\", \"ns_per_day\": 811.427}, {\"gpu_name\": \"Intel(R) UHD Graphics 630\", \"ns_per_day\": 36.4465}, {\"gpu_name\": \"GeForce RTX 2080 Ti\", \"ns_per_day\": 822.542}, {\"gpu_name\": \"GeForce GTX 1080 Ti\", \"ns_per_day\": 558.564}, {\"gpu_name\": \"gfx900\", \"ns_per_day\": 321.96}, {\"gpu_name\": \"Tesla V100-SXM2-16GB\", \"ns_per_day\": 916.726}, {\"gpu_name\": \"Intel(R) UHD Graphics 630\", \"ns_per_day\": 44.7267}, {\"gpu_name\": \"GeForce GTX 1050 Ti\", \"ns_per_day\": 192.146}, {\"gpu_name\": null, \"ns_per_day\": null}, {\"gpu_name\": \"GeForce RTX 2070 SUPER\", \"ns_per_day\": 795.306}, {\"gpu_name\": \"GeForce GTX 970\", \"ns_per_day\": 309.513}, {\"gpu_name\": \"GeForce GTX 1080 Ti\", \"ns_per_day\": 736.756}, {\"gpu_name\": \"gfx906\", \"ns_per_day\": 428.897}, {\"gpu_name\": \"GeForce RTX 2080 Ti\", \"ns_per_day\": 984.354}, {\"gpu_name\": \"Intel(R) UHD Graphics 630\", \"ns_per_day\": 44.2162}, {\"gpu_name\": \"gfx900\", \"ns_per_day\": 388.645}, {\"gpu_name\": \"Intel(R) Iris(R) Plus Graphics 640\", \"ns_per_day\": 29.6229}, {\"gpu_name\": null, \"ns_per_day\": null}, {\"gpu_name\": \"gfx900\", \"ns_per_day\": 351.144}, {\"gpu_name\": \"Intel(R) HD Graphics 520\", \"ns_per_day\": 35.2898}, {\"gpu_name\": \"GeForce GTX 1060 3GB\", \"ns_per_day\": 351.144}, {\"gpu_name\": \"Intel(R) HD Graphics 530\", \"ns_per_day\": 32.6512}, {\"gpu_name\": \"GeForce GTX 1070\", \"ns_per_day\": 402.99}, {\"gpu_name\": \"GeForce GTX 1050 Ti\", \"ns_per_day\": 192.454}, {\"gpu_name\": \"GeForce GTX 1050 Ti\", \"ns_per_day\": 192.146}, {\"gpu_name\": \"Intel(R) UHD Graphics Coffee Lake Halo GT2\", \"ns_per_day\": 27.7155}, {\"gpu_name\": \"GeForce GTX 1050 Ti\", \"ns_per_day\": 191.533}, {\"gpu_name\": \"GeForce GTX 1080\", \"ns_per_day\": 545.869}, {\"gpu_name\": \"GeForce GTX 1050 Ti\", \"ns_per_day\": 192.454}]}}, {\"mode\": \"vega-lite\"});\n",
       "</script>"
      ],
      "text/plain": [
       "alt.Chart(...)"
      ]
     },
     "execution_count": 8,
     "metadata": {},
     "output_type": "execute_result"
    }
   ],
   "source": [
    "alt.Chart(gpu_perf).mark_bar().encode(\n",
    "    x=\"mean(ns_per_day)\",\n",
    "    y=alt.Y(\"gpu_name:N\", sort='-x')\n",
    ")"
   ]
  },
  {
   "cell_type": "code",
   "execution_count": 9,
   "metadata": {},
   "outputs": [],
   "source": [
    "def make_record(**d):\n",
    "    return {\n",
    "        'run_id': int(d['run_id']),\n",
    "        'clone_id': int(d['clone_id']),\n",
    "        'results_id': int(d['results_id']),\n",
    "        'gpu_name': d['gpu_name'],\n",
    "        'ns_per_day': float(d['ns_per_day'])\n",
    "    }\n",
    "\n",
    "\n",
    "def get_record(fname):\n",
    "    pattern = r\"PROJ(?P<project_id>[0-9]+)/RUN(?P<run_id>[0-9]+)/CLONE(?P<clone_id>[0-9]+)/results(?P<results_id>[0-9])/science.log\"\n",
    "    params = re.match(pattern, fname).groupdict()\n",
    "    \n",
    "    try:\n",
    "        log = parse(fname)\n",
    "        gpu_name = log.get_active_device().name\n",
    "    except Exception as e:\n",
    "        logging.warning(f\"Error parsing {fname}: {e}\")\n",
    "        return []\n",
    "    \n",
    "    return [\n",
    "        make_record(\n",
    "            gpu_name=gpu_name,\n",
    "            ns_per_day=log.fah_core_log.average_perf_ns_day,\n",
    "            **params\n",
    "        )\n",
    "    ]\n",
    "\n",
    "def parse_logs_to_df(files):\n",
    "    with multiprocessing.Pool() as p:\n",
    "        results = p.imap(get_record, files)\n",
    "        recs = [r for res in tqdm(results, total=len(files)) for r in res]\n",
    "    return pd.DataFrame.from_records(recs)"
   ]
  },
  {
   "cell_type": "code",
   "execution_count": 10,
   "metadata": {},
   "outputs": [
    {
     "data": {
      "text/plain": [
       "12649"
      ]
     },
     "execution_count": 10,
     "metadata": {},
     "output_type": "execute_result"
    }
   ],
   "source": [
    "files = glob.glob('PROJ17100/RUN*/CLONE*/results?/science.log')\n",
    "len(files)"
   ]
  },
  {
   "cell_type": "code",
   "execution_count": 11,
   "metadata": {
    "scrolled": true
   },
   "outputs": [
    {
     "data": {
      "application/vnd.jupyter.widget-view+json": {
       "model_id": "e26b42ceae124b83a27b4750cf8f166b",
       "version_major": 2,
       "version_minor": 0
      },
      "text/plain": [
       "HBox(children=(FloatProgress(value=0.0, max=12649.0), HTML(value='')))"
      ]
     },
     "metadata": {},
     "output_type": "display_data"
    },
    {
     "name": "stderr",
     "output_type": "stream",
     "text": [
      "WARNING:root:Error parsing PROJ17100/RUN14/CLONE400/results1/science.log: Didn't find a match for the OpenCL platform, device specified in arguments, or no valid OpenCL devices found.\n",
      "WARNING:root:Error parsing PROJ17100/RUN14/CLONE414/results0/science.log: expected one of '', 'Performance since last checkpoint: ', '\\\\s+' at 913:0\n",
      "WARNING:root:Error parsing PROJ17100/RUN14/CLONE186/results1/science.log: expected one of '', 'Performance since last checkpoint: ', '\\\\s+' at 454:0\n",
      "WARNING:root:Error parsing PROJ17100/RUN14/CLONE110/results1/science.log: expected one of '', 'Performance since last checkpoint: ', '\\\\s+' at 445:0\n",
      "WARNING:root:Error parsing PROJ17100/RUN14/CLONE160/results0/science.log: expected '-' at 20:43\n",
      "WARNING:root:Error parsing PROJ17100/RUN14/CLONE9/results0/science.log: expected '-' at 20:43\n",
      "WARNING:root:Error parsing PROJ17100/RUN14/CLONE135/results3/science.log: expected one of '', 'Performance since last checkpoint: ', '\\\\s+' at 428:0\n",
      "WARNING:root:Error parsing PROJ17100/RUN14/CLONE173/results1/science.log: expected '-' at 20:43\n",
      "WARNING:root:Error parsing PROJ17100/RUN14/CLONE284/results0/science.log: expected '-' at 20:22\n",
      "WARNING:root:Error parsing PROJ17100/RUN14/CLONE165/results0/science.log: expected '-' at 20:43\n",
      "WARNING:root:Error parsing PROJ17100/RUN14/CLONE20/results1/science.log: expected '-' at 20:43\n",
      "WARNING:root:Error parsing PROJ17100/RUN14/CLONE21/results0/science.log: expected '-' at 20:43\n",
      "WARNING:root:Error parsing PROJ17100/RUN14/CLONE152/results1/science.log: expected one of '\\\\*+ ', '\\\\s+' at 0:0\n",
      "WARNING:root:Error parsing PROJ17100/RUN14/CLONE152/results0/science.log: expected one of '\\\\*+ ', '\\\\s+' at 0:0\n",
      "WARNING:root:Error parsing PROJ17100/RUN14/CLONE137/results0/science.log: expected one of '', 'Performance since last checkpoint: ', '\\\\s+' at 429:0\n",
      "WARNING:root:Error parsing PROJ17100/RUN14/CLONE105/results1/science.log: expected one of '', 'Performance since last checkpoint: ', '\\\\s+' at 425:0\n",
      "WARNING:root:Error parsing PROJ17100/RUN14/CLONE15/results1/science.log: expected '-' at 20:43\n",
      "WARNING:root:Error parsing PROJ17100/RUN14/CLONE17/results0/science.log: expected '-' at 20:43\n",
      "WARNING:root:Error parsing PROJ17100/RUN14/CLONE295/results0/science.log: expected '-' at 20:22\n",
      "WARNING:root:Error parsing PROJ17100/RUN9/CLONE114/results1/science.log: expected one of '', 'Performance since last checkpoint: ', '\\\\s+' at 462:0\n",
      "WARNING:root:Error parsing PROJ17100/RUN9/CLONE138/results0/science.log: 'utf-8' codec can't decode byte 0xfc in position 1944: invalid start byte\n",
      "WARNING:root:Error parsing PROJ17100/RUN9/CLONE98/results0/science.log: expected one of '', 'Performance since last checkpoint: ', '\\\\s+' at 468:0\n",
      "WARNING:root:Error parsing PROJ17100/RUN9/CLONE380/results1/science.log: expected one of '', 'Performance since last checkpoint: ', '\\\\s+' at 448:0\n",
      "WARNING:root:Error parsing PROJ17100/RUN9/CLONE186/results0/science.log: expected one of '', 'Performance since last checkpoint: ', '\\\\s+' at 441:0\n",
      "WARNING:root:Error parsing PROJ17100/RUN9/CLONE14/results0/science.log: expected '-' at 20:43\n",
      "WARNING:root:Error parsing PROJ17100/RUN9/CLONE368/results1/science.log: expected '-' at 21:43\n",
      "WARNING:root:Error parsing PROJ17100/RUN9/CLONE7/results1/science.log: expected '-' at 20:43\n",
      "WARNING:root:Error parsing PROJ17100/RUN9/CLONE111/results0/science.log: expected one of '', 'Performance since last checkpoint: ', '\\\\s+' at 440:0\n",
      "WARNING:root:Error parsing PROJ17100/RUN9/CLONE131/results0/science.log: 'utf-8' codec can't decode byte 0xfc in position 1944: invalid start byte\n",
      "WARNING:root:Error parsing PROJ17100/RUN9/CLONE197/results1/science.log: expected one of '', 'Performance since last checkpoint: ', '\\\\s+' at 461:0\n",
      "WARNING:root:Error parsing PROJ17100/RUN9/CLONE29/results0/science.log: expected '-' at 20:43\n",
      "WARNING:root:Error parsing PROJ17100/RUN9/CLONE403/results1/science.log: 'utf-8' codec can't decode byte 0xe8 in position 1974: invalid continuation byte\n",
      "WARNING:root:Error parsing PROJ17100/RUN9/CLONE31/results1/science.log: expected '-' at 20:22\n",
      "WARNING:root:Error parsing PROJ17100/RUN9/CLONE129/results0/science.log: 'utf-8' codec can't decode byte 0x8b in position 1940: invalid start byte\n",
      "WARNING:root:Error parsing PROJ17100/RUN9/CLONE158/results0/science.log: expected '-' at 20:43\n",
      "WARNING:root:Error parsing PROJ17100/RUN9/CLONE136/results0/science.log: expected '-' at 19:74\n",
      "WARNING:root:Error parsing PROJ17100/RUN9/CLONE151/results0/science.log: expected '-' at 20:43\n",
      "WARNING:root:Error parsing PROJ17100/RUN9/CLONE23/results1/science.log: expected '-' at 20:43\n",
      "WARNING:root:Error parsing PROJ17100/RUN9/CLONE103/results0/science.log: expected one of '\\\\*+ ', '\\\\s+' at 0:0\n",
      "WARNING:root:Error parsing PROJ17100/RUN9/CLONE99/results0/science.log: expected one of '\\\\*+ ', '\\\\s+' at 0:0\n",
      "WARNING:root:Error parsing PROJ17100/RUN9/CLONE50/results1/science.log: expected '-' at 21:37\n",
      "WARNING:root:Error parsing PROJ17100/RUN9/CLONE167/results0/science.log: expected '-' at 20:43\n",
      "WARNING:root:Error parsing PROJ17100/RUN9/CLONE373/results0/science.log: expected one of '', 'Performance since last checkpoint: ', '\\\\s+' at 616:0\n",
      "WARNING:root:Error parsing PROJ17100/RUN9/CLONE10/results1/science.log: expected '-' at 20:43\n",
      "WARNING:root:Error parsing PROJ17100/RUN9/CLONE49/results0/science.log: expected '-' at 20:37\n",
      "WARNING:root:Error parsing PROJ17100/RUN4/CLONE100/results0/science.log: expected one of '', 'Performance since last checkpoint: ', '\\\\s+' at 400:0\n",
      "WARNING:root:Error parsing PROJ17100/RUN4/CLONE160/results1/science.log: expected one of '', 'Performance since last checkpoint: ', '\\\\s+' at 436:0\n",
      "WARNING:root:Error parsing PROJ17100/RUN4/CLONE405/results0/science.log: 'utf-8' codec can't decode byte 0xc0 in position 1971: invalid start byte\n",
      "WARNING:root:Error parsing PROJ17100/RUN4/CLONE135/results1/science.log: expected '-' at 20:43\n",
      "WARNING:root:Error parsing PROJ17100/RUN4/CLONE421/results1/science.log: expected one of '\\\\*+ ', '\\\\s+' at 0:0\n",
      "WARNING:root:Error parsing PROJ17100/RUN4/CLONE155/results1/science.log: expected '-' at 20:43\n",
      "WARNING:root:Error parsing PROJ17100/RUN4/CLONE143/results1/science.log: expected one of '', 'Performance since last checkpoint: ', '\\\\s+' at 424:0\n",
      "WARNING:root:Error parsing PROJ17100/RUN4/CLONE287/results1/science.log: expected '-' at 20:22\n",
      "WARNING:root:Error parsing PROJ17100/RUN4/CLONE165/results0/science.log: expected '-' at 20:43\n",
      "WARNING:root:Error parsing PROJ17100/RUN4/CLONE18/results1/science.log: expected '-' at 20:43\n",
      "WARNING:root:Error parsing PROJ17100/RUN4/CLONE67/results1/science.log: expected '-' at 20:22\n",
      "WARNING:root:Error parsing PROJ17100/RUN4/CLONE64/results1/science.log: expected '-' at 20:22\n",
      "WARNING:root:Error parsing PROJ17100/RUN4/CLONE133/results2/science.log: expected one of '', 'Performance since last checkpoint: ', '\\\\s+' at 428:0\n",
      "WARNING:root:Error parsing PROJ17100/RUN4/CLONE8/results0/science.log: expected '-' at 20:43\n",
      "WARNING:root:Error parsing PROJ17100/RUN4/CLONE19/results0/science.log: expected '-' at 20:22\n",
      "WARNING:root:Error parsing PROJ17100/RUN4/CLONE174/results0/science.log: expected '-' at 20:43\n",
      "WARNING:root:Error parsing PROJ17100/RUN4/CLONE52/results1/science.log: expected '-' at 20:43\n",
      "WARNING:root:Error parsing PROJ17100/RUN4/CLONE137/results1/science.log: expected '-' at 20:43\n",
      "WARNING:root:Error parsing PROJ17100/RUN4/CLONE121/results1/science.log: expected one of '', 'Performance since last checkpoint: ', '\\\\s+' at 448:0\n",
      "WARNING:root:Error parsing PROJ17100/RUN4/CLONE157/results0/science.log: expected '-' at 20:43\n",
      "WARNING:root:Error parsing PROJ17100/RUN4/CLONE167/results1/science.log: 'utf-8' codec can't decode byte 0xfc in position 1945: invalid start byte\n",
      "WARNING:root:Error parsing PROJ17100/RUN4/CLONE17/results1/science.log: expected '-' at 20:43\n",
      "WARNING:root:Error parsing PROJ17100/RUN4/CLONE369/results1/science.log: expected one of '', 'Performance since last checkpoint: ', '\\\\s+' at 419:0\n",
      "WARNING:root:Error parsing PROJ17100/RUN2/CLONE98/results0/science.log: expected one of '', 'Performance since last checkpoint: ', '\\\\s+' at 445:0\n",
      "WARNING:root:Error parsing PROJ17100/RUN2/CLONE250/results1/science.log: expected one of '', 'Performance since last checkpoint: ', '\\\\s+' at 410:0\n"
     ]
    },
    {
     "name": "stderr",
     "output_type": "stream",
     "text": [
      "WARNING:root:Error parsing PROJ17100/RUN2/CLONE25/results0/science.log: expected '-' at 20:43\n",
      "WARNING:root:Error parsing PROJ17100/RUN2/CLONE24/results0/science.log: expected '-' at 20:43\n",
      "WARNING:root:Error parsing PROJ17100/RUN2/CLONE9/results0/science.log: expected '-' at 20:43\n",
      "WARNING:root:Error parsing PROJ17100/RUN2/CLONE141/results1/science.log: 'utf-8' codec can't decode byte 0xfc in position 1945: invalid start byte\n",
      "WARNING:root:Error parsing PROJ17100/RUN2/CLONE29/results0/science.log: expected '-' at 20:43\n",
      "WARNING:root:Error parsing PROJ17100/RUN2/CLONE135/results0/science.log: expected one of '', 'Performance since last checkpoint: ', '\\\\s+' at 872:0\n",
      "WARNING:root:Error parsing PROJ17100/RUN2/CLONE109/results0/science.log: 'utf-8' codec can't decode byte 0xfc in position 1946: invalid start byte\n",
      "WARNING:root:Error parsing PROJ17100/RUN2/CLONE5/results0/science.log: expected '-' at 20:43\n",
      "WARNING:root:Error parsing PROJ17100/RUN2/CLONE396/results1/science.log: expected one of '', 'Performance since last checkpoint: ', '\\\\s+' at 421:0\n",
      "WARNING:root:Error parsing PROJ17100/RUN2/CLONE129/results0/science.log: expected one of '', 'Performance since last checkpoint: ', '\\\\s+' at 602:0\n",
      "WARNING:root:Error parsing PROJ17100/RUN2/CLONE158/results1/science.log: expected one of '', 'Performance since last checkpoint: ', '\\\\s+' at 400:0\n",
      "WARNING:root:Error parsing PROJ17100/RUN2/CLONE59/results1/science.log: expected one of '', 'Performance since last checkpoint: ', '\\\\s+' at 429:0\n",
      "WARNING:root:Error parsing PROJ17100/RUN2/CLONE20/results0/science.log: expected '-' at 20:43\n",
      "WARNING:root:Error parsing PROJ17100/RUN2/CLONE44/results0/science.log: expected one of '', 'Performance since last checkpoint: ', '\\\\s+' at 567:0\n",
      "WARNING:root:Error parsing PROJ17100/RUN2/CLONE99/results1/science.log: expected one of '', 'Performance since last checkpoint: ', '\\\\s+' at 929:0\n",
      "WARNING:root:Error parsing PROJ17100/RUN2/CLONE390/results1/science.log: expected one of '', 'Performance since last checkpoint: ', '\\\\s+' at 457:0\n",
      "WARNING:root:Error parsing PROJ17100/RUN2/CLONE167/results1/science.log: expected '-' at 20:43\n",
      "WARNING:root:Error parsing PROJ17100/RUN2/CLONE167/results0/science.log: expected '-' at 20:43\n",
      "WARNING:root:Error parsing PROJ17100/RUN6/CLONE153/results1/science.log: expected '-' at 20:43\n",
      "WARNING:root:Error parsing PROJ17100/RUN6/CLONE259/results0/science.log: expected one of '', 'Performance since last checkpoint: ', '\\\\s+' at 435:0\n",
      "WARNING:root:Error parsing PROJ17100/RUN6/CLONE28/results1/science.log: expected '-' at 20:43\n",
      "WARNING:root:Error parsing PROJ17100/RUN6/CLONE16/results1/science.log: expected '-' at 20:43\n",
      "WARNING:root:Error parsing PROJ17100/RUN6/CLONE139/results2/science.log: expected one of '', 'Performance since last checkpoint: ', '\\\\s+' at 610:0\n",
      "WARNING:root:Error parsing PROJ17100/RUN6/CLONE368/results1/science.log: expected '-' at 21:43\n",
      "WARNING:root:Error parsing PROJ17100/RUN6/CLONE43/results1/science.log: expected '-' at 21:37\n",
      "WARNING:root:Error parsing PROJ17100/RUN6/CLONE6/results0/science.log: expected '-' at 20:43\n",
      "WARNING:root:Error parsing PROJ17100/RUN6/CLONE7/results0/science.log: expected '-' at 20:43\n",
      "WARNING:root:Error parsing PROJ17100/RUN6/CLONE127/results0/science.log: expected one of '', 'Performance since last checkpoint: ', '\\\\s+' at 609:0\n",
      "WARNING:root:Error parsing PROJ17100/RUN6/CLONE163/results1/science.log: expected '-' at 20:43\n",
      "WARNING:root:Error parsing PROJ17100/RUN6/CLONE169/results0/science.log: expected '-' at 20:43\n",
      "WARNING:root:Error parsing PROJ17100/RUN6/CLONE330/results0/science.log: expected one of '', 'Performance since last checkpoint: ', '\\\\s+' at 414:0\n",
      "WARNING:root:Error parsing PROJ17100/RUN6/CLONE116/results0/science.log: expected one of '', 'Performance since last checkpoint: ', '\\\\s+' at 617:0\n",
      "WARNING:root:Error parsing PROJ17100/RUN6/CLONE159/results0/science.log: expected one of '', 'Performance since last checkpoint: ', '\\\\s+' at 611:0\n",
      "WARNING:root:Error parsing PROJ17100/RUN6/CLONE18/results0/science.log: expected '-' at 20:43\n",
      "WARNING:root:Error parsing PROJ17100/RUN6/CLONE136/results1/science.log: expected '-' at 20:43\n",
      "WARNING:root:Error parsing PROJ17100/RUN6/CLONE8/results1/science.log: expected '-' at 20:43\n",
      "WARNING:root:Error parsing PROJ17100/RUN6/CLONE8/results0/science.log: expected '-' at 20:43\n",
      "WARNING:root:Error parsing PROJ17100/RUN6/CLONE4/results1/science.log: expected '-' at 20:43\n",
      "WARNING:root:Error parsing PROJ17100/RUN6/CLONE286/results0/science.log: expected one of '', 'Performance since last checkpoint: ', '\\\\s+' at 408:0\n",
      "WARNING:root:Error parsing PROJ17100/RUN6/CLONE41/results0/science.log: expected one of '', 'Performance since last checkpoint: ', '\\\\s+' at 414:0\n",
      "WARNING:root:Error parsing PROJ17100/RUN6/CLONE60/results0/science.log: expected '-' at 20:22\n",
      "WARNING:root:Error parsing PROJ17100/RUN6/CLONE152/results1/science.log: expected '-' at 20:43\n",
      "WARNING:root:Error parsing PROJ17100/RUN6/CLONE152/results0/science.log: expected '-' at 20:43\n",
      "WARNING:root:Error parsing PROJ17100/RUN6/CLONE106/results0/science.log: expected one of '', 'Performance since last checkpoint: ', '\\\\s+' at 934:0\n",
      "WARNING:root:Error parsing PROJ17100/RUN0/CLONE62/results1/science.log: expected '\\n' at 70:0\n",
      "WARNING:root:Error parsing PROJ17100/RUN0/CLONE185/results1/science.log: expected one of '', 'Performance since last checkpoint: ', '\\\\s+' at 458:0\n",
      "WARNING:root:Error parsing PROJ17100/RUN0/CLONE84/results1/science.log: expected one of '', 'Performance since last checkpoint: ', '\\\\s+' at 602:0\n",
      "WARNING:root:Error parsing PROJ17100/RUN0/CLONE380/results0/science.log: expected '\\n' at 78:0\n",
      "WARNING:root:Error parsing PROJ17100/RUN0/CLONE150/results1/science.log: 'utf-8' codec can't decode byte 0xe9 in position 1940: invalid continuation byte\n",
      "WARNING:root:Error parsing PROJ17100/RUN0/CLONE98/results0/science.log: expected one of '', 'Performance since last checkpoint: ', '\\\\s+' at 431:0\n",
      "WARNING:root:Error parsing PROJ17100/RUN0/CLONE132/results1/science.log: 'utf-8' codec can't decode byte 0xe9 in position 1941: invalid continuation byte\n",
      "WARNING:root:Error parsing PROJ17100/RUN0/CLONE318/results0/science.log: expected one of '', 'Performance since last checkpoint: ', '\\\\s+' at 576:0\n",
      "WARNING:root:Error parsing PROJ17100/RUN0/CLONE14/results0/science.log: expected '-' at 20:43\n",
      "WARNING:root:Error parsing PROJ17100/RUN0/CLONE183/results0/science.log: expected one of '', 'Performance since last checkpoint: ', '\\\\s+' at 782:0\n",
      "WARNING:root:Error parsing PROJ17100/RUN0/CLONE27/results0/science.log: expected '-' at 20:43\n",
      "WARNING:root:Error parsing PROJ17100/RUN0/CLONE368/results1/science.log: expected '-' at 21:43\n",
      "WARNING:root:Error parsing PROJ17100/RUN0/CLONE12/results1/science.log: expected '-' at 20:43\n",
      "WARNING:root:Error parsing PROJ17100/RUN0/CLONE12/results0/science.log: expected '-' at 20:43\n",
      "WARNING:root:Error parsing PROJ17100/RUN0/CLONE9/results1/science.log: expected '-' at 20:43\n",
      "WARNING:root:Error parsing PROJ17100/RUN0/CLONE171/results0/science.log: expected '-' at 20:43\n",
      "WARNING:root:Error parsing PROJ17100/RUN0/CLONE221/results0/science.log: expected one of '', 'Performance since last checkpoint: ', '\\\\s+' at 558:0\n",
      "WARNING:root:Error parsing PROJ17100/RUN0/CLONE123/results0/science.log: 'utf-8' codec can't decode byte 0xe7 in position 1952: invalid continuation byte\n",
      "WARNING:root:Error parsing PROJ17100/RUN0/CLONE104/results0/science.log: 'utf-8' codec can't decode byte 0xe9 in position 1942: invalid continuation byte\n",
      "WARNING:root:Error parsing PROJ17100/RUN0/CLONE124/results0/science.log: expected one of '', 'Performance since last checkpoint: ', '\\\\s+' at 455:0\n",
      "WARNING:root:Error parsing PROJ17100/RUN0/CLONE5/results1/science.log: expected '-' at 20:43\n",
      "WARNING:root:Error parsing PROJ17100/RUN0/CLONE226/results1/science.log: expected one of '', 'Performance since last checkpoint: ', '\\\\s+' at 406:0\n",
      "WARNING:root:Error parsing PROJ17100/RUN0/CLONE173/results0/science.log: expected one of '', 'Performance since last checkpoint: ', '\\\\s+' at 444:0\n",
      "WARNING:root:Error parsing PROJ17100/RUN0/CLONE36/results0/science.log: expected '-' at 20:22\n",
      "WARNING:root:Error parsing PROJ17100/RUN0/CLONE154/results0/science.log: 'utf-8' codec can't decode byte 0x89 in position 1945: invalid start byte\n"
     ]
    },
    {
     "name": "stderr",
     "output_type": "stream",
     "text": [
      "WARNING:root:Error parsing PROJ17100/RUN0/CLONE133/results0/science.log: 'utf-8' codec can't decode byte 0xe9 in position 1941: invalid continuation byte\n",
      "WARNING:root:Error parsing PROJ17100/RUN0/CLONE314/results1/science.log: expected one of '', 'Performance since last checkpoint: ', '\\\\s+' at 890:0\n",
      "WARNING:root:Error parsing PROJ17100/RUN0/CLONE164/results0/science.log: expected '-' at 20:43\n",
      "WARNING:root:Error parsing PROJ17100/RUN0/CLONE293/results0/science.log: expected '-' at 20:22\n",
      "WARNING:root:Error parsing PROJ17100/RUN0/CLONE48/results0/science.log: expected '\\n' at 70:0\n",
      "WARNING:root:Error parsing PROJ17100/RUN0/CLONE10/results0/science.log: expected '-' at 20:43\n",
      "WARNING:root:Error parsing PROJ17100/RUN12/CLONE114/results0/science.log: expected one of '', 'Performance since last checkpoint: ', '\\\\s+' at 421:0\n",
      "WARNING:root:Error parsing PROJ17100/RUN12/CLONE100/results0/science.log: 'utf-8' codec can't decode byte 0xd2 in position 1943: invalid continuation byte\n",
      "WARNING:root:Error parsing PROJ17100/RUN12/CLONE140/results2/science.log: expected one of '', 'Performance since last checkpoint: ', '\\\\s+' at 427:0\n",
      "WARNING:root:Error parsing PROJ17100/RUN12/CLONE96/results0/science.log: expected one of '', 'Performance since last checkpoint: ', '\\\\s+' at 434:0\n",
      "WARNING:root:Error parsing PROJ17100/RUN12/CLONE127/results1/science.log: expected 'Version ' at 55:0\n",
      "WARNING:root:Error parsing PROJ17100/RUN12/CLONE292/results1/science.log: expected '-' at 20:22\n",
      "WARNING:root:Error parsing PROJ17100/RUN12/CLONE77/results0/science.log: expected '-' at 20:37\n",
      "WARNING:root:Error parsing PROJ17100/RUN12/CLONE193/results0/science.log: 'utf-8' codec can't decode byte 0x82 in position 1967: invalid start byte\n",
      "WARNING:root:Error parsing PROJ17100/RUN12/CLONE171/results1/science.log: expected one of '\\\\*+ ', '\\\\s+' at 0:0\n",
      "WARNING:root:Error parsing PROJ17100/RUN12/CLONE29/results1/science.log: expected '-' at 20:43\n",
      "WARNING:root:Error parsing PROJ17100/RUN12/CLONE97/results0/science.log: expected one of '', 'Performance since last checkpoint: ', '\\\\s+' at 452:0\n",
      "WARNING:root:Error parsing PROJ17100/RUN12/CLONE334/results0/science.log: expected one of '', 'Performance since last checkpoint: ', '\\\\s+' at 731:0\n",
      "WARNING:root:Error parsing PROJ17100/RUN12/CLONE3/results1/science.log: expected '-' at 20:43\n",
      "WARNING:root:Error parsing PROJ17100/RUN12/CLONE36/results1/science.log: 'utf-8' codec can't decode byte 0xdc in position 1911: invalid continuation byte\n",
      "WARNING:root:Error parsing PROJ17100/RUN12/CLONE383/results0/science.log: expected one of '', 'Performance since last checkpoint: ', '\\\\s+' at 428:0\n",
      "WARNING:root:Error parsing PROJ17100/RUN12/CLONE175/results0/science.log: expected '-' at 20:43\n",
      "WARNING:root:Error parsing PROJ17100/RUN12/CLONE19/results1/science.log: expected '-' at 20:43\n",
      "WARNING:root:Error parsing PROJ17100/RUN12/CLONE41/results1/science.log: expected '\\n' at 70:0\n",
      "WARNING:root:Error parsing PROJ17100/RUN12/CLONE11/results0/science.log: expected '-' at 20:43\n",
      "WARNING:root:Error parsing PROJ17100/RUN12/CLONE103/results1/science.log: expected one of '\\\\*+ ', '\\\\s+' at 0:0\n",
      "WARNING:root:Error parsing PROJ17100/RUN12/CLONE137/results0/science.log: expected one of '', 'Performance since last checkpoint: ', '\\\\s+' at 452:0\n",
      "WARNING:root:Error parsing PROJ17100/RUN12/CLONE118/results0/science.log: expected one of '', 'Performance since last checkpoint: ', '\\\\s+' at 1377:0\n",
      "WARNING:root:Error parsing PROJ17100/RUN12/CLONE157/results0/science.log: expected one of '', 'Performance since last checkpoint: ', '\\\\s+' at 1237:0\n",
      "WARNING:root:Error parsing PROJ17100/RUN10/CLONE146/results1/science.log: 'utf-8' codec can't decode byte 0xe7 in position 1952: invalid continuation byte\n",
      "WARNING:root:Error parsing PROJ17100/RUN10/CLONE371/results1/science.log: expected one of '', 'Performance since last checkpoint: ', '\\\\s+' at 421:0\n",
      "WARNING:root:Error parsing PROJ17100/RUN10/CLONE2/results1/science.log: expected '-' at 20:43\n",
      "WARNING:root:Error parsing PROJ17100/RUN10/CLONE30/results1/science.log: expected '-' at 20:22\n",
      "WARNING:root:Error parsing PROJ17100/RUN10/CLONE16/results1/science.log: expected '-' at 20:43\n",
      "WARNING:root:Error parsing PROJ17100/RUN10/CLONE27/results0/science.log: expected '-' at 20:43\n",
      "WARNING:root:Error parsing PROJ17100/RUN10/CLONE139/results1/science.log: expected '-' at 20:43\n",
      "WARNING:root:Error parsing PROJ17100/RUN10/CLONE12/results0/science.log: expected '-' at 20:43\n",
      "WARNING:root:Error parsing PROJ17100/RUN10/CLONE43/results1/science.log: expected '-' at 20:22\n",
      "WARNING:root:Error parsing PROJ17100/RUN10/CLONE170/results1/science.log: expected '-' at 20:43\n",
      "WARNING:root:Error parsing PROJ17100/RUN10/CLONE9/results0/science.log: expected '-' at 20:43\n",
      "WARNING:root:Error parsing PROJ17100/RUN10/CLONE405/results1/science.log: 'utf-8' codec can't decode byte 0x82 in position 1974: invalid start byte\n",
      "WARNING:root:Error parsing PROJ17100/RUN10/CLONE171/results1/science.log: expected '-' at 20:43\n",
      "WARNING:root:Error parsing PROJ17100/RUN10/CLONE171/results0/science.log: expected '-' at 20:43\n",
      "WARNING:root:Error parsing PROJ17100/RUN10/CLONE135/results1/science.log: expected '-' at 20:43\n",
      "WARNING:root:Error parsing PROJ17100/RUN10/CLONE119/results0/science.log: expected one of '', 'Performance since last checkpoint: ', '\\\\s+' at 910:0\n",
      "WARNING:root:Error parsing PROJ17100/RUN10/CLONE109/results0/science.log: expected one of '', 'Performance since last checkpoint: ', '\\\\s+' at 441:0\n",
      "WARNING:root:Error parsing PROJ17100/RUN10/CLONE104/results0/science.log: expected one of '', 'Performance since last checkpoint: ', '\\\\s+' at 442:0\n",
      "WARNING:root:Error parsing PROJ17100/RUN10/CLONE145/results1/science.log: expected '-' at 20:43\n",
      "WARNING:root:Error parsing PROJ17100/RUN10/CLONE22/results1/science.log: expected '-' at 20:43\n",
      "WARNING:root:Error parsing PROJ17100/RUN10/CLONE261/results1/science.log: expected one of '', 'Performance since last checkpoint: ', '\\\\s+' at 425:0\n",
      "WARNING:root:Error parsing PROJ17100/RUN10/CLONE394/results1/science.log: 'utf-8' codec can't decode byte 0xf8 in position 1985: invalid start byte\n",
      "WARNING:root:Error parsing PROJ17100/RUN10/CLONE156/results1/science.log: 'utf-8' codec can't decode byte 0xb3 in position 1943: invalid start byte\n",
      "WARNING:root:Error parsing PROJ17100/RUN10/CLONE346/results0/science.log: expected '-' at 21:43\n",
      "WARNING:root:Error parsing PROJ17100/RUN10/CLONE187/results0/science.log: expected one of '', 'Performance since last checkpoint: ', '\\\\s+' at 585:0\n",
      "WARNING:root:Error parsing PROJ17100/RUN10/CLONE121/results0/science.log: expected '[' at 56:0\n",
      "WARNING:root:Error parsing PROJ17100/RUN10/CLONE166/results1/science.log: expected '-' at 20:43\n",
      "WARNING:root:Error parsing PROJ17100/RUN10/CLONE15/results0/science.log: expected '-' at 20:43\n",
      "WARNING:root:Error parsing PROJ17100/RUN10/CLONE10/results0/science.log: expected '-' at 20:43\n",
      "WARNING:root:Error parsing PROJ17100/RUN5/CLONE180/results1/science.log: expected one of '', 'Performance since last checkpoint: ', '\\\\s+' at 452:0\n",
      "WARNING:root:Error parsing PROJ17100/RUN5/CLONE2/results1/science.log: expected '-' at 20:43\n",
      "WARNING:root:Error parsing PROJ17100/RUN5/CLONE365/results1/science.log: expected one of '', 'Performance since last checkpoint: ', '\\\\s+' at 407:0\n",
      "WARNING:root:Error parsing PROJ17100/RUN5/CLONE182/results0/science.log: expected '-' at 19:74\n",
      "WARNING:root:Error parsing PROJ17100/RUN5/CLONE66/results0/science.log: expected '\\n' at 70:0\n",
      "WARNING:root:Error parsing PROJ17100/RUN5/CLONE28/results0/science.log: expected '-' at 20:43\n",
      "WARNING:root:Error parsing PROJ17100/RUN5/CLONE368/results0/science.log: expected '-' at 21:43\n",
      "WARNING:root:Error parsing PROJ17100/RUN5/CLONE12/results1/science.log: expected '-' at 20:43\n",
      "WARNING:root:Error parsing PROJ17100/RUN5/CLONE70/results0/science.log: expected '-' at 20:22\n",
      "WARNING:root:Error parsing PROJ17100/RUN5/CLONE25/results1/science.log: expected '-' at 20:43\n",
      "WARNING:root:Error parsing PROJ17100/RUN5/CLONE181/results0/science.log: expected one of '', 'Performance since last checkpoint: ', '\\\\s+' at 443:0\n",
      "WARNING:root:Error parsing PROJ17100/RUN5/CLONE147/results0/science.log: expected one of '', 'Performance since last checkpoint: ', '\\\\s+' at 742:0\n"
     ]
    },
    {
     "name": "stderr",
     "output_type": "stream",
     "text": [
      "WARNING:root:Error parsing PROJ17100/RUN5/CLONE163/results0/science.log: expected one of '\\\\*+ ', '\\\\s+' at 0:0\n",
      "WARNING:root:Error parsing PROJ17100/RUN5/CLONE13/results1/science.log: 'utf-8' codec can't decode byte 0xc5 in position 1978: invalid continuation byte\n",
      "WARNING:root:Error parsing PROJ17100/RUN5/CLONE254/results0/science.log: expected one of '', 'Performance since last checkpoint: ', '\\\\s+' at 415:0\n",
      "WARNING:root:Error parsing PROJ17100/RUN5/CLONE159/results0/science.log: expected '-' at 20:43\n",
      "WARNING:root:Error parsing PROJ17100/RUN5/CLONE418/results0/science.log: expected '-' at 20:22\n",
      "WARNING:root:Error parsing PROJ17100/RUN5/CLONE20/results1/science.log: expected '-' at 20:43\n",
      "WARNING:root:Error parsing PROJ17100/RUN5/CLONE20/results0/science.log: expected '-' at 20:43\n",
      "WARNING:root:Error parsing PROJ17100/RUN5/CLONE156/results0/science.log: expected '-' at 20:43\n",
      "WARNING:root:Error parsing PROJ17100/RUN5/CLONE41/results1/science.log: expected '-' at 19:74\n",
      "WARNING:root:Error parsing PROJ17100/RUN5/CLONE11/results0/science.log: expected '-' at 20:43\n",
      "WARNING:root:Error parsing PROJ17100/RUN5/CLONE152/results1/science.log: expected '-' at 20:43\n",
      "WARNING:root:Error parsing PROJ17100/RUN5/CLONE172/results0/science.log: expected '-' at 20:43\n",
      "WARNING:root:Error parsing PROJ17100/RUN1/CLONE114/results0/science.log: expected one of '\\\\*+ ', '\\\\s+' at 0:0\n",
      "WARNING:root:Error parsing PROJ17100/RUN1/CLONE138/results0/science.log: 'utf-8' codec can't decode byte 0xe7 in position 1952: invalid continuation byte\n",
      "WARNING:root:Error parsing PROJ17100/RUN1/CLONE362/results0/science.log: expected one of '', 'Performance since last checkpoint: ', '\\\\s+' at 734:0\n",
      "WARNING:root:Error parsing PROJ17100/RUN1/CLONE16/results0/science.log: expected '-' at 20:43\n",
      "WARNING:root:Error parsing PROJ17100/RUN1/CLONE69/results1/science.log: expected one of '\\\\*+ ', '\\\\s+' at 0:0\n",
      "WARNING:root:Error parsing PROJ17100/RUN1/CLONE142/results1/science.log: 'utf-8' codec can't decode byte 0xb3 in position 1944: invalid start byte\n",
      "WARNING:root:Error parsing PROJ17100/RUN1/CLONE24/results0/science.log: 'utf-8' codec can't decode byte 0xb4 in position 1974: invalid start byte\n",
      "WARNING:root:Error parsing PROJ17100/RUN1/CLONE181/results1/science.log: 'utf-8' codec can't decode byte 0x89 in position 1946: invalid start byte\n",
      "WARNING:root:Error parsing PROJ17100/RUN1/CLONE29/results0/science.log: expected '-' at 20:43\n",
      "WARNING:root:Error parsing PROJ17100/RUN1/CLONE163/results1/science.log: expected '-' at 20:43\n",
      "WARNING:root:Error parsing PROJ17100/RUN1/CLONE5/results1/science.log: expected '-' at 20:43\n",
      "WARNING:root:Error parsing PROJ17100/RUN1/CLONE8/results1/science.log: expected '-' at 20:43\n",
      "WARNING:root:Error parsing PROJ17100/RUN1/CLONE391/results0/science.log: expected one of '', 'Performance since last checkpoint: ', '\\\\s+' at 588:0\n",
      "WARNING:root:Error parsing PROJ17100/RUN1/CLONE21/results1/science.log: expected '-' at 20:43\n",
      "WARNING:root:Error parsing PROJ17100/RUN1/CLONE1/results1/science.log: expected '-' at 20:43\n",
      "WARNING:root:Error parsing PROJ17100/RUN1/CLONE65/results1/science.log: expected '\\n' at 75:0\n",
      "WARNING:root:Error parsing PROJ17100/RUN1/CLONE72/results0/science.log: expected '-' at 20:22\n",
      "WARNING:root:Error parsing PROJ17100/RUN1/CLONE157/results1/science.log: expected '-' at 20:43\n",
      "WARNING:root:Error parsing PROJ17100/RUN1/CLONE15/results1/science.log: expected '-' at 20:43\n",
      "WARNING:root:Error parsing PROJ17100/RUN1/CLONE15/results0/science.log: expected '-' at 20:43\n",
      "WARNING:root:Error parsing PROJ17100/RUN11/CLONE297/results0/science.log: 'utf-8' codec can't decode byte 0xb4 in position 1975: invalid start byte\n",
      "WARNING:root:Error parsing PROJ17100/RUN11/CLONE146/results1/science.log: expected one of '', 'Performance since last checkpoint: ', '\\\\s+' at 440:0\n",
      "WARNING:root:Error parsing PROJ17100/RUN11/CLONE2/results1/science.log: expected '-' at 20:43\n",
      "WARNING:root:Error parsing PROJ17100/RUN11/CLONE186/results1/science.log: expected one of '\\\\*+ ', '\\\\s+' at 0:0\n",
      "WARNING:root:Error parsing PROJ17100/RUN11/CLONE30/results1/science.log: expected '-' at 20:43\n",
      "WARNING:root:Error parsing PROJ17100/RUN11/CLONE161/results0/science.log: expected '-' at 20:43\n",
      "WARNING:root:Error parsing PROJ17100/RUN11/CLONE28/results1/science.log: expected '-' at 20:43\n",
      "WARNING:root:Error parsing PROJ17100/RUN11/CLONE70/results0/science.log: expected one of '\\\\*+ ', '\\\\s+' at 0:0\n",
      "WARNING:root:Error parsing PROJ17100/RUN11/CLONE25/results0/science.log: expected '-' at 20:43\n",
      "WARNING:root:Error parsing PROJ17100/RUN11/CLONE142/results1/science.log: expected '-' at 20:43\n",
      "WARNING:root:Error parsing PROJ17100/RUN11/CLONE181/results0/science.log: expected one of '\\\\*+ ', '\\\\s+' at 0:0\n",
      "WARNING:root:Error parsing PROJ17100/RUN11/CLONE3/results1/science.log: expected '-' at 20:43\n",
      "WARNING:root:Error parsing PROJ17100/RUN11/CLONE56/results1/science.log: expected '-' at 20:22\n",
      "WARNING:root:Error parsing PROJ17100/RUN11/CLONE116/results1/science.log: expected one of '', 'Performance since last checkpoint: ', '\\\\s+' at 544:0\n",
      "WARNING:root:Error parsing PROJ17100/RUN11/CLONE159/results0/science.log: 'utf-8' codec can't decode byte 0xfc in position 1945: invalid start byte\n",
      "WARNING:root:Error parsing PROJ17100/RUN11/CLONE165/results0/science.log: expected '-' at 20:43\n",
      "WARNING:root:Error parsing PROJ17100/RUN11/CLONE346/results0/science.log: expected '-' at 21:43\n",
      "WARNING:root:Error parsing PROJ17100/RUN11/CLONE23/results1/science.log: expected '-' at 20:43\n",
      "WARNING:root:Error parsing PROJ17100/RUN11/CLONE117/results1/science.log: expected one of '', 'Performance since last checkpoint: ', '\\\\s+' at 777:0\n",
      "WARNING:root:Error parsing PROJ17100/RUN11/CLONE162/results1/science.log: expected '-' at 20:43\n",
      "WARNING:root:Error parsing PROJ17100/RUN11/CLONE118/results1/science.log: expected '-' at 20:43\n",
      "WARNING:root:Error parsing PROJ17100/RUN11/CLONE162/results0/science.log: expected '-' at 20:43\n",
      "WARNING:root:Error parsing PROJ17100/RUN11/CLONE48/results0/science.log: expected '-' at 20:22\n",
      "WARNING:root:Error parsing PROJ17100/RUN11/CLONE15/results0/science.log: expected '-' at 20:43\n",
      "WARNING:root:Error parsing PROJ17100/RUN3/CLONE297/results1/science.log: expected '-' at 20:22\n",
      "WARNING:root:Error parsing PROJ17100/RUN3/CLONE186/results0/science.log: expected one of '', 'Performance since last checkpoint: ', '\\\\s+' at 590:0\n",
      "WARNING:root:Error parsing PROJ17100/RUN3/CLONE183/results0/science.log: expected one of '', 'Performance since last checkpoint: ', '\\\\s+' at 411:0\n",
      "WARNING:root:Error parsing PROJ17100/RUN3/CLONE149/results1/science.log: 'utf-8' codec can't decode byte 0xb3 in position 1943: invalid start byte\n",
      "WARNING:root:Error parsing PROJ17100/RUN3/CLONE16/results1/science.log: expected one of '\\\\*+ ', '\\\\s+' at 0:0\n",
      "WARNING:root:Error parsing PROJ17100/RUN3/CLONE326/results0/science.log: expected one of '', 'Performance since last checkpoint: ', '\\\\s+' at 907:0\n",
      "WARNING:root:Error parsing PROJ17100/RUN3/CLONE57/results1/science.log: expected '-' at 20:22\n",
      "WARNING:root:Error parsing PROJ17100/RUN3/CLONE189/results0/science.log: expected one of '', 'Performance since last checkpoint: ', '\\\\s+' at 759:0\n",
      "WARNING:root:Error parsing PROJ17100/RUN3/CLONE139/results3/science.log: expected one of '', 'Performance since last checkpoint: ', '\\\\s+' at 898:0\n",
      "WARNING:root:Error parsing PROJ17100/RUN3/CLONE26/results1/science.log: expected '-' at 20:43\n",
      "WARNING:root:Error parsing PROJ17100/RUN3/CLONE170/results1/science.log: expected '-' at 20:43\n",
      "WARNING:root:Error parsing PROJ17100/RUN3/CLONE181/results0/science.log: expected one of '', 'Performance since last checkpoint: ', '\\\\s+' at 425:0\n",
      "WARNING:root:Error parsing PROJ17100/RUN3/CLONE147/results1/science.log: expected '-' at 20:43\n",
      "WARNING:root:Error parsing PROJ17100/RUN3/CLONE171/results1/science.log: expected one of '', 'Performance since last checkpoint: ', '\\\\s+' at 580:0\n",
      "WARNING:root:Error parsing PROJ17100/RUN3/CLONE163/results0/science.log: expected '-' at 20:43\n",
      "WARNING:root:Error parsing PROJ17100/RUN3/CLONE364/results1/science.log: expected one of '', 'Performance since last checkpoint: ', '\\\\s+' at 863:0\n",
      "WARNING:root:Error parsing PROJ17100/RUN3/CLONE403/results1/science.log: expected one of '', 'Performance since last checkpoint: ', '\\\\s+' at 582:0\n"
     ]
    },
    {
     "name": "stderr",
     "output_type": "stream",
     "text": [
      "WARNING:root:Error parsing PROJ17100/RUN3/CLONE165/results0/science.log: expected '-' at 19:74\n",
      "WARNING:root:Error parsing PROJ17100/RUN3/CLONE164/results0/science.log: expected '-' at 20:43\n",
      "WARNING:root:Error parsing PROJ17100/RUN3/CLONE176/results0/science.log: expected '-' at 20:43\n",
      "WARNING:root:Error parsing PROJ17100/RUN3/CLONE299/results1/science.log: expected '-' at 20:22\n",
      "WARNING:root:Error parsing PROJ17100/RUN3/CLONE137/results1/science.log: expected '-' at 20:43\n",
      "WARNING:root:Error parsing PROJ17100/RUN3/CLONE118/results0/science.log: expected one of '\\\\*+ ', '\\\\s+' at 0:0\n",
      "WARNING:root:Error parsing PROJ17100/RUN3/CLONE115/results1/science.log: expected one of '', 'Performance since last checkpoint: ', '\\\\s+' at 455:0\n",
      "WARNING:root:Error parsing PROJ17100/RUN7/CLONE98/results0/science.log: expected one of '\\\\*+ ', '\\\\s+' at 0:0\n",
      "WARNING:root:Error parsing PROJ17100/RUN7/CLONE413/results0/science.log: expected one of '', 'Performance since last checkpoint: ', '\\\\s+' at 435:0\n",
      "WARNING:root:Error parsing PROJ17100/RUN7/CLONE139/results3/science.log: expected one of '', 'Performance since last checkpoint: ', '\\\\s+' at 712:0\n",
      "WARNING:root:Error parsing PROJ17100/RUN7/CLONE139/results1/science.log: expected one of '', 'Performance since last checkpoint: ', '\\\\s+' at 1108:0\n",
      "WARNING:root:Error parsing PROJ17100/RUN7/CLONE12/results0/science.log: expected '-' at 20:43\n",
      "WARNING:root:Error parsing PROJ17100/RUN7/CLONE9/results0/science.log: expected '-' at 20:43\n",
      "WARNING:root:Error parsing PROJ17100/RUN7/CLONE111/results0/science.log: expected one of '', 'Performance since last checkpoint: ', '\\\\s+' at 423:0\n",
      "WARNING:root:Error parsing PROJ17100/RUN7/CLONE141/results2/science.log: expected one of '', 'Performance since last checkpoint: ', '\\\\s+' at 442:0\n",
      "WARNING:root:Error parsing PROJ17100/RUN7/CLONE135/results0/science.log: expected one of '', 'Performance since last checkpoint: ', '\\\\s+' at 947:0\n",
      "WARNING:root:Error parsing PROJ17100/RUN7/CLONE421/results0/science.log: expected one of '', 'Performance since last checkpoint: ', '\\\\s+' at 420:0\n",
      "WARNING:root:Error parsing PROJ17100/RUN7/CLONE163/results1/science.log: expected one of '', 'Performance since last checkpoint: ', '\\\\s+' at 448:0\n",
      "WARNING:root:Error parsing PROJ17100/RUN7/CLONE159/results0/science.log: expected '-' at 20:43\n",
      "WARNING:root:Error parsing PROJ17100/RUN7/CLONE284/results0/science.log: 'utf-8' codec can't decode byte 0xb3 in position 1945: invalid start byte\n",
      "WARNING:root:Error parsing PROJ17100/RUN7/CLONE391/results1/science.log: 'utf-8' codec can't decode byte 0xe5 in position 1974: invalid continuation byte\n",
      "WARNING:root:Error parsing PROJ17100/RUN7/CLONE4/results1/science.log: expected '-' at 20:43\n",
      "WARNING:root:Error parsing PROJ17100/RUN7/CLONE19/results1/science.log: expected '-' at 20:43\n",
      "WARNING:root:Error parsing PROJ17100/RUN7/CLONE156/results0/science.log: 'utf-8' codec can't decode byte 0xe9 in position 1952: invalid continuation byte\n",
      "WARNING:root:Error parsing PROJ17100/RUN7/CLONE327/results0/science.log: expected one of '', 'Performance since last checkpoint: ', '\\\\s+' at 433:0\n",
      "WARNING:root:Error parsing PROJ17100/RUN7/CLONE176/results0/science.log: expected '-' at 20:43\n",
      "WARNING:root:Error parsing PROJ17100/RUN7/CLONE174/results0/science.log: expected '-' at 20:43\n",
      "WARNING:root:Error parsing PROJ17100/RUN7/CLONE44/results0/science.log: expected '[' at 57:0\n",
      "WARNING:root:Error parsing PROJ17100/RUN7/CLONE157/results1/science.log: expected '-' at 20:43\n",
      "WARNING:root:Error parsing PROJ17100/RUN7/CLONE130/results0/science.log: expected one of '', 'Performance since last checkpoint: ', '\\\\s+' at 446:0\n",
      "WARNING:root:Error parsing PROJ17100/RUN8/CLONE289/results1/science.log: 'utf-8' codec can't decode byte 0xb3 in position 1944: invalid start byte\n",
      "WARNING:root:Error parsing PROJ17100/RUN8/CLONE100/results1/science.log: expected one of '\\\\*+ ', '\\\\s+' at 0:0\n",
      "WARNING:root:Error parsing PROJ17100/RUN8/CLONE2/results1/science.log: expected '-' at 20:43\n",
      "WARNING:root:Error parsing PROJ17100/RUN8/CLONE382/results1/science.log: expected one of '', 'Performance since last checkpoint: ', '\\\\s+' at 434:0\n",
      "WARNING:root:Error parsing PROJ17100/RUN8/CLONE14/results1/science.log: expected '-' at 20:43\n",
      "WARNING:root:Error parsing PROJ17100/RUN8/CLONE39/results1/science.log: expected '\\n' at 81:0\n",
      "WARNING:root:Error parsing PROJ17100/RUN8/CLONE28/results1/science.log: expected '-' at 20:43\n",
      "WARNING:root:Error parsing PROJ17100/RUN8/CLONE27/results0/science.log: expected '-' at 20:43\n",
      "WARNING:root:Error parsing PROJ17100/RUN8/CLONE43/results0/science.log: expected '-' at 20:22\n",
      "WARNING:root:Error parsing PROJ17100/RUN8/CLONE126/results0/science.log: expected one of '', 'Performance since last checkpoint: ', '\\\\s+' at 960:0\n",
      "WARNING:root:Error parsing PROJ17100/RUN8/CLONE141/results0/science.log: expected one of '', 'Performance since last checkpoint: ', '\\\\s+' at 457:0\n",
      "WARNING:root:Error parsing PROJ17100/RUN8/CLONE107/results0/science.log: expected one of '', 'Performance since last checkpoint: ', '\\\\s+' at 622:0\n",
      "WARNING:root:Error parsing PROJ17100/RUN8/CLONE155/results0/science.log: expected '-' at 20:43\n",
      "WARNING:root:Error parsing PROJ17100/RUN8/CLONE163/results1/science.log: expected '-' at 20:43\n",
      "WARNING:root:Error parsing PROJ17100/RUN8/CLONE13/results1/science.log: expected '-' at 20:43\n",
      "WARNING:root:Error parsing PROJ17100/RUN8/CLONE5/results1/science.log: expected '-' at 20:43\n",
      "WARNING:root:Error parsing PROJ17100/RUN8/CLONE154/results1/science.log: expected one of '', 'Performance since last checkpoint: ', '\\\\s+' at 588:0\n",
      "WARNING:root:Error parsing PROJ17100/RUN8/CLONE129/results1/science.log: expected '-' at 20:43\n",
      "WARNING:root:Error parsing PROJ17100/RUN8/CLONE8/results1/science.log: expected '-' at 20:43\n",
      "WARNING:root:Error parsing PROJ17100/RUN8/CLONE310/results0/science.log: expected one of '', 'Performance since last checkpoint: ', '\\\\s+' at 437:0\n",
      "WARNING:root:Error parsing PROJ17100/RUN8/CLONE21/results0/science.log: expected '-' at 20:43\n",
      "WARNING:root:Error parsing PROJ17100/RUN8/CLONE152/results0/science.log: 'utf-8' codec can't decode byte 0xe7 in position 1951: invalid continuation byte\n",
      "WARNING:root:Error parsing PROJ17100/RUN8/CLONE290/results0/science.log: expected '-' at 20:22\n",
      "WARNING:root:Error parsing PROJ17100/RUN8/CLONE121/results1/science.log: expected one of '', 'Performance since last checkpoint: ', '\\\\s+' at 470:0\n",
      "WARNING:root:Error parsing PROJ17100/RUN8/CLONE10/results0/science.log: expected '-' at 20:43\n",
      "WARNING:root:Error parsing PROJ17100/RUN13/CLONE150/results0/science.log: expected '-' at 20:43\n",
      "WARNING:root:Error parsing PROJ17100/RUN13/CLONE382/results0/science.log: 'utf-8' codec can't decode byte 0xfc in position 1978: invalid start byte\n",
      "WARNING:root:Error parsing PROJ17100/RUN13/CLONE198/results0/science.log: expected one of '\\\\*+ ', '\\\\s+' at 0:0\n",
      "WARNING:root:Error parsing PROJ17100/RUN13/CLONE183/results0/science.log: expected one of '', 'Performance since last checkpoint: ', '\\\\s+' at 564:0\n",
      "WARNING:root:Error parsing PROJ17100/RUN13/CLONE28/results1/science.log: expected '-' at 20:43\n",
      "WARNING:root:Error parsing PROJ17100/RUN13/CLONE161/results1/science.log: expected one of '', 'Performance since last checkpoint: ', '\\\\s+' at 1075:0\n",
      "WARNING:root:Error parsing PROJ17100/RUN13/CLONE12/results0/science.log: expected '-' at 20:43\n",
      "WARNING:root:Error parsing PROJ17100/RUN13/CLONE24/results1/science.log: expected '-' at 20:43\n",
      "WARNING:root:Error parsing PROJ17100/RUN13/CLONE13/results0/science.log: expected '-' at 20:43\n",
      "WARNING:root:Error parsing PROJ17100/RUN13/CLONE124/results1/science.log: expected one of '\\\\*+ ', '\\\\s+' at 0:0\n",
      "WARNING:root:Error parsing PROJ17100/RUN13/CLONE104/results0/science.log: expected one of '', 'Performance since last checkpoint: ', '\\\\s+' at 586:0\n",
      "WARNING:root:Error parsing PROJ17100/RUN13/CLONE177/results0/science.log: expected '-' at 20:43\n",
      "WARNING:root:Error parsing PROJ17100/RUN13/CLONE168/results0/science.log: expected '-' at 20:43\n",
      "WARNING:root:Error parsing PROJ17100/RUN13/CLONE287/results1/science.log: expected '-' at 20:22\n",
      "WARNING:root:Error parsing PROJ17100/RUN13/CLONE276/results1/science.log: 'utf-8' codec can't decode byte 0xc0 in position 1971: invalid start byte\n"
     ]
    },
    {
     "name": "stderr",
     "output_type": "stream",
     "text": [
      "WARNING:root:Error parsing PROJ17100/RUN13/CLONE22/results0/science.log: expected '-' at 20:43\n",
      "WARNING:root:Error parsing PROJ17100/RUN13/CLONE159/results1/science.log: expected one of '', 'Performance since last checkpoint: ', '\\\\s+' at 1272:0\n",
      "WARNING:root:Error parsing PROJ17100/RUN13/CLONE133/results1/science.log: expected '-' at 20:43\n",
      "WARNING:root:Error parsing PROJ17100/RUN13/CLONE136/results0/science.log: expected one of '', 'Performance since last checkpoint: ', '\\\\s+' at 618:0\n",
      "WARNING:root:Error parsing PROJ17100/RUN13/CLONE387/results1/science.log: 'utf-8' codec can't decode byte 0x92 in position 1971: invalid start byte\n",
      "WARNING:root:Error parsing PROJ17100/RUN13/CLONE137/results1/science.log: expected '-' at 20:43\n",
      "WARNING:root:Error parsing PROJ17100/RUN13/CLONE112/results0/science.log: expected one of '', 'Performance since last checkpoint: ', '\\\\s+' at 930:0\n",
      "WARNING:root:Error parsing PROJ17100/RUN13/CLONE17/results0/science.log: expected '-' at 20:43\n"
     ]
    },
    {
     "name": "stdout",
     "output_type": "stream",
     "text": [
      "\n",
      "<class 'pandas.core.frame.DataFrame'>\n",
      "RangeIndex: 12289 entries, 0 to 12288\n",
      "Data columns (total 5 columns):\n",
      " #   Column      Non-Null Count  Dtype  \n",
      "---  ------      --------------  -----  \n",
      " 0   run_id      12289 non-null  int64  \n",
      " 1   clone_id    12289 non-null  int64  \n",
      " 2   results_id  12289 non-null  int64  \n",
      " 3   gpu_name    12289 non-null  object \n",
      " 4   ns_per_day  12289 non-null  float64\n",
      "dtypes: float64(1), int64(3), object(1)\n",
      "memory usage: 480.2+ KB\n"
     ]
    }
   ],
   "source": [
    "data = parse_logs_to_df(files)\n",
    "data.info()"
   ]
  },
  {
   "cell_type": "code",
   "execution_count": 12,
   "metadata": {},
   "outputs": [],
   "source": [
    "data.to_feather('checkpoint')"
   ]
  },
  {
   "cell_type": "code",
   "execution_count": 13,
   "metadata": {},
   "outputs": [],
   "source": [
    "data = pd.read_feather('checkpoint')"
   ]
  },
  {
   "cell_type": "code",
   "execution_count": 14,
   "metadata": {},
   "outputs": [
    {
     "data": {
      "text/html": [
       "\n",
       "<div id=\"altair-viz-bade0f3e543c4e3c9818f5b49d0e0eb4\"></div>\n",
       "<script type=\"text/javascript\">\n",
       "  (function(spec, embedOpt){\n",
       "    let outputDiv = document.currentScript.previousElementSibling;\n",
       "    if (outputDiv.id !== \"altair-viz-bade0f3e543c4e3c9818f5b49d0e0eb4\") {\n",
       "      outputDiv = document.getElementById(\"altair-viz-bade0f3e543c4e3c9818f5b49d0e0eb4\");\n",
       "    }\n",
       "    const paths = {\n",
       "      \"vega\": \"https://cdn.jsdelivr.net/npm//vega@5?noext\",\n",
       "      \"vega-lib\": \"https://cdn.jsdelivr.net/npm//vega-lib?noext\",\n",
       "      \"vega-lite\": \"https://cdn.jsdelivr.net/npm//vega-lite@4.8.1?noext\",\n",
       "      \"vega-embed\": \"https://cdn.jsdelivr.net/npm//vega-embed@6?noext\",\n",
       "    };\n",
       "\n",
       "    function loadScript(lib) {\n",
       "      return new Promise(function(resolve, reject) {\n",
       "        var s = document.createElement('script');\n",
       "        s.src = paths[lib];\n",
       "        s.async = true;\n",
       "        s.onload = () => resolve(paths[lib]);\n",
       "        s.onerror = () => reject(`Error loading script: ${paths[lib]}`);\n",
       "        document.getElementsByTagName(\"head\")[0].appendChild(s);\n",
       "      });\n",
       "    }\n",
       "\n",
       "    function showError(err) {\n",
       "      outputDiv.innerHTML = `<div class=\"error\" style=\"color:red;\">${err}</div>`;\n",
       "      throw err;\n",
       "    }\n",
       "\n",
       "    function displayChart(vegaEmbed) {\n",
       "      vegaEmbed(outputDiv, spec, embedOpt)\n",
       "        .catch(err => showError(`Javascript Error: ${err.message}<br>This usually means there's a typo in your chart specification. See the javascript console for the full traceback.`));\n",
       "    }\n",
       "\n",
       "    if(typeof define === \"function\" && define.amd) {\n",
       "      requirejs.config({paths});\n",
       "      require([\"vega-embed\"], displayChart, err => showError(`Error loading script: ${err.message}`));\n",
       "    } else if (typeof vegaEmbed === \"function\") {\n",
       "      displayChart(vegaEmbed);\n",
       "    } else {\n",
       "      loadScript(\"vega\")\n",
       "        .then(() => loadScript(\"vega-lite\"))\n",
       "        .then(() => loadScript(\"vega-embed\"))\n",
       "        .catch(showError)\n",
       "        .then(() => displayChart(vegaEmbed));\n",
       "    }\n",
       "  })({\"config\": {\"view\": {\"continuousWidth\": 400, \"continuousHeight\": 300}}, \"data\": {\"name\": \"data-b527d2fc7575dc937de7de021f7f2f69\"}, \"mark\": \"bar\", \"encoding\": {\"x\": {\"type\": \"quantitative\", \"aggregate\": \"mean\", \"field\": \"z_score_by_run\"}, \"y\": {\"type\": \"nominal\", \"field\": \"gpu_name\", \"sort\": \"-x\"}}, \"$schema\": \"https://vega.github.io/schema/vega-lite/v4.8.1.json\", \"datasets\": {\"data-b527d2fc7575dc937de7de021f7f2f69\": [{\"gpu_name\": \"Baffin\", \"z_score_by_run\": -0.8950921095120052}, {\"gpu_name\": \"Ellesmere\", \"z_score_by_run\": -0.4448600816595989}, {\"gpu_name\": \"GRID T4-2Q\", \"z_score_by_run\": 0.14678844006619626}, {\"gpu_name\": \"GeForce GTX 1050\", \"z_score_by_run\": -1.1236499152128687}, {\"gpu_name\": \"GeForce GTX 1050 Ti\", \"z_score_by_run\": -0.7096268460615817}, {\"gpu_name\": \"GeForce GTX 1060 3GB\", \"z_score_by_run\": -0.2966593234668034}, {\"gpu_name\": \"GeForce GTX 1060 6GB\", \"z_score_by_run\": -0.29375341222161117}, {\"gpu_name\": \"GeForce GTX 1070\", \"z_score_by_run\": 0.21282003717734757}, {\"gpu_name\": \"GeForce GTX 1070 Ti\", \"z_score_by_run\": 0.23271501088369415}, {\"gpu_name\": \"GeForce GTX 1080\", \"z_score_by_run\": 0.2891659394237515}, {\"gpu_name\": \"GeForce GTX 1080 Ti\", \"z_score_by_run\": 0.7331189338150614}, {\"gpu_name\": \"GeForce GTX 1650\", \"z_score_by_run\": -0.5248799378581019}, {\"gpu_name\": \"GeForce GTX 1660\", \"z_score_by_run\": -0.0197361347434795}, {\"gpu_name\": \"GeForce GTX 1660 SUPER\", \"z_score_by_run\": 0.08220333123951036}, {\"gpu_name\": \"GeForce GTX 1660 Ti\", \"z_score_by_run\": 0.19818092623832229}, {\"gpu_name\": \"GeForce GTX 560 Ti\", \"z_score_by_run\": -1.0183051087608521}, {\"gpu_name\": \"GeForce GTX 650 Ti BOOST\", \"z_score_by_run\": -1.048213658520195}, {\"gpu_name\": \"GeForce GTX 660 Ti\", \"z_score_by_run\": -0.9044945013986742}, {\"gpu_name\": \"GeForce GTX 750 Ti\", \"z_score_by_run\": -0.8949931891686642}, {\"gpu_name\": \"GeForce GTX 960\", \"z_score_by_run\": -0.7230222473588469}, {\"gpu_name\": \"GeForce GTX 960M\", \"z_score_by_run\": -0.9233657832952694}, {\"gpu_name\": \"GeForce GTX 970\", \"z_score_by_run\": -0.3294007927110299}, {\"gpu_name\": \"GeForce GTX 980\", \"z_score_by_run\": -0.06549005687524471}, {\"gpu_name\": \"GeForce GTX 980 Ti\", \"z_score_by_run\": 0.3109067156006426}, {\"gpu_name\": \"GeForce GTX 980M\", \"z_score_by_run\": -0.39504245058639587}, {\"gpu_name\": \"GeForce GTX TITAN X\", \"z_score_by_run\": 0.1891102322391388}, {\"gpu_name\": \"GeForce RTX 2060\", \"z_score_by_run\": 0.6093312997106376}, {\"gpu_name\": \"GeForce RTX 2060 SUPER\", \"z_score_by_run\": 0.7243768889709359}, {\"gpu_name\": \"GeForce RTX 2070\", \"z_score_by_run\": 0.7472077262643003}, {\"gpu_name\": \"GeForce RTX 2070 SUPER\", \"z_score_by_run\": 1.2041443923316775}, {\"gpu_name\": \"GeForce RTX 2080\", \"z_score_by_run\": 1.1293823816643545}, {\"gpu_name\": \"GeForce RTX 2080 SUPER\", \"z_score_by_run\": 1.302472607258723}, {\"gpu_name\": \"GeForce RTX 2080 Ti\", \"z_score_by_run\": 1.8957670572453011}, {\"gpu_name\": \"Intel(R) Gen9 HD Graphics NEO\", \"z_score_by_run\": -1.1302836399481035}, {\"gpu_name\": \"Intel(R) HD Graphics 520\", \"z_score_by_run\": -1.2135458095560714}, {\"gpu_name\": \"Intel(R) HD Graphics 530\", \"z_score_by_run\": -1.1695543990258732}, {\"gpu_name\": \"Intel(R) Iris(R) Plus Graphics 640\", \"z_score_by_run\": -1.1340705311977468}, {\"gpu_name\": \"Intel(R) UHD Graphics 630\", \"z_score_by_run\": -1.1638974519482097}, {\"gpu_name\": \"Intel(R) UHD Graphics Coffee Lake Halo GT2\", \"z_score_by_run\": -1.1973055247297655}, {\"gpu_name\": \"Quadro P1000\", \"z_score_by_run\": -0.8567426982281877}, {\"gpu_name\": \"Quadro P2000\", \"z_score_by_run\": -0.556470758494175}, {\"gpu_name\": \"Quadro P4000\", \"z_score_by_run\": -0.08761059490942012}, {\"gpu_name\": \"Spectre\", \"z_score_by_run\": -1.0597173401586502}, {\"gpu_name\": \"TITAN X (Pascal)\", \"z_score_by_run\": 0.6214888813985219}, {\"gpu_name\": \"TITAN Xp\", \"z_score_by_run\": 1.1265299444428094}, {\"gpu_name\": \"Tesla C2070\", \"z_score_by_run\": -1.13774742859363}, {\"gpu_name\": \"Tesla K80\", \"z_score_by_run\": -0.5244424047808643}, {\"gpu_name\": \"Tesla M60\", \"z_score_by_run\": -0.38309726553422174}, {\"gpu_name\": \"Tesla P100-PCIE-16GB\", \"z_score_by_run\": 0.9967887147403561}, {\"gpu_name\": \"Tesla T10\", \"z_score_by_run\": 1.3599393659022576}, {\"gpu_name\": \"Tesla T10x\", \"z_score_by_run\": 1.3054473413425498}, {\"gpu_name\": \"Tesla T4\", \"z_score_by_run\": 0.2724526353019159}, {\"gpu_name\": \"Tesla V100-PCIE-16GB\", \"z_score_by_run\": 1.9707130532747115}, {\"gpu_name\": \"Tesla V100-PCIE-32GB\", \"z_score_by_run\": 2.3511325825085656}, {\"gpu_name\": \"Tesla V100-SXM2-16GB\", \"z_score_by_run\": 2.613016003406436}, {\"gpu_name\": \"Tesla V100-SXM2-32GB\", \"z_score_by_run\": 2.1971312423319946}, {\"gpu_name\": \"Tesla V100-SXM3-32GB-H\", \"z_score_by_run\": 2.8650834727736103}, {\"gpu_name\": \"gfx1010\", \"z_score_by_run\": 0.21784074157493108}, {\"gpu_name\": \"gfx900\", \"z_score_by_run\": 0.2988168193994196}, {\"gpu_name\": \"gfx906\", \"z_score_by_run\": 0.6316681443175642}]}}, {\"mode\": \"vega-lite\"});\n",
       "</script>"
      ],
      "text/plain": [
       "alt.Chart(...)"
      ]
     },
     "execution_count": 14,
     "metadata": {},
     "output_type": "execute_result"
    }
   ],
   "source": [
    "df = (data\n",
    " .set_index(['run_id', 'clone_id', 'results_id', 'gpu_name'])\n",
    " ['ns_per_day']\n",
    " .groupby('gpu_name').filter(lambda x: len(x) > 10)\n",
    " .groupby('run_id').transform(lambda x: (x - x.mean()) / x.std()).rename('z_score_by_run')\n",
    " .groupby('gpu_name').mean()\n",
    ").reset_index()\n",
    "\n",
    "alt.Chart(df).mark_bar().encode(\n",
    "    x=alt.X(\"z_score_by_run:Q\", aggregate='mean'),\n",
    "    y=alt.Y(\"gpu_name:N\", sort='-x')\n",
    ")"
   ]
  },
  {
   "cell_type": "code",
   "execution_count": null,
   "metadata": {},
   "outputs": [],
   "source": []
  }
 ],
 "metadata": {
  "kernelspec": {
   "display_name": "Python 3",
   "language": "python",
   "name": "python3"
  },
  "language_info": {
   "codemirror_mode": {
    "name": "ipython",
    "version": 3
   },
   "file_extension": ".py",
   "mimetype": "text/x-python",
   "name": "python",
   "nbconvert_exporter": "python",
   "pygments_lexer": "ipython3",
   "version": "3.8.3"
  }
 },
 "nbformat": 4,
 "nbformat_minor": 4
}
