{
 "cells": [
  {
   "cell_type": "code",
   "execution_count": 1,
   "metadata": {},
   "outputs": [],
   "source": [
    "import altair as alt\n",
    "import glob\n",
    "import pandas as pd\n",
    "from tqdm import tqdm\n",
    "from parse_science_log import parse"
   ]
  },
  {
   "cell_type": "code",
   "execution_count": 2,
   "metadata": {},
   "outputs": [],
   "source": [
    "log = parse('PROJ17100/RUN0/CLONE0/results0/science.log')"
   ]
  },
  {
   "cell_type": "code",
   "execution_count": 3,
   "metadata": {},
   "outputs": [
    {
     "data": {
      "text/plain": [
       "Device(name='GeForce GTX 1080 Ti', vendor='NVIDIA Corporation', version='OpenCL 1.2 CUDA')"
      ]
     },
     "execution_count": 3,
     "metadata": {},
     "output_type": "execute_result"
    }
   ],
   "source": [
    "log.get_active_device()"
   ]
  },
  {
   "cell_type": "code",
   "execution_count": 4,
   "metadata": {},
   "outputs": [
    {
     "data": {
      "text/plain": [
       "638.783"
      ]
     },
     "execution_count": 4,
     "metadata": {},
     "output_type": "execute_result"
    }
   ],
   "source": [
    "log.fah_core_log.average_perf_ns_day"
   ]
  },
  {
   "cell_type": "code",
   "execution_count": 5,
   "metadata": {},
   "outputs": [
    {
     "data": {
      "text/plain": [
       "416"
      ]
     },
     "execution_count": 5,
     "metadata": {},
     "output_type": "execute_result"
    }
   ],
   "source": [
    "files = glob.glob('PROJ17100/RUN0/*/results0/science.log')\n",
    "len(files)"
   ]
  },
  {
   "cell_type": "code",
   "execution_count": 6,
   "metadata": {},
   "outputs": [
    {
     "name": "stderr",
     "output_type": "stream",
     "text": [
      "100%|██████████| 416/416 [00:56<00:00,  7.40it/s]\n"
     ]
    }
   ],
   "source": [
    "def get_gpu_perf(log_file):\n",
    "    try:\n",
    "        p = parse(log_file)\n",
    "        return p.get_active_device().name, p.fah_core_log.average_perf_ns_day\n",
    "    except:\n",
    "        return None\n",
    "\n",
    "gpu_perf = pd.DataFrame.from_records([get_gpu_perf(f) for f in tqdm(files)],  columns=[\"gpu_name\", \"ns_per_day\"])"
   ]
  },
  {
   "cell_type": "code",
   "execution_count": 7,
   "metadata": {},
   "outputs": [
    {
     "data": {
      "text/html": [
       "<div>\n",
       "<style scoped>\n",
       "    .dataframe tbody tr th:only-of-type {\n",
       "        vertical-align: middle;\n",
       "    }\n",
       "\n",
       "    .dataframe tbody tr th {\n",
       "        vertical-align: top;\n",
       "    }\n",
       "\n",
       "    .dataframe thead th {\n",
       "        text-align: right;\n",
       "    }\n",
       "</style>\n",
       "<table border=\"1\" class=\"dataframe\">\n",
       "  <thead>\n",
       "    <tr style=\"text-align: right;\">\n",
       "      <th></th>\n",
       "      <th>gpu_name</th>\n",
       "      <th>ns_per_day</th>\n",
       "    </tr>\n",
       "  </thead>\n",
       "  <tbody>\n",
       "    <tr>\n",
       "      <th>0</th>\n",
       "      <td>Intel(R) UHD Graphics 630</td>\n",
       "      <td>41.1553</td>\n",
       "    </tr>\n",
       "    <tr>\n",
       "      <th>1</th>\n",
       "      <td>gfx906</td>\n",
       "      <td>439.8940</td>\n",
       "    </tr>\n",
       "    <tr>\n",
       "      <th>2</th>\n",
       "      <td>GeForce GTX 1050 Ti</td>\n",
       "      <td>192.7630</td>\n",
       "    </tr>\n",
       "    <tr>\n",
       "      <th>3</th>\n",
       "      <td>Intel(R) UHD Graphics 630</td>\n",
       "      <td>43.9251</td>\n",
       "    </tr>\n",
       "    <tr>\n",
       "      <th>4</th>\n",
       "      <td>GeForce GTX 1050 Ti</td>\n",
       "      <td>157.8070</td>\n",
       "    </tr>\n",
       "  </tbody>\n",
       "</table>\n",
       "</div>"
      ],
      "text/plain": [
       "                    gpu_name  ns_per_day\n",
       "0  Intel(R) UHD Graphics 630     41.1553\n",
       "1                     gfx906    439.8940\n",
       "2        GeForce GTX 1050 Ti    192.7630\n",
       "3  Intel(R) UHD Graphics 630     43.9251\n",
       "4        GeForce GTX 1050 Ti    157.8070"
      ]
     },
     "execution_count": 7,
     "metadata": {},
     "output_type": "execute_result"
    }
   ],
   "source": [
    "gpu_perf.head()"
   ]
  },
  {
   "cell_type": "code",
   "execution_count": 8,
   "metadata": {},
   "outputs": [
    {
     "data": {
      "text/html": [
       "\n",
       "<div id=\"altair-viz-6579bfadab7440f4847811244fb19db3\"></div>\n",
       "<script type=\"text/javascript\">\n",
       "  (function(spec, embedOpt){\n",
       "    let outputDiv = document.currentScript.previousElementSibling;\n",
       "    if (outputDiv.id !== \"altair-viz-6579bfadab7440f4847811244fb19db3\") {\n",
       "      outputDiv = document.getElementById(\"altair-viz-6579bfadab7440f4847811244fb19db3\");\n",
       "    }\n",
       "    const paths = {\n",
       "      \"vega\": \"https://cdn.jsdelivr.net/npm//vega@5?noext\",\n",
       "      \"vega-lib\": \"https://cdn.jsdelivr.net/npm//vega-lib?noext\",\n",
       "      \"vega-lite\": \"https://cdn.jsdelivr.net/npm//vega-lite@4.8.1?noext\",\n",
       "      \"vega-embed\": \"https://cdn.jsdelivr.net/npm//vega-embed@6?noext\",\n",
       "    };\n",
       "\n",
       "    function loadScript(lib) {\n",
       "      return new Promise(function(resolve, reject) {\n",
       "        var s = document.createElement('script');\n",
       "        s.src = paths[lib];\n",
       "        s.async = true;\n",
       "        s.onload = () => resolve(paths[lib]);\n",
       "        s.onerror = () => reject(`Error loading script: ${paths[lib]}`);\n",
       "        document.getElementsByTagName(\"head\")[0].appendChild(s);\n",
       "      });\n",
       "    }\n",
       "\n",
       "    function showError(err) {\n",
       "      outputDiv.innerHTML = `<div class=\"error\" style=\"color:red;\">${err}</div>`;\n",
       "      throw err;\n",
       "    }\n",
       "\n",
       "    function displayChart(vegaEmbed) {\n",
       "      vegaEmbed(outputDiv, spec, embedOpt)\n",
       "        .catch(err => showError(`Javascript Error: ${err.message}<br>This usually means there's a typo in your chart specification. See the javascript console for the full traceback.`));\n",
       "    }\n",
       "\n",
       "    if(typeof define === \"function\" && define.amd) {\n",
       "      requirejs.config({paths});\n",
       "      require([\"vega-embed\"], displayChart, err => showError(`Error loading script: ${err.message}`));\n",
       "    } else if (typeof vegaEmbed === \"function\") {\n",
       "      displayChart(vegaEmbed);\n",
       "    } else {\n",
       "      loadScript(\"vega\")\n",
       "        .then(() => loadScript(\"vega-lite\"))\n",
       "        .then(() => loadScript(\"vega-embed\"))\n",
       "        .catch(showError)\n",
       "        .then(() => displayChart(vegaEmbed));\n",
       "    }\n",
       "  })({\"config\": {\"view\": {\"continuousWidth\": 400, \"continuousHeight\": 300}}, \"data\": {\"name\": \"data-ac606a8a4e5593806895194a86d09937\"}, \"mark\": \"bar\", \"encoding\": {\"x\": {\"type\": \"quantitative\", \"aggregate\": \"mean\", \"field\": \"ns_per_day\"}, \"y\": {\"type\": \"nominal\", \"field\": \"gpu_name\", \"sort\": \"-x\"}}, \"$schema\": \"https://vega.github.io/schema/vega-lite/v4.8.1.json\", \"datasets\": {\"data-ac606a8a4e5593806895194a86d09937\": [{\"gpu_name\": \"Intel(R) UHD Graphics 630\", \"ns_per_day\": 41.1553}, {\"gpu_name\": \"gfx906\", \"ns_per_day\": 439.894}, {\"gpu_name\": \"GeForce GTX 1050 Ti\", \"ns_per_day\": 192.763}, {\"gpu_name\": \"Intel(R) UHD Graphics 630\", \"ns_per_day\": 43.9251}, {\"gpu_name\": \"GeForce GTX 1050 Ti\", \"ns_per_day\": 157.807}, {\"gpu_name\": \"GeForce GTX 1080 Ti\", \"ns_per_day\": 674.669}, {\"gpu_name\": \"GeForce GTX 1050 Ti\", \"ns_per_day\": 193.695}, {\"gpu_name\": \"GeForce GTX 950\", \"ns_per_day\": 152.207}, {\"gpu_name\": \"Tesla C2070\", \"ns_per_day\": 45.61}, {\"gpu_name\": \"GeForce GTX 1050 Ti\", \"ns_per_day\": 190.621}, {\"gpu_name\": \"GeForce GTX 1080\", \"ns_per_day\": 536.121}, {\"gpu_name\": \"gfx1010\", \"ns_per_day\": 352.173}, {\"gpu_name\": \"GeForce GTX 1060 3GB\", \"ns_per_day\": 315.2}, {\"gpu_name\": null, \"ns_per_day\": null}, {\"gpu_name\": \"GeForce GTX 1050 Ti\", \"ns_per_day\": 190.319}, {\"gpu_name\": \"Intel(R) UHD Graphics 630\", \"ns_per_day\": 45.0117}, {\"gpu_name\": \"GeForce RTX 2070\", \"ns_per_day\": 638.783}, {\"gpu_name\": \"GeForce GTX 1050 Ti\", \"ns_per_day\": 193.384}, {\"gpu_name\": \"GeForce GTX 1080 Ti\", \"ns_per_day\": 597.468}, {\"gpu_name\": \"GeForce GTX 1080 Ti\", \"ns_per_day\": 356.354}, {\"gpu_name\": \"Intel(R) UHD Graphics 630\", \"ns_per_day\": 44.4947}, {\"gpu_name\": \"GeForce GTX 980\", \"ns_per_day\": 363.913}, {\"gpu_name\": \"GeForce GTX 1650\", \"ns_per_day\": 249.152}, {\"gpu_name\": \"gfx900\", \"ns_per_day\": 329.017}, {\"gpu_name\": \"GeForce RTX 2080 Ti\", \"ns_per_day\": 863.965}, {\"gpu_name\": \"GeForce GTX 1050 Ti\", \"ns_per_day\": 192.454}, {\"gpu_name\": \"GeForce GTX 650 Ti BOOST\", \"ns_per_day\": 71.7819}, {\"gpu_name\": \"GeForce RTX 2080\", \"ns_per_day\": 811.427}, {\"gpu_name\": null, \"ns_per_day\": null}, {\"gpu_name\": \"gfx1010\", \"ns_per_day\": 346.084}, {\"gpu_name\": \"GeForce GTX 1070\", \"ns_per_day\": 472.8}, {\"gpu_name\": null, \"ns_per_day\": null}, {\"gpu_name\": \"GeForce RTX 2060\", \"ns_per_day\": 645.651}, {\"gpu_name\": \"GeForce GTX 1080\", \"ns_per_day\": 526.716}, {\"gpu_name\": \"Intel(R) HD Graphics 530\", \"ns_per_day\": 40.8891}, {\"gpu_name\": \"Tesla V100-SXM2-16GB\", \"ns_per_day\": 916.726}, {\"gpu_name\": \"GeForce RTX 2060\", \"ns_per_day\": 638.783}, {\"gpu_name\": \"GeForce GTX 1050 Ti\", \"ns_per_day\": 193.073}, {\"gpu_name\": \"GeForce GTX 1080 Ti\", \"ns_per_day\": 358.481}, {\"gpu_name\": \"GeForce GTX 1050 Ti\", \"ns_per_day\": 188.526}, {\"gpu_name\": \"Intel(R) UHD Graphics 630\", \"ns_per_day\": 35.9447}, {\"gpu_name\": \"Quadro P2000\", \"ns_per_day\": 244.585}, {\"gpu_name\": \"GeForce GTX 1070 Ti\", \"ns_per_day\": 500.38}, {\"gpu_name\": \"GeForce RTX 2080 Ti\", \"ns_per_day\": 992.489}, {\"gpu_name\": \"gfx1010\", \"ns_per_day\": 384.908}, {\"gpu_name\": \"Intel(R) UHD Graphics 630\", \"ns_per_day\": 24.3889}, {\"gpu_name\": \"gfx1010\", \"ns_per_day\": 354.251}, {\"gpu_name\": \"GeForce GTX 1080 Ti\", \"ns_per_day\": 741.303}, {\"gpu_name\": \"GeForce GTX 1060 3GB\", \"ns_per_day\": 196.871}, {\"gpu_name\": null, \"ns_per_day\": null}, {\"gpu_name\": \"Intel(R) UHD Graphics 630\", \"ns_per_day\": 45.8363}, {\"gpu_name\": \"GeForce GTX 1050 Ti\", \"ns_per_day\": 159.696}, {\"gpu_name\": \"Intel(R) UHD Graphics 630\", \"ns_per_day\": 36.9739}, {\"gpu_name\": \"GeForce RTX 2060\", \"ns_per_day\": 582.967}, {\"gpu_name\": \"GeForce GTX 1080 Ti\", \"ns_per_day\": 242.608}, {\"gpu_name\": \"GeForce GTX 1070\", \"ns_per_day\": 490.168}, {\"gpu_name\": null, \"ns_per_day\": null}, {\"gpu_name\": \"GeForce GTX 1050 Ti\", \"ns_per_day\": 194.953}, {\"gpu_name\": null, \"ns_per_day\": null}, {\"gpu_name\": \"Intel(R) UHD Graphics 630\", \"ns_per_day\": 45.3516}, {\"gpu_name\": \"GeForce RTX 2060\", \"ns_per_day\": 638.783}, {\"gpu_name\": \"GeForce GTX 660 Ti\", \"ns_per_day\": 112.868}, {\"gpu_name\": \"GeForce GTX 1080 Ti\", \"ns_per_day\": 736.756}, {\"gpu_name\": \"GeForce GTX 1080 Ti\", \"ns_per_day\": 325.45}, {\"gpu_name\": \"Intel(R) HD Graphics 530\", \"ns_per_day\": 32.8118}, {\"gpu_name\": \"GeForce RTX 2080 Ti\", \"ns_per_day\": 909.782}, {\"gpu_name\": null, \"ns_per_day\": null}, {\"gpu_name\": \"GeForce GTX 1050 Ti\", \"ns_per_day\": 196.549}, {\"gpu_name\": \"GeForce GTX 980 Ti\", \"ns_per_day\": 494.202}, {\"gpu_name\": \"Intel(R) HD Graphics 530\", \"ns_per_day\": 32.7224}, {\"gpu_name\": null, \"ns_per_day\": null}, {\"gpu_name\": \"Intel(R) UHD Graphics 630\", \"ns_per_day\": 31.2006}, {\"gpu_name\": \"GeForce RTX 2070 SUPER\", \"ns_per_day\": 577.361}, {\"gpu_name\": \"GeForce GTX 1050 Ti\", \"ns_per_day\": 158.641}, {\"gpu_name\": null, \"ns_per_day\": null}, {\"gpu_name\": \"GeForce GTX 980\", \"ns_per_day\": 382.456}, {\"gpu_name\": \"GeForce GTX 960\", \"ns_per_day\": 209.95}, {\"gpu_name\": \"GeForce RTX 2060 SUPER\", \"ns_per_day\": 555.978}, {\"gpu_name\": \"gfx900\", \"ns_per_day\": 353.209}, {\"gpu_name\": \"GeForce RTX 2060\", \"ns_per_day\": 642.199}, {\"gpu_name\": \"GeForce GTX 1050 Ti\", \"ns_per_day\": 191.533}, {\"gpu_name\": \"GeForce GTX 1080 Ti\", \"ns_per_day\": 259.376}, {\"gpu_name\": null, \"ns_per_day\": null}, {\"gpu_name\": \"gfx900\", \"ns_per_day\": 329.921}, {\"gpu_name\": \"Tesla V100-SXM2-16GB\", \"ns_per_day\": 923.778}, {\"gpu_name\": \"GeForce RTX 2080 SUPER\", \"ns_per_day\": 930.939}, {\"gpu_name\": \"GeForce GTX 1080 Ti\", \"ns_per_day\": 380.035}, {\"gpu_name\": \"Ellesmere\", \"ns_per_day\": 203.544}, {\"gpu_name\": \"GeForce GTX 1650\", \"ns_per_day\": 247.611}, {\"gpu_name\": \"GeForce RTX 2080 SUPER\", \"ns_per_day\": 889.564}, {\"gpu_name\": \"Intel(R) UHD Graphics 630\", \"ns_per_day\": 43.5271}, {\"gpu_name\": \"GeForce GTX 1080 Ti\", \"ns_per_day\": 275.438}, {\"gpu_name\": \"GeForce GTX 650 Ti BOOST\", \"ns_per_day\": 70.0649}, {\"gpu_name\": null, \"ns_per_day\": null}, {\"gpu_name\": \"GeForce GTX 1050 Ti\", \"ns_per_day\": 194.008}, {\"gpu_name\": \"GeForce GTX 980M\", \"ns_per_day\": 279.282}, {\"gpu_name\": \"GeForce GTX 1060 6GB\", \"ns_per_day\": 331.744}, {\"gpu_name\": \"Tesla V100-PCIE-32GB\", \"ns_per_day\": 863.965}, {\"gpu_name\": \"GeForce GTX 1050 Ti\", \"ns_per_day\": 159.061}, {\"gpu_name\": \"GeForce GTX 1050 Ti\", \"ns_per_day\": 194.637}, {\"gpu_name\": \"GeForce GTX 1070 Ti\", \"ns_per_day\": 350.12}, {\"gpu_name\": \"GeForce GTX 1050 Ti\", \"ns_per_day\": 191.839}, {\"gpu_name\": \"GeForce GTX 980 Ti\", \"ns_per_day\": 494.202}, {\"gpu_name\": \"GeForce RTX 2080 Ti\", \"ns_per_day\": 960.729}, {\"gpu_name\": \"GeForce GTX 980 Ti\", \"ns_per_day\": 484.239}, {\"gpu_name\": \"GeForce GTX 1050 Ti\", \"ns_per_day\": 182.787}, {\"gpu_name\": \"GeForce GTX 1050 Ti\", \"ns_per_day\": 193.384}, {\"gpu_name\": \"GeForce GTX 1070\", \"ns_per_day\": 444.782}, {\"gpu_name\": \"Intel(R) UHD Graphics 630\", \"ns_per_day\": 44.8436}, {\"gpu_name\": null, \"ns_per_day\": null}, {\"gpu_name\": null, \"ns_per_day\": null}, {\"gpu_name\": \"GeForce GTX 980\", \"ns_per_day\": 382.456}, {\"gpu_name\": \"GeForce GTX 1050 Ti\", \"ns_per_day\": 185.326}, {\"gpu_name\": \"GeForce GTX 1080 Ti\", \"ns_per_day\": 387.391}, {\"gpu_name\": \"GeForce GTX 1050 Ti\", \"ns_per_day\": 159.696}, {\"gpu_name\": \"Intel(R) UHD Graphics 630\", \"ns_per_day\": 35.9124}, {\"gpu_name\": \"gfx906\", \"ns_per_day\": 409.867}, {\"gpu_name\": \"GeForce RTX 2080 SUPER\", \"ns_per_day\": 769.815}, {\"gpu_name\": \"Tesla C2070\", \"ns_per_day\": 45.61}, {\"gpu_name\": \"GeForce RTX 2060\", \"ns_per_day\": 638.783}, {\"gpu_name\": \"GeForce GTX 1050 Ti\", \"ns_per_day\": 197.194}, {\"gpu_name\": \"gfx1010\", \"ns_per_day\": 397.653}, {\"gpu_name\": \"GeForce GTX 1050 Ti\", \"ns_per_day\": 159.061}, {\"gpu_name\": \"GeForce RTX 2060\", \"ns_per_day\": 645.651}, {\"gpu_name\": \"GeForce GTX 1050 Ti\", \"ns_per_day\": 193.384}, {\"gpu_name\": \"gfx1010\", \"ns_per_day\": 404.347}, {\"gpu_name\": \"GeForce GTX 1660 SUPER\", \"ns_per_day\": 486.199}, {\"gpu_name\": \"GeForce RTX 2070 SUPER\", \"ns_per_day\": 667.173}, {\"gpu_name\": \"GeForce GTX 1070\", \"ns_per_day\": 474.669}, {\"gpu_name\": \"GeForce GTX 970\", \"ns_per_day\": 247.101}, {\"gpu_name\": \"GeForce GTX 1050 Ti\", \"ns_per_day\": 193.695}, {\"gpu_name\": null, \"ns_per_day\": null}, {\"gpu_name\": \"GeForce GTX 1050 Ti\", \"ns_per_day\": 193.695}, {\"gpu_name\": \"GeForce GTX 1080 Ti\", \"ns_per_day\": 266.869}, {\"gpu_name\": \"Intel(R) HD Graphics 520\", \"ns_per_day\": 18.6044}, {\"gpu_name\": \"GeForce GTX 1050 Ti\", \"ns_per_day\": 192.763}, {\"gpu_name\": \"GeForce RTX 2080 SUPER\", \"ns_per_day\": 851.71}, {\"gpu_name\": \"GeForce GTX 1050 Ti\", \"ns_per_day\": 192.146}, {\"gpu_name\": \"GeForce RTX 2080 Ti\", \"ns_per_day\": 916.726}, {\"gpu_name\": \"GeForce GTX 1050 Ti\", \"ns_per_day\": 191.839}, {\"gpu_name\": \"gfx1010\", \"ns_per_day\": 358.481}, {\"gpu_name\": \"GeForce RTX 2080 SUPER\", \"ns_per_day\": 727.825}, {\"gpu_name\": \"GeForce RTX 2070 SUPER\", \"ns_per_day\": 811.427}, {\"gpu_name\": \"GeForce GTX 1050 Ti\", \"ns_per_day\": 158.641}, {\"gpu_name\": \"gfx900\", \"ns_per_day\": 346.084}, {\"gpu_name\": \"GeForce GTX 1050 Ti\", \"ns_per_day\": 159.272}, {\"gpu_name\": \"Intel(R) Gen9 HD Graphics NEO\", \"ns_per_day\": 44.4947}, {\"gpu_name\": \"gfx906\", \"ns_per_day\": 412.684}, {\"gpu_name\": \"GeForce GTX 1050 Ti\", \"ns_per_day\": 190.924}, {\"gpu_name\": \"GeForce GTX 1080 Ti\", \"ns_per_day\": 678.481}, {\"gpu_name\": \"GeForce GTX 980 Ti\", \"ns_per_day\": 484.239}, {\"gpu_name\": \"GeForce GTX 1050 Ti\", \"ns_per_day\": 195.588}, {\"gpu_name\": \"GeForce GTX 1050 Ti\", \"ns_per_day\": 193.384}, {\"gpu_name\": \"GeForce GTX 1050 Ti\", \"ns_per_day\": 191.533}, {\"gpu_name\": \"gfx906\", \"ns_per_day\": 419.899}, {\"gpu_name\": \"gfx1010\", \"ns_per_day\": 396.34}, {\"gpu_name\": \"GeForce RTX 2070 SUPER\", \"ns_per_day\": 828.215}, {\"gpu_name\": \"GeForce GTX 1660 Ti\", \"ns_per_day\": 482.294}, {\"gpu_name\": \"GeForce GTX 1050 Ti\", \"ns_per_day\": 192.763}, {\"gpu_name\": \"GeForce GTX 1050 Ti\", \"ns_per_day\": 201.158}, {\"gpu_name\": \"Intel(R) UHD Graphics 630\", \"ns_per_day\": 36.7701}, {\"gpu_name\": null, \"ns_per_day\": null}, {\"gpu_name\": \"GeForce GTX 1050 Ti\", \"ns_per_day\": 193.695}, {\"gpu_name\": \"gfx900\", \"ns_per_day\": 435.113}, {\"gpu_name\": \"GeForce GTX 1080 Ti\", \"ns_per_day\": 750.57}, {\"gpu_name\": \"gfx900\", \"ns_per_day\": 332.662}, {\"gpu_name\": \"Intel(R) UHD Graphics 630\", \"ns_per_day\": 41.7418}, {\"gpu_name\": \"Intel(R) UHD Graphics 630\", \"ns_per_day\": 42.8438}, {\"gpu_name\": \"GeForce GTX 1070\", \"ns_per_day\": 247.611}, {\"gpu_name\": \"GeForce GTX 1660 SUPER\", \"ns_per_day\": 458.363}, {\"gpu_name\": \"Intel(R) UHD Graphics 630\", \"ns_per_day\": 43.909}, {\"gpu_name\": \"gfx906\", \"ns_per_day\": 476.552}, {\"gpu_name\": null, \"ns_per_day\": null}, {\"gpu_name\": \"GeForce GTX 1050 Ti\", \"ns_per_day\": 194.322}, {\"gpu_name\": \"GeForce RTX 2060\", \"ns_per_day\": 642.199}, {\"gpu_name\": \"Intel(R) UHD Graphics 630\", \"ns_per_day\": 44.3796}, {\"gpu_name\": \"GeForce RTX 2070 SUPER\", \"ns_per_day\": 694.169}, {\"gpu_name\": \"GeForce RTX 2080 Ti\", \"ns_per_day\": 1026.42}, {\"gpu_name\": \"GeForce RTX 2070 SUPER\", \"ns_per_day\": 686.235}, {\"gpu_name\": \"GeForce RTX 2060 SUPER\", \"ns_per_day\": 678.481}, {\"gpu_name\": \"Quadro RTX 4000\", \"ns_per_day\": 566.468}, {\"gpu_name\": \"GeForce GTX 1050 Ti\", \"ns_per_day\": 159.484}, {\"gpu_name\": \"Intel(R) UHD Graphics 630\", \"ns_per_day\": 44.4288}, {\"gpu_name\": \"GeForce GTX 1070\", \"ns_per_day\": 469.106}, {\"gpu_name\": \"Intel(R) HD Graphics 530\", \"ns_per_day\": 41.368}, {\"gpu_name\": \"GeForce GTX 970\", \"ns_per_day\": 266.278}, {\"gpu_name\": null, \"ns_per_day\": null}, {\"gpu_name\": \"GeForce GTX 970\", \"ns_per_day\": 255.513}, {\"gpu_name\": \"GeForce GTX 1050 Ti\", \"ns_per_day\": 192.454}, {\"gpu_name\": \"GeForce GTX 970\", \"ns_per_day\": 261.637}, {\"gpu_name\": \"gfx900\", \"ns_per_day\": 331.744}, {\"gpu_name\": \"GeForce GTX 1070\", \"ns_per_day\": 474.669}, {\"gpu_name\": \"GeForce RTX 2080 Ti\", \"ns_per_day\": 1035.27}, {\"gpu_name\": \"GeForce RTX 2060\", \"ns_per_day\": 642.199}, {\"gpu_name\": \"GeForce RTX 2080 Ti\", \"ns_per_day\": 923.778}, {\"gpu_name\": \"GeForce GTX 1050 Ti\", \"ns_per_day\": 191.228}, {\"gpu_name\": \"GeForce GTX 1060 3GB\", \"ns_per_day\": 316.863}, {\"gpu_name\": \"Intel(R) UHD Graphics 630\", \"ns_per_day\": 44.76}, {\"gpu_name\": \"Intel(R) UHD Graphics 630\", \"ns_per_day\": 43.0126}, {\"gpu_name\": \"GeForce RTX 2080\", \"ns_per_day\": 736.756}, {\"gpu_name\": \"GeForce GTX 1080 Ti\", \"ns_per_day\": 638.783}, {\"gpu_name\": \"GeForce GTX 1050 Ti\", \"ns_per_day\": 157.6}, {\"gpu_name\": \"Intel(R) UHD Graphics 630\", \"ns_per_day\": 45.1131}, {\"gpu_name\": \"TITAN V\", \"ns_per_day\": 674.669}, {\"gpu_name\": \"GeForce RTX 2060\", \"ns_per_day\": 569.152}, {\"gpu_name\": \"GeForce GTX 1080 Ti\", \"ns_per_day\": 741.303}, {\"gpu_name\": \"GeForce GTX 1080 Ti\", \"ns_per_day\": 363.913}, {\"gpu_name\": \"gfx906\", \"ns_per_day\": 433.542}, {\"gpu_name\": null, \"ns_per_day\": null}, {\"gpu_name\": \"Intel(R) Iris(R) Plus Graphics 640\", \"ns_per_day\": 56.9692}, {\"gpu_name\": null, \"ns_per_day\": null}, {\"gpu_name\": \"GeForce GTX 1050 Ti\", \"ns_per_day\": 157.6}, {\"gpu_name\": \"Intel(R) UHD Graphics 630\", \"ns_per_day\": 32.2913}, {\"gpu_name\": null, \"ns_per_day\": null}, {\"gpu_name\": \"GeForce GTX 1080 Ti\", \"ns_per_day\": 635.403}, {\"gpu_name\": \"Quadro P2000\", \"ns_per_day\": 193.384}, {\"gpu_name\": \"Intel(R) UHD Graphics 630\", \"ns_per_day\": 44.2488}, {\"gpu_name\": \"GeForce GTX 1050 Ti\", \"ns_per_day\": 188.526}, {\"gpu_name\": \"gfx900\", \"ns_per_day\": 319.391}, {\"gpu_name\": \"gfx900\", \"ns_per_day\": 333.587}, {\"gpu_name\": \"Quadro M500M\", \"ns_per_day\": 17.2322}, {\"gpu_name\": \"Intel(R) HD Graphics 530\", \"ns_per_day\": 40.585}, {\"gpu_name\": \"GeForce GTX 1050 Ti\", \"ns_per_day\": 191.839}, {\"gpu_name\": \"GeForce GTX 1050 Ti\", \"ns_per_day\": 156.982}, {\"gpu_name\": \"GeForce RTX 2080\", \"ns_per_day\": 755.29}, {\"gpu_name\": \"GeForce GTX 1070\", \"ns_per_day\": 467.281}, {\"gpu_name\": \"GeForce GTX 1050 Ti\", \"ns_per_day\": 209.95}, {\"gpu_name\": \"GeForce GTX 1660 SUPER\", \"ns_per_day\": 460.119}, {\"gpu_name\": \"GeForce RTX 2070 SUPER\", \"ns_per_day\": 741.303}, {\"gpu_name\": \"GeForce RTX 2080 SUPER\", \"ns_per_day\": 828.215}, {\"gpu_name\": \"GeForce GTX 1080 Ti\", \"ns_per_day\": 702.287}, {\"gpu_name\": \"GeForce GTX 1050 Ti\", \"ns_per_day\": 194.322}, {\"gpu_name\": \"Intel(R) UHD Graphics 630\", \"ns_per_day\": 36.3802}, {\"gpu_name\": \"GeForce GTX 1060 3GB\", \"ns_per_day\": 196.227}, {\"gpu_name\": null, \"ns_per_day\": null}, {\"gpu_name\": \"Bonaire\", \"ns_per_day\": 83.5126}, {\"gpu_name\": \"GeForce GTX 1050 Ti\", \"ns_per_day\": 158.015}, {\"gpu_name\": \"GeForce GTX 1050 Ti\", \"ns_per_day\": 192.454}, {\"gpu_name\": \"GeForce GTX 980M\", \"ns_per_day\": 279.933}, {\"gpu_name\": \"GeForce GTX 980M\", \"ns_per_day\": 279.933}, {\"gpu_name\": \"Intel(R) UHD Graphics 630\", \"ns_per_day\": 44.5442}, {\"gpu_name\": null, \"ns_per_day\": null}, {\"gpu_name\": \"gfx900\", \"ns_per_day\": 321.099}, {\"gpu_name\": \"GeForce RTX 2080\", \"ns_per_day\": 760.071}, {\"gpu_name\": \"GeForce GTX 980\", \"ns_per_day\": 174.551}, {\"gpu_name\": null, \"ns_per_day\": null}, {\"gpu_name\": \"GeForce GTX 1050 Ti\", \"ns_per_day\": 191.839}, {\"gpu_name\": \"GeForce RTX 2080\", \"ns_per_day\": 816.947}, {\"gpu_name\": \"gfx906\", \"ns_per_day\": 411.271}, {\"gpu_name\": \"Intel(R) UHD Graphics 630\", \"ns_per_day\": 21.3003}, {\"gpu_name\": \"GeForce RTX 2080 Ti\", \"ns_per_day\": 968.477}, {\"gpu_name\": \"Quadro P2000\", \"ns_per_day\": 252.823}, {\"gpu_name\": \"Intel(R) UHD Graphics 630\", \"ns_per_day\": 45.1471}, {\"gpu_name\": \"GeForce GTX 1050 Ti\", \"ns_per_day\": 159.484}, {\"gpu_name\": \"GeForce GTX 1650\", \"ns_per_day\": 249.152}, {\"gpu_name\": \"Tesla V100-PCIE-32GB\", \"ns_per_day\": 863.965}, {\"gpu_name\": \"GeForce GTX 1050 Ti\", \"ns_per_day\": 199.156}, {\"gpu_name\": \"GeForce GTX 1050 Ti\", \"ns_per_day\": 197.518}, {\"gpu_name\": \"GeForce GTX 980\", \"ns_per_day\": 382.456}, {\"gpu_name\": \"GeForce GTX 1080\", \"ns_per_day\": 555.978}, {\"gpu_name\": \"GeForce GTX 1050\", \"ns_per_day\": 40.3397}, {\"gpu_name\": \"Intel(R) UHD Graphics 630\", \"ns_per_day\": 38.0758}, {\"gpu_name\": \"GeForce GTX 970\", \"ns_per_day\": 338.285}, {\"gpu_name\": \"GeForce GTX 1050 Ti\", \"ns_per_day\": 194.322}, {\"gpu_name\": \"Intel(R) HD Graphics 630\", \"ns_per_day\": 430.434}, {\"gpu_name\": \"GeForce GTX 1050 Ti\", \"ns_per_day\": 157.187}, {\"gpu_name\": \"P104-100\", \"ns_per_day\": 353.209}, {\"gpu_name\": \"GeForce GTX 1070 Ti\", \"ns_per_day\": 332.662}, {\"gpu_name\": \"Intel(R) HD Graphics 530\", \"ns_per_day\": 32.7313}, {\"gpu_name\": \"GeForce GTX 1050 Ti\", \"ns_per_day\": 159.061}, {\"gpu_name\": \"GeForce GTX 1050 Ti\", \"ns_per_day\": 194.637}, {\"gpu_name\": null, \"ns_per_day\": null}, {\"gpu_name\": \"GeForce GTX 1650 SUPER\", \"ns_per_day\": 280.587}, {\"gpu_name\": \"GeForce GTX 1080\", \"ns_per_day\": 529.036}, {\"gpu_name\": \"GeForce GTX 1050 Ti\", \"ns_per_day\": 158.223}, {\"gpu_name\": \"GeForce GTX 1060 6GB\", \"ns_per_day\": 321.96}, {\"gpu_name\": \"Intel(R) UHD Graphics 630\", \"ns_per_day\": 42.1225}, {\"gpu_name\": \"GeForce RTX 2070 SUPER\", \"ns_per_day\": 811.427}, {\"gpu_name\": \"GeForce GTX 1050 Ti\", \"ns_per_day\": 191.839}, {\"gpu_name\": \"GeForce GTX 1050 Ti\", \"ns_per_day\": 198.17}, {\"gpu_name\": \"GeForce GTX 1050 Ti\", \"ns_per_day\": 189.12}, {\"gpu_name\": \"gfx1010\", \"ns_per_day\": 354.251}, {\"gpu_name\": \"GeForce GTX 1050 Ti\", \"ns_per_day\": 189.418}, {\"gpu_name\": \"GeForce GTX 1050 Ti\", \"ns_per_day\": 159.908}, {\"gpu_name\": \"GeForce RTX 2080 Ti\", \"ns_per_day\": 916.726}, {\"gpu_name\": \"GeForce RTX 2060\", \"ns_per_day\": 645.651}, {\"gpu_name\": \"GeForce GTX 1080 Ti\", \"ns_per_day\": 702.287}, {\"gpu_name\": \"Intel(R) UHD Graphics 630\", \"ns_per_day\": 36.4133}, {\"gpu_name\": \"GeForce RTX 2060\", \"ns_per_day\": 555.978}, {\"gpu_name\": \"GeForce RTX 2060 SUPER\", \"ns_per_day\": 603.473}, {\"gpu_name\": \"GeForce GTX 1070\", \"ns_per_day\": 476.552}, {\"gpu_name\": \"Tahiti\", \"ns_per_day\": 172.793}, {\"gpu_name\": \"GeForce GTX 1080 Ti\", \"ns_per_day\": 741.303}, {\"gpu_name\": \"Tesla C2070\", \"ns_per_day\": 45.198}, {\"gpu_name\": \"gfx900\", \"ns_per_day\": 358.481}, {\"gpu_name\": \"GeForce GTX 1050 Ti\", \"ns_per_day\": 201.834}, {\"gpu_name\": \"GeForce GTX 1650\", \"ns_per_day\": 249.67}, {\"gpu_name\": \"gfx1010\", \"ns_per_day\": 354.251}, {\"gpu_name\": \"Intel(R) UHD Graphics 630\", \"ns_per_day\": 36.4354}, {\"gpu_name\": \"gfx900\", \"ns_per_day\": 344.101}, {\"gpu_name\": \"GeForce RTX 2080 Ti\", \"ns_per_day\": 992.489}, {\"gpu_name\": \"GeForce RTX 2060\", \"ns_per_day\": 482.294}, {\"gpu_name\": null, \"ns_per_day\": null}, {\"gpu_name\": \"GeForce RTX 2080 Ti\", \"ns_per_day\": 816.947}, {\"gpu_name\": \"gfx1010\", \"ns_per_day\": 460.119}, {\"gpu_name\": \"gfx906\", \"ns_per_day\": 425.855}, {\"gpu_name\": \"Ellesmere\", \"ns_per_day\": 288.681}, {\"gpu_name\": \"GeForce GTX 1080 Ti\", \"ns_per_day\": 622.234}, {\"gpu_name\": \"GeForce GTX 980\", \"ns_per_day\": 381.242}, {\"gpu_name\": null, \"ns_per_day\": null}, {\"gpu_name\": \"GeForce GTX 1050 Ti\", \"ns_per_day\": 158.641}, {\"gpu_name\": \"GeForce GTX 1050 Ti\", \"ns_per_day\": 194.008}, {\"gpu_name\": \"GeForce GTX 1050 Ti\", \"ns_per_day\": 194.953}, {\"gpu_name\": \"Ellesmere\", \"ns_per_day\": 235.473}, {\"gpu_name\": \"GeForce GTX 1070\", \"ns_per_day\": 472.8}, {\"gpu_name\": \"Tesla V100-SXM2-16GB\", \"ns_per_day\": 896.203}, {\"gpu_name\": \"GeForce GTX 1080\", \"ns_per_day\": 456.62}, {\"gpu_name\": null, \"ns_per_day\": null}, {\"gpu_name\": \"GeForce RTX 2080 Ti\", \"ns_per_day\": 800.608}, {\"gpu_name\": \"GeForce GTX 1080 Ti\", \"ns_per_day\": 378.836}, {\"gpu_name\": \"gfx1010\", \"ns_per_day\": 352.173}, {\"gpu_name\": \"GeForce GTX 1050 Ti\", \"ns_per_day\": 158.432}, {\"gpu_name\": \"Intel(R) UHD Graphics 630\", \"ns_per_day\": 44.8604}, {\"gpu_name\": \"GeForce GTX 1070\", \"ns_per_day\": 522.135}, {\"gpu_name\": \"GeForce GTX 1050 Ti\", \"ns_per_day\": 159.061}, {\"gpu_name\": \"GeForce GTX 1660 SUPER\", \"ns_per_day\": 411.271}, {\"gpu_name\": \"GeForce GTX 970\", \"ns_per_day\": 259.376}, {\"gpu_name\": \"GeForce GTX 1050 Ti\", \"ns_per_day\": 192.454}, {\"gpu_name\": \"GeForce GTX 1080 Ti\", \"ns_per_day\": 741.303}, {\"gpu_name\": \"GeForce RTX 2080 Ti\", \"ns_per_day\": 938.212}, {\"gpu_name\": \"Intel(R) HD Graphics 530\", \"ns_per_day\": 28.1508}, {\"gpu_name\": \"GeForce RTX 2080 Ti\", \"ns_per_day\": 968.477}, {\"gpu_name\": \"GeForce GTX 1050 Ti\", \"ns_per_day\": 190.621}, {\"gpu_name\": \"GeForce RTX 2080 Ti\", \"ns_per_day\": 1000.76}, {\"gpu_name\": null, \"ns_per_day\": null}, {\"gpu_name\": \"GeForce GTX 1050 Ti\", \"ns_per_day\": 188.526}, {\"gpu_name\": \"GeForce GTX 1060 3GB\", \"ns_per_day\": 196.871}, {\"gpu_name\": \"Ellesmere\", \"ns_per_day\": 188.823}, {\"gpu_name\": \"GeForce GTX 1080\", \"ns_per_day\": 571.863}, {\"gpu_name\": \"GeForce RTX 2070\", \"ns_per_day\": 667.173}, {\"gpu_name\": \"gfx900\", \"ns_per_day\": 297.993}, {\"gpu_name\": \"Intel(R) UHD Graphics 630\", \"ns_per_day\": 45.3516}, {\"gpu_name\": \"Intel(R) HD Graphics 530\", \"ns_per_day\": 40.8196}, {\"gpu_name\": \"GeForce GTX 1080 Ti\", \"ns_per_day\": 706.419}, {\"gpu_name\": \"GeForce GTX 1070\", \"ns_per_day\": 380.035}, {\"gpu_name\": \"GeForce GTX 1080 Ti\", \"ns_per_day\": 396.34}, {\"gpu_name\": \"gfx900\", \"ns_per_day\": 346.084}, {\"gpu_name\": \"Intel(R) UHD Graphics 630\", \"ns_per_day\": 43.4483}, {\"gpu_name\": \"Tesla V100-PCIE-16GB\", \"ns_per_day\": 863.965}, {\"gpu_name\": \"GeForce RTX 2060\", \"ns_per_day\": 494.202}, {\"gpu_name\": null, \"ns_per_day\": null}, {\"gpu_name\": \"GeForce GTX 1070\", \"ns_per_day\": 519.875}, {\"gpu_name\": \"Intel(R) HD Graphics 530\", \"ns_per_day\": 32.776}, {\"gpu_name\": \"GeForce RTX 2070 SUPER\", \"ns_per_day\": 811.427}, {\"gpu_name\": \"Intel(R) HD Graphics 520\", \"ns_per_day\": 28.0849}, {\"gpu_name\": \"GeForce GTX 1070\", \"ns_per_day\": 524.416}, {\"gpu_name\": \"gfx900\", \"ns_per_day\": 323.696}, {\"gpu_name\": \"GeForce GTX 1070\", \"ns_per_day\": 463.672}, {\"gpu_name\": \"GeForce GTX 1060 3GB\", \"ns_per_day\": 305.575}, {\"gpu_name\": \"Tesla V100-PCIE-32GB\", \"ns_per_day\": 800.608}, {\"gpu_name\": \"GeForce GTX 1080 Ti\", \"ns_per_day\": 667.173}, {\"gpu_name\": \"Intel(R) UHD Graphics 630\", \"ns_per_day\": 36.4133}, {\"gpu_name\": \"Intel(R) HD Graphics 530\", \"ns_per_day\": 40.9169}, {\"gpu_name\": \"Intel(R) UHD Graphics 630\", \"ns_per_day\": 44.978}, {\"gpu_name\": \"GeForce GTX 1050 Ti\", \"ns_per_day\": 187.35}, {\"gpu_name\": \"GeForce GTX 1050 Ti\", \"ns_per_day\": 158.641}, {\"gpu_name\": \"gfx906\", \"ns_per_day\": 354.251}, {\"gpu_name\": \"Intel(R) UHD Graphics 630\", \"ns_per_day\": 24.624}, {\"gpu_name\": \"GeForce GTX 980 Ti\", \"ns_per_day\": 486.199}, {\"gpu_name\": \"GeForce GTX 1050 Ti\", \"ns_per_day\": 192.146}, {\"gpu_name\": \"GeForce RTX 2060\", \"ns_per_day\": 645.651}, {\"gpu_name\": \"GeForce RTX 2060\", \"ns_per_day\": 638.783}, {\"gpu_name\": \"GeForce GTX 1050 Ti\", \"ns_per_day\": 199.156}, {\"gpu_name\": \"Intel(R) UHD Graphics 630\", \"ns_per_day\": 37.4816}, {\"gpu_name\": \"GeForce GTX 980\", \"ns_per_day\": 382.456}, {\"gpu_name\": \"GeForce GTX 1660 Ti\", \"ns_per_day\": 474.669}, {\"gpu_name\": \"GeForce GTX 1050 Ti\", \"ns_per_day\": 194.008}, {\"gpu_name\": \"GeForce GTX 1050 Ti\", \"ns_per_day\": 159.484}, {\"gpu_name\": \"Intel(R) UHD Graphics Coffee Lake Halo GT2\", \"ns_per_day\": 26.5865}, {\"gpu_name\": \"Tesla V100-SXM2-16GB\", \"ns_per_day\": 916.726}, {\"gpu_name\": \"GeForce GTX 1050 Ti\", \"ns_per_day\": 199.819}, {\"gpu_name\": \"Intel(R) HD Graphics 530\", \"ns_per_day\": 40.0437}, {\"gpu_name\": \"GeForce GTX 1080 Ti\", \"ns_per_day\": 365.019}, {\"gpu_name\": \"Intel(R) HD Graphics 520\", \"ns_per_day\": 17.7387}, {\"gpu_name\": \"Intel(R) Gen9 HD Graphics NEO\", \"ns_per_day\": 44.3796}, {\"gpu_name\": \"Intel(R) HD Graphics 530\", \"ns_per_day\": 32.2999}, {\"gpu_name\": \"Intel(R) UHD Graphics 630\", \"ns_per_day\": 44.4288}, {\"gpu_name\": \"Tesla T10x\", \"ns_per_day\": 811.427}, {\"gpu_name\": \"Intel(R) UHD Graphics 630\", \"ns_per_day\": 36.4465}, {\"gpu_name\": \"GeForce RTX 2080 Ti\", \"ns_per_day\": 822.542}, {\"gpu_name\": \"GeForce GTX 1080 Ti\", \"ns_per_day\": 558.564}, {\"gpu_name\": \"gfx900\", \"ns_per_day\": 321.96}, {\"gpu_name\": \"Tesla V100-SXM2-16GB\", \"ns_per_day\": 916.726}, {\"gpu_name\": \"Intel(R) UHD Graphics 630\", \"ns_per_day\": 44.7267}, {\"gpu_name\": \"GeForce GTX 1050 Ti\", \"ns_per_day\": 192.146}, {\"gpu_name\": null, \"ns_per_day\": null}, {\"gpu_name\": \"GeForce RTX 2070 SUPER\", \"ns_per_day\": 795.306}, {\"gpu_name\": \"GeForce GTX 970\", \"ns_per_day\": 309.513}, {\"gpu_name\": \"GeForce GTX 1080 Ti\", \"ns_per_day\": 736.756}, {\"gpu_name\": \"gfx906\", \"ns_per_day\": 428.897}, {\"gpu_name\": \"GeForce RTX 2080 Ti\", \"ns_per_day\": 984.354}, {\"gpu_name\": \"Intel(R) UHD Graphics 630\", \"ns_per_day\": 44.2162}, {\"gpu_name\": \"gfx900\", \"ns_per_day\": 388.645}, {\"gpu_name\": \"Intel(R) Iris(R) Plus Graphics 640\", \"ns_per_day\": 29.6229}, {\"gpu_name\": null, \"ns_per_day\": null}, {\"gpu_name\": \"gfx900\", \"ns_per_day\": 351.144}, {\"gpu_name\": \"Intel(R) HD Graphics 520\", \"ns_per_day\": 35.2898}, {\"gpu_name\": \"GeForce GTX 1060 3GB\", \"ns_per_day\": 351.144}, {\"gpu_name\": \"Intel(R) HD Graphics 530\", \"ns_per_day\": 32.6512}, {\"gpu_name\": \"GeForce GTX 1070\", \"ns_per_day\": 402.99}, {\"gpu_name\": \"GeForce GTX 1050 Ti\", \"ns_per_day\": 192.454}, {\"gpu_name\": \"GeForce GTX 1050 Ti\", \"ns_per_day\": 192.146}, {\"gpu_name\": \"Intel(R) UHD Graphics Coffee Lake Halo GT2\", \"ns_per_day\": 27.7155}, {\"gpu_name\": \"GeForce GTX 1050 Ti\", \"ns_per_day\": 191.533}, {\"gpu_name\": \"GeForce GTX 1080\", \"ns_per_day\": 545.869}, {\"gpu_name\": \"GeForce GTX 1050 Ti\", \"ns_per_day\": 192.454}]}}, {\"mode\": \"vega-lite\"});\n",
       "</script>"
      ],
      "text/plain": [
       "alt.Chart(...)"
      ]
     },
     "execution_count": 8,
     "metadata": {},
     "output_type": "execute_result"
    }
   ],
   "source": [
    "alt.Chart(gpu_perf).mark_bar().encode(\n",
    "    x=\"mean(ns_per_day)\",\n",
    "    y=alt.Y(\"gpu_name:N\", sort='-x')\n",
    ")"
   ]
  },
  {
   "cell_type": "code",
   "execution_count": null,
   "metadata": {},
   "outputs": [],
   "source": []
  }
 ],
 "metadata": {
  "kernelspec": {
   "display_name": "Python 3",
   "language": "python",
   "name": "python3"
  },
  "language_info": {
   "codemirror_mode": {
    "name": "ipython",
    "version": 3
   },
   "file_extension": ".py",
   "mimetype": "text/x-python",
   "name": "python",
   "nbconvert_exporter": "python",
   "pygments_lexer": "ipython3",
   "version": "3.8.3"
  }
 },
 "nbformat": 4,
 "nbformat_minor": 4
}
